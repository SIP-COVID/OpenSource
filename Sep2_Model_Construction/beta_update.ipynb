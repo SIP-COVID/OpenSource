{
 "cells": [
  {
   "cell_type": "markdown",
   "metadata": {},
   "source": [
    "## Read Libraries"
   ]
  },
  {
   "cell_type": "code",
   "execution_count": 6,
   "metadata": {},
   "outputs": [],
   "source": [
    "import numpy as np\n",
    "import numpy.random as random\n",
    "import scipy as sp\n",
    "import pandas as pd\n",
    "from pandas import Series, DataFrame\n",
    "\n",
    "import matplotlib.pyplot as plt\n",
    "import matplotlib as mpl\n",
    "import seaborn as sns\n",
    "%matplotlib inline\n",
    "import math\n",
    "from sklearn.model_selection import train_test_split,GridSearchCV, LeaveOneOut\n",
    "from sklearn.linear_model import LinearRegression\n",
    "from sklearn.model_selection import cross_val_score\n",
    "from sklearn.svm import SVC\n",
    "from sklearn.ensemble import RandomForestRegressor as RFR\n",
    "import pickle\n",
    "# %precision 3"
   ]
  },
  {
   "cell_type": "markdown",
   "metadata": {},
   "source": [
    "## Mobility&beta データ読み込み"
   ]
  },
  {
   "cell_type": "code",
   "execution_count": 7,
   "metadata": {},
   "outputs": [],
   "source": [
    "#beta = pd.read_csv('beta_210210.csv')\n",
    "beta = pd.read_csv('beta_Data.csv')\n",
    "env = pd.read_csv('env2.csv')\n",
    "n_b = 311 #number of beta\n",
    "n_e = 313 #number of env\n",
    "n1 = 206 #number of data till Oct 15"
   ]
  },
  {
   "cell_type": "code",
   "execution_count": 8,
   "metadata": {},
   "outputs": [
    {
     "data": {
      "text/html": [
       "<div>\n",
       "<style scoped>\n",
       "    .dataframe tbody tr th:only-of-type {\n",
       "        vertical-align: middle;\n",
       "    }\n",
       "\n",
       "    .dataframe tbody tr th {\n",
       "        vertical-align: top;\n",
       "    }\n",
       "\n",
       "    .dataframe thead th {\n",
       "        text-align: right;\n",
       "    }\n",
       "</style>\n",
       "<table border=\"1\" class=\"dataframe\">\n",
       "  <thead>\n",
       "    <tr style=\"text-align: right;\">\n",
       "      <th></th>\n",
       "      <th>0</th>\n",
       "    </tr>\n",
       "  </thead>\n",
       "  <tbody>\n",
       "    <tr>\n",
       "      <th>0</th>\n",
       "      <td>0.243761</td>\n",
       "    </tr>\n",
       "    <tr>\n",
       "      <th>1</th>\n",
       "      <td>0.276854</td>\n",
       "    </tr>\n",
       "    <tr>\n",
       "      <th>2</th>\n",
       "      <td>0.315159</td>\n",
       "    </tr>\n",
       "    <tr>\n",
       "      <th>3</th>\n",
       "      <td>0.373410</td>\n",
       "    </tr>\n",
       "    <tr>\n",
       "      <th>4</th>\n",
       "      <td>0.308755</td>\n",
       "    </tr>\n",
       "    <tr>\n",
       "      <th>...</th>\n",
       "      <td>...</td>\n",
       "    </tr>\n",
       "    <tr>\n",
       "      <th>306</th>\n",
       "      <td>0.054242</td>\n",
       "    </tr>\n",
       "    <tr>\n",
       "      <th>307</th>\n",
       "      <td>0.054804</td>\n",
       "    </tr>\n",
       "    <tr>\n",
       "      <th>308</th>\n",
       "      <td>0.051790</td>\n",
       "    </tr>\n",
       "    <tr>\n",
       "      <th>309</th>\n",
       "      <td>0.049368</td>\n",
       "    </tr>\n",
       "    <tr>\n",
       "      <th>310</th>\n",
       "      <td>0.048203</td>\n",
       "    </tr>\n",
       "  </tbody>\n",
       "</table>\n",
       "<p>311 rows × 1 columns</p>\n",
       "</div>"
      ],
      "text/plain": [
       "            0\n",
       "0    0.243761\n",
       "1    0.276854\n",
       "2    0.315159\n",
       "3    0.373410\n",
       "4    0.308755\n",
       "..        ...\n",
       "306  0.054242\n",
       "307  0.054804\n",
       "308  0.051790\n",
       "309  0.049368\n",
       "310  0.048203\n",
       "\n",
       "[311 rows x 1 columns]"
      ]
     },
     "execution_count": 8,
     "metadata": {},
     "output_type": "execute_result"
    }
   ],
   "source": [
    "env\n",
    "beta"
   ]
  },
  {
   "cell_type": "markdown",
   "metadata": {},
   "source": [
    "# 関数"
   ]
  },
  {
   "cell_type": "code",
   "execution_count": 9,
   "metadata": {
    "scrolled": true
   },
   "outputs": [],
   "source": [
    "def RF_calc (x,y):\n",
    "#%%time\n",
    "#stand=np.arange(1,2)\n",
    "\n",
    "#data=pd.read_csv('output_1.csv')\n",
    "\n",
    "\n",
    "#x = env\n",
    "#y = beta.iloc[0:317,0]\n",
    "\n",
    "    \n",
    "\n",
    "    '''    \n",
    "    search_params = {\n",
    "        'n_estimators'      : [5, 10, 20, 30, 50, 100, 300],\n",
    "        'max_features'      : [i for i in range(1, x.shape[1])],\n",
    "        'random_state'      : [i for i in range(10)],\n",
    "        'n_jobs'            : [1],\n",
    "        'min_samples_split' : [5, 10],\n",
    "        'max_depth'         : [3, 4, 5, 10, 15, 20, 25, 30, 40, 50, 100]\n",
    "    }\n",
    "    '''\n",
    "\n",
    "\n",
    "    search_params = {\n",
    "        'n_estimators'      : [5, 10, 20, 30, 50, 100, 300],\n",
    "        'max_features'      : [i for i in range(3, 10)],\n",
    "        'random_state'      : [1], #i for i in range(10)],\n",
    "        'n_jobs'            : [1],\n",
    "        'min_samples_split' : [5], #, 10],\n",
    "        'max_depth'         : [5, 10, 15, 20]\n",
    "    }\n",
    "\n",
    "\n",
    "\n",
    "\n",
    "\n",
    "\n",
    "    gsr = GridSearchCV(\n",
    "        RFR(),\n",
    "        search_params,\n",
    "        cv = 10,\n",
    "        n_jobs = -7,\n",
    "        verbose=True\n",
    "    )\n",
    "\n",
    "    gsr.fit(x,y)\n",
    "    beta_tree=gsr.best_estimator_\n",
    "    beta_score_train=gsr.best_score_\n",
    "#k_score_test=gsr1.best_estimator_.score(X_test,Y_test)\n",
    "    beta_importances = gsr.best_estimator_.feature_importances_\n",
    "    #k_score_test=gsr.best_estimator_.score(X_test,Y_test)\n",
    "    return gsr\n",
    "\n"
   ]
  },
  {
   "cell_type": "code",
   "execution_count": 10,
   "metadata": {},
   "outputs": [
    {
     "name": "stdout",
     "output_type": "stream",
     "text": [
      "Fitting 10 folds for each of 196 candidates, totalling 1960 fits\n"
     ]
    },
    {
     "name": "stderr",
     "output_type": "stream",
     "text": [
      "[Parallel(n_jobs=-7)]: Using backend LokyBackend with 58 concurrent workers.\n",
      "[Parallel(n_jobs=-7)]: Done  84 tasks      | elapsed:   14.1s\n",
      "[Parallel(n_jobs=-7)]: Done 349 tasks      | elapsed:   14.8s\n",
      "[Parallel(n_jobs=-7)]: Done 1460 tasks      | elapsed:   17.5s\n",
      "[Parallel(n_jobs=-7)]: Done 1845 out of 1960 | elapsed:   18.7s remaining:    1.1s\n",
      "[Parallel(n_jobs=-7)]: Done 1960 out of 1960 | elapsed:   19.6s finished\n"
     ]
    },
    {
     "name": "stdout",
     "output_type": "stream",
     "text": [
      "Fitting 10 folds for each of 196 candidates, totalling 1960 fits\n"
     ]
    },
    {
     "name": "stderr",
     "output_type": "stream",
     "text": [
      "[Parallel(n_jobs=-7)]: Using backend LokyBackend with 58 concurrent workers.\n",
      "[Parallel(n_jobs=-7)]: Done  84 tasks      | elapsed:    0.2s\n",
      "[Parallel(n_jobs=-7)]: Done 762 tasks      | elapsed:    1.7s\n",
      "[Parallel(n_jobs=-7)]: Done 1778 tasks      | elapsed:    4.5s\n",
      "[Parallel(n_jobs=-7)]: Done 1845 out of 1960 | elapsed:    4.6s remaining:    0.2s\n",
      "[Parallel(n_jobs=-7)]: Done 1960 out of 1960 | elapsed:    5.5s finished\n",
      "[Parallel(n_jobs=-7)]: Using backend LokyBackend with 58 concurrent workers.\n"
     ]
    },
    {
     "name": "stdout",
     "output_type": "stream",
     "text": [
      "Fitting 10 folds for each of 196 candidates, totalling 1960 fits\n"
     ]
    },
    {
     "name": "stderr",
     "output_type": "stream",
     "text": [
      "[Parallel(n_jobs=-7)]: Done  86 tasks      | elapsed:    0.2s\n",
      "[Parallel(n_jobs=-7)]: Done 760 tasks      | elapsed:    1.7s\n",
      "[Parallel(n_jobs=-7)]: Done 1784 tasks      | elapsed:    4.5s\n",
      "[Parallel(n_jobs=-7)]: Done 1845 out of 1960 | elapsed:    4.6s remaining:    0.2s\n",
      "[Parallel(n_jobs=-7)]: Done 1960 out of 1960 | elapsed:    5.5s finished\n",
      "[Parallel(n_jobs=-7)]: Using backend LokyBackend with 58 concurrent workers.\n"
     ]
    },
    {
     "name": "stdout",
     "output_type": "stream",
     "text": [
      "Fitting 10 folds for each of 196 candidates, totalling 1960 fits\n"
     ]
    },
    {
     "name": "stderr",
     "output_type": "stream",
     "text": [
      "[Parallel(n_jobs=-7)]: Done  84 tasks      | elapsed:    0.2s\n",
      "[Parallel(n_jobs=-7)]: Done 764 tasks      | elapsed:    1.7s\n",
      "[Parallel(n_jobs=-7)]: Done 1787 tasks      | elapsed:    4.5s\n",
      "[Parallel(n_jobs=-7)]: Done 1845 out of 1960 | elapsed:    4.6s remaining:    0.2s\n",
      "[Parallel(n_jobs=-7)]: Done 1960 out of 1960 | elapsed:    5.5s finished\n",
      "[Parallel(n_jobs=-7)]: Using backend LokyBackend with 58 concurrent workers.\n"
     ]
    },
    {
     "name": "stdout",
     "output_type": "stream",
     "text": [
      "Fitting 10 folds for each of 196 candidates, totalling 1960 fits\n"
     ]
    },
    {
     "name": "stderr",
     "output_type": "stream",
     "text": [
      "[Parallel(n_jobs=-7)]: Done  84 tasks      | elapsed:    0.3s\n",
      "[Parallel(n_jobs=-7)]: Done 762 tasks      | elapsed:    1.8s\n",
      "[Parallel(n_jobs=-7)]: Done 1787 tasks      | elapsed:    4.6s\n",
      "[Parallel(n_jobs=-7)]: Done 1845 out of 1960 | elapsed:    4.8s remaining:    0.2s\n",
      "[Parallel(n_jobs=-7)]: Done 1960 out of 1960 | elapsed:    5.6s finished\n",
      "[Parallel(n_jobs=-7)]: Using backend LokyBackend with 58 concurrent workers.\n"
     ]
    },
    {
     "name": "stdout",
     "output_type": "stream",
     "text": [
      "Fitting 10 folds for each of 196 candidates, totalling 1960 fits\n"
     ]
    },
    {
     "name": "stderr",
     "output_type": "stream",
     "text": [
      "[Parallel(n_jobs=-7)]: Done  84 tasks      | elapsed:    0.2s\n",
      "[Parallel(n_jobs=-7)]: Done 764 tasks      | elapsed:    1.7s\n",
      "[Parallel(n_jobs=-7)]: Done 1781 tasks      | elapsed:    4.5s\n",
      "[Parallel(n_jobs=-7)]: Done 1845 out of 1960 | elapsed:    4.7s remaining:    0.2s\n",
      "[Parallel(n_jobs=-7)]: Done 1960 out of 1960 | elapsed:    5.5s finished\n"
     ]
    },
    {
     "name": "stdout",
     "output_type": "stream",
     "text": [
      "Fitting 10 folds for each of 196 candidates, totalling 1960 fits\n"
     ]
    },
    {
     "name": "stderr",
     "output_type": "stream",
     "text": [
      "[Parallel(n_jobs=-7)]: Using backend LokyBackend with 58 concurrent workers.\n",
      "[Parallel(n_jobs=-7)]: Done  84 tasks      | elapsed:    0.2s\n",
      "[Parallel(n_jobs=-7)]: Done 764 tasks      | elapsed:    1.7s\n",
      "[Parallel(n_jobs=-7)]: Done 1787 tasks      | elapsed:    4.6s\n",
      "[Parallel(n_jobs=-7)]: Done 1845 out of 1960 | elapsed:    4.7s remaining:    0.2s\n",
      "[Parallel(n_jobs=-7)]: Done 1960 out of 1960 | elapsed:    5.6s finished\n",
      "[Parallel(n_jobs=-7)]: Using backend LokyBackend with 58 concurrent workers.\n"
     ]
    },
    {
     "name": "stdout",
     "output_type": "stream",
     "text": [
      "Fitting 10 folds for each of 196 candidates, totalling 1960 fits\n"
     ]
    },
    {
     "name": "stderr",
     "output_type": "stream",
     "text": [
      "[Parallel(n_jobs=-7)]: Done  84 tasks      | elapsed:    0.2s\n",
      "[Parallel(n_jobs=-7)]: Done 764 tasks      | elapsed:    1.7s\n",
      "[Parallel(n_jobs=-7)]: Done 1787 tasks      | elapsed:    4.6s\n",
      "[Parallel(n_jobs=-7)]: Done 1845 out of 1960 | elapsed:    4.7s remaining:    0.2s\n",
      "[Parallel(n_jobs=-7)]: Done 1960 out of 1960 | elapsed:    5.6s finished\n",
      "[Parallel(n_jobs=-7)]: Using backend LokyBackend with 58 concurrent workers.\n"
     ]
    },
    {
     "name": "stdout",
     "output_type": "stream",
     "text": [
      "Fitting 10 folds for each of 196 candidates, totalling 1960 fits\n"
     ]
    },
    {
     "name": "stderr",
     "output_type": "stream",
     "text": [
      "[Parallel(n_jobs=-7)]: Done  84 tasks      | elapsed:    0.2s\n",
      "[Parallel(n_jobs=-7)]: Done 552 tasks      | elapsed:    1.3s\n",
      "[Parallel(n_jobs=-7)]: Done 1252 tasks      | elapsed:    3.3s\n",
      "[Parallel(n_jobs=-7)]: Done 1845 out of 1960 | elapsed:    4.9s remaining:    0.2s\n",
      "[Parallel(n_jobs=-7)]: Done 1960 out of 1960 | elapsed:    5.5s finished\n"
     ]
    },
    {
     "name": "stdout",
     "output_type": "stream",
     "text": [
      "Fitting 10 folds for each of 196 candidates, totalling 1960 fits\n"
     ]
    },
    {
     "name": "stderr",
     "output_type": "stream",
     "text": [
      "[Parallel(n_jobs=-7)]: Using backend LokyBackend with 58 concurrent workers.\n",
      "[Parallel(n_jobs=-7)]: Done  84 tasks      | elapsed:    0.2s\n",
      "[Parallel(n_jobs=-7)]: Done 758 tasks      | elapsed:    1.7s\n",
      "[Parallel(n_jobs=-7)]: Done 1784 tasks      | elapsed:    4.6s\n",
      "[Parallel(n_jobs=-7)]: Done 1845 out of 1960 | elapsed:    4.8s remaining:    0.2s\n",
      "[Parallel(n_jobs=-7)]: Done 1960 out of 1960 | elapsed:    5.7s finished\n"
     ]
    },
    {
     "name": "stdout",
     "output_type": "stream",
     "text": [
      "Fitting 10 folds for each of 196 candidates, totalling 1960 fits\n"
     ]
    },
    {
     "name": "stderr",
     "output_type": "stream",
     "text": [
      "[Parallel(n_jobs=-7)]: Using backend LokyBackend with 58 concurrent workers.\n",
      "[Parallel(n_jobs=-7)]: Done  84 tasks      | elapsed:    0.2s\n",
      "[Parallel(n_jobs=-7)]: Done 760 tasks      | elapsed:    1.7s\n",
      "[Parallel(n_jobs=-7)]: Done 1781 tasks      | elapsed:    4.6s\n",
      "[Parallel(n_jobs=-7)]: Done 1845 out of 1960 | elapsed:    4.8s remaining:    0.2s\n",
      "[Parallel(n_jobs=-7)]: Done 1960 out of 1960 | elapsed:    5.6s finished\n"
     ]
    },
    {
     "name": "stdout",
     "output_type": "stream",
     "text": [
      "Fitting 10 folds for each of 196 candidates, totalling 1960 fits\n"
     ]
    },
    {
     "name": "stderr",
     "output_type": "stream",
     "text": [
      "[Parallel(n_jobs=-7)]: Using backend LokyBackend with 58 concurrent workers.\n",
      "[Parallel(n_jobs=-7)]: Done  84 tasks      | elapsed:    0.2s\n",
      "[Parallel(n_jobs=-7)]: Done 762 tasks      | elapsed:    1.7s\n",
      "[Parallel(n_jobs=-7)]: Done 1781 tasks      | elapsed:    4.6s\n",
      "[Parallel(n_jobs=-7)]: Done 1845 out of 1960 | elapsed:    4.7s remaining:    0.2s\n",
      "[Parallel(n_jobs=-7)]: Done 1960 out of 1960 | elapsed:    5.6s finished\n",
      "[Parallel(n_jobs=-7)]: Using backend LokyBackend with 58 concurrent workers.\n"
     ]
    },
    {
     "name": "stdout",
     "output_type": "stream",
     "text": [
      "Fitting 10 folds for each of 196 candidates, totalling 1960 fits\n"
     ]
    },
    {
     "name": "stderr",
     "output_type": "stream",
     "text": [
      "[Parallel(n_jobs=-7)]: Done  84 tasks      | elapsed:    0.3s\n",
      "[Parallel(n_jobs=-7)]: Done 764 tasks      | elapsed:    1.8s\n",
      "[Parallel(n_jobs=-7)]: Done 1784 tasks      | elapsed:    4.7s\n",
      "[Parallel(n_jobs=-7)]: Done 1845 out of 1960 | elapsed:    4.8s remaining:    0.2s\n",
      "[Parallel(n_jobs=-7)]: Done 1960 out of 1960 | elapsed:    5.8s finished\n"
     ]
    },
    {
     "name": "stdout",
     "output_type": "stream",
     "text": [
      "Fitting 10 folds for each of 196 candidates, totalling 1960 fits\n"
     ]
    },
    {
     "name": "stderr",
     "output_type": "stream",
     "text": [
      "[Parallel(n_jobs=-7)]: Using backend LokyBackend with 58 concurrent workers.\n",
      "[Parallel(n_jobs=-7)]: Done  84 tasks      | elapsed:    0.2s\n",
      "[Parallel(n_jobs=-7)]: Done 762 tasks      | elapsed:    1.7s\n",
      "[Parallel(n_jobs=-7)]: Done 1787 tasks      | elapsed:    4.7s\n",
      "[Parallel(n_jobs=-7)]: Done 1845 out of 1960 | elapsed:    4.8s remaining:    0.2s\n",
      "[Parallel(n_jobs=-7)]: Done 1960 out of 1960 | elapsed:    5.7s finished\n",
      "[Parallel(n_jobs=-7)]: Using backend LokyBackend with 58 concurrent workers.\n"
     ]
    },
    {
     "name": "stdout",
     "output_type": "stream",
     "text": [
      "Fitting 10 folds for each of 196 candidates, totalling 1960 fits\n"
     ]
    },
    {
     "name": "stderr",
     "output_type": "stream",
     "text": [
      "[Parallel(n_jobs=-7)]: Done  84 tasks      | elapsed:    0.2s\n",
      "[Parallel(n_jobs=-7)]: Done 762 tasks      | elapsed:    1.7s\n",
      "[Parallel(n_jobs=-7)]: Done 1781 tasks      | elapsed:    4.6s\n",
      "[Parallel(n_jobs=-7)]: Done 1845 out of 1960 | elapsed:    4.8s remaining:    0.2s\n",
      "[Parallel(n_jobs=-7)]: Done 1960 out of 1960 | elapsed:    5.6s finished\n"
     ]
    },
    {
     "name": "stdout",
     "output_type": "stream",
     "text": [
      "Fitting 10 folds for each of 196 candidates, totalling 1960 fits\n"
     ]
    },
    {
     "name": "stderr",
     "output_type": "stream",
     "text": [
      "[Parallel(n_jobs=-7)]: Using backend LokyBackend with 58 concurrent workers.\n",
      "[Parallel(n_jobs=-7)]: Done  84 tasks      | elapsed:    0.2s\n",
      "[Parallel(n_jobs=-7)]: Done 764 tasks      | elapsed:    1.8s\n",
      "[Parallel(n_jobs=-7)]: Done 1790 tasks      | elapsed:    4.7s\n",
      "[Parallel(n_jobs=-7)]: Done 1845 out of 1960 | elapsed:    4.8s remaining:    0.2s\n",
      "[Parallel(n_jobs=-7)]: Done 1960 out of 1960 | elapsed:    5.7s finished\n",
      "[Parallel(n_jobs=-7)]: Using backend LokyBackend with 58 concurrent workers.\n"
     ]
    },
    {
     "name": "stdout",
     "output_type": "stream",
     "text": [
      "Fitting 10 folds for each of 196 candidates, totalling 1960 fits\n"
     ]
    },
    {
     "name": "stderr",
     "output_type": "stream",
     "text": [
      "[Parallel(n_jobs=-7)]: Done  84 tasks      | elapsed:    0.3s\n",
      "[Parallel(n_jobs=-7)]: Done 552 tasks      | elapsed:    1.2s\n",
      "[Parallel(n_jobs=-7)]: Done 1252 tasks      | elapsed:    3.2s\n",
      "[Parallel(n_jobs=-7)]: Done 1845 out of 1960 | elapsed:    4.8s remaining:    0.2s\n",
      "[Parallel(n_jobs=-7)]: Done 1960 out of 1960 | elapsed:    5.5s finished\n",
      "[Parallel(n_jobs=-7)]: Using backend LokyBackend with 58 concurrent workers.\n"
     ]
    },
    {
     "name": "stdout",
     "output_type": "stream",
     "text": [
      "Fitting 10 folds for each of 196 candidates, totalling 1960 fits\n"
     ]
    },
    {
     "name": "stderr",
     "output_type": "stream",
     "text": [
      "[Parallel(n_jobs=-7)]: Done  84 tasks      | elapsed:    0.2s\n",
      "[Parallel(n_jobs=-7)]: Done 764 tasks      | elapsed:    1.8s\n",
      "[Parallel(n_jobs=-7)]: Done 1781 tasks      | elapsed:    4.7s\n",
      "[Parallel(n_jobs=-7)]: Done 1845 out of 1960 | elapsed:    4.8s remaining:    0.2s\n",
      "[Parallel(n_jobs=-7)]: Done 1960 out of 1960 | elapsed:    5.7s finished\n"
     ]
    },
    {
     "name": "stdout",
     "output_type": "stream",
     "text": [
      "Fitting 10 folds for each of 196 candidates, totalling 1960 fits\n"
     ]
    },
    {
     "name": "stderr",
     "output_type": "stream",
     "text": [
      "[Parallel(n_jobs=-7)]: Using backend LokyBackend with 58 concurrent workers.\n",
      "[Parallel(n_jobs=-7)]: Done  84 tasks      | elapsed:    0.2s\n",
      "[Parallel(n_jobs=-7)]: Done 764 tasks      | elapsed:    1.8s\n",
      "[Parallel(n_jobs=-7)]: Done 1787 tasks      | elapsed:    4.8s\n",
      "[Parallel(n_jobs=-7)]: Done 1845 out of 1960 | elapsed:    4.9s remaining:    0.2s\n",
      "[Parallel(n_jobs=-7)]: Done 1960 out of 1960 | elapsed:    5.8s finished\n",
      "[Parallel(n_jobs=-7)]: Using backend LokyBackend with 58 concurrent workers.\n"
     ]
    },
    {
     "name": "stdout",
     "output_type": "stream",
     "text": [
      "Fitting 10 folds for each of 196 candidates, totalling 1960 fits\n"
     ]
    },
    {
     "name": "stderr",
     "output_type": "stream",
     "text": [
      "[Parallel(n_jobs=-7)]: Done  84 tasks      | elapsed:    0.2s\n",
      "[Parallel(n_jobs=-7)]: Done 764 tasks      | elapsed:    1.8s\n",
      "[Parallel(n_jobs=-7)]: Done 1781 tasks      | elapsed:    4.7s\n",
      "[Parallel(n_jobs=-7)]: Done 1845 out of 1960 | elapsed:    4.8s remaining:    0.2s\n",
      "[Parallel(n_jobs=-7)]: Done 1960 out of 1960 | elapsed:    5.7s finished\n",
      "[Parallel(n_jobs=-7)]: Using backend LokyBackend with 58 concurrent workers.\n"
     ]
    },
    {
     "name": "stdout",
     "output_type": "stream",
     "text": [
      "Fitting 10 folds for each of 196 candidates, totalling 1960 fits\n"
     ]
    },
    {
     "name": "stderr",
     "output_type": "stream",
     "text": [
      "[Parallel(n_jobs=-7)]: Done  84 tasks      | elapsed:    0.2s\n",
      "[Parallel(n_jobs=-7)]: Done 760 tasks      | elapsed:    1.8s\n",
      "[Parallel(n_jobs=-7)]: Done 1781 tasks      | elapsed:    4.7s\n",
      "[Parallel(n_jobs=-7)]: Done 1845 out of 1960 | elapsed:    4.8s remaining:    0.2s\n",
      "[Parallel(n_jobs=-7)]: Done 1960 out of 1960 | elapsed:    5.7s finished\n"
     ]
    },
    {
     "name": "stdout",
     "output_type": "stream",
     "text": [
      "Fitting 10 folds for each of 196 candidates, totalling 1960 fits\n"
     ]
    },
    {
     "name": "stderr",
     "output_type": "stream",
     "text": [
      "[Parallel(n_jobs=-7)]: Using backend LokyBackend with 58 concurrent workers.\n",
      "[Parallel(n_jobs=-7)]: Done  84 tasks      | elapsed:    0.2s\n",
      "[Parallel(n_jobs=-7)]: Done 764 tasks      | elapsed:    1.7s\n",
      "[Parallel(n_jobs=-7)]: Done 1784 tasks      | elapsed:    4.7s\n",
      "[Parallel(n_jobs=-7)]: Done 1845 out of 1960 | elapsed:    4.8s remaining:    0.2s\n",
      "[Parallel(n_jobs=-7)]: Done 1960 out of 1960 | elapsed:    5.7s finished\n",
      "[Parallel(n_jobs=-7)]: Using backend LokyBackend with 58 concurrent workers.\n"
     ]
    },
    {
     "name": "stdout",
     "output_type": "stream",
     "text": [
      "Fitting 10 folds for each of 196 candidates, totalling 1960 fits\n"
     ]
    },
    {
     "name": "stderr",
     "output_type": "stream",
     "text": [
      "[Parallel(n_jobs=-7)]: Done  84 tasks      | elapsed:    0.2s\n",
      "[Parallel(n_jobs=-7)]: Done 762 tasks      | elapsed:    1.7s\n",
      "[Parallel(n_jobs=-7)]: Done 1790 tasks      | elapsed:    4.7s\n",
      "[Parallel(n_jobs=-7)]: Done 1960 out of 1960 | elapsed:    5.7s finished\n",
      "[Parallel(n_jobs=-7)]: Using backend LokyBackend with 58 concurrent workers.\n"
     ]
    },
    {
     "name": "stdout",
     "output_type": "stream",
     "text": [
      "Fitting 10 folds for each of 196 candidates, totalling 1960 fits\n"
     ]
    },
    {
     "name": "stderr",
     "output_type": "stream",
     "text": [
      "[Parallel(n_jobs=-7)]: Done  84 tasks      | elapsed:    0.2s\n",
      "[Parallel(n_jobs=-7)]: Done 760 tasks      | elapsed:    1.7s\n",
      "[Parallel(n_jobs=-7)]: Done 1787 tasks      | elapsed:    4.7s\n",
      "[Parallel(n_jobs=-7)]: Done 1845 out of 1960 | elapsed:    4.8s remaining:    0.2s\n",
      "[Parallel(n_jobs=-7)]: Done 1960 out of 1960 | elapsed:    5.7s finished\n"
     ]
    },
    {
     "name": "stdout",
     "output_type": "stream",
     "text": [
      "Fitting 10 folds for each of 196 candidates, totalling 1960 fits\n"
     ]
    },
    {
     "name": "stderr",
     "output_type": "stream",
     "text": [
      "[Parallel(n_jobs=-7)]: Using backend LokyBackend with 58 concurrent workers.\n",
      "[Parallel(n_jobs=-7)]: Done  84 tasks      | elapsed:    0.2s\n",
      "[Parallel(n_jobs=-7)]: Done 762 tasks      | elapsed:    1.7s\n",
      "[Parallel(n_jobs=-7)]: Done 1784 tasks      | elapsed:    4.8s\n",
      "[Parallel(n_jobs=-7)]: Done 1845 out of 1960 | elapsed:    4.9s remaining:    0.2s\n",
      "[Parallel(n_jobs=-7)]: Done 1960 out of 1960 | elapsed:    5.7s finished\n",
      "[Parallel(n_jobs=-7)]: Using backend LokyBackend with 58 concurrent workers.\n"
     ]
    },
    {
     "name": "stdout",
     "output_type": "stream",
     "text": [
      "Fitting 10 folds for each of 196 candidates, totalling 1960 fits\n"
     ]
    },
    {
     "name": "stderr",
     "output_type": "stream",
     "text": [
      "[Parallel(n_jobs=-7)]: Done  84 tasks      | elapsed:    0.2s\n",
      "[Parallel(n_jobs=-7)]: Done 760 tasks      | elapsed:    1.7s\n",
      "[Parallel(n_jobs=-7)]: Done 1784 tasks      | elapsed:    4.7s\n",
      "[Parallel(n_jobs=-7)]: Done 1845 out of 1960 | elapsed:    4.8s remaining:    0.2s\n",
      "[Parallel(n_jobs=-7)]: Done 1960 out of 1960 | elapsed:    5.7s finished\n",
      "[Parallel(n_jobs=-7)]: Using backend LokyBackend with 58 concurrent workers.\n"
     ]
    },
    {
     "name": "stdout",
     "output_type": "stream",
     "text": [
      "Fitting 10 folds for each of 196 candidates, totalling 1960 fits\n"
     ]
    },
    {
     "name": "stderr",
     "output_type": "stream",
     "text": [
      "[Parallel(n_jobs=-7)]: Done  84 tasks      | elapsed:    0.2s\n",
      "[Parallel(n_jobs=-7)]: Done 764 tasks      | elapsed:    1.8s\n",
      "[Parallel(n_jobs=-7)]: Done 1781 tasks      | elapsed:    4.8s\n",
      "[Parallel(n_jobs=-7)]: Done 1845 out of 1960 | elapsed:    4.9s remaining:    0.2s\n",
      "[Parallel(n_jobs=-7)]: Done 1960 out of 1960 | elapsed:    5.8s finished\n"
     ]
    },
    {
     "name": "stdout",
     "output_type": "stream",
     "text": [
      "Fitting 10 folds for each of 196 candidates, totalling 1960 fits\n"
     ]
    },
    {
     "name": "stderr",
     "output_type": "stream",
     "text": [
      "[Parallel(n_jobs=-7)]: Using backend LokyBackend with 58 concurrent workers.\n",
      "[Parallel(n_jobs=-7)]: Done  84 tasks      | elapsed:    0.2s\n",
      "[Parallel(n_jobs=-7)]: Done 762 tasks      | elapsed:    1.8s\n",
      "[Parallel(n_jobs=-7)]: Done 1793 tasks      | elapsed:    4.8s\n",
      "[Parallel(n_jobs=-7)]: Done 1845 out of 1960 | elapsed:    4.9s remaining:    0.2s\n",
      "[Parallel(n_jobs=-7)]: Done 1960 out of 1960 | elapsed:    5.7s finished\n"
     ]
    },
    {
     "name": "stdout",
     "output_type": "stream",
     "text": [
      "Fitting 10 folds for each of 196 candidates, totalling 1960 fits\n"
     ]
    },
    {
     "name": "stderr",
     "output_type": "stream",
     "text": [
      "[Parallel(n_jobs=-7)]: Using backend LokyBackend with 58 concurrent workers.\n",
      "[Parallel(n_jobs=-7)]: Done  84 tasks      | elapsed:    0.2s\n",
      "[Parallel(n_jobs=-7)]: Done 762 tasks      | elapsed:    1.8s\n",
      "[Parallel(n_jobs=-7)]: Done 1790 tasks      | elapsed:    4.9s\n",
      "[Parallel(n_jobs=-7)]: Done 1845 out of 1960 | elapsed:    5.0s remaining:    0.2s\n",
      "[Parallel(n_jobs=-7)]: Done 1960 out of 1960 | elapsed:    5.9s finished\n",
      "[Parallel(n_jobs=-7)]: Using backend LokyBackend with 58 concurrent workers.\n"
     ]
    },
    {
     "name": "stdout",
     "output_type": "stream",
     "text": [
      "Fitting 10 folds for each of 196 candidates, totalling 1960 fits\n"
     ]
    },
    {
     "name": "stderr",
     "output_type": "stream",
     "text": [
      "[Parallel(n_jobs=-7)]: Done  84 tasks      | elapsed:    0.2s\n",
      "[Parallel(n_jobs=-7)]: Done 764 tasks      | elapsed:    1.8s\n",
      "[Parallel(n_jobs=-7)]: Done 1784 tasks      | elapsed:    4.8s\n",
      "[Parallel(n_jobs=-7)]: Done 1845 out of 1960 | elapsed:    4.9s remaining:    0.2s\n",
      "[Parallel(n_jobs=-7)]: Done 1960 out of 1960 | elapsed:    5.8s finished\n",
      "[Parallel(n_jobs=-7)]: Using backend LokyBackend with 58 concurrent workers.\n"
     ]
    },
    {
     "name": "stdout",
     "output_type": "stream",
     "text": [
      "Fitting 10 folds for each of 196 candidates, totalling 1960 fits\n"
     ]
    },
    {
     "name": "stderr",
     "output_type": "stream",
     "text": [
      "[Parallel(n_jobs=-7)]: Done  84 tasks      | elapsed:    0.2s\n",
      "[Parallel(n_jobs=-7)]: Done 762 tasks      | elapsed:    1.7s\n",
      "[Parallel(n_jobs=-7)]: Done 1784 tasks      | elapsed:    4.8s\n",
      "[Parallel(n_jobs=-7)]: Done 1845 out of 1960 | elapsed:    4.9s remaining:    0.2s\n",
      "[Parallel(n_jobs=-7)]: Done 1960 out of 1960 | elapsed:    5.8s finished\n"
     ]
    },
    {
     "name": "stdout",
     "output_type": "stream",
     "text": [
      "Fitting 10 folds for each of 196 candidates, totalling 1960 fits\n"
     ]
    },
    {
     "name": "stderr",
     "output_type": "stream",
     "text": [
      "[Parallel(n_jobs=-7)]: Using backend LokyBackend with 58 concurrent workers.\n",
      "[Parallel(n_jobs=-7)]: Done  84 tasks      | elapsed:    0.2s\n",
      "[Parallel(n_jobs=-7)]: Done 762 tasks      | elapsed:    1.8s\n",
      "[Parallel(n_jobs=-7)]: Done 1784 tasks      | elapsed:    4.8s\n",
      "[Parallel(n_jobs=-7)]: Done 1845 out of 1960 | elapsed:    4.9s remaining:    0.2s\n",
      "[Parallel(n_jobs=-7)]: Done 1960 out of 1960 | elapsed:    5.8s finished\n",
      "[Parallel(n_jobs=-7)]: Using backend LokyBackend with 58 concurrent workers.\n"
     ]
    },
    {
     "name": "stdout",
     "output_type": "stream",
     "text": [
      "Fitting 10 folds for each of 196 candidates, totalling 1960 fits\n"
     ]
    },
    {
     "name": "stderr",
     "output_type": "stream",
     "text": [
      "[Parallel(n_jobs=-7)]: Done  84 tasks      | elapsed:    0.2s\n",
      "[Parallel(n_jobs=-7)]: Done 764 tasks      | elapsed:    1.8s\n",
      "[Parallel(n_jobs=-7)]: Done 1784 tasks      | elapsed:    4.8s\n",
      "[Parallel(n_jobs=-7)]: Done 1845 out of 1960 | elapsed:    4.9s remaining:    0.2s\n",
      "[Parallel(n_jobs=-7)]: Done 1960 out of 1960 | elapsed:    5.7s finished\n",
      "[Parallel(n_jobs=-7)]: Using backend LokyBackend with 58 concurrent workers.\n"
     ]
    },
    {
     "name": "stdout",
     "output_type": "stream",
     "text": [
      "Fitting 10 folds for each of 196 candidates, totalling 1960 fits\n"
     ]
    },
    {
     "name": "stderr",
     "output_type": "stream",
     "text": [
      "[Parallel(n_jobs=-7)]: Done  85 tasks      | elapsed:    0.3s\n",
      "[Parallel(n_jobs=-7)]: Done 760 tasks      | elapsed:    1.9s\n",
      "[Parallel(n_jobs=-7)]: Done 1784 tasks      | elapsed:    4.8s\n",
      "[Parallel(n_jobs=-7)]: Done 1845 out of 1960 | elapsed:    5.0s remaining:    0.2s\n",
      "[Parallel(n_jobs=-7)]: Done 1960 out of 1960 | elapsed:    5.8s finished\n",
      "[Parallel(n_jobs=-7)]: Using backend LokyBackend with 58 concurrent workers.\n"
     ]
    },
    {
     "name": "stdout",
     "output_type": "stream",
     "text": [
      "Fitting 10 folds for each of 196 candidates, totalling 1960 fits\n"
     ]
    },
    {
     "name": "stderr",
     "output_type": "stream",
     "text": [
      "[Parallel(n_jobs=-7)]: Done  84 tasks      | elapsed:    0.2s\n",
      "[Parallel(n_jobs=-7)]: Done 764 tasks      | elapsed:    1.8s\n",
      "[Parallel(n_jobs=-7)]: Done 1787 tasks      | elapsed:    4.8s\n",
      "[Parallel(n_jobs=-7)]: Done 1845 out of 1960 | elapsed:    4.9s remaining:    0.2s\n",
      "[Parallel(n_jobs=-7)]: Done 1960 out of 1960 | elapsed:    5.7s finished\n"
     ]
    },
    {
     "name": "stdout",
     "output_type": "stream",
     "text": [
      "Fitting 10 folds for each of 196 candidates, totalling 1960 fits\n"
     ]
    },
    {
     "name": "stderr",
     "output_type": "stream",
     "text": [
      "[Parallel(n_jobs=-7)]: Using backend LokyBackend with 58 concurrent workers.\n",
      "[Parallel(n_jobs=-7)]: Done  84 tasks      | elapsed:    0.2s\n",
      "[Parallel(n_jobs=-7)]: Done 762 tasks      | elapsed:    1.8s\n",
      "[Parallel(n_jobs=-7)]: Done 1787 tasks      | elapsed:    4.8s\n",
      "[Parallel(n_jobs=-7)]: Done 1845 out of 1960 | elapsed:    4.9s remaining:    0.2s\n",
      "[Parallel(n_jobs=-7)]: Done 1960 out of 1960 | elapsed:    5.7s finished\n",
      "[Parallel(n_jobs=-7)]: Using backend LokyBackend with 58 concurrent workers.\n"
     ]
    },
    {
     "name": "stdout",
     "output_type": "stream",
     "text": [
      "Fitting 10 folds for each of 196 candidates, totalling 1960 fits\n"
     ]
    },
    {
     "name": "stderr",
     "output_type": "stream",
     "text": [
      "[Parallel(n_jobs=-7)]: Done  84 tasks      | elapsed:    0.2s\n",
      "[Parallel(n_jobs=-7)]: Done 760 tasks      | elapsed:    1.8s\n",
      "[Parallel(n_jobs=-7)]: Done 1784 tasks      | elapsed:    4.8s\n",
      "[Parallel(n_jobs=-7)]: Done 1845 out of 1960 | elapsed:    4.9s remaining:    0.2s\n",
      "[Parallel(n_jobs=-7)]: Done 1960 out of 1960 | elapsed:    5.8s finished\n"
     ]
    },
    {
     "name": "stdout",
     "output_type": "stream",
     "text": [
      "Fitting 10 folds for each of 196 candidates, totalling 1960 fits\n"
     ]
    },
    {
     "name": "stderr",
     "output_type": "stream",
     "text": [
      "[Parallel(n_jobs=-7)]: Using backend LokyBackend with 58 concurrent workers.\n",
      "[Parallel(n_jobs=-7)]: Done  84 tasks      | elapsed:    0.2s\n",
      "[Parallel(n_jobs=-7)]: Done 760 tasks      | elapsed:    1.8s\n",
      "[Parallel(n_jobs=-7)]: Done 1787 tasks      | elapsed:    4.8s\n",
      "[Parallel(n_jobs=-7)]: Done 1845 out of 1960 | elapsed:    4.9s remaining:    0.2s\n",
      "[Parallel(n_jobs=-7)]: Done 1960 out of 1960 | elapsed:    5.8s finished\n"
     ]
    },
    {
     "name": "stdout",
     "output_type": "stream",
     "text": [
      "Fitting 10 folds for each of 196 candidates, totalling 1960 fits\n"
     ]
    },
    {
     "name": "stderr",
     "output_type": "stream",
     "text": [
      "[Parallel(n_jobs=-7)]: Using backend LokyBackend with 58 concurrent workers.\n",
      "[Parallel(n_jobs=-7)]: Done  84 tasks      | elapsed:    0.2s\n",
      "[Parallel(n_jobs=-7)]: Done 760 tasks      | elapsed:    1.8s\n",
      "[Parallel(n_jobs=-7)]: Done 1790 tasks      | elapsed:    4.8s\n",
      "[Parallel(n_jobs=-7)]: Done 1845 out of 1960 | elapsed:    4.9s remaining:    0.2s\n",
      "[Parallel(n_jobs=-7)]: Done 1960 out of 1960 | elapsed:    5.9s finished\n"
     ]
    },
    {
     "name": "stdout",
     "output_type": "stream",
     "text": [
      "Fitting 10 folds for each of 196 candidates, totalling 1960 fits\n"
     ]
    },
    {
     "name": "stderr",
     "output_type": "stream",
     "text": [
      "[Parallel(n_jobs=-7)]: Using backend LokyBackend with 58 concurrent workers.\n",
      "[Parallel(n_jobs=-7)]: Done  84 tasks      | elapsed:    0.2s\n",
      "[Parallel(n_jobs=-7)]: Done 762 tasks      | elapsed:    1.7s\n",
      "[Parallel(n_jobs=-7)]: Done 1784 tasks      | elapsed:    4.8s\n",
      "[Parallel(n_jobs=-7)]: Done 1845 out of 1960 | elapsed:    4.9s remaining:    0.2s\n",
      "[Parallel(n_jobs=-7)]: Done 1960 out of 1960 | elapsed:    5.8s finished\n"
     ]
    },
    {
     "name": "stdout",
     "output_type": "stream",
     "text": [
      "Fitting 10 folds for each of 196 candidates, totalling 1960 fits\n"
     ]
    },
    {
     "name": "stderr",
     "output_type": "stream",
     "text": [
      "[Parallel(n_jobs=-7)]: Using backend LokyBackend with 58 concurrent workers.\n",
      "[Parallel(n_jobs=-7)]: Done  84 tasks      | elapsed:    0.2s\n",
      "[Parallel(n_jobs=-7)]: Done 760 tasks      | elapsed:    1.8s\n",
      "[Parallel(n_jobs=-7)]: Done 1796 tasks      | elapsed:    4.8s\n",
      "[Parallel(n_jobs=-7)]: Done 1845 out of 1960 | elapsed:    4.9s remaining:    0.2s\n",
      "[Parallel(n_jobs=-7)]: Done 1960 out of 1960 | elapsed:    5.8s finished\n"
     ]
    },
    {
     "name": "stdout",
     "output_type": "stream",
     "text": [
      "Fitting 10 folds for each of 196 candidates, totalling 1960 fits\n"
     ]
    },
    {
     "name": "stderr",
     "output_type": "stream",
     "text": [
      "[Parallel(n_jobs=-7)]: Using backend LokyBackend with 58 concurrent workers.\n",
      "[Parallel(n_jobs=-7)]: Done  84 tasks      | elapsed:    0.2s\n",
      "[Parallel(n_jobs=-7)]: Done 762 tasks      | elapsed:    1.8s\n",
      "[Parallel(n_jobs=-7)]: Done 1787 tasks      | elapsed:    4.8s\n",
      "[Parallel(n_jobs=-7)]: Done 1845 out of 1960 | elapsed:    4.9s remaining:    0.2s\n",
      "[Parallel(n_jobs=-7)]: Done 1960 out of 1960 | elapsed:    5.8s finished\n",
      "[Parallel(n_jobs=-7)]: Using backend LokyBackend with 58 concurrent workers.\n"
     ]
    },
    {
     "name": "stdout",
     "output_type": "stream",
     "text": [
      "Fitting 10 folds for each of 196 candidates, totalling 1960 fits\n"
     ]
    },
    {
     "name": "stderr",
     "output_type": "stream",
     "text": [
      "[Parallel(n_jobs=-7)]: Done  84 tasks      | elapsed:    0.2s\n",
      "[Parallel(n_jobs=-7)]: Done 764 tasks      | elapsed:    1.8s\n",
      "[Parallel(n_jobs=-7)]: Done 1778 tasks      | elapsed:    4.8s\n",
      "[Parallel(n_jobs=-7)]: Done 1845 out of 1960 | elapsed:    4.9s remaining:    0.2s\n",
      "[Parallel(n_jobs=-7)]: Done 1960 out of 1960 | elapsed:    5.9s finished\n",
      "[Parallel(n_jobs=-7)]: Using backend LokyBackend with 58 concurrent workers.\n"
     ]
    },
    {
     "name": "stdout",
     "output_type": "stream",
     "text": [
      "Fitting 10 folds for each of 196 candidates, totalling 1960 fits\n"
     ]
    },
    {
     "name": "stderr",
     "output_type": "stream",
     "text": [
      "[Parallel(n_jobs=-7)]: Done  84 tasks      | elapsed:    0.2s\n",
      "[Parallel(n_jobs=-7)]: Done 762 tasks      | elapsed:    1.8s\n",
      "[Parallel(n_jobs=-7)]: Done 1781 tasks      | elapsed:    4.8s\n",
      "[Parallel(n_jobs=-7)]: Done 1845 out of 1960 | elapsed:    5.0s remaining:    0.2s\n",
      "[Parallel(n_jobs=-7)]: Done 1960 out of 1960 | elapsed:    5.9s finished\n",
      "[Parallel(n_jobs=-7)]: Using backend LokyBackend with 58 concurrent workers.\n"
     ]
    },
    {
     "name": "stdout",
     "output_type": "stream",
     "text": [
      "Fitting 10 folds for each of 196 candidates, totalling 1960 fits\n"
     ]
    },
    {
     "name": "stderr",
     "output_type": "stream",
     "text": [
      "[Parallel(n_jobs=-7)]: Done  84 tasks      | elapsed:    0.2s\n",
      "[Parallel(n_jobs=-7)]: Done 764 tasks      | elapsed:    1.8s\n",
      "[Parallel(n_jobs=-7)]: Done 1784 tasks      | elapsed:    4.9s\n",
      "[Parallel(n_jobs=-7)]: Done 1845 out of 1960 | elapsed:    5.0s remaining:    0.2s\n",
      "[Parallel(n_jobs=-7)]: Done 1960 out of 1960 | elapsed:    5.9s finished\n",
      "[Parallel(n_jobs=-7)]: Using backend LokyBackend with 58 concurrent workers.\n"
     ]
    },
    {
     "name": "stdout",
     "output_type": "stream",
     "text": [
      "Fitting 10 folds for each of 196 candidates, totalling 1960 fits\n"
     ]
    },
    {
     "name": "stderr",
     "output_type": "stream",
     "text": [
      "[Parallel(n_jobs=-7)]: Done  84 tasks      | elapsed:    0.2s\n",
      "[Parallel(n_jobs=-7)]: Done 762 tasks      | elapsed:    1.8s\n",
      "[Parallel(n_jobs=-7)]: Done 1784 tasks      | elapsed:    4.8s\n",
      "[Parallel(n_jobs=-7)]: Done 1845 out of 1960 | elapsed:    5.0s remaining:    0.2s\n",
      "[Parallel(n_jobs=-7)]: Done 1960 out of 1960 | elapsed:    5.9s finished\n"
     ]
    },
    {
     "name": "stdout",
     "output_type": "stream",
     "text": [
      "Fitting 10 folds for each of 196 candidates, totalling 1960 fits\n"
     ]
    },
    {
     "name": "stderr",
     "output_type": "stream",
     "text": [
      "[Parallel(n_jobs=-7)]: Using backend LokyBackend with 58 concurrent workers.\n",
      "[Parallel(n_jobs=-7)]: Done  84 tasks      | elapsed:    0.2s\n",
      "[Parallel(n_jobs=-7)]: Done 764 tasks      | elapsed:    1.8s\n",
      "[Parallel(n_jobs=-7)]: Done 1787 tasks      | elapsed:    4.8s\n",
      "[Parallel(n_jobs=-7)]: Done 1845 out of 1960 | elapsed:    4.9s remaining:    0.2s\n",
      "[Parallel(n_jobs=-7)]: Done 1960 out of 1960 | elapsed:    5.8s finished\n"
     ]
    },
    {
     "name": "stdout",
     "output_type": "stream",
     "text": [
      "Fitting 10 folds for each of 196 candidates, totalling 1960 fits\n"
     ]
    },
    {
     "name": "stderr",
     "output_type": "stream",
     "text": [
      "[Parallel(n_jobs=-7)]: Using backend LokyBackend with 58 concurrent workers.\n",
      "[Parallel(n_jobs=-7)]: Done  84 tasks      | elapsed:    0.2s\n",
      "[Parallel(n_jobs=-7)]: Done 762 tasks      | elapsed:    1.8s\n",
      "[Parallel(n_jobs=-7)]: Done 1784 tasks      | elapsed:    4.9s\n",
      "[Parallel(n_jobs=-7)]: Done 1845 out of 1960 | elapsed:    5.1s remaining:    0.2s\n",
      "[Parallel(n_jobs=-7)]: Done 1960 out of 1960 | elapsed:    6.0s finished\n",
      "[Parallel(n_jobs=-7)]: Using backend LokyBackend with 58 concurrent workers.\n"
     ]
    },
    {
     "name": "stdout",
     "output_type": "stream",
     "text": [
      "Fitting 10 folds for each of 196 candidates, totalling 1960 fits\n"
     ]
    },
    {
     "name": "stderr",
     "output_type": "stream",
     "text": [
      "[Parallel(n_jobs=-7)]: Done  84 tasks      | elapsed:    0.2s\n",
      "[Parallel(n_jobs=-7)]: Done 762 tasks      | elapsed:    1.8s\n",
      "[Parallel(n_jobs=-7)]: Done 1784 tasks      | elapsed:    4.9s\n",
      "[Parallel(n_jobs=-7)]: Done 1845 out of 1960 | elapsed:    5.0s remaining:    0.2s\n",
      "[Parallel(n_jobs=-7)]: Done 1960 out of 1960 | elapsed:    5.9s finished\n",
      "[Parallel(n_jobs=-7)]: Using backend LokyBackend with 58 concurrent workers.\n"
     ]
    },
    {
     "name": "stdout",
     "output_type": "stream",
     "text": [
      "Fitting 10 folds for each of 196 candidates, totalling 1960 fits\n"
     ]
    },
    {
     "name": "stderr",
     "output_type": "stream",
     "text": [
      "[Parallel(n_jobs=-7)]: Done  84 tasks      | elapsed:    0.2s\n",
      "[Parallel(n_jobs=-7)]: Done 764 tasks      | elapsed:    1.8s\n",
      "[Parallel(n_jobs=-7)]: Done 1784 tasks      | elapsed:    4.8s\n",
      "[Parallel(n_jobs=-7)]: Done 1960 out of 1960 | elapsed:    5.9s finished\n",
      "[Parallel(n_jobs=-7)]: Using backend LokyBackend with 58 concurrent workers.\n"
     ]
    },
    {
     "name": "stdout",
     "output_type": "stream",
     "text": [
      "Fitting 10 folds for each of 196 candidates, totalling 1960 fits\n"
     ]
    },
    {
     "name": "stderr",
     "output_type": "stream",
     "text": [
      "[Parallel(n_jobs=-7)]: Done  84 tasks      | elapsed:    0.2s\n",
      "[Parallel(n_jobs=-7)]: Done 764 tasks      | elapsed:    1.8s\n",
      "[Parallel(n_jobs=-7)]: Done 1787 tasks      | elapsed:    4.8s\n",
      "[Parallel(n_jobs=-7)]: Done 1845 out of 1960 | elapsed:    5.0s remaining:    0.2s\n",
      "[Parallel(n_jobs=-7)]: Done 1960 out of 1960 | elapsed:    5.9s finished\n",
      "[Parallel(n_jobs=-7)]: Using backend LokyBackend with 58 concurrent workers.\n"
     ]
    },
    {
     "name": "stdout",
     "output_type": "stream",
     "text": [
      "Fitting 10 folds for each of 196 candidates, totalling 1960 fits\n"
     ]
    },
    {
     "name": "stderr",
     "output_type": "stream",
     "text": [
      "[Parallel(n_jobs=-7)]: Done  84 tasks      | elapsed:    0.2s\n",
      "[Parallel(n_jobs=-7)]: Done 758 tasks      | elapsed:    1.8s\n",
      "[Parallel(n_jobs=-7)]: Done 1787 tasks      | elapsed:    4.8s\n",
      "[Parallel(n_jobs=-7)]: Done 1845 out of 1960 | elapsed:    4.9s remaining:    0.2s\n",
      "[Parallel(n_jobs=-7)]: Done 1960 out of 1960 | elapsed:    5.9s finished\n"
     ]
    },
    {
     "name": "stdout",
     "output_type": "stream",
     "text": [
      "Fitting 10 folds for each of 196 candidates, totalling 1960 fits\n"
     ]
    },
    {
     "name": "stderr",
     "output_type": "stream",
     "text": [
      "[Parallel(n_jobs=-7)]: Using backend LokyBackend with 58 concurrent workers.\n",
      "[Parallel(n_jobs=-7)]: Done  84 tasks      | elapsed:    0.2s\n",
      "[Parallel(n_jobs=-7)]: Done 762 tasks      | elapsed:    1.8s\n",
      "[Parallel(n_jobs=-7)]: Done 1784 tasks      | elapsed:    4.9s\n",
      "[Parallel(n_jobs=-7)]: Done 1845 out of 1960 | elapsed:    5.0s remaining:    0.2s\n",
      "[Parallel(n_jobs=-7)]: Done 1960 out of 1960 | elapsed:    6.0s finished\n",
      "[Parallel(n_jobs=-7)]: Using backend LokyBackend with 58 concurrent workers.\n"
     ]
    },
    {
     "name": "stdout",
     "output_type": "stream",
     "text": [
      "Fitting 10 folds for each of 196 candidates, totalling 1960 fits\n"
     ]
    },
    {
     "name": "stderr",
     "output_type": "stream",
     "text": [
      "[Parallel(n_jobs=-7)]: Done  84 tasks      | elapsed:    0.2s\n",
      "[Parallel(n_jobs=-7)]: Done 762 tasks      | elapsed:    1.8s\n",
      "[Parallel(n_jobs=-7)]: Done 1787 tasks      | elapsed:    4.9s\n",
      "[Parallel(n_jobs=-7)]: Done 1845 out of 1960 | elapsed:    5.0s remaining:    0.2s\n",
      "[Parallel(n_jobs=-7)]: Done 1960 out of 1960 | elapsed:    5.9s finished\n",
      "[Parallel(n_jobs=-7)]: Using backend LokyBackend with 58 concurrent workers.\n"
     ]
    },
    {
     "name": "stdout",
     "output_type": "stream",
     "text": [
      "Fitting 10 folds for each of 196 candidates, totalling 1960 fits\n"
     ]
    },
    {
     "name": "stderr",
     "output_type": "stream",
     "text": [
      "[Parallel(n_jobs=-7)]: Done  84 tasks      | elapsed:    0.2s\n",
      "[Parallel(n_jobs=-7)]: Done 764 tasks      | elapsed:    1.8s\n",
      "[Parallel(n_jobs=-7)]: Done 1778 tasks      | elapsed:    4.9s\n",
      "[Parallel(n_jobs=-7)]: Done 1845 out of 1960 | elapsed:    5.0s remaining:    0.2s\n",
      "[Parallel(n_jobs=-7)]: Done 1960 out of 1960 | elapsed:    6.0s finished\n"
     ]
    },
    {
     "name": "stdout",
     "output_type": "stream",
     "text": [
      "Fitting 10 folds for each of 196 candidates, totalling 1960 fits\n"
     ]
    },
    {
     "name": "stderr",
     "output_type": "stream",
     "text": [
      "[Parallel(n_jobs=-7)]: Using backend LokyBackend with 58 concurrent workers.\n",
      "[Parallel(n_jobs=-7)]: Done  84 tasks      | elapsed:    0.2s\n",
      "[Parallel(n_jobs=-7)]: Done 762 tasks      | elapsed:    1.8s\n",
      "[Parallel(n_jobs=-7)]: Done 1784 tasks      | elapsed:    4.9s\n",
      "[Parallel(n_jobs=-7)]: Done 1845 out of 1960 | elapsed:    5.0s remaining:    0.2s\n",
      "[Parallel(n_jobs=-7)]: Done 1960 out of 1960 | elapsed:    5.9s finished\n",
      "[Parallel(n_jobs=-7)]: Using backend LokyBackend with 58 concurrent workers.\n"
     ]
    },
    {
     "name": "stdout",
     "output_type": "stream",
     "text": [
      "Fitting 10 folds for each of 196 candidates, totalling 1960 fits\n"
     ]
    },
    {
     "name": "stderr",
     "output_type": "stream",
     "text": [
      "[Parallel(n_jobs=-7)]: Done  84 tasks      | elapsed:    0.2s\n",
      "[Parallel(n_jobs=-7)]: Done 764 tasks      | elapsed:    1.8s\n",
      "[Parallel(n_jobs=-7)]: Done 1790 tasks      | elapsed:    4.9s\n",
      "[Parallel(n_jobs=-7)]: Done 1845 out of 1960 | elapsed:    5.0s remaining:    0.2s\n",
      "[Parallel(n_jobs=-7)]: Done 1960 out of 1960 | elapsed:    5.9s finished\n"
     ]
    },
    {
     "name": "stdout",
     "output_type": "stream",
     "text": [
      "Fitting 10 folds for each of 196 candidates, totalling 1960 fits\n"
     ]
    },
    {
     "name": "stderr",
     "output_type": "stream",
     "text": [
      "[Parallel(n_jobs=-7)]: Using backend LokyBackend with 58 concurrent workers.\n",
      "[Parallel(n_jobs=-7)]: Done  84 tasks      | elapsed:    0.2s\n",
      "[Parallel(n_jobs=-7)]: Done 764 tasks      | elapsed:    1.8s\n",
      "[Parallel(n_jobs=-7)]: Done 1787 tasks      | elapsed:    5.0s\n",
      "[Parallel(n_jobs=-7)]: Done 1845 out of 1960 | elapsed:    5.1s remaining:    0.2s\n",
      "[Parallel(n_jobs=-7)]: Done 1960 out of 1960 | elapsed:    6.0s finished\n",
      "[Parallel(n_jobs=-7)]: Using backend LokyBackend with 58 concurrent workers.\n"
     ]
    },
    {
     "name": "stdout",
     "output_type": "stream",
     "text": [
      "Fitting 10 folds for each of 196 candidates, totalling 1960 fits\n"
     ]
    },
    {
     "name": "stderr",
     "output_type": "stream",
     "text": [
      "[Parallel(n_jobs=-7)]: Done  84 tasks      | elapsed:    0.2s\n",
      "[Parallel(n_jobs=-7)]: Done 760 tasks      | elapsed:    1.8s\n",
      "[Parallel(n_jobs=-7)]: Done 1781 tasks      | elapsed:    4.9s\n",
      "[Parallel(n_jobs=-7)]: Done 1845 out of 1960 | elapsed:    5.0s remaining:    0.2s\n",
      "[Parallel(n_jobs=-7)]: Done 1960 out of 1960 | elapsed:    5.9s finished\n",
      "[Parallel(n_jobs=-7)]: Using backend LokyBackend with 58 concurrent workers.\n"
     ]
    },
    {
     "name": "stdout",
     "output_type": "stream",
     "text": [
      "Fitting 10 folds for each of 196 candidates, totalling 1960 fits\n"
     ]
    },
    {
     "name": "stderr",
     "output_type": "stream",
     "text": [
      "[Parallel(n_jobs=-7)]: Done  84 tasks      | elapsed:    0.2s\n",
      "[Parallel(n_jobs=-7)]: Done 762 tasks      | elapsed:    1.8s\n",
      "[Parallel(n_jobs=-7)]: Done 1784 tasks      | elapsed:    4.9s\n",
      "[Parallel(n_jobs=-7)]: Done 1845 out of 1960 | elapsed:    5.0s remaining:    0.2s\n",
      "[Parallel(n_jobs=-7)]: Done 1960 out of 1960 | elapsed:    5.9s finished\n"
     ]
    },
    {
     "name": "stdout",
     "output_type": "stream",
     "text": [
      "Fitting 10 folds for each of 196 candidates, totalling 1960 fits\n"
     ]
    },
    {
     "name": "stderr",
     "output_type": "stream",
     "text": [
      "[Parallel(n_jobs=-7)]: Using backend LokyBackend with 58 concurrent workers.\n",
      "[Parallel(n_jobs=-7)]: Done  84 tasks      | elapsed:    0.2s\n",
      "[Parallel(n_jobs=-7)]: Done 760 tasks      | elapsed:    1.8s\n",
      "[Parallel(n_jobs=-7)]: Done 1784 tasks      | elapsed:    4.8s\n",
      "[Parallel(n_jobs=-7)]: Done 1845 out of 1960 | elapsed:    5.0s remaining:    0.2s\n",
      "[Parallel(n_jobs=-7)]: Done 1960 out of 1960 | elapsed:    5.8s finished\n",
      "[Parallel(n_jobs=-7)]: Using backend LokyBackend with 58 concurrent workers.\n"
     ]
    },
    {
     "name": "stdout",
     "output_type": "stream",
     "text": [
      "Fitting 10 folds for each of 196 candidates, totalling 1960 fits\n"
     ]
    },
    {
     "name": "stderr",
     "output_type": "stream",
     "text": [
      "[Parallel(n_jobs=-7)]: Done  84 tasks      | elapsed:    0.2s\n",
      "[Parallel(n_jobs=-7)]: Done 764 tasks      | elapsed:    1.8s\n",
      "[Parallel(n_jobs=-7)]: Done 1787 tasks      | elapsed:    4.8s\n",
      "[Parallel(n_jobs=-7)]: Done 1845 out of 1960 | elapsed:    4.9s remaining:    0.2s\n",
      "[Parallel(n_jobs=-7)]: Done 1960 out of 1960 | elapsed:    5.8s finished\n",
      "[Parallel(n_jobs=-7)]: Using backend LokyBackend with 58 concurrent workers.\n"
     ]
    },
    {
     "name": "stdout",
     "output_type": "stream",
     "text": [
      "Fitting 10 folds for each of 196 candidates, totalling 1960 fits\n"
     ]
    },
    {
     "name": "stderr",
     "output_type": "stream",
     "text": [
      "[Parallel(n_jobs=-7)]: Done  85 tasks      | elapsed:    0.2s\n",
      "[Parallel(n_jobs=-7)]: Done 764 tasks      | elapsed:    1.8s\n",
      "[Parallel(n_jobs=-7)]: Done 1784 tasks      | elapsed:    4.8s\n",
      "[Parallel(n_jobs=-7)]: Done 1845 out of 1960 | elapsed:    5.0s remaining:    0.2s\n",
      "[Parallel(n_jobs=-7)]: Done 1960 out of 1960 | elapsed:    5.9s finished\n",
      "[Parallel(n_jobs=-7)]: Using backend LokyBackend with 58 concurrent workers.\n"
     ]
    },
    {
     "name": "stdout",
     "output_type": "stream",
     "text": [
      "Fitting 10 folds for each of 196 candidates, totalling 1960 fits\n"
     ]
    },
    {
     "name": "stderr",
     "output_type": "stream",
     "text": [
      "[Parallel(n_jobs=-7)]: Done  84 tasks      | elapsed:    0.2s\n",
      "[Parallel(n_jobs=-7)]: Done 764 tasks      | elapsed:    1.8s\n",
      "[Parallel(n_jobs=-7)]: Done 1784 tasks      | elapsed:    4.8s\n",
      "[Parallel(n_jobs=-7)]: Done 1845 out of 1960 | elapsed:    5.0s remaining:    0.2s\n",
      "[Parallel(n_jobs=-7)]: Done 1960 out of 1960 | elapsed:    5.9s finished\n",
      "[Parallel(n_jobs=-7)]: Using backend LokyBackend with 58 concurrent workers.\n"
     ]
    },
    {
     "name": "stdout",
     "output_type": "stream",
     "text": [
      "Fitting 10 folds for each of 196 candidates, totalling 1960 fits\n"
     ]
    },
    {
     "name": "stderr",
     "output_type": "stream",
     "text": [
      "[Parallel(n_jobs=-7)]: Done  84 tasks      | elapsed:    0.2s\n",
      "[Parallel(n_jobs=-7)]: Done 760 tasks      | elapsed:    1.8s\n",
      "[Parallel(n_jobs=-7)]: Done 1784 tasks      | elapsed:    4.8s\n",
      "[Parallel(n_jobs=-7)]: Done 1845 out of 1960 | elapsed:    5.0s remaining:    0.2s\n",
      "[Parallel(n_jobs=-7)]: Done 1960 out of 1960 | elapsed:    5.9s finished\n",
      "[Parallel(n_jobs=-7)]: Using backend LokyBackend with 58 concurrent workers.\n"
     ]
    },
    {
     "name": "stdout",
     "output_type": "stream",
     "text": [
      "Fitting 10 folds for each of 196 candidates, totalling 1960 fits\n"
     ]
    },
    {
     "name": "stderr",
     "output_type": "stream",
     "text": [
      "[Parallel(n_jobs=-7)]: Done  84 tasks      | elapsed:    0.2s\n",
      "[Parallel(n_jobs=-7)]: Done 760 tasks      | elapsed:    1.8s\n",
      "[Parallel(n_jobs=-7)]: Done 1781 tasks      | elapsed:    4.9s\n",
      "[Parallel(n_jobs=-7)]: Done 1960 out of 1960 | elapsed:    5.9s finished\n",
      "[Parallel(n_jobs=-7)]: Using backend LokyBackend with 58 concurrent workers.\n"
     ]
    },
    {
     "name": "stdout",
     "output_type": "stream",
     "text": [
      "Fitting 10 folds for each of 196 candidates, totalling 1960 fits\n"
     ]
    },
    {
     "name": "stderr",
     "output_type": "stream",
     "text": [
      "[Parallel(n_jobs=-7)]: Done  84 tasks      | elapsed:    0.2s\n",
      "[Parallel(n_jobs=-7)]: Done 760 tasks      | elapsed:    1.8s\n",
      "[Parallel(n_jobs=-7)]: Done 1781 tasks      | elapsed:    4.8s\n",
      "[Parallel(n_jobs=-7)]: Done 1960 out of 1960 | elapsed:    5.9s finished\n",
      "[Parallel(n_jobs=-7)]: Using backend LokyBackend with 58 concurrent workers.\n"
     ]
    },
    {
     "name": "stdout",
     "output_type": "stream",
     "text": [
      "Fitting 10 folds for each of 196 candidates, totalling 1960 fits\n"
     ]
    },
    {
     "name": "stderr",
     "output_type": "stream",
     "text": [
      "[Parallel(n_jobs=-7)]: Done  84 tasks      | elapsed:    0.2s\n",
      "[Parallel(n_jobs=-7)]: Done 760 tasks      | elapsed:    1.8s\n",
      "[Parallel(n_jobs=-7)]: Done 1787 tasks      | elapsed:    5.0s\n",
      "[Parallel(n_jobs=-7)]: Done 1845 out of 1960 | elapsed:    5.1s remaining:    0.2s\n",
      "[Parallel(n_jobs=-7)]: Done 1960 out of 1960 | elapsed:    6.1s finished\n"
     ]
    },
    {
     "name": "stdout",
     "output_type": "stream",
     "text": [
      "Fitting 10 folds for each of 196 candidates, totalling 1960 fits\n"
     ]
    },
    {
     "name": "stderr",
     "output_type": "stream",
     "text": [
      "[Parallel(n_jobs=-7)]: Using backend LokyBackend with 58 concurrent workers.\n",
      "[Parallel(n_jobs=-7)]: Done  84 tasks      | elapsed:    0.2s\n",
      "[Parallel(n_jobs=-7)]: Done 762 tasks      | elapsed:    1.8s\n",
      "[Parallel(n_jobs=-7)]: Done 1784 tasks      | elapsed:    4.9s\n",
      "[Parallel(n_jobs=-7)]: Done 1845 out of 1960 | elapsed:    4.9s remaining:    0.2s\n",
      "[Parallel(n_jobs=-7)]: Done 1960 out of 1960 | elapsed:    5.9s finished\n"
     ]
    },
    {
     "name": "stdout",
     "output_type": "stream",
     "text": [
      "Fitting 10 folds for each of 196 candidates, totalling 1960 fits\n"
     ]
    },
    {
     "name": "stderr",
     "output_type": "stream",
     "text": [
      "[Parallel(n_jobs=-7)]: Using backend LokyBackend with 58 concurrent workers.\n",
      "[Parallel(n_jobs=-7)]: Done  84 tasks      | elapsed:    0.2s\n",
      "[Parallel(n_jobs=-7)]: Done 664 tasks      | elapsed:    1.6s\n",
      "[Parallel(n_jobs=-7)]: Done 1960 out of 1960 | elapsed:    6.2s finished\n",
      "[Parallel(n_jobs=-7)]: Using backend LokyBackend with 58 concurrent workers.\n"
     ]
    },
    {
     "name": "stdout",
     "output_type": "stream",
     "text": [
      "Fitting 10 folds for each of 196 candidates, totalling 1960 fits\n"
     ]
    },
    {
     "name": "stderr",
     "output_type": "stream",
     "text": [
      "[Parallel(n_jobs=-7)]: Done  84 tasks      | elapsed:    0.2s\n",
      "[Parallel(n_jobs=-7)]: Done 762 tasks      | elapsed:    1.7s\n",
      "[Parallel(n_jobs=-7)]: Done 1784 tasks      | elapsed:    4.8s\n",
      "[Parallel(n_jobs=-7)]: Done 1960 out of 1960 | elapsed:    5.9s finished\n",
      "[Parallel(n_jobs=-7)]: Using backend LokyBackend with 58 concurrent workers.\n"
     ]
    },
    {
     "name": "stdout",
     "output_type": "stream",
     "text": [
      "Fitting 10 folds for each of 196 candidates, totalling 1960 fits\n"
     ]
    },
    {
     "name": "stderr",
     "output_type": "stream",
     "text": [
      "[Parallel(n_jobs=-7)]: Done  84 tasks      | elapsed:    0.2s\n",
      "[Parallel(n_jobs=-7)]: Done 760 tasks      | elapsed:    1.8s\n",
      "[Parallel(n_jobs=-7)]: Done 1793 tasks      | elapsed:    4.8s\n",
      "[Parallel(n_jobs=-7)]: Done 1845 out of 1960 | elapsed:    5.0s remaining:    0.2s\n",
      "[Parallel(n_jobs=-7)]: Done 1960 out of 1960 | elapsed:    5.9s finished\n"
     ]
    },
    {
     "name": "stdout",
     "output_type": "stream",
     "text": [
      "Fitting 10 folds for each of 196 candidates, totalling 1960 fits\n"
     ]
    },
    {
     "name": "stderr",
     "output_type": "stream",
     "text": [
      "[Parallel(n_jobs=-7)]: Using backend LokyBackend with 58 concurrent workers.\n",
      "[Parallel(n_jobs=-7)]: Done  84 tasks      | elapsed:    0.2s\n",
      "[Parallel(n_jobs=-7)]: Done 764 tasks      | elapsed:    1.8s\n",
      "[Parallel(n_jobs=-7)]: Done 1784 tasks      | elapsed:    4.8s\n",
      "[Parallel(n_jobs=-7)]: Done 1845 out of 1960 | elapsed:    5.0s remaining:    0.2s\n",
      "[Parallel(n_jobs=-7)]: Done 1960 out of 1960 | elapsed:    6.0s finished\n",
      "[Parallel(n_jobs=-7)]: Using backend LokyBackend with 58 concurrent workers.\n"
     ]
    },
    {
     "name": "stdout",
     "output_type": "stream",
     "text": [
      "Fitting 10 folds for each of 196 candidates, totalling 1960 fits\n"
     ]
    },
    {
     "name": "stderr",
     "output_type": "stream",
     "text": [
      "[Parallel(n_jobs=-7)]: Done  84 tasks      | elapsed:    0.2s\n",
      "[Parallel(n_jobs=-7)]: Done 762 tasks      | elapsed:    1.8s\n",
      "[Parallel(n_jobs=-7)]: Done 1787 tasks      | elapsed:    4.9s\n",
      "[Parallel(n_jobs=-7)]: Done 1845 out of 1960 | elapsed:    5.0s remaining:    0.2s\n",
      "[Parallel(n_jobs=-7)]: Done 1960 out of 1960 | elapsed:    5.9s finished\n",
      "[Parallel(n_jobs=-7)]: Using backend LokyBackend with 58 concurrent workers.\n"
     ]
    },
    {
     "name": "stdout",
     "output_type": "stream",
     "text": [
      "Fitting 10 folds for each of 196 candidates, totalling 1960 fits\n"
     ]
    },
    {
     "name": "stderr",
     "output_type": "stream",
     "text": [
      "[Parallel(n_jobs=-7)]: Done  84 tasks      | elapsed:    0.2s\n",
      "[Parallel(n_jobs=-7)]: Done 762 tasks      | elapsed:    1.8s\n",
      "[Parallel(n_jobs=-7)]: Done 1781 tasks      | elapsed:    4.9s\n",
      "[Parallel(n_jobs=-7)]: Done 1845 out of 1960 | elapsed:    5.0s remaining:    0.2s\n",
      "[Parallel(n_jobs=-7)]: Done 1960 out of 1960 | elapsed:    5.9s finished\n",
      "[Parallel(n_jobs=-7)]: Using backend LokyBackend with 58 concurrent workers.\n"
     ]
    },
    {
     "name": "stdout",
     "output_type": "stream",
     "text": [
      "Fitting 10 folds for each of 196 candidates, totalling 1960 fits\n"
     ]
    },
    {
     "name": "stderr",
     "output_type": "stream",
     "text": [
      "[Parallel(n_jobs=-7)]: Done  84 tasks      | elapsed:    0.2s\n",
      "[Parallel(n_jobs=-7)]: Done 764 tasks      | elapsed:    1.8s\n",
      "[Parallel(n_jobs=-7)]: Done 1784 tasks      | elapsed:    4.9s\n",
      "[Parallel(n_jobs=-7)]: Done 1845 out of 1960 | elapsed:    5.0s remaining:    0.2s\n",
      "[Parallel(n_jobs=-7)]: Done 1960 out of 1960 | elapsed:    6.0s finished\n",
      "[Parallel(n_jobs=-7)]: Using backend LokyBackend with 58 concurrent workers.\n"
     ]
    },
    {
     "name": "stdout",
     "output_type": "stream",
     "text": [
      "Fitting 10 folds for each of 196 candidates, totalling 1960 fits\n"
     ]
    },
    {
     "name": "stderr",
     "output_type": "stream",
     "text": [
      "[Parallel(n_jobs=-7)]: Done  84 tasks      | elapsed:    0.2s\n",
      "[Parallel(n_jobs=-7)]: Done 762 tasks      | elapsed:    1.8s\n",
      "[Parallel(n_jobs=-7)]: Done 1790 tasks      | elapsed:    5.0s\n",
      "[Parallel(n_jobs=-7)]: Done 1960 out of 1960 | elapsed:    6.0s finished\n",
      "[Parallel(n_jobs=-7)]: Using backend LokyBackend with 58 concurrent workers.\n"
     ]
    },
    {
     "name": "stdout",
     "output_type": "stream",
     "text": [
      "Fitting 10 folds for each of 196 candidates, totalling 1960 fits\n"
     ]
    },
    {
     "name": "stderr",
     "output_type": "stream",
     "text": [
      "[Parallel(n_jobs=-7)]: Done  84 tasks      | elapsed:    0.2s\n",
      "[Parallel(n_jobs=-7)]: Done 760 tasks      | elapsed:    1.8s\n",
      "[Parallel(n_jobs=-7)]: Done 1784 tasks      | elapsed:    4.9s\n",
      "[Parallel(n_jobs=-7)]: Done 1845 out of 1960 | elapsed:    5.0s remaining:    0.2s\n",
      "[Parallel(n_jobs=-7)]: Done 1960 out of 1960 | elapsed:    6.0s finished\n",
      "[Parallel(n_jobs=-7)]: Using backend LokyBackend with 58 concurrent workers.\n"
     ]
    },
    {
     "name": "stdout",
     "output_type": "stream",
     "text": [
      "Fitting 10 folds for each of 196 candidates, totalling 1960 fits\n"
     ]
    },
    {
     "name": "stderr",
     "output_type": "stream",
     "text": [
      "[Parallel(n_jobs=-7)]: Done  84 tasks      | elapsed:    0.2s\n",
      "[Parallel(n_jobs=-7)]: Done 762 tasks      | elapsed:    1.8s\n",
      "[Parallel(n_jobs=-7)]: Done 1784 tasks      | elapsed:    4.9s\n",
      "[Parallel(n_jobs=-7)]: Done 1845 out of 1960 | elapsed:    5.0s remaining:    0.2s\n",
      "[Parallel(n_jobs=-7)]: Done 1960 out of 1960 | elapsed:    5.9s finished\n",
      "[Parallel(n_jobs=-7)]: Using backend LokyBackend with 58 concurrent workers.\n"
     ]
    },
    {
     "name": "stdout",
     "output_type": "stream",
     "text": [
      "Fitting 10 folds for each of 196 candidates, totalling 1960 fits\n"
     ]
    },
    {
     "name": "stderr",
     "output_type": "stream",
     "text": [
      "[Parallel(n_jobs=-7)]: Done  84 tasks      | elapsed:    0.2s\n",
      "[Parallel(n_jobs=-7)]: Done 762 tasks      | elapsed:    1.8s\n",
      "[Parallel(n_jobs=-7)]: Done 1781 tasks      | elapsed:    4.9s\n",
      "[Parallel(n_jobs=-7)]: Done 1845 out of 1960 | elapsed:    5.0s remaining:    0.2s\n",
      "[Parallel(n_jobs=-7)]: Done 1960 out of 1960 | elapsed:    6.0s finished\n",
      "[Parallel(n_jobs=-7)]: Using backend LokyBackend with 58 concurrent workers.\n"
     ]
    },
    {
     "name": "stdout",
     "output_type": "stream",
     "text": [
      "Fitting 10 folds for each of 196 candidates, totalling 1960 fits\n"
     ]
    },
    {
     "name": "stderr",
     "output_type": "stream",
     "text": [
      "[Parallel(n_jobs=-7)]: Done  84 tasks      | elapsed:    0.2s\n",
      "[Parallel(n_jobs=-7)]: Done 762 tasks      | elapsed:    1.8s\n",
      "[Parallel(n_jobs=-7)]: Done 1781 tasks      | elapsed:    4.9s\n",
      "[Parallel(n_jobs=-7)]: Done 1960 out of 1960 | elapsed:    6.0s finished\n",
      "[Parallel(n_jobs=-7)]: Using backend LokyBackend with 58 concurrent workers.\n"
     ]
    },
    {
     "name": "stdout",
     "output_type": "stream",
     "text": [
      "Fitting 10 folds for each of 196 candidates, totalling 1960 fits\n"
     ]
    },
    {
     "name": "stderr",
     "output_type": "stream",
     "text": [
      "[Parallel(n_jobs=-7)]: Done  84 tasks      | elapsed:    0.2s\n",
      "[Parallel(n_jobs=-7)]: Done 762 tasks      | elapsed:    1.8s\n",
      "[Parallel(n_jobs=-7)]: Done 1784 tasks      | elapsed:    4.9s\n",
      "[Parallel(n_jobs=-7)]: Done 1845 out of 1960 | elapsed:    5.0s remaining:    0.2s\n",
      "[Parallel(n_jobs=-7)]: Done 1960 out of 1960 | elapsed:    6.0s finished\n",
      "[Parallel(n_jobs=-7)]: Using backend LokyBackend with 58 concurrent workers.\n"
     ]
    },
    {
     "name": "stdout",
     "output_type": "stream",
     "text": [
      "Fitting 10 folds for each of 196 candidates, totalling 1960 fits\n"
     ]
    },
    {
     "name": "stderr",
     "output_type": "stream",
     "text": [
      "[Parallel(n_jobs=-7)]: Done  84 tasks      | elapsed:    0.2s\n",
      "[Parallel(n_jobs=-7)]: Done 762 tasks      | elapsed:    1.8s\n",
      "[Parallel(n_jobs=-7)]: Done 1790 tasks      | elapsed:    4.9s\n",
      "[Parallel(n_jobs=-7)]: Done 1845 out of 1960 | elapsed:    5.0s remaining:    0.2s\n",
      "[Parallel(n_jobs=-7)]: Done 1960 out of 1960 | elapsed:    5.9s finished\n"
     ]
    },
    {
     "name": "stdout",
     "output_type": "stream",
     "text": [
      "Fitting 10 folds for each of 196 candidates, totalling 1960 fits\n"
     ]
    },
    {
     "name": "stderr",
     "output_type": "stream",
     "text": [
      "[Parallel(n_jobs=-7)]: Using backend LokyBackend with 58 concurrent workers.\n",
      "[Parallel(n_jobs=-7)]: Done  84 tasks      | elapsed:    0.2s\n",
      "[Parallel(n_jobs=-7)]: Done 762 tasks      | elapsed:    1.8s\n",
      "[Parallel(n_jobs=-7)]: Done 1787 tasks      | elapsed:    4.9s\n",
      "[Parallel(n_jobs=-7)]: Done 1845 out of 1960 | elapsed:    5.0s remaining:    0.2s\n",
      "[Parallel(n_jobs=-7)]: Done 1960 out of 1960 | elapsed:    5.9s finished\n"
     ]
    },
    {
     "name": "stdout",
     "output_type": "stream",
     "text": [
      "Fitting 10 folds for each of 196 candidates, totalling 1960 fits\n"
     ]
    },
    {
     "name": "stderr",
     "output_type": "stream",
     "text": [
      "[Parallel(n_jobs=-7)]: Using backend LokyBackend with 58 concurrent workers.\n",
      "[Parallel(n_jobs=-7)]: Done  84 tasks      | elapsed:    0.2s\n",
      "[Parallel(n_jobs=-7)]: Done 758 tasks      | elapsed:    1.8s\n",
      "[Parallel(n_jobs=-7)]: Done 1790 tasks      | elapsed:    5.0s\n",
      "[Parallel(n_jobs=-7)]: Done 1845 out of 1960 | elapsed:    5.1s remaining:    0.2s\n",
      "[Parallel(n_jobs=-7)]: Done 1960 out of 1960 | elapsed:    6.0s finished\n",
      "[Parallel(n_jobs=-7)]: Using backend LokyBackend with 58 concurrent workers.\n"
     ]
    },
    {
     "name": "stdout",
     "output_type": "stream",
     "text": [
      "Fitting 10 folds for each of 196 candidates, totalling 1960 fits\n"
     ]
    },
    {
     "name": "stderr",
     "output_type": "stream",
     "text": [
      "[Parallel(n_jobs=-7)]: Done  84 tasks      | elapsed:    0.2s\n",
      "[Parallel(n_jobs=-7)]: Done 762 tasks      | elapsed:    1.8s\n",
      "[Parallel(n_jobs=-7)]: Done 1781 tasks      | elapsed:    4.9s\n",
      "[Parallel(n_jobs=-7)]: Done 1960 out of 1960 | elapsed:    6.0s finished\n",
      "[Parallel(n_jobs=-7)]: Using backend LokyBackend with 58 concurrent workers.\n"
     ]
    },
    {
     "name": "stdout",
     "output_type": "stream",
     "text": [
      "Fitting 10 folds for each of 196 candidates, totalling 1960 fits\n"
     ]
    },
    {
     "name": "stderr",
     "output_type": "stream",
     "text": [
      "[Parallel(n_jobs=-7)]: Done  84 tasks      | elapsed:    0.2s\n",
      "[Parallel(n_jobs=-7)]: Done 762 tasks      | elapsed:    1.8s\n",
      "[Parallel(n_jobs=-7)]: Done 1784 tasks      | elapsed:    5.1s\n",
      "[Parallel(n_jobs=-7)]: Done 1845 out of 1960 | elapsed:    5.2s remaining:    0.2s\n",
      "[Parallel(n_jobs=-7)]: Done 1960 out of 1960 | elapsed:    6.1s finished\n",
      "[Parallel(n_jobs=-7)]: Using backend LokyBackend with 58 concurrent workers.\n"
     ]
    },
    {
     "name": "stdout",
     "output_type": "stream",
     "text": [
      "Fitting 10 folds for each of 196 candidates, totalling 1960 fits\n"
     ]
    },
    {
     "name": "stderr",
     "output_type": "stream",
     "text": [
      "[Parallel(n_jobs=-7)]: Done  84 tasks      | elapsed:    0.2s\n",
      "[Parallel(n_jobs=-7)]: Done 762 tasks      | elapsed:    1.9s\n",
      "[Parallel(n_jobs=-7)]: Done 1778 tasks      | elapsed:    5.0s\n",
      "[Parallel(n_jobs=-7)]: Done 1845 out of 1960 | elapsed:    5.1s remaining:    0.2s\n",
      "[Parallel(n_jobs=-7)]: Done 1960 out of 1960 | elapsed:    6.1s finished\n",
      "[Parallel(n_jobs=-7)]: Using backend LokyBackend with 58 concurrent workers.\n"
     ]
    },
    {
     "name": "stdout",
     "output_type": "stream",
     "text": [
      "Fitting 10 folds for each of 196 candidates, totalling 1960 fits\n"
     ]
    },
    {
     "name": "stderr",
     "output_type": "stream",
     "text": [
      "[Parallel(n_jobs=-7)]: Done  84 tasks      | elapsed:    0.2s\n",
      "[Parallel(n_jobs=-7)]: Done 760 tasks      | elapsed:    1.8s\n",
      "[Parallel(n_jobs=-7)]: Done 1787 tasks      | elapsed:    4.9s\n",
      "[Parallel(n_jobs=-7)]: Done 1845 out of 1960 | elapsed:    5.1s remaining:    0.2s\n",
      "[Parallel(n_jobs=-7)]: Done 1960 out of 1960 | elapsed:    6.0s finished\n"
     ]
    },
    {
     "name": "stdout",
     "output_type": "stream",
     "text": [
      "Fitting 10 folds for each of 196 candidates, totalling 1960 fits\n"
     ]
    },
    {
     "name": "stderr",
     "output_type": "stream",
     "text": [
      "[Parallel(n_jobs=-7)]: Using backend LokyBackend with 58 concurrent workers.\n",
      "[Parallel(n_jobs=-7)]: Done  84 tasks      | elapsed:    0.3s\n",
      "[Parallel(n_jobs=-7)]: Done 764 tasks      | elapsed:    1.9s\n",
      "[Parallel(n_jobs=-7)]: Done 1790 tasks      | elapsed:    5.1s\n",
      "[Parallel(n_jobs=-7)]: Done 1845 out of 1960 | elapsed:    5.2s remaining:    0.2s\n",
      "[Parallel(n_jobs=-7)]: Done 1960 out of 1960 | elapsed:    6.1s finished\n",
      "[Parallel(n_jobs=-7)]: Using backend LokyBackend with 58 concurrent workers.\n"
     ]
    },
    {
     "name": "stdout",
     "output_type": "stream",
     "text": [
      "Fitting 10 folds for each of 196 candidates, totalling 1960 fits\n"
     ]
    },
    {
     "name": "stderr",
     "output_type": "stream",
     "text": [
      "[Parallel(n_jobs=-7)]: Done  84 tasks      | elapsed:    0.2s\n",
      "[Parallel(n_jobs=-7)]: Done 764 tasks      | elapsed:    1.8s\n",
      "[Parallel(n_jobs=-7)]: Done 1790 tasks      | elapsed:    5.0s\n",
      "[Parallel(n_jobs=-7)]: Done 1845 out of 1960 | elapsed:    5.1s remaining:    0.2s\n",
      "[Parallel(n_jobs=-7)]: Done 1960 out of 1960 | elapsed:    6.1s finished\n",
      "[Parallel(n_jobs=-7)]: Using backend LokyBackend with 58 concurrent workers.\n"
     ]
    },
    {
     "name": "stdout",
     "output_type": "stream",
     "text": [
      "Fitting 10 folds for each of 196 candidates, totalling 1960 fits\n"
     ]
    },
    {
     "name": "stderr",
     "output_type": "stream",
     "text": [
      "[Parallel(n_jobs=-7)]: Done  84 tasks      | elapsed:    0.2s\n",
      "[Parallel(n_jobs=-7)]: Done 764 tasks      | elapsed:    1.8s\n",
      "[Parallel(n_jobs=-7)]: Done 1787 tasks      | elapsed:    5.0s\n",
      "[Parallel(n_jobs=-7)]: Done 1845 out of 1960 | elapsed:    5.1s remaining:    0.2s\n",
      "[Parallel(n_jobs=-7)]: Done 1960 out of 1960 | elapsed:    6.1s finished\n"
     ]
    },
    {
     "name": "stdout",
     "output_type": "stream",
     "text": [
      "Fitting 10 folds for each of 196 candidates, totalling 1960 fits\n"
     ]
    },
    {
     "name": "stderr",
     "output_type": "stream",
     "text": [
      "[Parallel(n_jobs=-7)]: Using backend LokyBackend with 58 concurrent workers.\n",
      "[Parallel(n_jobs=-7)]: Done  84 tasks      | elapsed:    0.2s\n",
      "[Parallel(n_jobs=-7)]: Done 764 tasks      | elapsed:    1.8s\n",
      "[Parallel(n_jobs=-7)]: Done 1787 tasks      | elapsed:    5.0s\n",
      "[Parallel(n_jobs=-7)]: Done 1845 out of 1960 | elapsed:    5.1s remaining:    0.2s\n",
      "[Parallel(n_jobs=-7)]: Done 1960 out of 1960 | elapsed:    6.1s finished\n",
      "[Parallel(n_jobs=-7)]: Using backend LokyBackend with 58 concurrent workers.\n"
     ]
    },
    {
     "name": "stdout",
     "output_type": "stream",
     "text": [
      "Fitting 10 folds for each of 196 candidates, totalling 1960 fits\n"
     ]
    },
    {
     "name": "stderr",
     "output_type": "stream",
     "text": [
      "[Parallel(n_jobs=-7)]: Done  84 tasks      | elapsed:    0.2s\n",
      "[Parallel(n_jobs=-7)]: Done 760 tasks      | elapsed:    1.8s\n",
      "[Parallel(n_jobs=-7)]: Done 1787 tasks      | elapsed:    5.0s\n",
      "[Parallel(n_jobs=-7)]: Done 1960 out of 1960 | elapsed:    6.0s finished\n"
     ]
    },
    {
     "name": "stdout",
     "output_type": "stream",
     "text": [
      "Fitting 10 folds for each of 196 candidates, totalling 1960 fits\n"
     ]
    },
    {
     "name": "stderr",
     "output_type": "stream",
     "text": [
      "[Parallel(n_jobs=-7)]: Using backend LokyBackend with 58 concurrent workers.\n",
      "[Parallel(n_jobs=-7)]: Done  84 tasks      | elapsed:    0.2s\n",
      "[Parallel(n_jobs=-7)]: Done 762 tasks      | elapsed:    1.8s\n",
      "[Parallel(n_jobs=-7)]: Done 1784 tasks      | elapsed:    5.0s\n",
      "[Parallel(n_jobs=-7)]: Done 1845 out of 1960 | elapsed:    5.1s remaining:    0.2s\n",
      "[Parallel(n_jobs=-7)]: Done 1960 out of 1960 | elapsed:    6.1s finished\n"
     ]
    },
    {
     "name": "stdout",
     "output_type": "stream",
     "text": [
      "Fitting 10 folds for each of 196 candidates, totalling 1960 fits\n"
     ]
    },
    {
     "name": "stderr",
     "output_type": "stream",
     "text": [
      "[Parallel(n_jobs=-7)]: Using backend LokyBackend with 58 concurrent workers.\n",
      "[Parallel(n_jobs=-7)]: Done  84 tasks      | elapsed:    0.2s\n",
      "[Parallel(n_jobs=-7)]: Done 762 tasks      | elapsed:    1.8s\n",
      "[Parallel(n_jobs=-7)]: Done 1790 tasks      | elapsed:    5.0s\n",
      "[Parallel(n_jobs=-7)]: Done 1845 out of 1960 | elapsed:    5.2s remaining:    0.2s\n",
      "[Parallel(n_jobs=-7)]: Done 1960 out of 1960 | elapsed:    6.1s finished\n",
      "[Parallel(n_jobs=-7)]: Using backend LokyBackend with 58 concurrent workers.\n"
     ]
    },
    {
     "name": "stdout",
     "output_type": "stream",
     "text": [
      "Fitting 10 folds for each of 196 candidates, totalling 1960 fits\n"
     ]
    },
    {
     "name": "stderr",
     "output_type": "stream",
     "text": [
      "[Parallel(n_jobs=-7)]: Done  84 tasks      | elapsed:    0.2s\n",
      "[Parallel(n_jobs=-7)]: Done 762 tasks      | elapsed:    1.9s\n",
      "[Parallel(n_jobs=-7)]: Done 1781 tasks      | elapsed:    5.0s\n",
      "[Parallel(n_jobs=-7)]: Done 1845 out of 1960 | elapsed:    5.2s remaining:    0.2s\n",
      "[Parallel(n_jobs=-7)]: Done 1960 out of 1960 | elapsed:    6.1s finished\n",
      "[Parallel(n_jobs=-7)]: Using backend LokyBackend with 58 concurrent workers.\n"
     ]
    },
    {
     "name": "stdout",
     "output_type": "stream",
     "text": [
      "Fitting 10 folds for each of 196 candidates, totalling 1960 fits\n"
     ]
    },
    {
     "name": "stderr",
     "output_type": "stream",
     "text": [
      "[Parallel(n_jobs=-7)]: Done  84 tasks      | elapsed:    0.2s\n",
      "[Parallel(n_jobs=-7)]: Done 762 tasks      | elapsed:    1.8s\n",
      "[Parallel(n_jobs=-7)]: Done 1784 tasks      | elapsed:    5.0s\n",
      "[Parallel(n_jobs=-7)]: Done 1845 out of 1960 | elapsed:    5.1s remaining:    0.2s\n",
      "[Parallel(n_jobs=-7)]: Done 1960 out of 1960 | elapsed:    6.1s finished\n"
     ]
    },
    {
     "name": "stdout",
     "output_type": "stream",
     "text": [
      "Fitting 10 folds for each of 196 candidates, totalling 1960 fits\n"
     ]
    },
    {
     "name": "stderr",
     "output_type": "stream",
     "text": [
      "[Parallel(n_jobs=-7)]: Using backend LokyBackend with 58 concurrent workers.\n",
      "[Parallel(n_jobs=-7)]: Done  84 tasks      | elapsed:    0.2s\n",
      "[Parallel(n_jobs=-7)]: Done 762 tasks      | elapsed:    1.8s\n",
      "[Parallel(n_jobs=-7)]: Done 1787 tasks      | elapsed:    5.0s\n",
      "[Parallel(n_jobs=-7)]: Done 1845 out of 1960 | elapsed:    5.1s remaining:    0.2s\n",
      "[Parallel(n_jobs=-7)]: Done 1960 out of 1960 | elapsed:    6.1s finished\n"
     ]
    },
    {
     "name": "stdout",
     "output_type": "stream",
     "text": [
      "Fitting 10 folds for each of 196 candidates, totalling 1960 fits\n"
     ]
    },
    {
     "name": "stderr",
     "output_type": "stream",
     "text": [
      "[Parallel(n_jobs=-7)]: Using backend LokyBackend with 58 concurrent workers.\n",
      "[Parallel(n_jobs=-7)]: Done  84 tasks      | elapsed:    0.2s\n",
      "[Parallel(n_jobs=-7)]: Done 762 tasks      | elapsed:    1.8s\n",
      "[Parallel(n_jobs=-7)]: Done 1790 tasks      | elapsed:    5.0s\n",
      "[Parallel(n_jobs=-7)]: Done 1845 out of 1960 | elapsed:    5.1s remaining:    0.2s\n",
      "[Parallel(n_jobs=-7)]: Done 1960 out of 1960 | elapsed:    6.1s finished\n",
      "[Parallel(n_jobs=-7)]: Using backend LokyBackend with 58 concurrent workers.\n"
     ]
    },
    {
     "name": "stdout",
     "output_type": "stream",
     "text": [
      "Fitting 10 folds for each of 196 candidates, totalling 1960 fits\n"
     ]
    },
    {
     "name": "stderr",
     "output_type": "stream",
     "text": [
      "[Parallel(n_jobs=-7)]: Done  84 tasks      | elapsed:    0.2s\n",
      "[Parallel(n_jobs=-7)]: Done 760 tasks      | elapsed:    1.8s\n",
      "[Parallel(n_jobs=-7)]: Done 1790 tasks      | elapsed:    5.0s\n",
      "[Parallel(n_jobs=-7)]: Done 1845 out of 1960 | elapsed:    5.2s remaining:    0.2s\n",
      "[Parallel(n_jobs=-7)]: Done 1960 out of 1960 | elapsed:    6.1s finished\n",
      "[Parallel(n_jobs=-7)]: Using backend LokyBackend with 58 concurrent workers.\n"
     ]
    },
    {
     "name": "stdout",
     "output_type": "stream",
     "text": [
      "Fitting 10 folds for each of 196 candidates, totalling 1960 fits\n"
     ]
    },
    {
     "name": "stderr",
     "output_type": "stream",
     "text": [
      "[Parallel(n_jobs=-7)]: Done  84 tasks      | elapsed:    0.2s\n",
      "[Parallel(n_jobs=-7)]: Done 762 tasks      | elapsed:    1.8s\n",
      "[Parallel(n_jobs=-7)]: Done 1784 tasks      | elapsed:    5.0s\n",
      "[Parallel(n_jobs=-7)]: Done 1845 out of 1960 | elapsed:    5.1s remaining:    0.2s\n",
      "[Parallel(n_jobs=-7)]: Done 1960 out of 1960 | elapsed:    6.1s finished\n",
      "[Parallel(n_jobs=-7)]: Using backend LokyBackend with 58 concurrent workers.\n"
     ]
    },
    {
     "name": "stdout",
     "output_type": "stream",
     "text": [
      "Fitting 10 folds for each of 196 candidates, totalling 1960 fits\n"
     ]
    },
    {
     "name": "stderr",
     "output_type": "stream",
     "text": [
      "[Parallel(n_jobs=-7)]: Done  84 tasks      | elapsed:    0.2s\n",
      "[Parallel(n_jobs=-7)]: Done 762 tasks      | elapsed:    1.9s\n",
      "[Parallel(n_jobs=-7)]: Done 1778 tasks      | elapsed:    5.1s\n",
      "[Parallel(n_jobs=-7)]: Done 1845 out of 1960 | elapsed:    5.2s remaining:    0.2s\n",
      "[Parallel(n_jobs=-7)]: Done 1960 out of 1960 | elapsed:    6.1s finished\n"
     ]
    },
    {
     "name": "stdout",
     "output_type": "stream",
     "text": [
      "Fitting 10 folds for each of 196 candidates, totalling 1960 fits\n"
     ]
    },
    {
     "name": "stderr",
     "output_type": "stream",
     "text": [
      "[Parallel(n_jobs=-7)]: Using backend LokyBackend with 58 concurrent workers.\n",
      "[Parallel(n_jobs=-7)]: Done  84 tasks      | elapsed:    0.2s\n",
      "[Parallel(n_jobs=-7)]: Done 758 tasks      | elapsed:    1.8s\n",
      "[Parallel(n_jobs=-7)]: Done 1784 tasks      | elapsed:    5.0s\n",
      "[Parallel(n_jobs=-7)]: Done 1845 out of 1960 | elapsed:    5.1s remaining:    0.2s\n",
      "[Parallel(n_jobs=-7)]: Done 1960 out of 1960 | elapsed:    6.1s finished\n"
     ]
    },
    {
     "name": "stdout",
     "output_type": "stream",
     "text": [
      "Fitting 10 folds for each of 196 candidates, totalling 1960 fits\n"
     ]
    },
    {
     "name": "stderr",
     "output_type": "stream",
     "text": [
      "[Parallel(n_jobs=-7)]: Using backend LokyBackend with 58 concurrent workers.\n",
      "[Parallel(n_jobs=-7)]: Done  84 tasks      | elapsed:    0.2s\n",
      "[Parallel(n_jobs=-7)]: Done 764 tasks      | elapsed:    1.7s\n",
      "[Parallel(n_jobs=-7)]: Done 1787 tasks      | elapsed:    4.5s\n",
      "[Parallel(n_jobs=-7)]: Done 1960 out of 1960 | elapsed:    5.5s finished\n",
      "[Parallel(n_jobs=-7)]: Using backend LokyBackend with 58 concurrent workers.\n"
     ]
    },
    {
     "name": "stdout",
     "output_type": "stream",
     "text": [
      "Fitting 10 folds for each of 196 candidates, totalling 1960 fits\n"
     ]
    },
    {
     "name": "stderr",
     "output_type": "stream",
     "text": [
      "[Parallel(n_jobs=-7)]: Done  84 tasks      | elapsed:    0.3s\n",
      "[Parallel(n_jobs=-7)]: Done 762 tasks      | elapsed:    1.8s\n",
      "[Parallel(n_jobs=-7)]: Done 1784 tasks      | elapsed:    4.7s\n",
      "[Parallel(n_jobs=-7)]: Done 1845 out of 1960 | elapsed:    4.8s remaining:    0.2s\n",
      "[Parallel(n_jobs=-7)]: Done 1960 out of 1960 | elapsed:    5.6s finished\n"
     ]
    },
    {
     "name": "stdout",
     "output_type": "stream",
     "text": [
      "Fitting 10 folds for each of 196 candidates, totalling 1960 fits\n"
     ]
    },
    {
     "name": "stderr",
     "output_type": "stream",
     "text": [
      "[Parallel(n_jobs=-7)]: Using backend LokyBackend with 58 concurrent workers.\n",
      "[Parallel(n_jobs=-7)]: Done  84 tasks      | elapsed:    0.2s\n",
      "[Parallel(n_jobs=-7)]: Done 762 tasks      | elapsed:    1.7s\n",
      "[Parallel(n_jobs=-7)]: Done 1784 tasks      | elapsed:    4.6s\n",
      "[Parallel(n_jobs=-7)]: Done 1960 out of 1960 | elapsed:    5.5s finished\n",
      "[Parallel(n_jobs=-7)]: Using backend LokyBackend with 58 concurrent workers.\n"
     ]
    },
    {
     "name": "stdout",
     "output_type": "stream",
     "text": [
      "Fitting 10 folds for each of 196 candidates, totalling 1960 fits\n"
     ]
    },
    {
     "name": "stderr",
     "output_type": "stream",
     "text": [
      "[Parallel(n_jobs=-7)]: Done  84 tasks      | elapsed:    0.2s\n",
      "[Parallel(n_jobs=-7)]: Done 764 tasks      | elapsed:    1.7s\n",
      "[Parallel(n_jobs=-7)]: Done 1784 tasks      | elapsed:    4.5s\n",
      "[Parallel(n_jobs=-7)]: Done 1845 out of 1960 | elapsed:    4.6s remaining:    0.2s\n",
      "[Parallel(n_jobs=-7)]: Done 1960 out of 1960 | elapsed:    5.5s finished\n",
      "[Parallel(n_jobs=-7)]: Using backend LokyBackend with 58 concurrent workers.\n"
     ]
    },
    {
     "name": "stdout",
     "output_type": "stream",
     "text": [
      "Fitting 10 folds for each of 196 candidates, totalling 1960 fits\n"
     ]
    },
    {
     "name": "stderr",
     "output_type": "stream",
     "text": [
      "[Parallel(n_jobs=-7)]: Done  85 tasks      | elapsed:    0.2s\n",
      "[Parallel(n_jobs=-7)]: Done 764 tasks      | elapsed:    1.7s\n",
      "[Parallel(n_jobs=-7)]: Done 1784 tasks      | elapsed:    4.6s\n",
      "[Parallel(n_jobs=-7)]: Done 1845 out of 1960 | elapsed:    4.7s remaining:    0.2s\n",
      "[Parallel(n_jobs=-7)]: Done 1960 out of 1960 | elapsed:    5.6s finished\n",
      "[Parallel(n_jobs=-7)]: Using backend LokyBackend with 58 concurrent workers.\n"
     ]
    },
    {
     "name": "stdout",
     "output_type": "stream",
     "text": [
      "Fitting 10 folds for each of 196 candidates, totalling 1960 fits\n"
     ]
    },
    {
     "name": "stderr",
     "output_type": "stream",
     "text": [
      "[Parallel(n_jobs=-7)]: Done  84 tasks      | elapsed:    0.2s\n",
      "[Parallel(n_jobs=-7)]: Done 760 tasks      | elapsed:    1.7s\n",
      "[Parallel(n_jobs=-7)]: Done 1775 tasks      | elapsed:    4.5s\n",
      "[Parallel(n_jobs=-7)]: Done 1845 out of 1960 | elapsed:    4.6s remaining:    0.2s\n",
      "[Parallel(n_jobs=-7)]: Done 1960 out of 1960 | elapsed:    5.5s finished\n",
      "[Parallel(n_jobs=-7)]: Using backend LokyBackend with 58 concurrent workers.\n"
     ]
    },
    {
     "name": "stdout",
     "output_type": "stream",
     "text": [
      "Fitting 10 folds for each of 196 candidates, totalling 1960 fits\n"
     ]
    },
    {
     "name": "stderr",
     "output_type": "stream",
     "text": [
      "[Parallel(n_jobs=-7)]: Done  84 tasks      | elapsed:    0.2s\n",
      "[Parallel(n_jobs=-7)]: Done 762 tasks      | elapsed:    1.7s\n",
      "[Parallel(n_jobs=-7)]: Done 1784 tasks      | elapsed:    4.5s\n",
      "[Parallel(n_jobs=-7)]: Done 1960 out of 1960 | elapsed:    5.5s finished\n",
      "[Parallel(n_jobs=-7)]: Using backend LokyBackend with 58 concurrent workers.\n"
     ]
    },
    {
     "name": "stdout",
     "output_type": "stream",
     "text": [
      "Fitting 10 folds for each of 196 candidates, totalling 1960 fits\n"
     ]
    },
    {
     "name": "stderr",
     "output_type": "stream",
     "text": [
      "[Parallel(n_jobs=-7)]: Done  84 tasks      | elapsed:    0.2s\n",
      "[Parallel(n_jobs=-7)]: Done 760 tasks      | elapsed:    1.7s\n",
      "[Parallel(n_jobs=-7)]: Done 1781 tasks      | elapsed:    4.6s\n",
      "[Parallel(n_jobs=-7)]: Done 1845 out of 1960 | elapsed:    4.7s remaining:    0.2s\n",
      "[Parallel(n_jobs=-7)]: Done 1960 out of 1960 | elapsed:    5.5s finished\n",
      "[Parallel(n_jobs=-7)]: Using backend LokyBackend with 58 concurrent workers.\n"
     ]
    },
    {
     "name": "stdout",
     "output_type": "stream",
     "text": [
      "Fitting 10 folds for each of 196 candidates, totalling 1960 fits\n"
     ]
    },
    {
     "name": "stderr",
     "output_type": "stream",
     "text": [
      "[Parallel(n_jobs=-7)]: Done  84 tasks      | elapsed:    0.2s\n",
      "[Parallel(n_jobs=-7)]: Done 762 tasks      | elapsed:    1.7s\n",
      "[Parallel(n_jobs=-7)]: Done 1787 tasks      | elapsed:    4.5s\n",
      "[Parallel(n_jobs=-7)]: Done 1845 out of 1960 | elapsed:    4.6s remaining:    0.2s\n",
      "[Parallel(n_jobs=-7)]: Done 1960 out of 1960 | elapsed:    5.5s finished\n",
      "[Parallel(n_jobs=-7)]: Using backend LokyBackend with 58 concurrent workers.\n"
     ]
    },
    {
     "name": "stdout",
     "output_type": "stream",
     "text": [
      "Fitting 10 folds for each of 196 candidates, totalling 1960 fits\n"
     ]
    },
    {
     "name": "stderr",
     "output_type": "stream",
     "text": [
      "[Parallel(n_jobs=-7)]: Done  84 tasks      | elapsed:    0.2s\n",
      "[Parallel(n_jobs=-7)]: Done 764 tasks      | elapsed:    1.7s\n",
      "[Parallel(n_jobs=-7)]: Done 1781 tasks      | elapsed:    4.6s\n",
      "[Parallel(n_jobs=-7)]: Done 1845 out of 1960 | elapsed:    4.7s remaining:    0.2s\n",
      "[Parallel(n_jobs=-7)]: Done 1960 out of 1960 | elapsed:    5.4s finished\n",
      "[Parallel(n_jobs=-7)]: Using backend LokyBackend with 58 concurrent workers.\n"
     ]
    },
    {
     "name": "stdout",
     "output_type": "stream",
     "text": [
      "Fitting 10 folds for each of 196 candidates, totalling 1960 fits\n"
     ]
    },
    {
     "name": "stderr",
     "output_type": "stream",
     "text": [
      "[Parallel(n_jobs=-7)]: Done  84 tasks      | elapsed:    0.2s\n",
      "[Parallel(n_jobs=-7)]: Done 762 tasks      | elapsed:    1.7s\n",
      "[Parallel(n_jobs=-7)]: Done 1781 tasks      | elapsed:    4.5s\n",
      "[Parallel(n_jobs=-7)]: Done 1845 out of 1960 | elapsed:    4.6s remaining:    0.2s\n",
      "[Parallel(n_jobs=-7)]: Done 1960 out of 1960 | elapsed:    5.5s finished\n"
     ]
    },
    {
     "name": "stdout",
     "output_type": "stream",
     "text": [
      "Fitting 10 folds for each of 196 candidates, totalling 1960 fits\n"
     ]
    },
    {
     "name": "stderr",
     "output_type": "stream",
     "text": [
      "[Parallel(n_jobs=-7)]: Using backend LokyBackend with 58 concurrent workers.\n",
      "[Parallel(n_jobs=-7)]: Done  84 tasks      | elapsed:    0.2s\n",
      "[Parallel(n_jobs=-7)]: Done 760 tasks      | elapsed:    1.7s\n",
      "[Parallel(n_jobs=-7)]: Done 1790 tasks      | elapsed:    4.6s\n",
      "[Parallel(n_jobs=-7)]: Done 1845 out of 1960 | elapsed:    4.7s remaining:    0.2s\n",
      "[Parallel(n_jobs=-7)]: Done 1960 out of 1960 | elapsed:    5.6s finished\n"
     ]
    },
    {
     "name": "stdout",
     "output_type": "stream",
     "text": [
      "Fitting 10 folds for each of 196 candidates, totalling 1960 fits\n"
     ]
    },
    {
     "name": "stderr",
     "output_type": "stream",
     "text": [
      "[Parallel(n_jobs=-7)]: Using backend LokyBackend with 58 concurrent workers.\n",
      "[Parallel(n_jobs=-7)]: Done  84 tasks      | elapsed:    0.2s\n",
      "[Parallel(n_jobs=-7)]: Done 762 tasks      | elapsed:    1.7s\n",
      "[Parallel(n_jobs=-7)]: Done 1784 tasks      | elapsed:    4.6s\n",
      "[Parallel(n_jobs=-7)]: Done 1845 out of 1960 | elapsed:    4.7s remaining:    0.2s\n",
      "[Parallel(n_jobs=-7)]: Done 1960 out of 1960 | elapsed:    5.5s finished\n"
     ]
    },
    {
     "name": "stdout",
     "output_type": "stream",
     "text": [
      "Fitting 10 folds for each of 196 candidates, totalling 1960 fits\n"
     ]
    },
    {
     "name": "stderr",
     "output_type": "stream",
     "text": [
      "[Parallel(n_jobs=-7)]: Using backend LokyBackend with 58 concurrent workers.\n",
      "[Parallel(n_jobs=-7)]: Done  84 tasks      | elapsed:    0.2s\n",
      "[Parallel(n_jobs=-7)]: Done 760 tasks      | elapsed:    1.7s\n",
      "[Parallel(n_jobs=-7)]: Done 1787 tasks      | elapsed:    4.6s\n",
      "[Parallel(n_jobs=-7)]: Done 1845 out of 1960 | elapsed:    4.7s remaining:    0.2s\n",
      "[Parallel(n_jobs=-7)]: Done 1960 out of 1960 | elapsed:    5.6s finished\n"
     ]
    },
    {
     "name": "stdout",
     "output_type": "stream",
     "text": [
      "Fitting 10 folds for each of 196 candidates, totalling 1960 fits\n"
     ]
    },
    {
     "name": "stderr",
     "output_type": "stream",
     "text": [
      "[Parallel(n_jobs=-7)]: Using backend LokyBackend with 58 concurrent workers.\n",
      "[Parallel(n_jobs=-7)]: Done  84 tasks      | elapsed:    0.2s\n",
      "[Parallel(n_jobs=-7)]: Done 764 tasks      | elapsed:    1.7s\n",
      "[Parallel(n_jobs=-7)]: Done 1796 tasks      | elapsed:    4.6s\n",
      "[Parallel(n_jobs=-7)]: Done 1845 out of 1960 | elapsed:    4.7s remaining:    0.2s\n",
      "[Parallel(n_jobs=-7)]: Done 1960 out of 1960 | elapsed:    5.5s finished\n",
      "[Parallel(n_jobs=-7)]: Using backend LokyBackend with 58 concurrent workers.\n"
     ]
    },
    {
     "name": "stdout",
     "output_type": "stream",
     "text": [
      "Fitting 10 folds for each of 196 candidates, totalling 1960 fits\n"
     ]
    },
    {
     "name": "stderr",
     "output_type": "stream",
     "text": [
      "[Parallel(n_jobs=-7)]: Done  84 tasks      | elapsed:    0.2s\n",
      "[Parallel(n_jobs=-7)]: Done 762 tasks      | elapsed:    1.7s\n",
      "[Parallel(n_jobs=-7)]: Done 1787 tasks      | elapsed:    4.6s\n",
      "[Parallel(n_jobs=-7)]: Done 1845 out of 1960 | elapsed:    4.7s remaining:    0.2s\n",
      "[Parallel(n_jobs=-7)]: Done 1960 out of 1960 | elapsed:    5.5s finished\n",
      "[Parallel(n_jobs=-7)]: Using backend LokyBackend with 58 concurrent workers.\n"
     ]
    },
    {
     "name": "stdout",
     "output_type": "stream",
     "text": [
      "Fitting 10 folds for each of 196 candidates, totalling 1960 fits\n"
     ]
    },
    {
     "name": "stderr",
     "output_type": "stream",
     "text": [
      "[Parallel(n_jobs=-7)]: Done  84 tasks      | elapsed:    0.2s\n",
      "[Parallel(n_jobs=-7)]: Done 762 tasks      | elapsed:    1.7s\n",
      "[Parallel(n_jobs=-7)]: Done 1784 tasks      | elapsed:    4.6s\n",
      "[Parallel(n_jobs=-7)]: Done 1845 out of 1960 | elapsed:    4.7s remaining:    0.2s\n",
      "[Parallel(n_jobs=-7)]: Done 1960 out of 1960 | elapsed:    5.6s finished\n",
      "[Parallel(n_jobs=-7)]: Using backend LokyBackend with 58 concurrent workers.\n"
     ]
    },
    {
     "name": "stdout",
     "output_type": "stream",
     "text": [
      "Fitting 10 folds for each of 196 candidates, totalling 1960 fits\n"
     ]
    },
    {
     "name": "stderr",
     "output_type": "stream",
     "text": [
      "[Parallel(n_jobs=-7)]: Done  84 tasks      | elapsed:    0.2s\n",
      "[Parallel(n_jobs=-7)]: Done 758 tasks      | elapsed:    1.7s\n",
      "[Parallel(n_jobs=-7)]: Done 1784 tasks      | elapsed:    4.6s\n",
      "[Parallel(n_jobs=-7)]: Done 1960 out of 1960 | elapsed:    5.6s finished\n",
      "[Parallel(n_jobs=-7)]: Using backend LokyBackend with 58 concurrent workers.\n"
     ]
    },
    {
     "name": "stdout",
     "output_type": "stream",
     "text": [
      "Fitting 10 folds for each of 196 candidates, totalling 1960 fits\n"
     ]
    },
    {
     "name": "stderr",
     "output_type": "stream",
     "text": [
      "[Parallel(n_jobs=-7)]: Done  84 tasks      | elapsed:    0.2s\n",
      "[Parallel(n_jobs=-7)]: Done 760 tasks      | elapsed:    1.7s\n",
      "[Parallel(n_jobs=-7)]: Done 1787 tasks      | elapsed:    4.6s\n",
      "[Parallel(n_jobs=-7)]: Done 1960 out of 1960 | elapsed:    5.6s finished\n"
     ]
    },
    {
     "name": "stdout",
     "output_type": "stream",
     "text": [
      "Fitting 10 folds for each of 196 candidates, totalling 1960 fits\n"
     ]
    },
    {
     "name": "stderr",
     "output_type": "stream",
     "text": [
      "[Parallel(n_jobs=-7)]: Using backend LokyBackend with 58 concurrent workers.\n",
      "[Parallel(n_jobs=-7)]: Done  84 tasks      | elapsed:    0.3s\n",
      "[Parallel(n_jobs=-7)]: Done 662 tasks      | elapsed:    1.5s\n",
      "[Parallel(n_jobs=-7)]: Done 1960 out of 1960 | elapsed:    5.8s finished\n"
     ]
    },
    {
     "name": "stdout",
     "output_type": "stream",
     "text": [
      "Fitting 10 folds for each of 196 candidates, totalling 1960 fits\n"
     ]
    },
    {
     "name": "stderr",
     "output_type": "stream",
     "text": [
      "[Parallel(n_jobs=-7)]: Using backend LokyBackend with 58 concurrent workers.\n",
      "[Parallel(n_jobs=-7)]: Done  84 tasks      | elapsed:    0.2s\n",
      "[Parallel(n_jobs=-7)]: Done 762 tasks      | elapsed:    1.7s\n",
      "[Parallel(n_jobs=-7)]: Done 1787 tasks      | elapsed:    4.6s\n",
      "[Parallel(n_jobs=-7)]: Done 1845 out of 1960 | elapsed:    4.7s remaining:    0.2s\n",
      "[Parallel(n_jobs=-7)]: Done 1960 out of 1960 | elapsed:    5.5s finished\n",
      "[Parallel(n_jobs=-7)]: Using backend LokyBackend with 58 concurrent workers.\n"
     ]
    },
    {
     "name": "stdout",
     "output_type": "stream",
     "text": [
      "Fitting 10 folds for each of 196 candidates, totalling 1960 fits\n"
     ]
    },
    {
     "name": "stderr",
     "output_type": "stream",
     "text": [
      "[Parallel(n_jobs=-7)]: Done  85 tasks      | elapsed:    0.2s\n",
      "[Parallel(n_jobs=-7)]: Done 764 tasks      | elapsed:    1.7s\n",
      "[Parallel(n_jobs=-7)]: Done 1793 tasks      | elapsed:    4.7s\n",
      "[Parallel(n_jobs=-7)]: Done 1845 out of 1960 | elapsed:    4.8s remaining:    0.2s\n",
      "[Parallel(n_jobs=-7)]: Done 1960 out of 1960 | elapsed:    5.7s finished\n"
     ]
    },
    {
     "name": "stdout",
     "output_type": "stream",
     "text": [
      "Fitting 10 folds for each of 196 candidates, totalling 1960 fits\n"
     ]
    },
    {
     "name": "stderr",
     "output_type": "stream",
     "text": [
      "[Parallel(n_jobs=-7)]: Using backend LokyBackend with 58 concurrent workers.\n",
      "[Parallel(n_jobs=-7)]: Done  84 tasks      | elapsed:    0.2s\n",
      "[Parallel(n_jobs=-7)]: Done 762 tasks      | elapsed:    1.7s\n",
      "[Parallel(n_jobs=-7)]: Done 1781 tasks      | elapsed:    4.6s\n",
      "[Parallel(n_jobs=-7)]: Done 1960 out of 1960 | elapsed:    5.6s finished\n",
      "[Parallel(n_jobs=-7)]: Using backend LokyBackend with 58 concurrent workers.\n"
     ]
    },
    {
     "name": "stdout",
     "output_type": "stream",
     "text": [
      "Fitting 10 folds for each of 196 candidates, totalling 1960 fits\n"
     ]
    },
    {
     "name": "stderr",
     "output_type": "stream",
     "text": [
      "[Parallel(n_jobs=-7)]: Done  84 tasks      | elapsed:    0.2s\n",
      "[Parallel(n_jobs=-7)]: Done 762 tasks      | elapsed:    1.7s\n",
      "[Parallel(n_jobs=-7)]: Done 1790 tasks      | elapsed:    4.6s\n",
      "[Parallel(n_jobs=-7)]: Done 1845 out of 1960 | elapsed:    4.7s remaining:    0.2s\n",
      "[Parallel(n_jobs=-7)]: Done 1960 out of 1960 | elapsed:    5.5s finished\n"
     ]
    },
    {
     "name": "stdout",
     "output_type": "stream",
     "text": [
      "Fitting 10 folds for each of 196 candidates, totalling 1960 fits\n"
     ]
    },
    {
     "name": "stderr",
     "output_type": "stream",
     "text": [
      "[Parallel(n_jobs=-7)]: Using backend LokyBackend with 58 concurrent workers.\n",
      "[Parallel(n_jobs=-7)]: Done  84 tasks      | elapsed:    0.2s\n",
      "[Parallel(n_jobs=-7)]: Done 764 tasks      | elapsed:    1.7s\n",
      "[Parallel(n_jobs=-7)]: Done 1790 tasks      | elapsed:    4.6s\n",
      "[Parallel(n_jobs=-7)]: Done 1845 out of 1960 | elapsed:    4.7s remaining:    0.2s\n",
      "[Parallel(n_jobs=-7)]: Done 1960 out of 1960 | elapsed:    5.7s finished\n"
     ]
    },
    {
     "name": "stdout",
     "output_type": "stream",
     "text": [
      "Fitting 10 folds for each of 196 candidates, totalling 1960 fits\n"
     ]
    },
    {
     "name": "stderr",
     "output_type": "stream",
     "text": [
      "[Parallel(n_jobs=-7)]: Using backend LokyBackend with 58 concurrent workers.\n",
      "[Parallel(n_jobs=-7)]: Done  84 tasks      | elapsed:    0.2s\n",
      "[Parallel(n_jobs=-7)]: Done 760 tasks      | elapsed:    1.7s\n",
      "[Parallel(n_jobs=-7)]: Done 1781 tasks      | elapsed:    4.6s\n",
      "[Parallel(n_jobs=-7)]: Done 1845 out of 1960 | elapsed:    4.8s remaining:    0.2s\n",
      "[Parallel(n_jobs=-7)]: Done 1960 out of 1960 | elapsed:    5.7s finished\n",
      "[Parallel(n_jobs=-7)]: Using backend LokyBackend with 58 concurrent workers.\n"
     ]
    },
    {
     "name": "stdout",
     "output_type": "stream",
     "text": [
      "Fitting 10 folds for each of 196 candidates, totalling 1960 fits\n"
     ]
    },
    {
     "name": "stderr",
     "output_type": "stream",
     "text": [
      "[Parallel(n_jobs=-7)]: Done  84 tasks      | elapsed:    0.2s\n",
      "[Parallel(n_jobs=-7)]: Done 762 tasks      | elapsed:    1.7s\n",
      "[Parallel(n_jobs=-7)]: Done 1784 tasks      | elapsed:    4.6s\n",
      "[Parallel(n_jobs=-7)]: Done 1845 out of 1960 | elapsed:    4.7s remaining:    0.2s\n",
      "[Parallel(n_jobs=-7)]: Done 1960 out of 1960 | elapsed:    5.6s finished\n",
      "[Parallel(n_jobs=-7)]: Using backend LokyBackend with 58 concurrent workers.\n"
     ]
    },
    {
     "name": "stdout",
     "output_type": "stream",
     "text": [
      "Fitting 10 folds for each of 196 candidates, totalling 1960 fits\n"
     ]
    },
    {
     "name": "stderr",
     "output_type": "stream",
     "text": [
      "[Parallel(n_jobs=-7)]: Done  84 tasks      | elapsed:    0.2s\n",
      "[Parallel(n_jobs=-7)]: Done 762 tasks      | elapsed:    1.7s\n",
      "[Parallel(n_jobs=-7)]: Done 1784 tasks      | elapsed:    4.7s\n",
      "[Parallel(n_jobs=-7)]: Done 1845 out of 1960 | elapsed:    4.8s remaining:    0.2s\n",
      "[Parallel(n_jobs=-7)]: Done 1960 out of 1960 | elapsed:    5.7s finished\n",
      "[Parallel(n_jobs=-7)]: Using backend LokyBackend with 58 concurrent workers.\n"
     ]
    },
    {
     "name": "stdout",
     "output_type": "stream",
     "text": [
      "Fitting 10 folds for each of 196 candidates, totalling 1960 fits\n"
     ]
    },
    {
     "name": "stderr",
     "output_type": "stream",
     "text": [
      "[Parallel(n_jobs=-7)]: Done  84 tasks      | elapsed:    0.2s\n",
      "[Parallel(n_jobs=-7)]: Done 764 tasks      | elapsed:    1.7s\n",
      "[Parallel(n_jobs=-7)]: Done 1787 tasks      | elapsed:    4.6s\n",
      "[Parallel(n_jobs=-7)]: Done 1845 out of 1960 | elapsed:    4.8s remaining:    0.2s\n",
      "[Parallel(n_jobs=-7)]: Done 1960 out of 1960 | elapsed:    5.7s finished\n"
     ]
    },
    {
     "name": "stdout",
     "output_type": "stream",
     "text": [
      "Fitting 10 folds for each of 196 candidates, totalling 1960 fits\n"
     ]
    },
    {
     "name": "stderr",
     "output_type": "stream",
     "text": [
      "[Parallel(n_jobs=-7)]: Using backend LokyBackend with 58 concurrent workers.\n",
      "[Parallel(n_jobs=-7)]: Done  84 tasks      | elapsed:    0.2s\n",
      "[Parallel(n_jobs=-7)]: Done 762 tasks      | elapsed:    1.7s\n",
      "[Parallel(n_jobs=-7)]: Done 1784 tasks      | elapsed:    4.7s\n",
      "[Parallel(n_jobs=-7)]: Done 1845 out of 1960 | elapsed:    4.8s remaining:    0.2s\n",
      "[Parallel(n_jobs=-7)]: Done 1960 out of 1960 | elapsed:    5.7s finished\n",
      "[Parallel(n_jobs=-7)]: Using backend LokyBackend with 58 concurrent workers.\n"
     ]
    },
    {
     "name": "stdout",
     "output_type": "stream",
     "text": [
      "Fitting 10 folds for each of 196 candidates, totalling 1960 fits\n"
     ]
    },
    {
     "name": "stderr",
     "output_type": "stream",
     "text": [
      "[Parallel(n_jobs=-7)]: Done  84 tasks      | elapsed:    0.2s\n",
      "[Parallel(n_jobs=-7)]: Done 762 tasks      | elapsed:    1.7s\n",
      "[Parallel(n_jobs=-7)]: Done 1793 tasks      | elapsed:    4.7s\n",
      "[Parallel(n_jobs=-7)]: Done 1845 out of 1960 | elapsed:    4.7s remaining:    0.2s\n",
      "[Parallel(n_jobs=-7)]: Done 1960 out of 1960 | elapsed:    5.6s finished\n",
      "[Parallel(n_jobs=-7)]: Using backend LokyBackend with 58 concurrent workers.\n"
     ]
    },
    {
     "name": "stdout",
     "output_type": "stream",
     "text": [
      "Fitting 10 folds for each of 196 candidates, totalling 1960 fits\n"
     ]
    },
    {
     "name": "stderr",
     "output_type": "stream",
     "text": [
      "[Parallel(n_jobs=-7)]: Done  84 tasks      | elapsed:    0.2s\n",
      "[Parallel(n_jobs=-7)]: Done 764 tasks      | elapsed:    1.8s\n",
      "[Parallel(n_jobs=-7)]: Done 1784 tasks      | elapsed:    4.7s\n",
      "[Parallel(n_jobs=-7)]: Done 1845 out of 1960 | elapsed:    4.9s remaining:    0.2s\n",
      "[Parallel(n_jobs=-7)]: Done 1960 out of 1960 | elapsed:    5.7s finished\n",
      "[Parallel(n_jobs=-7)]: Using backend LokyBackend with 58 concurrent workers.\n"
     ]
    },
    {
     "name": "stdout",
     "output_type": "stream",
     "text": [
      "Fitting 10 folds for each of 196 candidates, totalling 1960 fits\n"
     ]
    },
    {
     "name": "stderr",
     "output_type": "stream",
     "text": [
      "[Parallel(n_jobs=-7)]: Done  84 tasks      | elapsed:    0.2s\n",
      "[Parallel(n_jobs=-7)]: Done 762 tasks      | elapsed:    1.8s\n",
      "[Parallel(n_jobs=-7)]: Done 1784 tasks      | elapsed:    4.7s\n",
      "[Parallel(n_jobs=-7)]: Done 1845 out of 1960 | elapsed:    4.9s remaining:    0.2s\n",
      "[Parallel(n_jobs=-7)]: Done 1960 out of 1960 | elapsed:    5.7s finished\n",
      "[Parallel(n_jobs=-7)]: Using backend LokyBackend with 58 concurrent workers.\n"
     ]
    },
    {
     "name": "stdout",
     "output_type": "stream",
     "text": [
      "Fitting 10 folds for each of 196 candidates, totalling 1960 fits\n"
     ]
    },
    {
     "name": "stderr",
     "output_type": "stream",
     "text": [
      "[Parallel(n_jobs=-7)]: Done  84 tasks      | elapsed:    0.2s\n",
      "[Parallel(n_jobs=-7)]: Done 758 tasks      | elapsed:    1.7s\n",
      "[Parallel(n_jobs=-7)]: Done 1784 tasks      | elapsed:    4.7s\n",
      "[Parallel(n_jobs=-7)]: Done 1845 out of 1960 | elapsed:    4.8s remaining:    0.2s\n",
      "[Parallel(n_jobs=-7)]: Done 1960 out of 1960 | elapsed:    5.7s finished\n",
      "[Parallel(n_jobs=-7)]: Using backend LokyBackend with 58 concurrent workers.\n"
     ]
    },
    {
     "name": "stdout",
     "output_type": "stream",
     "text": [
      "Fitting 10 folds for each of 196 candidates, totalling 1960 fits\n"
     ]
    },
    {
     "name": "stderr",
     "output_type": "stream",
     "text": [
      "[Parallel(n_jobs=-7)]: Done  84 tasks      | elapsed:    0.2s\n",
      "[Parallel(n_jobs=-7)]: Done 764 tasks      | elapsed:    1.7s\n",
      "[Parallel(n_jobs=-7)]: Done 1787 tasks      | elapsed:    4.7s\n",
      "[Parallel(n_jobs=-7)]: Done 1960 out of 1960 | elapsed:    5.7s finished\n",
      "[Parallel(n_jobs=-7)]: Using backend LokyBackend with 58 concurrent workers.\n"
     ]
    },
    {
     "name": "stdout",
     "output_type": "stream",
     "text": [
      "Fitting 10 folds for each of 196 candidates, totalling 1960 fits\n"
     ]
    },
    {
     "name": "stderr",
     "output_type": "stream",
     "text": [
      "[Parallel(n_jobs=-7)]: Done  84 tasks      | elapsed:    0.2s\n",
      "[Parallel(n_jobs=-7)]: Done 760 tasks      | elapsed:    1.7s\n",
      "[Parallel(n_jobs=-7)]: Done 1784 tasks      | elapsed:    4.7s\n",
      "[Parallel(n_jobs=-7)]: Done 1845 out of 1960 | elapsed:    4.8s remaining:    0.2s\n",
      "[Parallel(n_jobs=-7)]: Done 1960 out of 1960 | elapsed:    5.7s finished\n"
     ]
    },
    {
     "name": "stdout",
     "output_type": "stream",
     "text": [
      "Fitting 10 folds for each of 196 candidates, totalling 1960 fits\n"
     ]
    },
    {
     "name": "stderr",
     "output_type": "stream",
     "text": [
      "[Parallel(n_jobs=-7)]: Using backend LokyBackend with 58 concurrent workers.\n",
      "[Parallel(n_jobs=-7)]: Done  84 tasks      | elapsed:    0.2s\n",
      "[Parallel(n_jobs=-7)]: Done 762 tasks      | elapsed:    1.7s\n",
      "[Parallel(n_jobs=-7)]: Done 1787 tasks      | elapsed:    4.7s\n",
      "[Parallel(n_jobs=-7)]: Done 1845 out of 1960 | elapsed:    4.8s remaining:    0.2s\n",
      "[Parallel(n_jobs=-7)]: Done 1960 out of 1960 | elapsed:    5.6s finished\n",
      "[Parallel(n_jobs=-7)]: Using backend LokyBackend with 58 concurrent workers.\n"
     ]
    },
    {
     "name": "stdout",
     "output_type": "stream",
     "text": [
      "Fitting 10 folds for each of 196 candidates, totalling 1960 fits\n"
     ]
    },
    {
     "name": "stderr",
     "output_type": "stream",
     "text": [
      "[Parallel(n_jobs=-7)]: Done  84 tasks      | elapsed:    0.2s\n",
      "[Parallel(n_jobs=-7)]: Done 762 tasks      | elapsed:    1.8s\n",
      "[Parallel(n_jobs=-7)]: Done 1787 tasks      | elapsed:    4.7s\n",
      "[Parallel(n_jobs=-7)]: Done 1845 out of 1960 | elapsed:    4.8s remaining:    0.2s\n",
      "[Parallel(n_jobs=-7)]: Done 1960 out of 1960 | elapsed:    5.7s finished\n",
      "[Parallel(n_jobs=-7)]: Using backend LokyBackend with 58 concurrent workers.\n"
     ]
    },
    {
     "name": "stdout",
     "output_type": "stream",
     "text": [
      "Fitting 10 folds for each of 196 candidates, totalling 1960 fits\n"
     ]
    },
    {
     "name": "stderr",
     "output_type": "stream",
     "text": [
      "[Parallel(n_jobs=-7)]: Done  84 tasks      | elapsed:    0.2s\n",
      "[Parallel(n_jobs=-7)]: Done 760 tasks      | elapsed:    1.7s\n",
      "[Parallel(n_jobs=-7)]: Done 1790 tasks      | elapsed:    4.7s\n",
      "[Parallel(n_jobs=-7)]: Done 1845 out of 1960 | elapsed:    4.8s remaining:    0.2s\n",
      "[Parallel(n_jobs=-7)]: Done 1960 out of 1960 | elapsed:    5.7s finished\n",
      "[Parallel(n_jobs=-7)]: Using backend LokyBackend with 58 concurrent workers.\n"
     ]
    },
    {
     "name": "stdout",
     "output_type": "stream",
     "text": [
      "Fitting 10 folds for each of 196 candidates, totalling 1960 fits\n"
     ]
    },
    {
     "name": "stderr",
     "output_type": "stream",
     "text": [
      "[Parallel(n_jobs=-7)]: Done  84 tasks      | elapsed:    0.2s\n",
      "[Parallel(n_jobs=-7)]: Done 762 tasks      | elapsed:    1.7s\n",
      "[Parallel(n_jobs=-7)]: Done 1790 tasks      | elapsed:    4.7s\n",
      "[Parallel(n_jobs=-7)]: Done 1845 out of 1960 | elapsed:    4.8s remaining:    0.2s\n",
      "[Parallel(n_jobs=-7)]: Done 1960 out of 1960 | elapsed:    5.6s finished\n",
      "[Parallel(n_jobs=-7)]: Using backend LokyBackend with 58 concurrent workers.\n"
     ]
    },
    {
     "name": "stdout",
     "output_type": "stream",
     "text": [
      "Fitting 10 folds for each of 196 candidates, totalling 1960 fits\n"
     ]
    },
    {
     "name": "stderr",
     "output_type": "stream",
     "text": [
      "[Parallel(n_jobs=-7)]: Done  84 tasks      | elapsed:    0.2s\n",
      "[Parallel(n_jobs=-7)]: Done 762 tasks      | elapsed:    1.8s\n",
      "[Parallel(n_jobs=-7)]: Done 1796 tasks      | elapsed:    4.7s\n",
      "[Parallel(n_jobs=-7)]: Done 1845 out of 1960 | elapsed:    4.8s remaining:    0.2s\n",
      "[Parallel(n_jobs=-7)]: Done 1960 out of 1960 | elapsed:    5.7s finished\n",
      "[Parallel(n_jobs=-7)]: Using backend LokyBackend with 58 concurrent workers.\n"
     ]
    },
    {
     "name": "stdout",
     "output_type": "stream",
     "text": [
      "Fitting 10 folds for each of 196 candidates, totalling 1960 fits\n"
     ]
    },
    {
     "name": "stderr",
     "output_type": "stream",
     "text": [
      "[Parallel(n_jobs=-7)]: Done  85 tasks      | elapsed:    0.2s\n",
      "[Parallel(n_jobs=-7)]: Done 760 tasks      | elapsed:    1.7s\n",
      "[Parallel(n_jobs=-7)]: Done 1778 tasks      | elapsed:    4.7s\n",
      "[Parallel(n_jobs=-7)]: Done 1845 out of 1960 | elapsed:    4.8s remaining:    0.2s\n",
      "[Parallel(n_jobs=-7)]: Done 1960 out of 1960 | elapsed:    5.8s finished\n",
      "[Parallel(n_jobs=-7)]: Using backend LokyBackend with 58 concurrent workers.\n"
     ]
    },
    {
     "name": "stdout",
     "output_type": "stream",
     "text": [
      "Fitting 10 folds for each of 196 candidates, totalling 1960 fits\n"
     ]
    },
    {
     "name": "stderr",
     "output_type": "stream",
     "text": [
      "[Parallel(n_jobs=-7)]: Done  84 tasks      | elapsed:    0.3s\n",
      "[Parallel(n_jobs=-7)]: Done 764 tasks      | elapsed:    1.8s\n",
      "[Parallel(n_jobs=-7)]: Done 1781 tasks      | elapsed:    4.8s\n",
      "[Parallel(n_jobs=-7)]: Done 1845 out of 1960 | elapsed:    4.9s remaining:    0.2s\n",
      "[Parallel(n_jobs=-7)]: Done 1960 out of 1960 | elapsed:    5.9s finished\n",
      "[Parallel(n_jobs=-7)]: Using backend LokyBackend with 58 concurrent workers.\n"
     ]
    },
    {
     "name": "stdout",
     "output_type": "stream",
     "text": [
      "Fitting 10 folds for each of 196 candidates, totalling 1960 fits\n"
     ]
    },
    {
     "name": "stderr",
     "output_type": "stream",
     "text": [
      "[Parallel(n_jobs=-7)]: Done  84 tasks      | elapsed:    0.2s\n",
      "[Parallel(n_jobs=-7)]: Done 758 tasks      | elapsed:    1.7s\n",
      "[Parallel(n_jobs=-7)]: Done 1781 tasks      | elapsed:    4.7s\n",
      "[Parallel(n_jobs=-7)]: Done 1960 out of 1960 | elapsed:    5.7s finished\n"
     ]
    },
    {
     "name": "stdout",
     "output_type": "stream",
     "text": [
      "Fitting 10 folds for each of 196 candidates, totalling 1960 fits\n"
     ]
    },
    {
     "name": "stderr",
     "output_type": "stream",
     "text": [
      "[Parallel(n_jobs=-7)]: Using backend LokyBackend with 58 concurrent workers.\n",
      "[Parallel(n_jobs=-7)]: Done  84 tasks      | elapsed:    0.2s\n",
      "[Parallel(n_jobs=-7)]: Done 762 tasks      | elapsed:    1.7s\n",
      "[Parallel(n_jobs=-7)]: Done 1784 tasks      | elapsed:    4.7s\n",
      "[Parallel(n_jobs=-7)]: Done 1960 out of 1960 | elapsed:    5.7s finished\n",
      "[Parallel(n_jobs=-7)]: Using backend LokyBackend with 58 concurrent workers.\n"
     ]
    },
    {
     "name": "stdout",
     "output_type": "stream",
     "text": [
      "Fitting 10 folds for each of 196 candidates, totalling 1960 fits\n"
     ]
    },
    {
     "name": "stderr",
     "output_type": "stream",
     "text": [
      "[Parallel(n_jobs=-7)]: Done  84 tasks      | elapsed:    0.3s\n",
      "[Parallel(n_jobs=-7)]: Done 552 tasks      | elapsed:    1.3s\n",
      "[Parallel(n_jobs=-7)]: Done 1252 tasks      | elapsed:    3.2s\n",
      "[Parallel(n_jobs=-7)]: Done 1845 out of 1960 | elapsed:    4.9s remaining:    0.2s\n",
      "[Parallel(n_jobs=-7)]: Done 1960 out of 1960 | elapsed:    5.5s finished\n"
     ]
    },
    {
     "name": "stdout",
     "output_type": "stream",
     "text": [
      "Fitting 10 folds for each of 196 candidates, totalling 1960 fits\n"
     ]
    },
    {
     "name": "stderr",
     "output_type": "stream",
     "text": [
      "[Parallel(n_jobs=-7)]: Using backend LokyBackend with 58 concurrent workers.\n",
      "[Parallel(n_jobs=-7)]: Done  84 tasks      | elapsed:    0.2s\n",
      "[Parallel(n_jobs=-7)]: Done 762 tasks      | elapsed:    1.7s\n",
      "[Parallel(n_jobs=-7)]: Done 1787 tasks      | elapsed:    4.7s\n",
      "[Parallel(n_jobs=-7)]: Done 1845 out of 1960 | elapsed:    4.8s remaining:    0.2s\n",
      "[Parallel(n_jobs=-7)]: Done 1960 out of 1960 | elapsed:    5.7s finished\n",
      "[Parallel(n_jobs=-7)]: Using backend LokyBackend with 58 concurrent workers.\n"
     ]
    },
    {
     "name": "stdout",
     "output_type": "stream",
     "text": [
      "Fitting 10 folds for each of 196 candidates, totalling 1960 fits\n"
     ]
    },
    {
     "name": "stderr",
     "output_type": "stream",
     "text": [
      "[Parallel(n_jobs=-7)]: Done  84 tasks      | elapsed:    0.2s\n",
      "[Parallel(n_jobs=-7)]: Done 760 tasks      | elapsed:    1.7s\n",
      "[Parallel(n_jobs=-7)]: Done 1784 tasks      | elapsed:    4.8s\n",
      "[Parallel(n_jobs=-7)]: Done 1845 out of 1960 | elapsed:    4.8s remaining:    0.2s\n",
      "[Parallel(n_jobs=-7)]: Done 1960 out of 1960 | elapsed:    5.8s finished\n",
      "[Parallel(n_jobs=-7)]: Using backend LokyBackend with 58 concurrent workers.\n"
     ]
    },
    {
     "name": "stdout",
     "output_type": "stream",
     "text": [
      "Fitting 10 folds for each of 196 candidates, totalling 1960 fits\n"
     ]
    },
    {
     "name": "stderr",
     "output_type": "stream",
     "text": [
      "[Parallel(n_jobs=-7)]: Done  84 tasks      | elapsed:    0.2s\n",
      "[Parallel(n_jobs=-7)]: Done 762 tasks      | elapsed:    1.7s\n",
      "[Parallel(n_jobs=-7)]: Done 1781 tasks      | elapsed:    4.7s\n",
      "[Parallel(n_jobs=-7)]: Done 1845 out of 1960 | elapsed:    4.8s remaining:    0.2s\n",
      "[Parallel(n_jobs=-7)]: Done 1960 out of 1960 | elapsed:    5.8s finished\n"
     ]
    },
    {
     "name": "stdout",
     "output_type": "stream",
     "text": [
      "Fitting 10 folds for each of 196 candidates, totalling 1960 fits\n"
     ]
    },
    {
     "name": "stderr",
     "output_type": "stream",
     "text": [
      "[Parallel(n_jobs=-7)]: Using backend LokyBackend with 58 concurrent workers.\n",
      "[Parallel(n_jobs=-7)]: Done  84 tasks      | elapsed:    0.3s\n",
      "[Parallel(n_jobs=-7)]: Done 760 tasks      | elapsed:    1.8s\n",
      "[Parallel(n_jobs=-7)]: Done 1778 tasks      | elapsed:    4.8s\n",
      "[Parallel(n_jobs=-7)]: Done 1845 out of 1960 | elapsed:    5.0s remaining:    0.2s\n",
      "[Parallel(n_jobs=-7)]: Done 1960 out of 1960 | elapsed:    5.9s finished\n",
      "[Parallel(n_jobs=-7)]: Using backend LokyBackend with 58 concurrent workers.\n"
     ]
    },
    {
     "name": "stdout",
     "output_type": "stream",
     "text": [
      "Fitting 10 folds for each of 196 candidates, totalling 1960 fits\n"
     ]
    },
    {
     "name": "stderr",
     "output_type": "stream",
     "text": [
      "[Parallel(n_jobs=-7)]: Done  84 tasks      | elapsed:    0.2s\n",
      "[Parallel(n_jobs=-7)]: Done 758 tasks      | elapsed:    1.7s\n",
      "[Parallel(n_jobs=-7)]: Done 1784 tasks      | elapsed:    4.7s\n",
      "[Parallel(n_jobs=-7)]: Done 1845 out of 1960 | elapsed:    4.9s remaining:    0.2s\n",
      "[Parallel(n_jobs=-7)]: Done 1960 out of 1960 | elapsed:    5.8s finished\n",
      "[Parallel(n_jobs=-7)]: Using backend LokyBackend with 58 concurrent workers.\n"
     ]
    },
    {
     "name": "stdout",
     "output_type": "stream",
     "text": [
      "Fitting 10 folds for each of 196 candidates, totalling 1960 fits\n"
     ]
    },
    {
     "name": "stderr",
     "output_type": "stream",
     "text": [
      "[Parallel(n_jobs=-7)]: Done  84 tasks      | elapsed:    0.2s\n",
      "[Parallel(n_jobs=-7)]: Done 762 tasks      | elapsed:    1.8s\n",
      "[Parallel(n_jobs=-7)]: Done 1787 tasks      | elapsed:    4.8s\n",
      "[Parallel(n_jobs=-7)]: Done 1845 out of 1960 | elapsed:    4.9s remaining:    0.2s\n",
      "[Parallel(n_jobs=-7)]: Done 1960 out of 1960 | elapsed:    5.8s finished\n"
     ]
    },
    {
     "name": "stdout",
     "output_type": "stream",
     "text": [
      "Fitting 10 folds for each of 196 candidates, totalling 1960 fits\n"
     ]
    },
    {
     "name": "stderr",
     "output_type": "stream",
     "text": [
      "[Parallel(n_jobs=-7)]: Using backend LokyBackend with 58 concurrent workers.\n",
      "[Parallel(n_jobs=-7)]: Done  84 tasks      | elapsed:    0.2s\n",
      "[Parallel(n_jobs=-7)]: Done 764 tasks      | elapsed:    1.8s\n",
      "[Parallel(n_jobs=-7)]: Done 1784 tasks      | elapsed:    4.8s\n",
      "[Parallel(n_jobs=-7)]: Done 1845 out of 1960 | elapsed:    5.0s remaining:    0.2s\n",
      "[Parallel(n_jobs=-7)]: Done 1960 out of 1960 | elapsed:    5.9s finished\n",
      "[Parallel(n_jobs=-7)]: Using backend LokyBackend with 58 concurrent workers.\n"
     ]
    },
    {
     "name": "stdout",
     "output_type": "stream",
     "text": [
      "Fitting 10 folds for each of 196 candidates, totalling 1960 fits\n"
     ]
    },
    {
     "name": "stderr",
     "output_type": "stream",
     "text": [
      "[Parallel(n_jobs=-7)]: Done  84 tasks      | elapsed:    0.2s\n",
      "[Parallel(n_jobs=-7)]: Done 762 tasks      | elapsed:    1.8s\n",
      "[Parallel(n_jobs=-7)]: Done 1784 tasks      | elapsed:    4.8s\n",
      "[Parallel(n_jobs=-7)]: Done 1845 out of 1960 | elapsed:    5.0s remaining:    0.2s\n",
      "[Parallel(n_jobs=-7)]: Done 1960 out of 1960 | elapsed:    5.8s finished\n",
      "[Parallel(n_jobs=-7)]: Using backend LokyBackend with 58 concurrent workers.\n"
     ]
    },
    {
     "name": "stdout",
     "output_type": "stream",
     "text": [
      "Fitting 10 folds for each of 196 candidates, totalling 1960 fits\n"
     ]
    },
    {
     "name": "stderr",
     "output_type": "stream",
     "text": [
      "[Parallel(n_jobs=-7)]: Done  84 tasks      | elapsed:    0.2s\n",
      "[Parallel(n_jobs=-7)]: Done 762 tasks      | elapsed:    1.7s\n",
      "[Parallel(n_jobs=-7)]: Done 1787 tasks      | elapsed:    4.8s\n",
      "[Parallel(n_jobs=-7)]: Done 1845 out of 1960 | elapsed:    4.9s remaining:    0.2s\n",
      "[Parallel(n_jobs=-7)]: Done 1960 out of 1960 | elapsed:    5.8s finished\n",
      "[Parallel(n_jobs=-7)]: Using backend LokyBackend with 58 concurrent workers.\n"
     ]
    },
    {
     "name": "stdout",
     "output_type": "stream",
     "text": [
      "Fitting 10 folds for each of 196 candidates, totalling 1960 fits\n"
     ]
    },
    {
     "name": "stderr",
     "output_type": "stream",
     "text": [
      "[Parallel(n_jobs=-7)]: Done  84 tasks      | elapsed:    0.2s\n",
      "[Parallel(n_jobs=-7)]: Done 762 tasks      | elapsed:    1.8s\n",
      "[Parallel(n_jobs=-7)]: Done 1784 tasks      | elapsed:    4.9s\n",
      "[Parallel(n_jobs=-7)]: Done 1845 out of 1960 | elapsed:    5.0s remaining:    0.2s\n",
      "[Parallel(n_jobs=-7)]: Done 1960 out of 1960 | elapsed:    5.9s finished\n"
     ]
    },
    {
     "name": "stdout",
     "output_type": "stream",
     "text": [
      "Fitting 10 folds for each of 196 candidates, totalling 1960 fits\n"
     ]
    },
    {
     "name": "stderr",
     "output_type": "stream",
     "text": [
      "[Parallel(n_jobs=-7)]: Using backend LokyBackend with 58 concurrent workers.\n",
      "[Parallel(n_jobs=-7)]: Done  84 tasks      | elapsed:    0.2s\n",
      "[Parallel(n_jobs=-7)]: Done 762 tasks      | elapsed:    1.7s\n",
      "[Parallel(n_jobs=-7)]: Done 1781 tasks      | elapsed:    4.8s\n",
      "[Parallel(n_jobs=-7)]: Done 1845 out of 1960 | elapsed:    4.9s remaining:    0.2s\n",
      "[Parallel(n_jobs=-7)]: Done 1960 out of 1960 | elapsed:    5.8s finished\n",
      "[Parallel(n_jobs=-7)]: Using backend LokyBackend with 58 concurrent workers.\n"
     ]
    },
    {
     "name": "stdout",
     "output_type": "stream",
     "text": [
      "Fitting 10 folds for each of 196 candidates, totalling 1960 fits\n"
     ]
    },
    {
     "name": "stderr",
     "output_type": "stream",
     "text": [
      "[Parallel(n_jobs=-7)]: Done  84 tasks      | elapsed:    0.2s\n",
      "[Parallel(n_jobs=-7)]: Done 760 tasks      | elapsed:    1.8s\n",
      "[Parallel(n_jobs=-7)]: Done 1781 tasks      | elapsed:    4.8s\n",
      "[Parallel(n_jobs=-7)]: Done 1845 out of 1960 | elapsed:    5.0s remaining:    0.2s\n",
      "[Parallel(n_jobs=-7)]: Done 1960 out of 1960 | elapsed:    5.9s finished\n"
     ]
    },
    {
     "name": "stdout",
     "output_type": "stream",
     "text": [
      "Fitting 10 folds for each of 196 candidates, totalling 1960 fits\n"
     ]
    },
    {
     "name": "stderr",
     "output_type": "stream",
     "text": [
      "[Parallel(n_jobs=-7)]: Using backend LokyBackend with 58 concurrent workers.\n",
      "[Parallel(n_jobs=-7)]: Done  84 tasks      | elapsed:    0.2s\n",
      "[Parallel(n_jobs=-7)]: Done 760 tasks      | elapsed:    1.8s\n",
      "[Parallel(n_jobs=-7)]: Done 1787 tasks      | elapsed:    4.8s\n",
      "[Parallel(n_jobs=-7)]: Done 1845 out of 1960 | elapsed:    5.0s remaining:    0.2s\n",
      "[Parallel(n_jobs=-7)]: Done 1960 out of 1960 | elapsed:    5.9s finished\n",
      "[Parallel(n_jobs=-7)]: Using backend LokyBackend with 58 concurrent workers.\n"
     ]
    },
    {
     "name": "stdout",
     "output_type": "stream",
     "text": [
      "Fitting 10 folds for each of 196 candidates, totalling 1960 fits\n"
     ]
    },
    {
     "name": "stderr",
     "output_type": "stream",
     "text": [
      "[Parallel(n_jobs=-7)]: Done  84 tasks      | elapsed:    0.2s\n",
      "[Parallel(n_jobs=-7)]: Done 762 tasks      | elapsed:    1.8s\n",
      "[Parallel(n_jobs=-7)]: Done 1793 tasks      | elapsed:    4.9s\n",
      "[Parallel(n_jobs=-7)]: Done 1845 out of 1960 | elapsed:    5.0s remaining:    0.2s\n",
      "[Parallel(n_jobs=-7)]: Done 1960 out of 1960 | elapsed:    5.9s finished\n",
      "[Parallel(n_jobs=-7)]: Using backend LokyBackend with 58 concurrent workers.\n"
     ]
    },
    {
     "name": "stdout",
     "output_type": "stream",
     "text": [
      "Fitting 10 folds for each of 196 candidates, totalling 1960 fits\n"
     ]
    },
    {
     "name": "stderr",
     "output_type": "stream",
     "text": [
      "[Parallel(n_jobs=-7)]: Done  84 tasks      | elapsed:    0.2s\n",
      "[Parallel(n_jobs=-7)]: Done 764 tasks      | elapsed:    1.8s\n",
      "[Parallel(n_jobs=-7)]: Done 1781 tasks      | elapsed:    4.9s\n",
      "[Parallel(n_jobs=-7)]: Done 1845 out of 1960 | elapsed:    5.0s remaining:    0.2s\n",
      "[Parallel(n_jobs=-7)]: Done 1960 out of 1960 | elapsed:    5.9s finished\n",
      "[Parallel(n_jobs=-7)]: Using backend LokyBackend with 58 concurrent workers.\n"
     ]
    },
    {
     "name": "stdout",
     "output_type": "stream",
     "text": [
      "Fitting 10 folds for each of 196 candidates, totalling 1960 fits\n"
     ]
    },
    {
     "name": "stderr",
     "output_type": "stream",
     "text": [
      "[Parallel(n_jobs=-7)]: Done  84 tasks      | elapsed:    0.2s\n",
      "[Parallel(n_jobs=-7)]: Done 762 tasks      | elapsed:    1.8s\n",
      "[Parallel(n_jobs=-7)]: Done 1781 tasks      | elapsed:    4.9s\n",
      "[Parallel(n_jobs=-7)]: Done 1960 out of 1960 | elapsed:    6.0s finished\n",
      "[Parallel(n_jobs=-7)]: Using backend LokyBackend with 58 concurrent workers.\n"
     ]
    },
    {
     "name": "stdout",
     "output_type": "stream",
     "text": [
      "Fitting 10 folds for each of 196 candidates, totalling 1960 fits\n"
     ]
    },
    {
     "name": "stderr",
     "output_type": "stream",
     "text": [
      "[Parallel(n_jobs=-7)]: Done  84 tasks      | elapsed:    0.3s\n",
      "[Parallel(n_jobs=-7)]: Done 552 tasks      | elapsed:    1.3s\n",
      "[Parallel(n_jobs=-7)]: Done 1252 tasks      | elapsed:    3.3s\n",
      "[Parallel(n_jobs=-7)]: Done 1960 out of 1960 | elapsed:    5.7s finished\n",
      "[Parallel(n_jobs=-7)]: Using backend LokyBackend with 58 concurrent workers.\n"
     ]
    },
    {
     "name": "stdout",
     "output_type": "stream",
     "text": [
      "Fitting 10 folds for each of 196 candidates, totalling 1960 fits\n"
     ]
    },
    {
     "name": "stderr",
     "output_type": "stream",
     "text": [
      "[Parallel(n_jobs=-7)]: Done  84 tasks      | elapsed:    0.2s\n",
      "[Parallel(n_jobs=-7)]: Done 762 tasks      | elapsed:    1.8s\n",
      "[Parallel(n_jobs=-7)]: Done 1781 tasks      | elapsed:    4.9s\n",
      "[Parallel(n_jobs=-7)]: Done 1845 out of 1960 | elapsed:    5.0s remaining:    0.2s\n",
      "[Parallel(n_jobs=-7)]: Done 1960 out of 1960 | elapsed:    5.9s finished\n",
      "[Parallel(n_jobs=-7)]: Using backend LokyBackend with 58 concurrent workers.\n"
     ]
    },
    {
     "name": "stdout",
     "output_type": "stream",
     "text": [
      "Fitting 10 folds for each of 196 candidates, totalling 1960 fits\n"
     ]
    },
    {
     "name": "stderr",
     "output_type": "stream",
     "text": [
      "[Parallel(n_jobs=-7)]: Done  84 tasks      | elapsed:    0.2s\n",
      "[Parallel(n_jobs=-7)]: Done 762 tasks      | elapsed:    1.8s\n",
      "[Parallel(n_jobs=-7)]: Done 1787 tasks      | elapsed:    4.9s\n",
      "[Parallel(n_jobs=-7)]: Done 1960 out of 1960 | elapsed:    5.9s finished\n",
      "[Parallel(n_jobs=-7)]: Using backend LokyBackend with 58 concurrent workers.\n"
     ]
    },
    {
     "name": "stdout",
     "output_type": "stream",
     "text": [
      "Fitting 10 folds for each of 196 candidates, totalling 1960 fits\n"
     ]
    },
    {
     "name": "stderr",
     "output_type": "stream",
     "text": [
      "[Parallel(n_jobs=-7)]: Done  84 tasks      | elapsed:    0.2s\n",
      "[Parallel(n_jobs=-7)]: Done 762 tasks      | elapsed:    1.8s\n",
      "[Parallel(n_jobs=-7)]: Done 1784 tasks      | elapsed:    4.9s\n",
      "[Parallel(n_jobs=-7)]: Done 1845 out of 1960 | elapsed:    5.0s remaining:    0.2s\n",
      "[Parallel(n_jobs=-7)]: Done 1960 out of 1960 | elapsed:    5.9s finished\n",
      "[Parallel(n_jobs=-7)]: Using backend LokyBackend with 58 concurrent workers.\n"
     ]
    },
    {
     "name": "stdout",
     "output_type": "stream",
     "text": [
      "Fitting 10 folds for each of 196 candidates, totalling 1960 fits\n"
     ]
    },
    {
     "name": "stderr",
     "output_type": "stream",
     "text": [
      "[Parallel(n_jobs=-7)]: Done  84 tasks      | elapsed:    0.2s\n",
      "[Parallel(n_jobs=-7)]: Done 760 tasks      | elapsed:    1.8s\n",
      "[Parallel(n_jobs=-7)]: Done 1787 tasks      | elapsed:    4.9s\n",
      "[Parallel(n_jobs=-7)]: Done 1845 out of 1960 | elapsed:    5.0s remaining:    0.2s\n",
      "[Parallel(n_jobs=-7)]: Done 1960 out of 1960 | elapsed:    6.0s finished\n",
      "[Parallel(n_jobs=-7)]: Using backend LokyBackend with 58 concurrent workers.\n"
     ]
    },
    {
     "name": "stdout",
     "output_type": "stream",
     "text": [
      "Fitting 10 folds for each of 196 candidates, totalling 1960 fits\n"
     ]
    },
    {
     "name": "stderr",
     "output_type": "stream",
     "text": [
      "[Parallel(n_jobs=-7)]: Done  84 tasks      | elapsed:    0.2s\n",
      "[Parallel(n_jobs=-7)]: Done 762 tasks      | elapsed:    1.8s\n",
      "[Parallel(n_jobs=-7)]: Done 1790 tasks      | elapsed:    4.9s\n",
      "[Parallel(n_jobs=-7)]: Done 1845 out of 1960 | elapsed:    5.0s remaining:    0.2s\n",
      "[Parallel(n_jobs=-7)]: Done 1960 out of 1960 | elapsed:    5.9s finished\n",
      "[Parallel(n_jobs=-7)]: Using backend LokyBackend with 58 concurrent workers.\n"
     ]
    },
    {
     "name": "stdout",
     "output_type": "stream",
     "text": [
      "Fitting 10 folds for each of 196 candidates, totalling 1960 fits\n"
     ]
    },
    {
     "name": "stderr",
     "output_type": "stream",
     "text": [
      "[Parallel(n_jobs=-7)]: Done  84 tasks      | elapsed:    0.2s\n",
      "[Parallel(n_jobs=-7)]: Done 760 tasks      | elapsed:    1.8s\n",
      "[Parallel(n_jobs=-7)]: Done 1787 tasks      | elapsed:    4.9s\n",
      "[Parallel(n_jobs=-7)]: Done 1845 out of 1960 | elapsed:    5.0s remaining:    0.2s\n",
      "[Parallel(n_jobs=-7)]: Done 1960 out of 1960 | elapsed:    5.9s finished\n",
      "[Parallel(n_jobs=-7)]: Using backend LokyBackend with 58 concurrent workers.\n"
     ]
    },
    {
     "name": "stdout",
     "output_type": "stream",
     "text": [
      "Fitting 10 folds for each of 196 candidates, totalling 1960 fits\n"
     ]
    },
    {
     "name": "stderr",
     "output_type": "stream",
     "text": [
      "[Parallel(n_jobs=-7)]: Done  84 tasks      | elapsed:    0.2s\n",
      "[Parallel(n_jobs=-7)]: Done 764 tasks      | elapsed:    1.8s\n",
      "[Parallel(n_jobs=-7)]: Done 1790 tasks      | elapsed:    4.9s\n",
      "[Parallel(n_jobs=-7)]: Done 1845 out of 1960 | elapsed:    5.0s remaining:    0.2s\n",
      "[Parallel(n_jobs=-7)]: Done 1960 out of 1960 | elapsed:    5.9s finished\n"
     ]
    },
    {
     "name": "stdout",
     "output_type": "stream",
     "text": [
      "Fitting 10 folds for each of 196 candidates, totalling 1960 fits\n"
     ]
    },
    {
     "name": "stderr",
     "output_type": "stream",
     "text": [
      "[Parallel(n_jobs=-7)]: Using backend LokyBackend with 58 concurrent workers.\n",
      "[Parallel(n_jobs=-7)]: Done  84 tasks      | elapsed:    0.2s\n",
      "[Parallel(n_jobs=-7)]: Done 764 tasks      | elapsed:    1.8s\n",
      "[Parallel(n_jobs=-7)]: Done 1784 tasks      | elapsed:    4.9s\n",
      "[Parallel(n_jobs=-7)]: Done 1960 out of 1960 | elapsed:    6.0s finished\n",
      "[Parallel(n_jobs=-7)]: Using backend LokyBackend with 58 concurrent workers.\n"
     ]
    },
    {
     "name": "stdout",
     "output_type": "stream",
     "text": [
      "Fitting 10 folds for each of 196 candidates, totalling 1960 fits\n"
     ]
    },
    {
     "name": "stderr",
     "output_type": "stream",
     "text": [
      "[Parallel(n_jobs=-7)]: Done  84 tasks      | elapsed:    0.2s\n",
      "[Parallel(n_jobs=-7)]: Done 762 tasks      | elapsed:    1.9s\n",
      "[Parallel(n_jobs=-7)]: Done 1784 tasks      | elapsed:    5.1s\n",
      "[Parallel(n_jobs=-7)]: Done 1845 out of 1960 | elapsed:    5.2s remaining:    0.2s\n",
      "[Parallel(n_jobs=-7)]: Done 1960 out of 1960 | elapsed:    6.1s finished\n",
      "[Parallel(n_jobs=-7)]: Using backend LokyBackend with 58 concurrent workers.\n"
     ]
    },
    {
     "name": "stdout",
     "output_type": "stream",
     "text": [
      "Fitting 10 folds for each of 196 candidates, totalling 1960 fits\n"
     ]
    },
    {
     "name": "stderr",
     "output_type": "stream",
     "text": [
      "[Parallel(n_jobs=-7)]: Done  84 tasks      | elapsed:    0.2s\n",
      "[Parallel(n_jobs=-7)]: Done 760 tasks      | elapsed:    1.8s\n",
      "[Parallel(n_jobs=-7)]: Done 1781 tasks      | elapsed:    4.9s\n",
      "[Parallel(n_jobs=-7)]: Done 1845 out of 1960 | elapsed:    5.0s remaining:    0.2s\n",
      "[Parallel(n_jobs=-7)]: Done 1960 out of 1960 | elapsed:    6.0s finished\n"
     ]
    },
    {
     "name": "stdout",
     "output_type": "stream",
     "text": [
      "Fitting 10 folds for each of 196 candidates, totalling 1960 fits\n"
     ]
    },
    {
     "name": "stderr",
     "output_type": "stream",
     "text": [
      "[Parallel(n_jobs=-7)]: Using backend LokyBackend with 58 concurrent workers.\n",
      "[Parallel(n_jobs=-7)]: Done  84 tasks      | elapsed:    0.2s\n",
      "[Parallel(n_jobs=-7)]: Done 762 tasks      | elapsed:    1.8s\n",
      "[Parallel(n_jobs=-7)]: Done 1784 tasks      | elapsed:    4.9s\n",
      "[Parallel(n_jobs=-7)]: Done 1845 out of 1960 | elapsed:    5.1s remaining:    0.2s\n",
      "[Parallel(n_jobs=-7)]: Done 1960 out of 1960 | elapsed:    6.0s finished\n",
      "[Parallel(n_jobs=-7)]: Using backend LokyBackend with 58 concurrent workers.\n"
     ]
    },
    {
     "name": "stdout",
     "output_type": "stream",
     "text": [
      "Fitting 10 folds for each of 196 candidates, totalling 1960 fits\n"
     ]
    },
    {
     "name": "stderr",
     "output_type": "stream",
     "text": [
      "[Parallel(n_jobs=-7)]: Done  84 tasks      | elapsed:    0.2s\n",
      "[Parallel(n_jobs=-7)]: Done 762 tasks      | elapsed:    1.8s\n",
      "[Parallel(n_jobs=-7)]: Done 1787 tasks      | elapsed:    4.9s\n",
      "[Parallel(n_jobs=-7)]: Done 1845 out of 1960 | elapsed:    5.1s remaining:    0.2s\n",
      "[Parallel(n_jobs=-7)]: Done 1960 out of 1960 | elapsed:    5.9s finished\n",
      "[Parallel(n_jobs=-7)]: Using backend LokyBackend with 58 concurrent workers.\n"
     ]
    },
    {
     "name": "stdout",
     "output_type": "stream",
     "text": [
      "Fitting 10 folds for each of 196 candidates, totalling 1960 fits\n"
     ]
    },
    {
     "name": "stderr",
     "output_type": "stream",
     "text": [
      "[Parallel(n_jobs=-7)]: Done  84 tasks      | elapsed:    0.2s\n",
      "[Parallel(n_jobs=-7)]: Done 762 tasks      | elapsed:    1.9s\n",
      "[Parallel(n_jobs=-7)]: Done 1784 tasks      | elapsed:    5.0s\n",
      "[Parallel(n_jobs=-7)]: Done 1845 out of 1960 | elapsed:    5.2s remaining:    0.2s\n",
      "[Parallel(n_jobs=-7)]: Done 1960 out of 1960 | elapsed:    6.1s finished\n"
     ]
    },
    {
     "name": "stdout",
     "output_type": "stream",
     "text": [
      "Fitting 10 folds for each of 196 candidates, totalling 1960 fits\n"
     ]
    },
    {
     "name": "stderr",
     "output_type": "stream",
     "text": [
      "[Parallel(n_jobs=-7)]: Using backend LokyBackend with 58 concurrent workers.\n",
      "[Parallel(n_jobs=-7)]: Done  84 tasks      | elapsed:    0.2s\n",
      "[Parallel(n_jobs=-7)]: Done 764 tasks      | elapsed:    1.8s\n",
      "[Parallel(n_jobs=-7)]: Done 1787 tasks      | elapsed:    4.9s\n",
      "[Parallel(n_jobs=-7)]: Done 1845 out of 1960 | elapsed:    5.0s remaining:    0.2s\n",
      "[Parallel(n_jobs=-7)]: Done 1960 out of 1960 | elapsed:    5.9s finished\n",
      "[Parallel(n_jobs=-7)]: Using backend LokyBackend with 58 concurrent workers.\n"
     ]
    },
    {
     "name": "stdout",
     "output_type": "stream",
     "text": [
      "Fitting 10 folds for each of 196 candidates, totalling 1960 fits\n"
     ]
    },
    {
     "name": "stderr",
     "output_type": "stream",
     "text": [
      "[Parallel(n_jobs=-7)]: Done  84 tasks      | elapsed:    0.2s\n",
      "[Parallel(n_jobs=-7)]: Done 764 tasks      | elapsed:    1.8s\n",
      "[Parallel(n_jobs=-7)]: Done 1787 tasks      | elapsed:    5.0s\n",
      "[Parallel(n_jobs=-7)]: Done 1960 out of 1960 | elapsed:    6.0s finished\n",
      "[Parallel(n_jobs=-7)]: Using backend LokyBackend with 58 concurrent workers.\n"
     ]
    },
    {
     "name": "stdout",
     "output_type": "stream",
     "text": [
      "Fitting 10 folds for each of 196 candidates, totalling 1960 fits\n"
     ]
    },
    {
     "name": "stderr",
     "output_type": "stream",
     "text": [
      "[Parallel(n_jobs=-7)]: Done  84 tasks      | elapsed:    0.2s\n",
      "[Parallel(n_jobs=-7)]: Done 762 tasks      | elapsed:    1.8s\n",
      "[Parallel(n_jobs=-7)]: Done 1787 tasks      | elapsed:    4.9s\n",
      "[Parallel(n_jobs=-7)]: Done 1845 out of 1960 | elapsed:    5.0s remaining:    0.2s\n",
      "[Parallel(n_jobs=-7)]: Done 1960 out of 1960 | elapsed:    6.0s finished\n",
      "[Parallel(n_jobs=-7)]: Using backend LokyBackend with 58 concurrent workers.\n"
     ]
    },
    {
     "name": "stdout",
     "output_type": "stream",
     "text": [
      "Fitting 10 folds for each of 196 candidates, totalling 1960 fits\n"
     ]
    },
    {
     "name": "stderr",
     "output_type": "stream",
     "text": [
      "[Parallel(n_jobs=-7)]: Done  84 tasks      | elapsed:    0.2s\n",
      "[Parallel(n_jobs=-7)]: Done 762 tasks      | elapsed:    1.8s\n",
      "[Parallel(n_jobs=-7)]: Done 1790 tasks      | elapsed:    5.0s\n",
      "[Parallel(n_jobs=-7)]: Done 1845 out of 1960 | elapsed:    5.1s remaining:    0.2s\n",
      "[Parallel(n_jobs=-7)]: Done 1960 out of 1960 | elapsed:    6.0s finished\n",
      "[Parallel(n_jobs=-7)]: Using backend LokyBackend with 58 concurrent workers.\n"
     ]
    },
    {
     "name": "stdout",
     "output_type": "stream",
     "text": [
      "Fitting 10 folds for each of 196 candidates, totalling 1960 fits\n"
     ]
    },
    {
     "name": "stderr",
     "output_type": "stream",
     "text": [
      "[Parallel(n_jobs=-7)]: Done  84 tasks      | elapsed:    0.2s\n",
      "[Parallel(n_jobs=-7)]: Done 762 tasks      | elapsed:    1.8s\n",
      "[Parallel(n_jobs=-7)]: Done 1790 tasks      | elapsed:    5.0s\n",
      "[Parallel(n_jobs=-7)]: Done 1960 out of 1960 | elapsed:    6.1s finished\n",
      "[Parallel(n_jobs=-7)]: Using backend LokyBackend with 58 concurrent workers.\n"
     ]
    },
    {
     "name": "stdout",
     "output_type": "stream",
     "text": [
      "Fitting 10 folds for each of 196 candidates, totalling 1960 fits\n"
     ]
    },
    {
     "name": "stderr",
     "output_type": "stream",
     "text": [
      "[Parallel(n_jobs=-7)]: Done  84 tasks      | elapsed:    0.2s\n",
      "[Parallel(n_jobs=-7)]: Done 762 tasks      | elapsed:    1.9s\n",
      "[Parallel(n_jobs=-7)]: Done 1790 tasks      | elapsed:    5.1s\n",
      "[Parallel(n_jobs=-7)]: Done 1845 out of 1960 | elapsed:    5.2s remaining:    0.2s\n",
      "[Parallel(n_jobs=-7)]: Done 1960 out of 1960 | elapsed:    6.2s finished\n",
      "[Parallel(n_jobs=-7)]: Using backend LokyBackend with 58 concurrent workers.\n"
     ]
    },
    {
     "name": "stdout",
     "output_type": "stream",
     "text": [
      "Fitting 10 folds for each of 196 candidates, totalling 1960 fits\n"
     ]
    },
    {
     "name": "stderr",
     "output_type": "stream",
     "text": [
      "[Parallel(n_jobs=-7)]: Done  84 tasks      | elapsed:    0.2s\n",
      "[Parallel(n_jobs=-7)]: Done 764 tasks      | elapsed:    1.8s\n",
      "[Parallel(n_jobs=-7)]: Done 1787 tasks      | elapsed:    5.0s\n",
      "[Parallel(n_jobs=-7)]: Done 1845 out of 1960 | elapsed:    5.1s remaining:    0.2s\n",
      "[Parallel(n_jobs=-7)]: Done 1960 out of 1960 | elapsed:    6.0s finished\n",
      "[Parallel(n_jobs=-7)]: Using backend LokyBackend with 58 concurrent workers.\n"
     ]
    },
    {
     "name": "stdout",
     "output_type": "stream",
     "text": [
      "Fitting 10 folds for each of 196 candidates, totalling 1960 fits\n"
     ]
    },
    {
     "name": "stderr",
     "output_type": "stream",
     "text": [
      "[Parallel(n_jobs=-7)]: Done  84 tasks      | elapsed:    0.2s\n",
      "[Parallel(n_jobs=-7)]: Done 762 tasks      | elapsed:    1.8s\n",
      "[Parallel(n_jobs=-7)]: Done 1781 tasks      | elapsed:    5.0s\n",
      "[Parallel(n_jobs=-7)]: Done 1845 out of 1960 | elapsed:    5.1s remaining:    0.2s\n",
      "[Parallel(n_jobs=-7)]: Done 1960 out of 1960 | elapsed:    6.0s finished\n",
      "[Parallel(n_jobs=-7)]: Using backend LokyBackend with 58 concurrent workers.\n"
     ]
    },
    {
     "name": "stdout",
     "output_type": "stream",
     "text": [
      "Fitting 10 folds for each of 196 candidates, totalling 1960 fits\n"
     ]
    },
    {
     "name": "stderr",
     "output_type": "stream",
     "text": [
      "[Parallel(n_jobs=-7)]: Done  84 tasks      | elapsed:    0.2s\n",
      "[Parallel(n_jobs=-7)]: Done 762 tasks      | elapsed:    1.8s\n",
      "[Parallel(n_jobs=-7)]: Done 1784 tasks      | elapsed:    5.0s\n",
      "[Parallel(n_jobs=-7)]: Done 1845 out of 1960 | elapsed:    5.1s remaining:    0.2s\n",
      "[Parallel(n_jobs=-7)]: Done 1960 out of 1960 | elapsed:    6.0s finished\n"
     ]
    },
    {
     "name": "stdout",
     "output_type": "stream",
     "text": [
      "Fitting 10 folds for each of 196 candidates, totalling 1960 fits\n"
     ]
    },
    {
     "name": "stderr",
     "output_type": "stream",
     "text": [
      "[Parallel(n_jobs=-7)]: Using backend LokyBackend with 58 concurrent workers.\n",
      "[Parallel(n_jobs=-7)]: Done  84 tasks      | elapsed:    0.2s\n",
      "[Parallel(n_jobs=-7)]: Done 760 tasks      | elapsed:    1.8s\n",
      "[Parallel(n_jobs=-7)]: Done 1787 tasks      | elapsed:    5.0s\n",
      "[Parallel(n_jobs=-7)]: Done 1845 out of 1960 | elapsed:    5.1s remaining:    0.2s\n",
      "[Parallel(n_jobs=-7)]: Done 1960 out of 1960 | elapsed:    6.0s finished\n"
     ]
    },
    {
     "name": "stdout",
     "output_type": "stream",
     "text": [
      "Fitting 10 folds for each of 196 candidates, totalling 1960 fits\n"
     ]
    },
    {
     "name": "stderr",
     "output_type": "stream",
     "text": [
      "[Parallel(n_jobs=-7)]: Using backend LokyBackend with 58 concurrent workers.\n",
      "[Parallel(n_jobs=-7)]: Done  84 tasks      | elapsed:    0.2s\n",
      "[Parallel(n_jobs=-7)]: Done 762 tasks      | elapsed:    1.8s\n",
      "[Parallel(n_jobs=-7)]: Done 1781 tasks      | elapsed:    5.0s\n",
      "[Parallel(n_jobs=-7)]: Done 1845 out of 1960 | elapsed:    5.1s remaining:    0.2s\n",
      "[Parallel(n_jobs=-7)]: Done 1960 out of 1960 | elapsed:    6.1s finished\n",
      "[Parallel(n_jobs=-7)]: Using backend LokyBackend with 58 concurrent workers.\n"
     ]
    },
    {
     "name": "stdout",
     "output_type": "stream",
     "text": [
      "Fitting 10 folds for each of 196 candidates, totalling 1960 fits\n"
     ]
    },
    {
     "name": "stderr",
     "output_type": "stream",
     "text": [
      "[Parallel(n_jobs=-7)]: Done  84 tasks      | elapsed:    0.2s\n",
      "[Parallel(n_jobs=-7)]: Done 762 tasks      | elapsed:    1.8s\n",
      "[Parallel(n_jobs=-7)]: Done 1787 tasks      | elapsed:    5.0s\n",
      "[Parallel(n_jobs=-7)]: Done 1845 out of 1960 | elapsed:    5.1s remaining:    0.2s\n",
      "[Parallel(n_jobs=-7)]: Done 1960 out of 1960 | elapsed:    6.1s finished\n"
     ]
    },
    {
     "name": "stdout",
     "output_type": "stream",
     "text": [
      "Fitting 10 folds for each of 196 candidates, totalling 1960 fits\n"
     ]
    },
    {
     "name": "stderr",
     "output_type": "stream",
     "text": [
      "[Parallel(n_jobs=-7)]: Using backend LokyBackend with 58 concurrent workers.\n",
      "[Parallel(n_jobs=-7)]: Done  84 tasks      | elapsed:    0.2s\n",
      "[Parallel(n_jobs=-7)]: Done 762 tasks      | elapsed:    1.8s\n",
      "[Parallel(n_jobs=-7)]: Done 1787 tasks      | elapsed:    5.0s\n",
      "[Parallel(n_jobs=-7)]: Done 1960 out of 1960 | elapsed:    6.1s finished\n",
      "[Parallel(n_jobs=-7)]: Using backend LokyBackend with 58 concurrent workers.\n"
     ]
    },
    {
     "name": "stdout",
     "output_type": "stream",
     "text": [
      "Fitting 10 folds for each of 196 candidates, totalling 1960 fits\n"
     ]
    },
    {
     "name": "stderr",
     "output_type": "stream",
     "text": [
      "[Parallel(n_jobs=-7)]: Done  84 tasks      | elapsed:    0.2s\n",
      "[Parallel(n_jobs=-7)]: Done 764 tasks      | elapsed:    1.8s\n",
      "[Parallel(n_jobs=-7)]: Done 1790 tasks      | elapsed:    5.0s\n",
      "[Parallel(n_jobs=-7)]: Done 1960 out of 1960 | elapsed:    6.0s finished\n",
      "[Parallel(n_jobs=-7)]: Using backend LokyBackend with 58 concurrent workers.\n"
     ]
    },
    {
     "name": "stdout",
     "output_type": "stream",
     "text": [
      "Fitting 10 folds for each of 196 candidates, totalling 1960 fits\n"
     ]
    },
    {
     "name": "stderr",
     "output_type": "stream",
     "text": [
      "[Parallel(n_jobs=-7)]: Done  84 tasks      | elapsed:    0.2s\n",
      "[Parallel(n_jobs=-7)]: Done 764 tasks      | elapsed:    1.9s\n",
      "[Parallel(n_jobs=-7)]: Done 1787 tasks      | elapsed:    5.2s\n",
      "[Parallel(n_jobs=-7)]: Done 1845 out of 1960 | elapsed:    5.3s remaining:    0.2s\n",
      "[Parallel(n_jobs=-7)]: Done 1960 out of 1960 | elapsed:    6.2s finished\n",
      "[Parallel(n_jobs=-7)]: Using backend LokyBackend with 58 concurrent workers.\n"
     ]
    },
    {
     "name": "stdout",
     "output_type": "stream",
     "text": [
      "Fitting 10 folds for each of 196 candidates, totalling 1960 fits\n"
     ]
    },
    {
     "name": "stderr",
     "output_type": "stream",
     "text": [
      "[Parallel(n_jobs=-7)]: Done  84 tasks      | elapsed:    0.2s\n",
      "[Parallel(n_jobs=-7)]: Done 764 tasks      | elapsed:    1.8s\n",
      "[Parallel(n_jobs=-7)]: Done 1781 tasks      | elapsed:    5.0s\n",
      "[Parallel(n_jobs=-7)]: Done 1845 out of 1960 | elapsed:    5.2s remaining:    0.2s\n",
      "[Parallel(n_jobs=-7)]: Done 1960 out of 1960 | elapsed:    6.2s finished\n",
      "[Parallel(n_jobs=-7)]: Using backend LokyBackend with 58 concurrent workers.\n"
     ]
    },
    {
     "name": "stdout",
     "output_type": "stream",
     "text": [
      "Fitting 10 folds for each of 196 candidates, totalling 1960 fits\n"
     ]
    },
    {
     "name": "stderr",
     "output_type": "stream",
     "text": [
      "[Parallel(n_jobs=-7)]: Done  84 tasks      | elapsed:    0.3s\n",
      "[Parallel(n_jobs=-7)]: Done 762 tasks      | elapsed:    1.9s\n",
      "[Parallel(n_jobs=-7)]: Done 1781 tasks      | elapsed:    5.1s\n",
      "[Parallel(n_jobs=-7)]: Done 1845 out of 1960 | elapsed:    5.2s remaining:    0.2s\n",
      "[Parallel(n_jobs=-7)]: Done 1960 out of 1960 | elapsed:    6.2s finished\n"
     ]
    },
    {
     "name": "stdout",
     "output_type": "stream",
     "text": [
      "Fitting 10 folds for each of 196 candidates, totalling 1960 fits\n"
     ]
    },
    {
     "name": "stderr",
     "output_type": "stream",
     "text": [
      "[Parallel(n_jobs=-7)]: Using backend LokyBackend with 58 concurrent workers.\n",
      "[Parallel(n_jobs=-7)]: Done  84 tasks      | elapsed:    0.2s\n",
      "[Parallel(n_jobs=-7)]: Done 760 tasks      | elapsed:    1.8s\n",
      "[Parallel(n_jobs=-7)]: Done 1784 tasks      | elapsed:    5.0s\n",
      "[Parallel(n_jobs=-7)]: Done 1845 out of 1960 | elapsed:    5.2s remaining:    0.2s\n",
      "[Parallel(n_jobs=-7)]: Done 1960 out of 1960 | elapsed:    6.1s finished\n",
      "[Parallel(n_jobs=-7)]: Using backend LokyBackend with 58 concurrent workers.\n"
     ]
    },
    {
     "name": "stdout",
     "output_type": "stream",
     "text": [
      "Fitting 10 folds for each of 196 candidates, totalling 1960 fits\n"
     ]
    },
    {
     "name": "stderr",
     "output_type": "stream",
     "text": [
      "[Parallel(n_jobs=-7)]: Done  84 tasks      | elapsed:    0.2s\n",
      "[Parallel(n_jobs=-7)]: Done 762 tasks      | elapsed:    1.8s\n",
      "[Parallel(n_jobs=-7)]: Done 1781 tasks      | elapsed:    5.1s\n",
      "[Parallel(n_jobs=-7)]: Done 1845 out of 1960 | elapsed:    5.2s remaining:    0.2s\n",
      "[Parallel(n_jobs=-7)]: Done 1960 out of 1960 | elapsed:    6.1s finished\n",
      "[Parallel(n_jobs=-7)]: Using backend LokyBackend with 58 concurrent workers.\n"
     ]
    },
    {
     "name": "stdout",
     "output_type": "stream",
     "text": [
      "Fitting 10 folds for each of 196 candidates, totalling 1960 fits\n"
     ]
    },
    {
     "name": "stderr",
     "output_type": "stream",
     "text": [
      "[Parallel(n_jobs=-7)]: Done  84 tasks      | elapsed:    0.2s\n",
      "[Parallel(n_jobs=-7)]: Done 764 tasks      | elapsed:    1.9s\n",
      "[Parallel(n_jobs=-7)]: Done 1787 tasks      | elapsed:    5.1s\n",
      "[Parallel(n_jobs=-7)]: Done 1845 out of 1960 | elapsed:    5.2s remaining:    0.2s\n",
      "[Parallel(n_jobs=-7)]: Done 1960 out of 1960 | elapsed:    6.1s finished\n"
     ]
    },
    {
     "name": "stdout",
     "output_type": "stream",
     "text": [
      "Fitting 10 folds for each of 196 candidates, totalling 1960 fits\n"
     ]
    },
    {
     "name": "stderr",
     "output_type": "stream",
     "text": [
      "[Parallel(n_jobs=-7)]: Using backend LokyBackend with 58 concurrent workers.\n",
      "[Parallel(n_jobs=-7)]: Done  84 tasks      | elapsed:    0.2s\n",
      "[Parallel(n_jobs=-7)]: Done 762 tasks      | elapsed:    1.8s\n",
      "[Parallel(n_jobs=-7)]: Done 1787 tasks      | elapsed:    5.1s\n",
      "[Parallel(n_jobs=-7)]: Done 1845 out of 1960 | elapsed:    5.2s remaining:    0.2s\n",
      "[Parallel(n_jobs=-7)]: Done 1960 out of 1960 | elapsed:    6.1s finished\n",
      "[Parallel(n_jobs=-7)]: Using backend LokyBackend with 58 concurrent workers.\n"
     ]
    },
    {
     "name": "stdout",
     "output_type": "stream",
     "text": [
      "Fitting 10 folds for each of 196 candidates, totalling 1960 fits\n"
     ]
    },
    {
     "name": "stderr",
     "output_type": "stream",
     "text": [
      "[Parallel(n_jobs=-7)]: Done  84 tasks      | elapsed:    0.2s\n",
      "[Parallel(n_jobs=-7)]: Done 762 tasks      | elapsed:    1.8s\n",
      "[Parallel(n_jobs=-7)]: Done 1787 tasks      | elapsed:    5.1s\n",
      "[Parallel(n_jobs=-7)]: Done 1845 out of 1960 | elapsed:    5.2s remaining:    0.2s\n",
      "[Parallel(n_jobs=-7)]: Done 1960 out of 1960 | elapsed:    6.1s finished\n",
      "[Parallel(n_jobs=-7)]: Using backend LokyBackend with 58 concurrent workers.\n"
     ]
    },
    {
     "name": "stdout",
     "output_type": "stream",
     "text": [
      "Fitting 10 folds for each of 196 candidates, totalling 1960 fits\n"
     ]
    },
    {
     "name": "stderr",
     "output_type": "stream",
     "text": [
      "[Parallel(n_jobs=-7)]: Done  84 tasks      | elapsed:    0.2s\n",
      "[Parallel(n_jobs=-7)]: Done 758 tasks      | elapsed:    1.8s\n",
      "[Parallel(n_jobs=-7)]: Done 1784 tasks      | elapsed:    5.0s\n",
      "[Parallel(n_jobs=-7)]: Done 1845 out of 1960 | elapsed:    5.1s remaining:    0.2s\n",
      "[Parallel(n_jobs=-7)]: Done 1960 out of 1960 | elapsed:    6.1s finished\n"
     ]
    },
    {
     "name": "stdout",
     "output_type": "stream",
     "text": [
      "Fitting 10 folds for each of 196 candidates, totalling 1960 fits\n"
     ]
    },
    {
     "name": "stderr",
     "output_type": "stream",
     "text": [
      "[Parallel(n_jobs=-7)]: Using backend LokyBackend with 58 concurrent workers.\n",
      "[Parallel(n_jobs=-7)]: Done  84 tasks      | elapsed:    0.2s\n",
      "[Parallel(n_jobs=-7)]: Done 764 tasks      | elapsed:    1.8s\n",
      "[Parallel(n_jobs=-7)]: Done 1787 tasks      | elapsed:    5.1s\n",
      "[Parallel(n_jobs=-7)]: Done 1960 out of 1960 | elapsed:    6.2s finished\n"
     ]
    },
    {
     "name": "stdout",
     "output_type": "stream",
     "text": [
      "Fitting 10 folds for each of 196 candidates, totalling 1960 fits\n"
     ]
    },
    {
     "name": "stderr",
     "output_type": "stream",
     "text": [
      "[Parallel(n_jobs=-7)]: Using backend LokyBackend with 58 concurrent workers.\n",
      "[Parallel(n_jobs=-7)]: Done  85 tasks      | elapsed:    0.2s\n",
      "[Parallel(n_jobs=-7)]: Done 764 tasks      | elapsed:    1.8s\n",
      "[Parallel(n_jobs=-7)]: Done 1784 tasks      | elapsed:    5.0s\n",
      "[Parallel(n_jobs=-7)]: Done 1845 out of 1960 | elapsed:    5.1s remaining:    0.2s\n",
      "[Parallel(n_jobs=-7)]: Done 1960 out of 1960 | elapsed:    6.1s finished\n",
      "[Parallel(n_jobs=-7)]: Using backend LokyBackend with 58 concurrent workers.\n"
     ]
    },
    {
     "name": "stdout",
     "output_type": "stream",
     "text": [
      "Fitting 10 folds for each of 196 candidates, totalling 1960 fits\n"
     ]
    },
    {
     "name": "stderr",
     "output_type": "stream",
     "text": [
      "[Parallel(n_jobs=-7)]: Done  84 tasks      | elapsed:    0.2s\n",
      "[Parallel(n_jobs=-7)]: Done 764 tasks      | elapsed:    1.8s\n",
      "[Parallel(n_jobs=-7)]: Done 1778 tasks      | elapsed:    5.0s\n",
      "[Parallel(n_jobs=-7)]: Done 1845 out of 1960 | elapsed:    5.2s remaining:    0.2s\n",
      "[Parallel(n_jobs=-7)]: Done 1960 out of 1960 | elapsed:    6.1s finished\n"
     ]
    },
    {
     "name": "stdout",
     "output_type": "stream",
     "text": [
      "Fitting 10 folds for each of 196 candidates, totalling 1960 fits\n"
     ]
    },
    {
     "name": "stderr",
     "output_type": "stream",
     "text": [
      "[Parallel(n_jobs=-7)]: Using backend LokyBackend with 58 concurrent workers.\n",
      "[Parallel(n_jobs=-7)]: Done  84 tasks      | elapsed:    0.2s\n",
      "[Parallel(n_jobs=-7)]: Done 760 tasks      | elapsed:    1.8s\n",
      "[Parallel(n_jobs=-7)]: Done 1790 tasks      | elapsed:    5.0s\n",
      "[Parallel(n_jobs=-7)]: Done 1845 out of 1960 | elapsed:    5.1s remaining:    0.2s\n",
      "[Parallel(n_jobs=-7)]: Done 1960 out of 1960 | elapsed:    6.1s finished\n",
      "[Parallel(n_jobs=-7)]: Using backend LokyBackend with 58 concurrent workers.\n"
     ]
    },
    {
     "name": "stdout",
     "output_type": "stream",
     "text": [
      "Fitting 10 folds for each of 196 candidates, totalling 1960 fits\n"
     ]
    },
    {
     "name": "stderr",
     "output_type": "stream",
     "text": [
      "[Parallel(n_jobs=-7)]: Done  84 tasks      | elapsed:    0.2s\n",
      "[Parallel(n_jobs=-7)]: Done 764 tasks      | elapsed:    1.8s\n",
      "[Parallel(n_jobs=-7)]: Done 1778 tasks      | elapsed:    5.0s\n",
      "[Parallel(n_jobs=-7)]: Done 1845 out of 1960 | elapsed:    5.1s remaining:    0.2s\n",
      "[Parallel(n_jobs=-7)]: Done 1960 out of 1960 | elapsed:    6.1s finished\n"
     ]
    },
    {
     "name": "stdout",
     "output_type": "stream",
     "text": [
      "Fitting 10 folds for each of 196 candidates, totalling 1960 fits\n"
     ]
    },
    {
     "name": "stderr",
     "output_type": "stream",
     "text": [
      "[Parallel(n_jobs=-7)]: Using backend LokyBackend with 58 concurrent workers.\n",
      "[Parallel(n_jobs=-7)]: Done  84 tasks      | elapsed:    0.2s\n",
      "[Parallel(n_jobs=-7)]: Done 760 tasks      | elapsed:    1.7s\n",
      "[Parallel(n_jobs=-7)]: Done 1784 tasks      | elapsed:    4.5s\n",
      "[Parallel(n_jobs=-7)]: Done 1845 out of 1960 | elapsed:    4.6s remaining:    0.2s\n",
      "[Parallel(n_jobs=-7)]: Done 1960 out of 1960 | elapsed:    5.5s finished\n"
     ]
    },
    {
     "name": "stdout",
     "output_type": "stream",
     "text": [
      "Fitting 10 folds for each of 196 candidates, totalling 1960 fits\n"
     ]
    },
    {
     "name": "stderr",
     "output_type": "stream",
     "text": [
      "[Parallel(n_jobs=-7)]: Using backend LokyBackend with 58 concurrent workers.\n",
      "[Parallel(n_jobs=-7)]: Done  84 tasks      | elapsed:    0.2s\n",
      "[Parallel(n_jobs=-7)]: Done 760 tasks      | elapsed:    1.6s\n",
      "[Parallel(n_jobs=-7)]: Done 1778 tasks      | elapsed:    4.5s\n",
      "[Parallel(n_jobs=-7)]: Done 1845 out of 1960 | elapsed:    4.6s remaining:    0.2s\n",
      "[Parallel(n_jobs=-7)]: Done 1960 out of 1960 | elapsed:    5.4s finished\n",
      "[Parallel(n_jobs=-7)]: Using backend LokyBackend with 58 concurrent workers.\n"
     ]
    },
    {
     "name": "stdout",
     "output_type": "stream",
     "text": [
      "Fitting 10 folds for each of 196 candidates, totalling 1960 fits\n"
     ]
    },
    {
     "name": "stderr",
     "output_type": "stream",
     "text": [
      "[Parallel(n_jobs=-7)]: Done  85 tasks      | elapsed:    0.2s\n",
      "[Parallel(n_jobs=-7)]: Done 762 tasks      | elapsed:    1.7s\n",
      "[Parallel(n_jobs=-7)]: Done 1790 tasks      | elapsed:    4.5s\n",
      "[Parallel(n_jobs=-7)]: Done 1845 out of 1960 | elapsed:    4.6s remaining:    0.2s\n",
      "[Parallel(n_jobs=-7)]: Done 1960 out of 1960 | elapsed:    5.5s finished\n",
      "[Parallel(n_jobs=-7)]: Using backend LokyBackend with 58 concurrent workers.\n"
     ]
    },
    {
     "name": "stdout",
     "output_type": "stream",
     "text": [
      "Fitting 10 folds for each of 196 candidates, totalling 1960 fits\n"
     ]
    },
    {
     "name": "stderr",
     "output_type": "stream",
     "text": [
      "[Parallel(n_jobs=-7)]: Done  84 tasks      | elapsed:    0.2s\n",
      "[Parallel(n_jobs=-7)]: Done 760 tasks      | elapsed:    1.7s\n",
      "[Parallel(n_jobs=-7)]: Done 1787 tasks      | elapsed:    4.5s\n",
      "[Parallel(n_jobs=-7)]: Done 1845 out of 1960 | elapsed:    4.6s remaining:    0.2s\n",
      "[Parallel(n_jobs=-7)]: Done 1960 out of 1960 | elapsed:    5.5s finished\n",
      "[Parallel(n_jobs=-7)]: Using backend LokyBackend with 58 concurrent workers.\n"
     ]
    },
    {
     "name": "stdout",
     "output_type": "stream",
     "text": [
      "Fitting 10 folds for each of 196 candidates, totalling 1960 fits\n"
     ]
    },
    {
     "name": "stderr",
     "output_type": "stream",
     "text": [
      "[Parallel(n_jobs=-7)]: Done  84 tasks      | elapsed:    0.2s\n",
      "[Parallel(n_jobs=-7)]: Done 764 tasks      | elapsed:    1.7s\n",
      "[Parallel(n_jobs=-7)]: Done 1787 tasks      | elapsed:    4.5s\n",
      "[Parallel(n_jobs=-7)]: Done 1960 out of 1960 | elapsed:    5.5s finished\n"
     ]
    },
    {
     "name": "stdout",
     "output_type": "stream",
     "text": [
      "Fitting 10 folds for each of 196 candidates, totalling 1960 fits\n"
     ]
    },
    {
     "name": "stderr",
     "output_type": "stream",
     "text": [
      "[Parallel(n_jobs=-7)]: Using backend LokyBackend with 58 concurrent workers.\n",
      "[Parallel(n_jobs=-7)]: Done  84 tasks      | elapsed:    0.2s\n",
      "[Parallel(n_jobs=-7)]: Done 762 tasks      | elapsed:    1.7s\n",
      "[Parallel(n_jobs=-7)]: Done 1790 tasks      | elapsed:    4.6s\n",
      "[Parallel(n_jobs=-7)]: Done 1845 out of 1960 | elapsed:    4.7s remaining:    0.2s\n",
      "[Parallel(n_jobs=-7)]: Done 1960 out of 1960 | elapsed:    5.6s finished\n",
      "[Parallel(n_jobs=-7)]: Using backend LokyBackend with 58 concurrent workers.\n"
     ]
    },
    {
     "name": "stdout",
     "output_type": "stream",
     "text": [
      "Fitting 10 folds for each of 196 candidates, totalling 1960 fits\n"
     ]
    },
    {
     "name": "stderr",
     "output_type": "stream",
     "text": [
      "[Parallel(n_jobs=-7)]: Done  84 tasks      | elapsed:    0.2s\n",
      "[Parallel(n_jobs=-7)]: Done 762 tasks      | elapsed:    1.7s\n",
      "[Parallel(n_jobs=-7)]: Done 1778 tasks      | elapsed:    4.5s\n",
      "[Parallel(n_jobs=-7)]: Done 1845 out of 1960 | elapsed:    4.7s remaining:    0.2s\n",
      "[Parallel(n_jobs=-7)]: Done 1960 out of 1960 | elapsed:    5.5s finished\n",
      "[Parallel(n_jobs=-7)]: Using backend LokyBackend with 58 concurrent workers.\n"
     ]
    },
    {
     "name": "stdout",
     "output_type": "stream",
     "text": [
      "Fitting 10 folds for each of 196 candidates, totalling 1960 fits\n"
     ]
    },
    {
     "name": "stderr",
     "output_type": "stream",
     "text": [
      "[Parallel(n_jobs=-7)]: Done  84 tasks      | elapsed:    0.2s\n",
      "[Parallel(n_jobs=-7)]: Done 762 tasks      | elapsed:    1.7s\n",
      "[Parallel(n_jobs=-7)]: Done 1790 tasks      | elapsed:    4.5s\n",
      "[Parallel(n_jobs=-7)]: Done 1960 out of 1960 | elapsed:    5.5s finished\n",
      "[Parallel(n_jobs=-7)]: Using backend LokyBackend with 58 concurrent workers.\n"
     ]
    },
    {
     "name": "stdout",
     "output_type": "stream",
     "text": [
      "Fitting 10 folds for each of 196 candidates, totalling 1960 fits\n"
     ]
    },
    {
     "name": "stderr",
     "output_type": "stream",
     "text": [
      "[Parallel(n_jobs=-7)]: Done  84 tasks      | elapsed:    0.2s\n",
      "[Parallel(n_jobs=-7)]: Done 764 tasks      | elapsed:    1.7s\n",
      "[Parallel(n_jobs=-7)]: Done 1790 tasks      | elapsed:    4.5s\n",
      "[Parallel(n_jobs=-7)]: Done 1845 out of 1960 | elapsed:    4.6s remaining:    0.2s\n",
      "[Parallel(n_jobs=-7)]: Done 1960 out of 1960 | elapsed:    5.5s finished\n",
      "[Parallel(n_jobs=-7)]: Using backend LokyBackend with 58 concurrent workers.\n"
     ]
    },
    {
     "name": "stdout",
     "output_type": "stream",
     "text": [
      "Fitting 10 folds for each of 196 candidates, totalling 1960 fits\n"
     ]
    },
    {
     "name": "stderr",
     "output_type": "stream",
     "text": [
      "[Parallel(n_jobs=-7)]: Done  84 tasks      | elapsed:    0.2s\n",
      "[Parallel(n_jobs=-7)]: Done 758 tasks      | elapsed:    1.7s\n",
      "[Parallel(n_jobs=-7)]: Done 1787 tasks      | elapsed:    4.6s\n",
      "[Parallel(n_jobs=-7)]: Done 1845 out of 1960 | elapsed:    4.7s remaining:    0.2s\n",
      "[Parallel(n_jobs=-7)]: Done 1960 out of 1960 | elapsed:    5.5s finished\n"
     ]
    },
    {
     "name": "stdout",
     "output_type": "stream",
     "text": [
      "Fitting 10 folds for each of 196 candidates, totalling 1960 fits\n"
     ]
    },
    {
     "name": "stderr",
     "output_type": "stream",
     "text": [
      "[Parallel(n_jobs=-7)]: Using backend LokyBackend with 58 concurrent workers.\n",
      "[Parallel(n_jobs=-7)]: Done  84 tasks      | elapsed:    0.2s\n",
      "[Parallel(n_jobs=-7)]: Done 764 tasks      | elapsed:    1.7s\n",
      "[Parallel(n_jobs=-7)]: Done 1784 tasks      | elapsed:    4.6s\n",
      "[Parallel(n_jobs=-7)]: Done 1845 out of 1960 | elapsed:    4.7s remaining:    0.2s\n",
      "[Parallel(n_jobs=-7)]: Done 1960 out of 1960 | elapsed:    5.5s finished\n"
     ]
    },
    {
     "name": "stdout",
     "output_type": "stream",
     "text": [
      "Fitting 10 folds for each of 196 candidates, totalling 1960 fits\n"
     ]
    },
    {
     "name": "stderr",
     "output_type": "stream",
     "text": [
      "[Parallel(n_jobs=-7)]: Using backend LokyBackend with 58 concurrent workers.\n",
      "[Parallel(n_jobs=-7)]: Done  84 tasks      | elapsed:    0.2s\n",
      "[Parallel(n_jobs=-7)]: Done 762 tasks      | elapsed:    1.7s\n",
      "[Parallel(n_jobs=-7)]: Done 1793 tasks      | elapsed:    4.6s\n",
      "[Parallel(n_jobs=-7)]: Done 1960 out of 1960 | elapsed:    5.5s finished\n"
     ]
    },
    {
     "name": "stdout",
     "output_type": "stream",
     "text": [
      "Fitting 10 folds for each of 196 candidates, totalling 1960 fits\n"
     ]
    },
    {
     "name": "stderr",
     "output_type": "stream",
     "text": [
      "[Parallel(n_jobs=-7)]: Using backend LokyBackend with 58 concurrent workers.\n",
      "[Parallel(n_jobs=-7)]: Done  84 tasks      | elapsed:    0.2s\n",
      "[Parallel(n_jobs=-7)]: Done 760 tasks      | elapsed:    1.7s\n",
      "[Parallel(n_jobs=-7)]: Done 1787 tasks      | elapsed:    4.6s\n",
      "[Parallel(n_jobs=-7)]: Done 1845 out of 1960 | elapsed:    4.7s remaining:    0.2s\n",
      "[Parallel(n_jobs=-7)]: Done 1960 out of 1960 | elapsed:    5.5s finished\n"
     ]
    },
    {
     "name": "stdout",
     "output_type": "stream",
     "text": [
      "Fitting 10 folds for each of 196 candidates, totalling 1960 fits\n"
     ]
    },
    {
     "name": "stderr",
     "output_type": "stream",
     "text": [
      "[Parallel(n_jobs=-7)]: Using backend LokyBackend with 58 concurrent workers.\n",
      "[Parallel(n_jobs=-7)]: Done  84 tasks      | elapsed:    0.3s\n",
      "[Parallel(n_jobs=-7)]: Done 760 tasks      | elapsed:    1.7s\n",
      "[Parallel(n_jobs=-7)]: Done 1787 tasks      | elapsed:    4.6s\n",
      "[Parallel(n_jobs=-7)]: Done 1845 out of 1960 | elapsed:    4.7s remaining:    0.2s\n",
      "[Parallel(n_jobs=-7)]: Done 1960 out of 1960 | elapsed:    5.6s finished\n",
      "[Parallel(n_jobs=-7)]: Using backend LokyBackend with 58 concurrent workers.\n"
     ]
    },
    {
     "name": "stdout",
     "output_type": "stream",
     "text": [
      "Fitting 10 folds for each of 196 candidates, totalling 1960 fits\n"
     ]
    },
    {
     "name": "stderr",
     "output_type": "stream",
     "text": [
      "[Parallel(n_jobs=-7)]: Done  84 tasks      | elapsed:    0.2s\n",
      "[Parallel(n_jobs=-7)]: Done 764 tasks      | elapsed:    1.7s\n",
      "[Parallel(n_jobs=-7)]: Done 1781 tasks      | elapsed:    4.6s\n",
      "[Parallel(n_jobs=-7)]: Done 1960 out of 1960 | elapsed:    5.5s finished\n"
     ]
    },
    {
     "name": "stdout",
     "output_type": "stream",
     "text": [
      "Fitting 10 folds for each of 196 candidates, totalling 1960 fits\n"
     ]
    },
    {
     "name": "stderr",
     "output_type": "stream",
     "text": [
      "[Parallel(n_jobs=-7)]: Using backend LokyBackend with 58 concurrent workers.\n",
      "[Parallel(n_jobs=-7)]: Done  84 tasks      | elapsed:    0.2s\n",
      "[Parallel(n_jobs=-7)]: Done 762 tasks      | elapsed:    1.7s\n",
      "[Parallel(n_jobs=-7)]: Done 1784 tasks      | elapsed:    4.6s\n",
      "[Parallel(n_jobs=-7)]: Done 1845 out of 1960 | elapsed:    4.7s remaining:    0.2s\n",
      "[Parallel(n_jobs=-7)]: Done 1960 out of 1960 | elapsed:    5.6s finished\n",
      "[Parallel(n_jobs=-7)]: Using backend LokyBackend with 58 concurrent workers.\n"
     ]
    },
    {
     "name": "stdout",
     "output_type": "stream",
     "text": [
      "Fitting 10 folds for each of 196 candidates, totalling 1960 fits\n"
     ]
    },
    {
     "name": "stderr",
     "output_type": "stream",
     "text": [
      "[Parallel(n_jobs=-7)]: Done  84 tasks      | elapsed:    0.2s\n",
      "[Parallel(n_jobs=-7)]: Done 762 tasks      | elapsed:    1.8s\n",
      "[Parallel(n_jobs=-7)]: Done 1781 tasks      | elapsed:    4.6s\n",
      "[Parallel(n_jobs=-7)]: Done 1845 out of 1960 | elapsed:    4.8s remaining:    0.2s\n",
      "[Parallel(n_jobs=-7)]: Done 1960 out of 1960 | elapsed:    5.6s finished\n",
      "[Parallel(n_jobs=-7)]: Using backend LokyBackend with 58 concurrent workers.\n"
     ]
    },
    {
     "name": "stdout",
     "output_type": "stream",
     "text": [
      "Fitting 10 folds for each of 196 candidates, totalling 1960 fits\n"
     ]
    },
    {
     "name": "stderr",
     "output_type": "stream",
     "text": [
      "[Parallel(n_jobs=-7)]: Done  84 tasks      | elapsed:    0.2s\n",
      "[Parallel(n_jobs=-7)]: Done 760 tasks      | elapsed:    1.7s\n",
      "[Parallel(n_jobs=-7)]: Done 1787 tasks      | elapsed:    4.6s\n",
      "[Parallel(n_jobs=-7)]: Done 1845 out of 1960 | elapsed:    4.7s remaining:    0.2s\n",
      "[Parallel(n_jobs=-7)]: Done 1960 out of 1960 | elapsed:    5.5s finished\n",
      "[Parallel(n_jobs=-7)]: Using backend LokyBackend with 58 concurrent workers.\n"
     ]
    },
    {
     "name": "stdout",
     "output_type": "stream",
     "text": [
      "Fitting 10 folds for each of 196 candidates, totalling 1960 fits\n"
     ]
    },
    {
     "name": "stderr",
     "output_type": "stream",
     "text": [
      "[Parallel(n_jobs=-7)]: Done  84 tasks      | elapsed:    0.2s\n",
      "[Parallel(n_jobs=-7)]: Done 764 tasks      | elapsed:    1.7s\n",
      "[Parallel(n_jobs=-7)]: Done 1781 tasks      | elapsed:    4.6s\n",
      "[Parallel(n_jobs=-7)]: Done 1960 out of 1960 | elapsed:    5.5s finished\n",
      "[Parallel(n_jobs=-7)]: Using backend LokyBackend with 58 concurrent workers.\n"
     ]
    },
    {
     "name": "stdout",
     "output_type": "stream",
     "text": [
      "Fitting 10 folds for each of 196 candidates, totalling 1960 fits\n"
     ]
    },
    {
     "name": "stderr",
     "output_type": "stream",
     "text": [
      "[Parallel(n_jobs=-7)]: Done  84 tasks      | elapsed:    0.2s\n",
      "[Parallel(n_jobs=-7)]: Done 764 tasks      | elapsed:    1.7s\n",
      "[Parallel(n_jobs=-7)]: Done 1784 tasks      | elapsed:    4.6s\n",
      "[Parallel(n_jobs=-7)]: Done 1845 out of 1960 | elapsed:    4.7s remaining:    0.2s\n",
      "[Parallel(n_jobs=-7)]: Done 1960 out of 1960 | elapsed:    5.6s finished\n"
     ]
    },
    {
     "name": "stdout",
     "output_type": "stream",
     "text": [
      "Fitting 10 folds for each of 196 candidates, totalling 1960 fits\n"
     ]
    },
    {
     "name": "stderr",
     "output_type": "stream",
     "text": [
      "[Parallel(n_jobs=-7)]: Using backend LokyBackend with 58 concurrent workers.\n",
      "[Parallel(n_jobs=-7)]: Done  84 tasks      | elapsed:    0.2s\n",
      "[Parallel(n_jobs=-7)]: Done 760 tasks      | elapsed:    1.7s\n",
      "[Parallel(n_jobs=-7)]: Done 1787 tasks      | elapsed:    4.5s\n",
      "[Parallel(n_jobs=-7)]: Done 1845 out of 1960 | elapsed:    4.7s remaining:    0.2s\n",
      "[Parallel(n_jobs=-7)]: Done 1960 out of 1960 | elapsed:    5.5s finished\n",
      "[Parallel(n_jobs=-7)]: Using backend LokyBackend with 58 concurrent workers.\n"
     ]
    },
    {
     "name": "stdout",
     "output_type": "stream",
     "text": [
      "Fitting 10 folds for each of 196 candidates, totalling 1960 fits\n"
     ]
    },
    {
     "name": "stderr",
     "output_type": "stream",
     "text": [
      "[Parallel(n_jobs=-7)]: Done  84 tasks      | elapsed:    0.2s\n",
      "[Parallel(n_jobs=-7)]: Done 758 tasks      | elapsed:    1.7s\n",
      "[Parallel(n_jobs=-7)]: Done 1784 tasks      | elapsed:    4.6s\n",
      "[Parallel(n_jobs=-7)]: Done 1845 out of 1960 | elapsed:    4.7s remaining:    0.2s\n",
      "[Parallel(n_jobs=-7)]: Done 1960 out of 1960 | elapsed:    5.6s finished\n",
      "[Parallel(n_jobs=-7)]: Using backend LokyBackend with 58 concurrent workers.\n"
     ]
    },
    {
     "name": "stdout",
     "output_type": "stream",
     "text": [
      "Fitting 10 folds for each of 196 candidates, totalling 1960 fits\n"
     ]
    },
    {
     "name": "stderr",
     "output_type": "stream",
     "text": [
      "[Parallel(n_jobs=-7)]: Done  84 tasks      | elapsed:    0.2s\n",
      "[Parallel(n_jobs=-7)]: Done 764 tasks      | elapsed:    1.7s\n",
      "[Parallel(n_jobs=-7)]: Done 1781 tasks      | elapsed:    4.6s\n",
      "[Parallel(n_jobs=-7)]: Done 1845 out of 1960 | elapsed:    4.7s remaining:    0.2s\n",
      "[Parallel(n_jobs=-7)]: Done 1960 out of 1960 | elapsed:    5.6s finished\n",
      "[Parallel(n_jobs=-7)]: Using backend LokyBackend with 58 concurrent workers.\n"
     ]
    },
    {
     "name": "stdout",
     "output_type": "stream",
     "text": [
      "Fitting 10 folds for each of 196 candidates, totalling 1960 fits\n"
     ]
    },
    {
     "name": "stderr",
     "output_type": "stream",
     "text": [
      "[Parallel(n_jobs=-7)]: Done  84 tasks      | elapsed:    0.2s\n",
      "[Parallel(n_jobs=-7)]: Done 762 tasks      | elapsed:    1.7s\n",
      "[Parallel(n_jobs=-7)]: Done 1784 tasks      | elapsed:    4.6s\n",
      "[Parallel(n_jobs=-7)]: Done 1845 out of 1960 | elapsed:    4.8s remaining:    0.2s\n",
      "[Parallel(n_jobs=-7)]: Done 1960 out of 1960 | elapsed:    5.6s finished\n"
     ]
    },
    {
     "name": "stdout",
     "output_type": "stream",
     "text": [
      "Fitting 10 folds for each of 196 candidates, totalling 1960 fits\n"
     ]
    },
    {
     "name": "stderr",
     "output_type": "stream",
     "text": [
      "[Parallel(n_jobs=-7)]: Using backend LokyBackend with 58 concurrent workers.\n",
      "[Parallel(n_jobs=-7)]: Done  84 tasks      | elapsed:    0.2s\n",
      "[Parallel(n_jobs=-7)]: Done 760 tasks      | elapsed:    1.7s\n",
      "[Parallel(n_jobs=-7)]: Done 1778 tasks      | elapsed:    4.6s\n",
      "[Parallel(n_jobs=-7)]: Done 1845 out of 1960 | elapsed:    4.7s remaining:    0.2s\n",
      "[Parallel(n_jobs=-7)]: Done 1960 out of 1960 | elapsed:    5.5s finished\n"
     ]
    },
    {
     "name": "stdout",
     "output_type": "stream",
     "text": [
      "Fitting 10 folds for each of 196 candidates, totalling 1960 fits\n"
     ]
    },
    {
     "name": "stderr",
     "output_type": "stream",
     "text": [
      "[Parallel(n_jobs=-7)]: Using backend LokyBackend with 58 concurrent workers.\n",
      "[Parallel(n_jobs=-7)]: Done  84 tasks      | elapsed:    0.2s\n",
      "[Parallel(n_jobs=-7)]: Done 764 tasks      | elapsed:    1.7s\n",
      "[Parallel(n_jobs=-7)]: Done 1787 tasks      | elapsed:    4.6s\n",
      "[Parallel(n_jobs=-7)]: Done 1845 out of 1960 | elapsed:    4.7s remaining:    0.2s\n",
      "[Parallel(n_jobs=-7)]: Done 1960 out of 1960 | elapsed:    5.6s finished\n"
     ]
    },
    {
     "name": "stdout",
     "output_type": "stream",
     "text": [
      "Fitting 10 folds for each of 196 candidates, totalling 1960 fits\n"
     ]
    },
    {
     "name": "stderr",
     "output_type": "stream",
     "text": [
      "[Parallel(n_jobs=-7)]: Using backend LokyBackend with 58 concurrent workers.\n",
      "[Parallel(n_jobs=-7)]: Done  84 tasks      | elapsed:    0.3s\n",
      "[Parallel(n_jobs=-7)]: Done 762 tasks      | elapsed:    1.8s\n",
      "[Parallel(n_jobs=-7)]: Done 1784 tasks      | elapsed:    4.8s\n",
      "[Parallel(n_jobs=-7)]: Done 1845 out of 1960 | elapsed:    4.9s remaining:    0.2s\n",
      "[Parallel(n_jobs=-7)]: Done 1960 out of 1960 | elapsed:    5.8s finished\n",
      "[Parallel(n_jobs=-7)]: Using backend LokyBackend with 58 concurrent workers.\n"
     ]
    },
    {
     "name": "stdout",
     "output_type": "stream",
     "text": [
      "Fitting 10 folds for each of 196 candidates, totalling 1960 fits\n"
     ]
    },
    {
     "name": "stderr",
     "output_type": "stream",
     "text": [
      "[Parallel(n_jobs=-7)]: Done  84 tasks      | elapsed:    0.2s\n",
      "[Parallel(n_jobs=-7)]: Done 764 tasks      | elapsed:    1.7s\n",
      "[Parallel(n_jobs=-7)]: Done 1781 tasks      | elapsed:    4.7s\n",
      "[Parallel(n_jobs=-7)]: Done 1845 out of 1960 | elapsed:    4.8s remaining:    0.2s\n",
      "[Parallel(n_jobs=-7)]: Done 1960 out of 1960 | elapsed:    5.6s finished\n",
      "[Parallel(n_jobs=-7)]: Using backend LokyBackend with 58 concurrent workers.\n"
     ]
    },
    {
     "name": "stdout",
     "output_type": "stream",
     "text": [
      "Fitting 10 folds for each of 196 candidates, totalling 1960 fits\n"
     ]
    },
    {
     "name": "stderr",
     "output_type": "stream",
     "text": [
      "[Parallel(n_jobs=-7)]: Done  84 tasks      | elapsed:    0.2s\n",
      "[Parallel(n_jobs=-7)]: Done 764 tasks      | elapsed:    1.7s\n",
      "[Parallel(n_jobs=-7)]: Done 1778 tasks      | elapsed:    4.6s\n",
      "[Parallel(n_jobs=-7)]: Done 1845 out of 1960 | elapsed:    4.8s remaining:    0.2s\n",
      "[Parallel(n_jobs=-7)]: Done 1960 out of 1960 | elapsed:    5.6s finished\n",
      "[Parallel(n_jobs=-7)]: Using backend LokyBackend with 58 concurrent workers.\n"
     ]
    },
    {
     "name": "stdout",
     "output_type": "stream",
     "text": [
      "Fitting 10 folds for each of 196 candidates, totalling 1960 fits\n"
     ]
    },
    {
     "name": "stderr",
     "output_type": "stream",
     "text": [
      "[Parallel(n_jobs=-7)]: Done  84 tasks      | elapsed:    0.2s\n",
      "[Parallel(n_jobs=-7)]: Done 760 tasks      | elapsed:    1.7s\n",
      "[Parallel(n_jobs=-7)]: Done 1784 tasks      | elapsed:    4.6s\n",
      "[Parallel(n_jobs=-7)]: Done 1845 out of 1960 | elapsed:    4.8s remaining:    0.2s\n",
      "[Parallel(n_jobs=-7)]: Done 1960 out of 1960 | elapsed:    5.6s finished\n",
      "[Parallel(n_jobs=-7)]: Using backend LokyBackend with 58 concurrent workers.\n"
     ]
    },
    {
     "name": "stdout",
     "output_type": "stream",
     "text": [
      "Fitting 10 folds for each of 196 candidates, totalling 1960 fits\n"
     ]
    },
    {
     "name": "stderr",
     "output_type": "stream",
     "text": [
      "[Parallel(n_jobs=-7)]: Done  84 tasks      | elapsed:    0.2s\n",
      "[Parallel(n_jobs=-7)]: Done 762 tasks      | elapsed:    1.7s\n",
      "[Parallel(n_jobs=-7)]: Done 1787 tasks      | elapsed:    4.7s\n",
      "[Parallel(n_jobs=-7)]: Done 1845 out of 1960 | elapsed:    4.8s remaining:    0.2s\n",
      "[Parallel(n_jobs=-7)]: Done 1960 out of 1960 | elapsed:    5.7s finished\n",
      "[Parallel(n_jobs=-7)]: Using backend LokyBackend with 58 concurrent workers.\n"
     ]
    },
    {
     "name": "stdout",
     "output_type": "stream",
     "text": [
      "Fitting 10 folds for each of 196 candidates, totalling 1960 fits\n"
     ]
    },
    {
     "name": "stderr",
     "output_type": "stream",
     "text": [
      "[Parallel(n_jobs=-7)]: Done  84 tasks      | elapsed:    0.2s\n",
      "[Parallel(n_jobs=-7)]: Done 762 tasks      | elapsed:    1.7s\n",
      "[Parallel(n_jobs=-7)]: Done 1787 tasks      | elapsed:    4.6s\n",
      "[Parallel(n_jobs=-7)]: Done 1845 out of 1960 | elapsed:    4.8s remaining:    0.2s\n",
      "[Parallel(n_jobs=-7)]: Done 1960 out of 1960 | elapsed:    5.6s finished\n"
     ]
    },
    {
     "name": "stdout",
     "output_type": "stream",
     "text": [
      "Fitting 10 folds for each of 196 candidates, totalling 1960 fits\n"
     ]
    },
    {
     "name": "stderr",
     "output_type": "stream",
     "text": [
      "[Parallel(n_jobs=-7)]: Using backend LokyBackend with 58 concurrent workers.\n",
      "[Parallel(n_jobs=-7)]: Done  84 tasks      | elapsed:    0.2s\n",
      "[Parallel(n_jobs=-7)]: Done 762 tasks      | elapsed:    1.8s\n",
      "[Parallel(n_jobs=-7)]: Done 1781 tasks      | elapsed:    4.7s\n",
      "[Parallel(n_jobs=-7)]: Done 1845 out of 1960 | elapsed:    4.8s remaining:    0.2s\n",
      "[Parallel(n_jobs=-7)]: Done 1960 out of 1960 | elapsed:    5.6s finished\n",
      "[Parallel(n_jobs=-7)]: Using backend LokyBackend with 58 concurrent workers.\n"
     ]
    },
    {
     "name": "stdout",
     "output_type": "stream",
     "text": [
      "Fitting 10 folds for each of 196 candidates, totalling 1960 fits\n"
     ]
    },
    {
     "name": "stderr",
     "output_type": "stream",
     "text": [
      "[Parallel(n_jobs=-7)]: Done  84 tasks      | elapsed:    0.2s\n",
      "[Parallel(n_jobs=-7)]: Done 760 tasks      | elapsed:    1.7s\n",
      "[Parallel(n_jobs=-7)]: Done 1796 tasks      | elapsed:    4.7s\n",
      "[Parallel(n_jobs=-7)]: Done 1845 out of 1960 | elapsed:    4.7s remaining:    0.2s\n",
      "[Parallel(n_jobs=-7)]: Done 1960 out of 1960 | elapsed:    5.7s finished\n",
      "[Parallel(n_jobs=-7)]: Using backend LokyBackend with 58 concurrent workers.\n"
     ]
    },
    {
     "name": "stdout",
     "output_type": "stream",
     "text": [
      "Fitting 10 folds for each of 196 candidates, totalling 1960 fits\n"
     ]
    },
    {
     "name": "stderr",
     "output_type": "stream",
     "text": [
      "[Parallel(n_jobs=-7)]: Done  84 tasks      | elapsed:    0.2s\n",
      "[Parallel(n_jobs=-7)]: Done 762 tasks      | elapsed:    1.7s\n",
      "[Parallel(n_jobs=-7)]: Done 1787 tasks      | elapsed:    4.7s\n",
      "[Parallel(n_jobs=-7)]: Done 1845 out of 1960 | elapsed:    4.8s remaining:    0.2s\n",
      "[Parallel(n_jobs=-7)]: Done 1960 out of 1960 | elapsed:    5.6s finished\n",
      "[Parallel(n_jobs=-7)]: Using backend LokyBackend with 58 concurrent workers.\n"
     ]
    },
    {
     "name": "stdout",
     "output_type": "stream",
     "text": [
      "Fitting 10 folds for each of 196 candidates, totalling 1960 fits\n"
     ]
    },
    {
     "name": "stderr",
     "output_type": "stream",
     "text": [
      "[Parallel(n_jobs=-7)]: Done  84 tasks      | elapsed:    0.2s\n",
      "[Parallel(n_jobs=-7)]: Done 764 tasks      | elapsed:    1.7s\n",
      "[Parallel(n_jobs=-7)]: Done 1781 tasks      | elapsed:    4.7s\n",
      "[Parallel(n_jobs=-7)]: Done 1845 out of 1960 | elapsed:    4.8s remaining:    0.2s\n",
      "[Parallel(n_jobs=-7)]: Done 1960 out of 1960 | elapsed:    5.7s finished\n"
     ]
    },
    {
     "name": "stdout",
     "output_type": "stream",
     "text": [
      "Fitting 10 folds for each of 196 candidates, totalling 1960 fits\n"
     ]
    },
    {
     "name": "stderr",
     "output_type": "stream",
     "text": [
      "[Parallel(n_jobs=-7)]: Using backend LokyBackend with 58 concurrent workers.\n",
      "[Parallel(n_jobs=-7)]: Done  84 tasks      | elapsed:    0.2s\n",
      "[Parallel(n_jobs=-7)]: Done 760 tasks      | elapsed:    1.8s\n",
      "[Parallel(n_jobs=-7)]: Done 1781 tasks      | elapsed:    4.8s\n",
      "[Parallel(n_jobs=-7)]: Done 1845 out of 1960 | elapsed:    4.9s remaining:    0.2s\n",
      "[Parallel(n_jobs=-7)]: Done 1960 out of 1960 | elapsed:    5.8s finished\n"
     ]
    },
    {
     "name": "stdout",
     "output_type": "stream",
     "text": [
      "Fitting 10 folds for each of 196 candidates, totalling 1960 fits\n"
     ]
    },
    {
     "name": "stderr",
     "output_type": "stream",
     "text": [
      "[Parallel(n_jobs=-7)]: Using backend LokyBackend with 58 concurrent workers.\n",
      "[Parallel(n_jobs=-7)]: Done  84 tasks      | elapsed:    0.2s\n",
      "[Parallel(n_jobs=-7)]: Done 762 tasks      | elapsed:    1.7s\n",
      "[Parallel(n_jobs=-7)]: Done 1781 tasks      | elapsed:    4.7s\n",
      "[Parallel(n_jobs=-7)]: Done 1845 out of 1960 | elapsed:    4.8s remaining:    0.2s\n",
      "[Parallel(n_jobs=-7)]: Done 1960 out of 1960 | elapsed:    5.7s finished\n",
      "[Parallel(n_jobs=-7)]: Using backend LokyBackend with 58 concurrent workers.\n"
     ]
    },
    {
     "name": "stdout",
     "output_type": "stream",
     "text": [
      "Fitting 10 folds for each of 196 candidates, totalling 1960 fits\n"
     ]
    },
    {
     "name": "stderr",
     "output_type": "stream",
     "text": [
      "[Parallel(n_jobs=-7)]: Done  84 tasks      | elapsed:    0.2s\n",
      "[Parallel(n_jobs=-7)]: Done 764 tasks      | elapsed:    1.7s\n",
      "[Parallel(n_jobs=-7)]: Done 1784 tasks      | elapsed:    4.7s\n",
      "[Parallel(n_jobs=-7)]: Done 1845 out of 1960 | elapsed:    4.8s remaining:    0.2s\n",
      "[Parallel(n_jobs=-7)]: Done 1960 out of 1960 | elapsed:    5.6s finished\n",
      "[Parallel(n_jobs=-7)]: Using backend LokyBackend with 58 concurrent workers.\n"
     ]
    },
    {
     "name": "stdout",
     "output_type": "stream",
     "text": [
      "Fitting 10 folds for each of 196 candidates, totalling 1960 fits\n"
     ]
    },
    {
     "name": "stderr",
     "output_type": "stream",
     "text": [
      "[Parallel(n_jobs=-7)]: Done  84 tasks      | elapsed:    0.2s\n",
      "[Parallel(n_jobs=-7)]: Done 762 tasks      | elapsed:    1.8s\n",
      "[Parallel(n_jobs=-7)]: Done 1784 tasks      | elapsed:    4.7s\n",
      "[Parallel(n_jobs=-7)]: Done 1960 out of 1960 | elapsed:    5.7s finished\n",
      "[Parallel(n_jobs=-7)]: Using backend LokyBackend with 58 concurrent workers.\n"
     ]
    },
    {
     "name": "stdout",
     "output_type": "stream",
     "text": [
      "Fitting 10 folds for each of 196 candidates, totalling 1960 fits\n"
     ]
    },
    {
     "name": "stderr",
     "output_type": "stream",
     "text": [
      "[Parallel(n_jobs=-7)]: Done  84 tasks      | elapsed:    0.2s\n",
      "[Parallel(n_jobs=-7)]: Done 764 tasks      | elapsed:    1.7s\n",
      "[Parallel(n_jobs=-7)]: Done 1784 tasks      | elapsed:    4.7s\n",
      "[Parallel(n_jobs=-7)]: Done 1845 out of 1960 | elapsed:    4.8s remaining:    0.2s\n",
      "[Parallel(n_jobs=-7)]: Done 1960 out of 1960 | elapsed:    5.7s finished\n",
      "[Parallel(n_jobs=-7)]: Using backend LokyBackend with 58 concurrent workers.\n"
     ]
    },
    {
     "name": "stdout",
     "output_type": "stream",
     "text": [
      "Fitting 10 folds for each of 196 candidates, totalling 1960 fits\n"
     ]
    },
    {
     "name": "stderr",
     "output_type": "stream",
     "text": [
      "[Parallel(n_jobs=-7)]: Done  85 tasks      | elapsed:    0.2s\n",
      "[Parallel(n_jobs=-7)]: Done 760 tasks      | elapsed:    1.7s\n",
      "[Parallel(n_jobs=-7)]: Done 1787 tasks      | elapsed:    4.7s\n",
      "[Parallel(n_jobs=-7)]: Done 1960 out of 1960 | elapsed:    5.6s finished\n",
      "[Parallel(n_jobs=-7)]: Using backend LokyBackend with 58 concurrent workers.\n"
     ]
    },
    {
     "name": "stdout",
     "output_type": "stream",
     "text": [
      "Fitting 10 folds for each of 196 candidates, totalling 1960 fits\n"
     ]
    },
    {
     "name": "stderr",
     "output_type": "stream",
     "text": [
      "[Parallel(n_jobs=-7)]: Done  85 tasks      | elapsed:    0.2s\n",
      "[Parallel(n_jobs=-7)]: Done 764 tasks      | elapsed:    1.7s\n",
      "[Parallel(n_jobs=-7)]: Done 1784 tasks      | elapsed:    4.7s\n",
      "[Parallel(n_jobs=-7)]: Done 1845 out of 1960 | elapsed:    4.8s remaining:    0.2s\n",
      "[Parallel(n_jobs=-7)]: Done 1960 out of 1960 | elapsed:    5.7s finished\n"
     ]
    },
    {
     "name": "stdout",
     "output_type": "stream",
     "text": [
      "Fitting 10 folds for each of 196 candidates, totalling 1960 fits\n"
     ]
    },
    {
     "name": "stderr",
     "output_type": "stream",
     "text": [
      "[Parallel(n_jobs=-7)]: Using backend LokyBackend with 58 concurrent workers.\n",
      "[Parallel(n_jobs=-7)]: Done  84 tasks      | elapsed:    0.2s\n",
      "[Parallel(n_jobs=-7)]: Done 762 tasks      | elapsed:    1.7s\n",
      "[Parallel(n_jobs=-7)]: Done 1790 tasks      | elapsed:    4.7s\n",
      "[Parallel(n_jobs=-7)]: Done 1845 out of 1960 | elapsed:    4.8s remaining:    0.2s\n",
      "[Parallel(n_jobs=-7)]: Done 1960 out of 1960 | elapsed:    5.7s finished\n",
      "[Parallel(n_jobs=-7)]: Using backend LokyBackend with 58 concurrent workers.\n"
     ]
    },
    {
     "name": "stdout",
     "output_type": "stream",
     "text": [
      "Fitting 10 folds for each of 196 candidates, totalling 1960 fits\n"
     ]
    },
    {
     "name": "stderr",
     "output_type": "stream",
     "text": [
      "[Parallel(n_jobs=-7)]: Done  84 tasks      | elapsed:    0.2s\n",
      "[Parallel(n_jobs=-7)]: Done 762 tasks      | elapsed:    1.7s\n",
      "[Parallel(n_jobs=-7)]: Done 1784 tasks      | elapsed:    4.7s\n",
      "[Parallel(n_jobs=-7)]: Done 1960 out of 1960 | elapsed:    5.6s finished\n"
     ]
    },
    {
     "name": "stdout",
     "output_type": "stream",
     "text": [
      "Fitting 10 folds for each of 196 candidates, totalling 1960 fits\n"
     ]
    },
    {
     "name": "stderr",
     "output_type": "stream",
     "text": [
      "[Parallel(n_jobs=-7)]: Using backend LokyBackend with 58 concurrent workers.\n",
      "[Parallel(n_jobs=-7)]: Done  84 tasks      | elapsed:    0.2s\n",
      "[Parallel(n_jobs=-7)]: Done 760 tasks      | elapsed:    1.7s\n",
      "[Parallel(n_jobs=-7)]: Done 1787 tasks      | elapsed:    4.7s\n",
      "[Parallel(n_jobs=-7)]: Done 1845 out of 1960 | elapsed:    4.8s remaining:    0.2s\n",
      "[Parallel(n_jobs=-7)]: Done 1960 out of 1960 | elapsed:    5.6s finished\n"
     ]
    },
    {
     "name": "stdout",
     "output_type": "stream",
     "text": [
      "Fitting 10 folds for each of 196 candidates, totalling 1960 fits\n"
     ]
    },
    {
     "name": "stderr",
     "output_type": "stream",
     "text": [
      "[Parallel(n_jobs=-7)]: Using backend LokyBackend with 58 concurrent workers.\n",
      "[Parallel(n_jobs=-7)]: Done  84 tasks      | elapsed:    0.2s\n",
      "[Parallel(n_jobs=-7)]: Done 762 tasks      | elapsed:    1.8s\n",
      "[Parallel(n_jobs=-7)]: Done 1784 tasks      | elapsed:    4.8s\n",
      "[Parallel(n_jobs=-7)]: Done 1845 out of 1960 | elapsed:    5.0s remaining:    0.2s\n",
      "[Parallel(n_jobs=-7)]: Done 1960 out of 1960 | elapsed:    5.8s finished\n",
      "[Parallel(n_jobs=-7)]: Using backend LokyBackend with 58 concurrent workers.\n"
     ]
    },
    {
     "name": "stdout",
     "output_type": "stream",
     "text": [
      "Fitting 10 folds for each of 196 candidates, totalling 1960 fits\n"
     ]
    },
    {
     "name": "stderr",
     "output_type": "stream",
     "text": [
      "[Parallel(n_jobs=-7)]: Done  84 tasks      | elapsed:    0.2s\n",
      "[Parallel(n_jobs=-7)]: Done 764 tasks      | elapsed:    1.8s\n",
      "[Parallel(n_jobs=-7)]: Done 1784 tasks      | elapsed:    4.7s\n",
      "[Parallel(n_jobs=-7)]: Done 1845 out of 1960 | elapsed:    4.9s remaining:    0.2s\n",
      "[Parallel(n_jobs=-7)]: Done 1960 out of 1960 | elapsed:    5.8s finished\n",
      "[Parallel(n_jobs=-7)]: Using backend LokyBackend with 58 concurrent workers.\n"
     ]
    },
    {
     "name": "stdout",
     "output_type": "stream",
     "text": [
      "Fitting 10 folds for each of 196 candidates, totalling 1960 fits\n"
     ]
    },
    {
     "name": "stderr",
     "output_type": "stream",
     "text": [
      "[Parallel(n_jobs=-7)]: Done  84 tasks      | elapsed:    0.2s\n",
      "[Parallel(n_jobs=-7)]: Done 762 tasks      | elapsed:    1.7s\n",
      "[Parallel(n_jobs=-7)]: Done 1784 tasks      | elapsed:    4.7s\n",
      "[Parallel(n_jobs=-7)]: Done 1845 out of 1960 | elapsed:    4.8s remaining:    0.2s\n",
      "[Parallel(n_jobs=-7)]: Done 1960 out of 1960 | elapsed:    5.7s finished\n",
      "[Parallel(n_jobs=-7)]: Using backend LokyBackend with 58 concurrent workers.\n"
     ]
    },
    {
     "name": "stdout",
     "output_type": "stream",
     "text": [
      "Fitting 10 folds for each of 196 candidates, totalling 1960 fits\n"
     ]
    },
    {
     "name": "stderr",
     "output_type": "stream",
     "text": [
      "[Parallel(n_jobs=-7)]: Done  84 tasks      | elapsed:    0.2s\n",
      "[Parallel(n_jobs=-7)]: Done 760 tasks      | elapsed:    1.8s\n",
      "[Parallel(n_jobs=-7)]: Done 1796 tasks      | elapsed:    4.8s\n",
      "[Parallel(n_jobs=-7)]: Done 1845 out of 1960 | elapsed:    4.9s remaining:    0.2s\n",
      "[Parallel(n_jobs=-7)]: Done 1960 out of 1960 | elapsed:    5.8s finished\n",
      "[Parallel(n_jobs=-7)]: Using backend LokyBackend with 58 concurrent workers.\n"
     ]
    },
    {
     "name": "stdout",
     "output_type": "stream",
     "text": [
      "Fitting 10 folds for each of 196 candidates, totalling 1960 fits\n"
     ]
    },
    {
     "name": "stderr",
     "output_type": "stream",
     "text": [
      "[Parallel(n_jobs=-7)]: Done  84 tasks      | elapsed:    0.2s\n",
      "[Parallel(n_jobs=-7)]: Done 764 tasks      | elapsed:    1.8s\n",
      "[Parallel(n_jobs=-7)]: Done 1784 tasks      | elapsed:    4.7s\n",
      "[Parallel(n_jobs=-7)]: Done 1845 out of 1960 | elapsed:    4.8s remaining:    0.2s\n",
      "[Parallel(n_jobs=-7)]: Done 1960 out of 1960 | elapsed:    5.7s finished\n",
      "[Parallel(n_jobs=-7)]: Using backend LokyBackend with 58 concurrent workers.\n"
     ]
    },
    {
     "name": "stdout",
     "output_type": "stream",
     "text": [
      "Fitting 10 folds for each of 196 candidates, totalling 1960 fits\n"
     ]
    },
    {
     "name": "stderr",
     "output_type": "stream",
     "text": [
      "[Parallel(n_jobs=-7)]: Done  84 tasks      | elapsed:    0.2s\n",
      "[Parallel(n_jobs=-7)]: Done 764 tasks      | elapsed:    1.8s\n",
      "[Parallel(n_jobs=-7)]: Done 1781 tasks      | elapsed:    4.7s\n",
      "[Parallel(n_jobs=-7)]: Done 1845 out of 1960 | elapsed:    4.9s remaining:    0.2s\n",
      "[Parallel(n_jobs=-7)]: Done 1960 out of 1960 | elapsed:    5.7s finished\n",
      "[Parallel(n_jobs=-7)]: Using backend LokyBackend with 58 concurrent workers.\n"
     ]
    },
    {
     "name": "stdout",
     "output_type": "stream",
     "text": [
      "Fitting 10 folds for each of 196 candidates, totalling 1960 fits\n"
     ]
    },
    {
     "name": "stderr",
     "output_type": "stream",
     "text": [
      "[Parallel(n_jobs=-7)]: Done  84 tasks      | elapsed:    0.2s\n",
      "[Parallel(n_jobs=-7)]: Done 760 tasks      | elapsed:    1.8s\n",
      "[Parallel(n_jobs=-7)]: Done 1784 tasks      | elapsed:    4.8s\n",
      "[Parallel(n_jobs=-7)]: Done 1960 out of 1960 | elapsed:    5.9s finished\n",
      "[Parallel(n_jobs=-7)]: Using backend LokyBackend with 58 concurrent workers.\n"
     ]
    },
    {
     "name": "stdout",
     "output_type": "stream",
     "text": [
      "Fitting 10 folds for each of 196 candidates, totalling 1960 fits\n"
     ]
    },
    {
     "name": "stderr",
     "output_type": "stream",
     "text": [
      "[Parallel(n_jobs=-7)]: Done  84 tasks      | elapsed:    0.2s\n",
      "[Parallel(n_jobs=-7)]: Done 762 tasks      | elapsed:    1.7s\n",
      "[Parallel(n_jobs=-7)]: Done 1781 tasks      | elapsed:    4.8s\n",
      "[Parallel(n_jobs=-7)]: Done 1845 out of 1960 | elapsed:    4.9s remaining:    0.2s\n",
      "[Parallel(n_jobs=-7)]: Done 1960 out of 1960 | elapsed:    5.8s finished\n",
      "[Parallel(n_jobs=-7)]: Using backend LokyBackend with 58 concurrent workers.\n"
     ]
    },
    {
     "name": "stdout",
     "output_type": "stream",
     "text": [
      "Fitting 10 folds for each of 196 candidates, totalling 1960 fits\n"
     ]
    },
    {
     "name": "stderr",
     "output_type": "stream",
     "text": [
      "[Parallel(n_jobs=-7)]: Done  84 tasks      | elapsed:    0.2s\n",
      "[Parallel(n_jobs=-7)]: Done 762 tasks      | elapsed:    1.8s\n",
      "[Parallel(n_jobs=-7)]: Done 1781 tasks      | elapsed:    4.8s\n",
      "[Parallel(n_jobs=-7)]: Done 1845 out of 1960 | elapsed:    4.9s remaining:    0.2s\n",
      "[Parallel(n_jobs=-7)]: Done 1960 out of 1960 | elapsed:    5.7s finished\n",
      "[Parallel(n_jobs=-7)]: Using backend LokyBackend with 58 concurrent workers.\n"
     ]
    },
    {
     "name": "stdout",
     "output_type": "stream",
     "text": [
      "Fitting 10 folds for each of 196 candidates, totalling 1960 fits\n"
     ]
    },
    {
     "name": "stderr",
     "output_type": "stream",
     "text": [
      "[Parallel(n_jobs=-7)]: Done  84 tasks      | elapsed:    0.2s\n",
      "[Parallel(n_jobs=-7)]: Done 760 tasks      | elapsed:    1.7s\n",
      "[Parallel(n_jobs=-7)]: Done 1787 tasks      | elapsed:    4.8s\n",
      "[Parallel(n_jobs=-7)]: Done 1845 out of 1960 | elapsed:    4.9s remaining:    0.2s\n",
      "[Parallel(n_jobs=-7)]: Done 1960 out of 1960 | elapsed:    5.8s finished\n",
      "[Parallel(n_jobs=-7)]: Using backend LokyBackend with 58 concurrent workers.\n"
     ]
    },
    {
     "name": "stdout",
     "output_type": "stream",
     "text": [
      "Fitting 10 folds for each of 196 candidates, totalling 1960 fits\n"
     ]
    },
    {
     "name": "stderr",
     "output_type": "stream",
     "text": [
      "[Parallel(n_jobs=-7)]: Done  84 tasks      | elapsed:    0.2s\n",
      "[Parallel(n_jobs=-7)]: Done 758 tasks      | elapsed:    1.8s\n",
      "[Parallel(n_jobs=-7)]: Done 1781 tasks      | elapsed:    4.9s\n",
      "[Parallel(n_jobs=-7)]: Done 1845 out of 1960 | elapsed:    5.0s remaining:    0.2s\n",
      "[Parallel(n_jobs=-7)]: Done 1960 out of 1960 | elapsed:    5.9s finished\n",
      "[Parallel(n_jobs=-7)]: Using backend LokyBackend with 58 concurrent workers.\n"
     ]
    },
    {
     "name": "stdout",
     "output_type": "stream",
     "text": [
      "Fitting 10 folds for each of 196 candidates, totalling 1960 fits\n"
     ]
    },
    {
     "name": "stderr",
     "output_type": "stream",
     "text": [
      "[Parallel(n_jobs=-7)]: Done  84 tasks      | elapsed:    0.2s\n",
      "[Parallel(n_jobs=-7)]: Done 760 tasks      | elapsed:    1.7s\n",
      "[Parallel(n_jobs=-7)]: Done 1778 tasks      | elapsed:    4.7s\n",
      "[Parallel(n_jobs=-7)]: Done 1845 out of 1960 | elapsed:    4.9s remaining:    0.2s\n",
      "[Parallel(n_jobs=-7)]: Done 1960 out of 1960 | elapsed:    5.8s finished\n",
      "[Parallel(n_jobs=-7)]: Using backend LokyBackend with 58 concurrent workers.\n"
     ]
    },
    {
     "name": "stdout",
     "output_type": "stream",
     "text": [
      "Fitting 10 folds for each of 196 candidates, totalling 1960 fits\n"
     ]
    },
    {
     "name": "stderr",
     "output_type": "stream",
     "text": [
      "[Parallel(n_jobs=-7)]: Done  84 tasks      | elapsed:    0.2s\n",
      "[Parallel(n_jobs=-7)]: Done 758 tasks      | elapsed:    1.8s\n",
      "[Parallel(n_jobs=-7)]: Done 1784 tasks      | elapsed:    4.8s\n",
      "[Parallel(n_jobs=-7)]: Done 1845 out of 1960 | elapsed:    4.9s remaining:    0.2s\n",
      "[Parallel(n_jobs=-7)]: Done 1960 out of 1960 | elapsed:    5.8s finished\n"
     ]
    },
    {
     "name": "stdout",
     "output_type": "stream",
     "text": [
      "Fitting 10 folds for each of 196 candidates, totalling 1960 fits\n"
     ]
    },
    {
     "name": "stderr",
     "output_type": "stream",
     "text": [
      "[Parallel(n_jobs=-7)]: Using backend LokyBackend with 58 concurrent workers.\n",
      "[Parallel(n_jobs=-7)]: Done  84 tasks      | elapsed:    0.2s\n",
      "[Parallel(n_jobs=-7)]: Done 762 tasks      | elapsed:    1.7s\n",
      "[Parallel(n_jobs=-7)]: Done 1784 tasks      | elapsed:    4.8s\n",
      "[Parallel(n_jobs=-7)]: Done 1845 out of 1960 | elapsed:    4.9s remaining:    0.2s\n",
      "[Parallel(n_jobs=-7)]: Done 1960 out of 1960 | elapsed:    5.8s finished\n"
     ]
    },
    {
     "name": "stdout",
     "output_type": "stream",
     "text": [
      "Fitting 10 folds for each of 196 candidates, totalling 1960 fits\n"
     ]
    },
    {
     "name": "stderr",
     "output_type": "stream",
     "text": [
      "[Parallel(n_jobs=-7)]: Using backend LokyBackend with 58 concurrent workers.\n",
      "[Parallel(n_jobs=-7)]: Done  84 tasks      | elapsed:    0.2s\n",
      "[Parallel(n_jobs=-7)]: Done 760 tasks      | elapsed:    1.8s\n",
      "[Parallel(n_jobs=-7)]: Done 1781 tasks      | elapsed:    4.8s\n",
      "[Parallel(n_jobs=-7)]: Done 1845 out of 1960 | elapsed:    4.9s remaining:    0.2s\n",
      "[Parallel(n_jobs=-7)]: Done 1960 out of 1960 | elapsed:    5.8s finished\n",
      "[Parallel(n_jobs=-7)]: Using backend LokyBackend with 58 concurrent workers.\n"
     ]
    },
    {
     "name": "stdout",
     "output_type": "stream",
     "text": [
      "Fitting 10 folds for each of 196 candidates, totalling 1960 fits\n"
     ]
    },
    {
     "name": "stderr",
     "output_type": "stream",
     "text": [
      "[Parallel(n_jobs=-7)]: Done  84 tasks      | elapsed:    0.2s\n",
      "[Parallel(n_jobs=-7)]: Done 764 tasks      | elapsed:    1.8s\n",
      "[Parallel(n_jobs=-7)]: Done 1787 tasks      | elapsed:    4.8s\n",
      "[Parallel(n_jobs=-7)]: Done 1845 out of 1960 | elapsed:    4.9s remaining:    0.2s\n",
      "[Parallel(n_jobs=-7)]: Done 1960 out of 1960 | elapsed:    5.8s finished\n",
      "[Parallel(n_jobs=-7)]: Using backend LokyBackend with 58 concurrent workers.\n"
     ]
    },
    {
     "name": "stdout",
     "output_type": "stream",
     "text": [
      "Fitting 10 folds for each of 196 candidates, totalling 1960 fits\n"
     ]
    },
    {
     "name": "stderr",
     "output_type": "stream",
     "text": [
      "[Parallel(n_jobs=-7)]: Done  84 tasks      | elapsed:    0.2s\n",
      "[Parallel(n_jobs=-7)]: Done 758 tasks      | elapsed:    1.8s\n",
      "[Parallel(n_jobs=-7)]: Done 1790 tasks      | elapsed:    4.8s\n",
      "[Parallel(n_jobs=-7)]: Done 1960 out of 1960 | elapsed:    5.8s finished\n",
      "[Parallel(n_jobs=-7)]: Using backend LokyBackend with 58 concurrent workers.\n"
     ]
    },
    {
     "name": "stdout",
     "output_type": "stream",
     "text": [
      "Fitting 10 folds for each of 196 candidates, totalling 1960 fits\n"
     ]
    },
    {
     "name": "stderr",
     "output_type": "stream",
     "text": [
      "[Parallel(n_jobs=-7)]: Done  84 tasks      | elapsed:    0.2s\n",
      "[Parallel(n_jobs=-7)]: Done 758 tasks      | elapsed:    1.7s\n",
      "[Parallel(n_jobs=-7)]: Done 1781 tasks      | elapsed:    4.8s\n",
      "[Parallel(n_jobs=-7)]: Done 1845 out of 1960 | elapsed:    4.9s remaining:    0.2s\n",
      "[Parallel(n_jobs=-7)]: Done 1960 out of 1960 | elapsed:    5.9s finished\n",
      "[Parallel(n_jobs=-7)]: Using backend LokyBackend with 58 concurrent workers.\n"
     ]
    },
    {
     "name": "stdout",
     "output_type": "stream",
     "text": [
      "Fitting 10 folds for each of 196 candidates, totalling 1960 fits\n"
     ]
    },
    {
     "name": "stderr",
     "output_type": "stream",
     "text": [
      "[Parallel(n_jobs=-7)]: Done  84 tasks      | elapsed:    0.2s\n",
      "[Parallel(n_jobs=-7)]: Done 552 tasks      | elapsed:    1.3s\n",
      "[Parallel(n_jobs=-7)]: Done 1252 tasks      | elapsed:    3.2s\n",
      "[Parallel(n_jobs=-7)]: Done 1845 out of 1960 | elapsed:    5.0s remaining:    0.2s\n",
      "[Parallel(n_jobs=-7)]: Done 1960 out of 1960 | elapsed:    5.6s finished\n",
      "[Parallel(n_jobs=-7)]: Using backend LokyBackend with 58 concurrent workers.\n"
     ]
    },
    {
     "name": "stdout",
     "output_type": "stream",
     "text": [
      "Fitting 10 folds for each of 196 candidates, totalling 1960 fits\n"
     ]
    },
    {
     "name": "stderr",
     "output_type": "stream",
     "text": [
      "[Parallel(n_jobs=-7)]: Done  84 tasks      | elapsed:    0.3s\n",
      "[Parallel(n_jobs=-7)]: Done 764 tasks      | elapsed:    1.8s\n",
      "[Parallel(n_jobs=-7)]: Done 1790 tasks      | elapsed:    4.9s\n",
      "[Parallel(n_jobs=-7)]: Done 1845 out of 1960 | elapsed:    5.0s remaining:    0.2s\n",
      "[Parallel(n_jobs=-7)]: Done 1960 out of 1960 | elapsed:    5.9s finished\n",
      "[Parallel(n_jobs=-7)]: Using backend LokyBackend with 58 concurrent workers.\n"
     ]
    },
    {
     "name": "stdout",
     "output_type": "stream",
     "text": [
      "Fitting 10 folds for each of 196 candidates, totalling 1960 fits\n"
     ]
    },
    {
     "name": "stderr",
     "output_type": "stream",
     "text": [
      "[Parallel(n_jobs=-7)]: Done  84 tasks      | elapsed:    0.2s\n",
      "[Parallel(n_jobs=-7)]: Done 762 tasks      | elapsed:    1.8s\n",
      "[Parallel(n_jobs=-7)]: Done 1787 tasks      | elapsed:    5.0s\n",
      "[Parallel(n_jobs=-7)]: Done 1845 out of 1960 | elapsed:    5.1s remaining:    0.2s\n",
      "[Parallel(n_jobs=-7)]: Done 1960 out of 1960 | elapsed:    6.0s finished\n",
      "[Parallel(n_jobs=-7)]: Using backend LokyBackend with 58 concurrent workers.\n"
     ]
    },
    {
     "name": "stdout",
     "output_type": "stream",
     "text": [
      "Fitting 10 folds for each of 196 candidates, totalling 1960 fits\n"
     ]
    },
    {
     "name": "stderr",
     "output_type": "stream",
     "text": [
      "[Parallel(n_jobs=-7)]: Done  84 tasks      | elapsed:    0.2s\n",
      "[Parallel(n_jobs=-7)]: Done 762 tasks      | elapsed:    1.8s\n",
      "[Parallel(n_jobs=-7)]: Done 1784 tasks      | elapsed:    4.8s\n",
      "[Parallel(n_jobs=-7)]: Done 1845 out of 1960 | elapsed:    5.0s remaining:    0.2s\n",
      "[Parallel(n_jobs=-7)]: Done 1960 out of 1960 | elapsed:    5.8s finished\n",
      "[Parallel(n_jobs=-7)]: Using backend LokyBackend with 58 concurrent workers.\n"
     ]
    },
    {
     "name": "stdout",
     "output_type": "stream",
     "text": [
      "Fitting 10 folds for each of 196 candidates, totalling 1960 fits\n"
     ]
    },
    {
     "name": "stderr",
     "output_type": "stream",
     "text": [
      "[Parallel(n_jobs=-7)]: Done  84 tasks      | elapsed:    0.2s\n",
      "[Parallel(n_jobs=-7)]: Done 664 tasks      | elapsed:    1.6s\n",
      "[Parallel(n_jobs=-7)]: Done 1960 out of 1960 | elapsed:    6.1s finished\n",
      "[Parallel(n_jobs=-7)]: Using backend LokyBackend with 58 concurrent workers.\n"
     ]
    },
    {
     "name": "stdout",
     "output_type": "stream",
     "text": [
      "Fitting 10 folds for each of 196 candidates, totalling 1960 fits\n"
     ]
    },
    {
     "name": "stderr",
     "output_type": "stream",
     "text": [
      "[Parallel(n_jobs=-7)]: Done  84 tasks      | elapsed:    0.2s\n",
      "[Parallel(n_jobs=-7)]: Done 764 tasks      | elapsed:    1.8s\n",
      "[Parallel(n_jobs=-7)]: Done 1790 tasks      | elapsed:    4.8s\n",
      "[Parallel(n_jobs=-7)]: Done 1960 out of 1960 | elapsed:    5.9s finished\n"
     ]
    },
    {
     "name": "stdout",
     "output_type": "stream",
     "text": [
      "Fitting 10 folds for each of 196 candidates, totalling 1960 fits\n"
     ]
    },
    {
     "name": "stderr",
     "output_type": "stream",
     "text": [
      "[Parallel(n_jobs=-7)]: Using backend LokyBackend with 58 concurrent workers.\n",
      "[Parallel(n_jobs=-7)]: Done  84 tasks      | elapsed:    0.2s\n",
      "[Parallel(n_jobs=-7)]: Done 758 tasks      | elapsed:    1.8s\n",
      "[Parallel(n_jobs=-7)]: Done 1787 tasks      | elapsed:    4.8s\n",
      "[Parallel(n_jobs=-7)]: Done 1845 out of 1960 | elapsed:    4.9s remaining:    0.2s\n",
      "[Parallel(n_jobs=-7)]: Done 1960 out of 1960 | elapsed:    5.8s finished\n",
      "[Parallel(n_jobs=-7)]: Using backend LokyBackend with 58 concurrent workers.\n"
     ]
    },
    {
     "name": "stdout",
     "output_type": "stream",
     "text": [
      "Fitting 10 folds for each of 196 candidates, totalling 1960 fits\n"
     ]
    },
    {
     "name": "stderr",
     "output_type": "stream",
     "text": [
      "[Parallel(n_jobs=-7)]: Done  84 tasks      | elapsed:    0.2s\n",
      "[Parallel(n_jobs=-7)]: Done 760 tasks      | elapsed:    1.8s\n",
      "[Parallel(n_jobs=-7)]: Done 1781 tasks      | elapsed:    4.8s\n",
      "[Parallel(n_jobs=-7)]: Done 1845 out of 1960 | elapsed:    4.9s remaining:    0.2s\n",
      "[Parallel(n_jobs=-7)]: Done 1960 out of 1960 | elapsed:    5.8s finished\n",
      "[Parallel(n_jobs=-7)]: Using backend LokyBackend with 58 concurrent workers.\n"
     ]
    },
    {
     "name": "stdout",
     "output_type": "stream",
     "text": [
      "Fitting 10 folds for each of 196 candidates, totalling 1960 fits\n"
     ]
    },
    {
     "name": "stderr",
     "output_type": "stream",
     "text": [
      "[Parallel(n_jobs=-7)]: Done  84 tasks      | elapsed:    0.2s\n",
      "[Parallel(n_jobs=-7)]: Done 762 tasks      | elapsed:    1.8s\n",
      "[Parallel(n_jobs=-7)]: Done 1784 tasks      | elapsed:    4.9s\n",
      "[Parallel(n_jobs=-7)]: Done 1845 out of 1960 | elapsed:    5.0s remaining:    0.2s\n",
      "[Parallel(n_jobs=-7)]: Done 1960 out of 1960 | elapsed:    5.9s finished\n",
      "[Parallel(n_jobs=-7)]: Using backend LokyBackend with 58 concurrent workers.\n"
     ]
    },
    {
     "name": "stdout",
     "output_type": "stream",
     "text": [
      "Fitting 10 folds for each of 196 candidates, totalling 1960 fits\n"
     ]
    },
    {
     "name": "stderr",
     "output_type": "stream",
     "text": [
      "[Parallel(n_jobs=-7)]: Done  84 tasks      | elapsed:    0.2s\n",
      "[Parallel(n_jobs=-7)]: Done 760 tasks      | elapsed:    1.7s\n",
      "[Parallel(n_jobs=-7)]: Done 1781 tasks      | elapsed:    4.8s\n",
      "[Parallel(n_jobs=-7)]: Done 1845 out of 1960 | elapsed:    4.9s remaining:    0.2s\n",
      "[Parallel(n_jobs=-7)]: Done 1960 out of 1960 | elapsed:    5.9s finished\n"
     ]
    },
    {
     "name": "stdout",
     "output_type": "stream",
     "text": [
      "Fitting 10 folds for each of 196 candidates, totalling 1960 fits\n"
     ]
    },
    {
     "name": "stderr",
     "output_type": "stream",
     "text": [
      "[Parallel(n_jobs=-7)]: Using backend LokyBackend with 58 concurrent workers.\n",
      "[Parallel(n_jobs=-7)]: Done  84 tasks      | elapsed:    0.2s\n",
      "[Parallel(n_jobs=-7)]: Done 762 tasks      | elapsed:    1.8s\n",
      "[Parallel(n_jobs=-7)]: Done 1787 tasks      | elapsed:    4.8s\n",
      "[Parallel(n_jobs=-7)]: Done 1845 out of 1960 | elapsed:    4.9s remaining:    0.2s\n",
      "[Parallel(n_jobs=-7)]: Done 1960 out of 1960 | elapsed:    5.9s finished\n",
      "[Parallel(n_jobs=-7)]: Using backend LokyBackend with 58 concurrent workers.\n"
     ]
    },
    {
     "name": "stdout",
     "output_type": "stream",
     "text": [
      "Fitting 10 folds for each of 196 candidates, totalling 1960 fits\n"
     ]
    },
    {
     "name": "stderr",
     "output_type": "stream",
     "text": [
      "[Parallel(n_jobs=-7)]: Done  84 tasks      | elapsed:    0.2s\n",
      "[Parallel(n_jobs=-7)]: Done 764 tasks      | elapsed:    1.8s\n",
      "[Parallel(n_jobs=-7)]: Done 1781 tasks      | elapsed:    4.9s\n",
      "[Parallel(n_jobs=-7)]: Done 1845 out of 1960 | elapsed:    5.0s remaining:    0.2s\n",
      "[Parallel(n_jobs=-7)]: Done 1960 out of 1960 | elapsed:    5.9s finished\n",
      "[Parallel(n_jobs=-7)]: Using backend LokyBackend with 58 concurrent workers.\n"
     ]
    },
    {
     "name": "stdout",
     "output_type": "stream",
     "text": [
      "Fitting 10 folds for each of 196 candidates, totalling 1960 fits\n"
     ]
    },
    {
     "name": "stderr",
     "output_type": "stream",
     "text": [
      "[Parallel(n_jobs=-7)]: Done  84 tasks      | elapsed:    0.2s\n",
      "[Parallel(n_jobs=-7)]: Done 760 tasks      | elapsed:    1.8s\n",
      "[Parallel(n_jobs=-7)]: Done 1784 tasks      | elapsed:    4.9s\n",
      "[Parallel(n_jobs=-7)]: Done 1845 out of 1960 | elapsed:    5.1s remaining:    0.2s\n",
      "[Parallel(n_jobs=-7)]: Done 1960 out of 1960 | elapsed:    5.9s finished\n"
     ]
    },
    {
     "name": "stdout",
     "output_type": "stream",
     "text": [
      "Fitting 10 folds for each of 196 candidates, totalling 1960 fits\n"
     ]
    },
    {
     "name": "stderr",
     "output_type": "stream",
     "text": [
      "[Parallel(n_jobs=-7)]: Using backend LokyBackend with 58 concurrent workers.\n",
      "[Parallel(n_jobs=-7)]: Done  84 tasks      | elapsed:    0.2s\n",
      "[Parallel(n_jobs=-7)]: Done 760 tasks      | elapsed:    1.8s\n",
      "[Parallel(n_jobs=-7)]: Done 1781 tasks      | elapsed:    4.9s\n",
      "[Parallel(n_jobs=-7)]: Done 1845 out of 1960 | elapsed:    5.0s remaining:    0.2s\n",
      "[Parallel(n_jobs=-7)]: Done 1960 out of 1960 | elapsed:    5.9s finished\n",
      "[Parallel(n_jobs=-7)]: Using backend LokyBackend with 58 concurrent workers.\n"
     ]
    },
    {
     "name": "stdout",
     "output_type": "stream",
     "text": [
      "Fitting 10 folds for each of 196 candidates, totalling 1960 fits\n"
     ]
    },
    {
     "name": "stderr",
     "output_type": "stream",
     "text": [
      "[Parallel(n_jobs=-7)]: Done  84 tasks      | elapsed:    0.2s\n",
      "[Parallel(n_jobs=-7)]: Done 760 tasks      | elapsed:    1.8s\n",
      "[Parallel(n_jobs=-7)]: Done 1784 tasks      | elapsed:    4.9s\n",
      "[Parallel(n_jobs=-7)]: Done 1845 out of 1960 | elapsed:    5.0s remaining:    0.2s\n",
      "[Parallel(n_jobs=-7)]: Done 1960 out of 1960 | elapsed:    6.0s finished\n",
      "[Parallel(n_jobs=-7)]: Using backend LokyBackend with 58 concurrent workers.\n"
     ]
    },
    {
     "name": "stdout",
     "output_type": "stream",
     "text": [
      "Fitting 10 folds for each of 196 candidates, totalling 1960 fits\n"
     ]
    },
    {
     "name": "stderr",
     "output_type": "stream",
     "text": [
      "[Parallel(n_jobs=-7)]: Done  84 tasks      | elapsed:    0.2s\n",
      "[Parallel(n_jobs=-7)]: Done 764 tasks      | elapsed:    1.8s\n",
      "[Parallel(n_jobs=-7)]: Done 1784 tasks      | elapsed:    4.8s\n",
      "[Parallel(n_jobs=-7)]: Done 1845 out of 1960 | elapsed:    5.0s remaining:    0.2s\n",
      "[Parallel(n_jobs=-7)]: Done 1960 out of 1960 | elapsed:    5.9s finished\n",
      "[Parallel(n_jobs=-7)]: Using backend LokyBackend with 58 concurrent workers.\n"
     ]
    },
    {
     "name": "stdout",
     "output_type": "stream",
     "text": [
      "Fitting 10 folds for each of 196 candidates, totalling 1960 fits\n"
     ]
    },
    {
     "name": "stderr",
     "output_type": "stream",
     "text": [
      "[Parallel(n_jobs=-7)]: Done  84 tasks      | elapsed:    0.2s\n",
      "[Parallel(n_jobs=-7)]: Done 762 tasks      | elapsed:    1.8s\n",
      "[Parallel(n_jobs=-7)]: Done 1778 tasks      | elapsed:    4.9s\n",
      "[Parallel(n_jobs=-7)]: Done 1845 out of 1960 | elapsed:    5.0s remaining:    0.2s\n",
      "[Parallel(n_jobs=-7)]: Done 1960 out of 1960 | elapsed:    5.9s finished\n",
      "[Parallel(n_jobs=-7)]: Using backend LokyBackend with 58 concurrent workers.\n"
     ]
    },
    {
     "name": "stdout",
     "output_type": "stream",
     "text": [
      "Fitting 10 folds for each of 196 candidates, totalling 1960 fits\n"
     ]
    },
    {
     "name": "stderr",
     "output_type": "stream",
     "text": [
      "[Parallel(n_jobs=-7)]: Done  84 tasks      | elapsed:    0.2s\n",
      "[Parallel(n_jobs=-7)]: Done 762 tasks      | elapsed:    1.8s\n",
      "[Parallel(n_jobs=-7)]: Done 1784 tasks      | elapsed:    4.9s\n",
      "[Parallel(n_jobs=-7)]: Done 1845 out of 1960 | elapsed:    5.0s remaining:    0.2s\n",
      "[Parallel(n_jobs=-7)]: Done 1960 out of 1960 | elapsed:    5.9s finished\n"
     ]
    },
    {
     "name": "stdout",
     "output_type": "stream",
     "text": [
      "Fitting 10 folds for each of 196 candidates, totalling 1960 fits\n"
     ]
    },
    {
     "name": "stderr",
     "output_type": "stream",
     "text": [
      "[Parallel(n_jobs=-7)]: Using backend LokyBackend with 58 concurrent workers.\n",
      "[Parallel(n_jobs=-7)]: Done  84 tasks      | elapsed:    0.2s\n",
      "[Parallel(n_jobs=-7)]: Done 762 tasks      | elapsed:    1.8s\n",
      "[Parallel(n_jobs=-7)]: Done 1775 tasks      | elapsed:    4.9s\n",
      "[Parallel(n_jobs=-7)]: Done 1845 out of 1960 | elapsed:    5.0s remaining:    0.2s\n",
      "[Parallel(n_jobs=-7)]: Done 1960 out of 1960 | elapsed:    5.9s finished\n",
      "[Parallel(n_jobs=-7)]: Using backend LokyBackend with 58 concurrent workers.\n"
     ]
    },
    {
     "name": "stdout",
     "output_type": "stream",
     "text": [
      "Fitting 10 folds for each of 196 candidates, totalling 1960 fits\n"
     ]
    },
    {
     "name": "stderr",
     "output_type": "stream",
     "text": [
      "[Parallel(n_jobs=-7)]: Done  84 tasks      | elapsed:    0.2s\n",
      "[Parallel(n_jobs=-7)]: Done 764 tasks      | elapsed:    1.8s\n",
      "[Parallel(n_jobs=-7)]: Done 1778 tasks      | elapsed:    4.9s\n",
      "[Parallel(n_jobs=-7)]: Done 1845 out of 1960 | elapsed:    5.0s remaining:    0.2s\n",
      "[Parallel(n_jobs=-7)]: Done 1960 out of 1960 | elapsed:    5.9s finished\n",
      "[Parallel(n_jobs=-7)]: Using backend LokyBackend with 58 concurrent workers.\n"
     ]
    },
    {
     "name": "stdout",
     "output_type": "stream",
     "text": [
      "Fitting 10 folds for each of 196 candidates, totalling 1960 fits\n"
     ]
    },
    {
     "name": "stderr",
     "output_type": "stream",
     "text": [
      "[Parallel(n_jobs=-7)]: Done  84 tasks      | elapsed:    0.2s\n",
      "[Parallel(n_jobs=-7)]: Done 762 tasks      | elapsed:    1.8s\n",
      "[Parallel(n_jobs=-7)]: Done 1787 tasks      | elapsed:    4.9s\n",
      "[Parallel(n_jobs=-7)]: Done 1845 out of 1960 | elapsed:    5.0s remaining:    0.2s\n",
      "[Parallel(n_jobs=-7)]: Done 1960 out of 1960 | elapsed:    6.0s finished\n",
      "[Parallel(n_jobs=-7)]: Using backend LokyBackend with 58 concurrent workers.\n"
     ]
    },
    {
     "name": "stdout",
     "output_type": "stream",
     "text": [
      "Fitting 10 folds for each of 196 candidates, totalling 1960 fits\n"
     ]
    },
    {
     "name": "stderr",
     "output_type": "stream",
     "text": [
      "[Parallel(n_jobs=-7)]: Done  84 tasks      | elapsed:    0.2s\n",
      "[Parallel(n_jobs=-7)]: Done 762 tasks      | elapsed:    1.8s\n",
      "[Parallel(n_jobs=-7)]: Done 1784 tasks      | elapsed:    5.0s\n",
      "[Parallel(n_jobs=-7)]: Done 1845 out of 1960 | elapsed:    5.1s remaining:    0.2s\n",
      "[Parallel(n_jobs=-7)]: Done 1960 out of 1960 | elapsed:    6.0s finished\n"
     ]
    },
    {
     "name": "stdout",
     "output_type": "stream",
     "text": [
      "Fitting 10 folds for each of 196 candidates, totalling 1960 fits\n"
     ]
    },
    {
     "name": "stderr",
     "output_type": "stream",
     "text": [
      "[Parallel(n_jobs=-7)]: Using backend LokyBackend with 58 concurrent workers.\n",
      "[Parallel(n_jobs=-7)]: Done  84 tasks      | elapsed:    0.2s\n",
      "[Parallel(n_jobs=-7)]: Done 762 tasks      | elapsed:    1.8s\n",
      "[Parallel(n_jobs=-7)]: Done 1790 tasks      | elapsed:    4.9s\n",
      "[Parallel(n_jobs=-7)]: Done 1845 out of 1960 | elapsed:    5.0s remaining:    0.2s\n",
      "[Parallel(n_jobs=-7)]: Done 1960 out of 1960 | elapsed:    6.0s finished\n",
      "[Parallel(n_jobs=-7)]: Using backend LokyBackend with 58 concurrent workers.\n"
     ]
    },
    {
     "name": "stdout",
     "output_type": "stream",
     "text": [
      "Fitting 10 folds for each of 196 candidates, totalling 1960 fits\n"
     ]
    },
    {
     "name": "stderr",
     "output_type": "stream",
     "text": [
      "[Parallel(n_jobs=-7)]: Done  84 tasks      | elapsed:    0.2s\n",
      "[Parallel(n_jobs=-7)]: Done 762 tasks      | elapsed:    1.8s\n",
      "[Parallel(n_jobs=-7)]: Done 1781 tasks      | elapsed:    4.9s\n",
      "[Parallel(n_jobs=-7)]: Done 1845 out of 1960 | elapsed:    5.0s remaining:    0.2s\n",
      "[Parallel(n_jobs=-7)]: Done 1960 out of 1960 | elapsed:    5.9s finished\n",
      "[Parallel(n_jobs=-7)]: Using backend LokyBackend with 58 concurrent workers.\n"
     ]
    },
    {
     "name": "stdout",
     "output_type": "stream",
     "text": [
      "Fitting 10 folds for each of 196 candidates, totalling 1960 fits\n"
     ]
    },
    {
     "name": "stderr",
     "output_type": "stream",
     "text": [
      "[Parallel(n_jobs=-7)]: Done  84 tasks      | elapsed:    0.2s\n",
      "[Parallel(n_jobs=-7)]: Done 762 tasks      | elapsed:    1.8s\n",
      "[Parallel(n_jobs=-7)]: Done 1787 tasks      | elapsed:    4.9s\n",
      "[Parallel(n_jobs=-7)]: Done 1845 out of 1960 | elapsed:    5.0s remaining:    0.2s\n",
      "[Parallel(n_jobs=-7)]: Done 1960 out of 1960 | elapsed:    6.0s finished\n"
     ]
    },
    {
     "name": "stdout",
     "output_type": "stream",
     "text": [
      "Fitting 10 folds for each of 196 candidates, totalling 1960 fits\n"
     ]
    },
    {
     "name": "stderr",
     "output_type": "stream",
     "text": [
      "[Parallel(n_jobs=-7)]: Using backend LokyBackend with 58 concurrent workers.\n",
      "[Parallel(n_jobs=-7)]: Done  84 tasks      | elapsed:    0.2s\n",
      "[Parallel(n_jobs=-7)]: Done 762 tasks      | elapsed:    1.8s\n",
      "[Parallel(n_jobs=-7)]: Done 1781 tasks      | elapsed:    4.9s\n",
      "[Parallel(n_jobs=-7)]: Done 1845 out of 1960 | elapsed:    5.0s remaining:    0.2s\n",
      "[Parallel(n_jobs=-7)]: Done 1960 out of 1960 | elapsed:    6.0s finished\n"
     ]
    },
    {
     "name": "stdout",
     "output_type": "stream",
     "text": [
      "Fitting 10 folds for each of 196 candidates, totalling 1960 fits\n"
     ]
    },
    {
     "name": "stderr",
     "output_type": "stream",
     "text": [
      "[Parallel(n_jobs=-7)]: Using backend LokyBackend with 58 concurrent workers.\n",
      "[Parallel(n_jobs=-7)]: Done  84 tasks      | elapsed:    0.2s\n",
      "[Parallel(n_jobs=-7)]: Done 762 tasks      | elapsed:    1.8s\n",
      "[Parallel(n_jobs=-7)]: Done 1787 tasks      | elapsed:    4.9s\n",
      "[Parallel(n_jobs=-7)]: Done 1845 out of 1960 | elapsed:    5.0s remaining:    0.2s\n",
      "[Parallel(n_jobs=-7)]: Done 1960 out of 1960 | elapsed:    6.0s finished\n",
      "[Parallel(n_jobs=-7)]: Using backend LokyBackend with 58 concurrent workers.\n"
     ]
    },
    {
     "name": "stdout",
     "output_type": "stream",
     "text": [
      "Fitting 10 folds for each of 196 candidates, totalling 1960 fits\n"
     ]
    },
    {
     "name": "stderr",
     "output_type": "stream",
     "text": [
      "[Parallel(n_jobs=-7)]: Done  84 tasks      | elapsed:    0.2s\n",
      "[Parallel(n_jobs=-7)]: Done 762 tasks      | elapsed:    1.8s\n",
      "[Parallel(n_jobs=-7)]: Done 1781 tasks      | elapsed:    4.9s\n",
      "[Parallel(n_jobs=-7)]: Done 1960 out of 1960 | elapsed:    6.0s finished\n",
      "[Parallel(n_jobs=-7)]: Using backend LokyBackend with 58 concurrent workers.\n"
     ]
    },
    {
     "name": "stdout",
     "output_type": "stream",
     "text": [
      "Fitting 10 folds for each of 196 candidates, totalling 1960 fits\n"
     ]
    },
    {
     "name": "stderr",
     "output_type": "stream",
     "text": [
      "[Parallel(n_jobs=-7)]: Done  84 tasks      | elapsed:    0.2s\n",
      "[Parallel(n_jobs=-7)]: Done 760 tasks      | elapsed:    1.8s\n",
      "[Parallel(n_jobs=-7)]: Done 1778 tasks      | elapsed:    4.9s\n",
      "[Parallel(n_jobs=-7)]: Done 1845 out of 1960 | elapsed:    5.1s remaining:    0.2s\n",
      "[Parallel(n_jobs=-7)]: Done 1960 out of 1960 | elapsed:    6.0s finished\n",
      "[Parallel(n_jobs=-7)]: Using backend LokyBackend with 58 concurrent workers.\n"
     ]
    },
    {
     "name": "stdout",
     "output_type": "stream",
     "text": [
      "Fitting 10 folds for each of 196 candidates, totalling 1960 fits\n"
     ]
    },
    {
     "name": "stderr",
     "output_type": "stream",
     "text": [
      "[Parallel(n_jobs=-7)]: Done  84 tasks      | elapsed:    0.2s\n",
      "[Parallel(n_jobs=-7)]: Done 762 tasks      | elapsed:    1.8s\n",
      "[Parallel(n_jobs=-7)]: Done 1784 tasks      | elapsed:    5.0s\n",
      "[Parallel(n_jobs=-7)]: Done 1960 out of 1960 | elapsed:    6.0s finished\n"
     ]
    },
    {
     "name": "stdout",
     "output_type": "stream",
     "text": [
      "Fitting 10 folds for each of 196 candidates, totalling 1960 fits\n"
     ]
    },
    {
     "name": "stderr",
     "output_type": "stream",
     "text": [
      "[Parallel(n_jobs=-7)]: Using backend LokyBackend with 58 concurrent workers.\n",
      "[Parallel(n_jobs=-7)]: Done  84 tasks      | elapsed:    0.2s\n",
      "[Parallel(n_jobs=-7)]: Done 764 tasks      | elapsed:    1.8s\n",
      "[Parallel(n_jobs=-7)]: Done 1784 tasks      | elapsed:    4.9s\n",
      "[Parallel(n_jobs=-7)]: Done 1845 out of 1960 | elapsed:    5.1s remaining:    0.2s\n",
      "[Parallel(n_jobs=-7)]: Done 1960 out of 1960 | elapsed:    6.0s finished\n",
      "[Parallel(n_jobs=-7)]: Using backend LokyBackend with 58 concurrent workers.\n"
     ]
    },
    {
     "name": "stdout",
     "output_type": "stream",
     "text": [
      "Fitting 10 folds for each of 196 candidates, totalling 1960 fits\n"
     ]
    },
    {
     "name": "stderr",
     "output_type": "stream",
     "text": [
      "[Parallel(n_jobs=-7)]: Done  84 tasks      | elapsed:    0.3s\n",
      "[Parallel(n_jobs=-7)]: Done 762 tasks      | elapsed:    2.0s\n",
      "[Parallel(n_jobs=-7)]: Done 1787 tasks      | elapsed:    5.1s\n",
      "[Parallel(n_jobs=-7)]: Done 1845 out of 1960 | elapsed:    5.2s remaining:    0.2s\n",
      "[Parallel(n_jobs=-7)]: Done 1960 out of 1960 | elapsed:    6.2s finished\n",
      "[Parallel(n_jobs=-7)]: Using backend LokyBackend with 58 concurrent workers.\n"
     ]
    },
    {
     "name": "stdout",
     "output_type": "stream",
     "text": [
      "Fitting 10 folds for each of 196 candidates, totalling 1960 fits\n"
     ]
    },
    {
     "name": "stderr",
     "output_type": "stream",
     "text": [
      "[Parallel(n_jobs=-7)]: Done  84 tasks      | elapsed:    0.2s\n",
      "[Parallel(n_jobs=-7)]: Done 762 tasks      | elapsed:    1.8s\n",
      "[Parallel(n_jobs=-7)]: Done 1787 tasks      | elapsed:    5.0s\n",
      "[Parallel(n_jobs=-7)]: Done 1845 out of 1960 | elapsed:    5.1s remaining:    0.2s\n",
      "[Parallel(n_jobs=-7)]: Done 1960 out of 1960 | elapsed:    6.0s finished\n",
      "[Parallel(n_jobs=-7)]: Using backend LokyBackend with 58 concurrent workers.\n"
     ]
    },
    {
     "name": "stdout",
     "output_type": "stream",
     "text": [
      "Fitting 10 folds for each of 196 candidates, totalling 1960 fits\n"
     ]
    },
    {
     "name": "stderr",
     "output_type": "stream",
     "text": [
      "[Parallel(n_jobs=-7)]: Done  84 tasks      | elapsed:    0.2s\n",
      "[Parallel(n_jobs=-7)]: Done 762 tasks      | elapsed:    1.8s\n",
      "[Parallel(n_jobs=-7)]: Done 1784 tasks      | elapsed:    5.0s\n",
      "[Parallel(n_jobs=-7)]: Done 1845 out of 1960 | elapsed:    5.1s remaining:    0.2s\n",
      "[Parallel(n_jobs=-7)]: Done 1960 out of 1960 | elapsed:    6.0s finished\n",
      "[Parallel(n_jobs=-7)]: Using backend LokyBackend with 58 concurrent workers.\n"
     ]
    },
    {
     "name": "stdout",
     "output_type": "stream",
     "text": [
      "Fitting 10 folds for each of 196 candidates, totalling 1960 fits\n"
     ]
    },
    {
     "name": "stderr",
     "output_type": "stream",
     "text": [
      "[Parallel(n_jobs=-7)]: Done  84 tasks      | elapsed:    0.2s\n",
      "[Parallel(n_jobs=-7)]: Done 762 tasks      | elapsed:    1.8s\n",
      "[Parallel(n_jobs=-7)]: Done 1778 tasks      | elapsed:    5.0s\n",
      "[Parallel(n_jobs=-7)]: Done 1845 out of 1960 | elapsed:    5.1s remaining:    0.2s\n",
      "[Parallel(n_jobs=-7)]: Done 1960 out of 1960 | elapsed:    6.0s finished\n"
     ]
    },
    {
     "name": "stdout",
     "output_type": "stream",
     "text": [
      "Fitting 10 folds for each of 196 candidates, totalling 1960 fits\n"
     ]
    },
    {
     "name": "stderr",
     "output_type": "stream",
     "text": [
      "[Parallel(n_jobs=-7)]: Using backend LokyBackend with 58 concurrent workers.\n",
      "[Parallel(n_jobs=-7)]: Done  84 tasks      | elapsed:    0.2s\n",
      "[Parallel(n_jobs=-7)]: Done 764 tasks      | elapsed:    1.8s\n",
      "[Parallel(n_jobs=-7)]: Done 1784 tasks      | elapsed:    5.0s\n",
      "[Parallel(n_jobs=-7)]: Done 1845 out of 1960 | elapsed:    5.1s remaining:    0.2s\n",
      "[Parallel(n_jobs=-7)]: Done 1960 out of 1960 | elapsed:    6.1s finished\n"
     ]
    },
    {
     "name": "stdout",
     "output_type": "stream",
     "text": [
      "Fitting 10 folds for each of 196 candidates, totalling 1960 fits\n"
     ]
    },
    {
     "name": "stderr",
     "output_type": "stream",
     "text": [
      "[Parallel(n_jobs=-7)]: Using backend LokyBackend with 58 concurrent workers.\n",
      "[Parallel(n_jobs=-7)]: Done  84 tasks      | elapsed:    0.2s\n",
      "[Parallel(n_jobs=-7)]: Done 764 tasks      | elapsed:    1.8s\n",
      "[Parallel(n_jobs=-7)]: Done 1790 tasks      | elapsed:    5.0s\n",
      "[Parallel(n_jobs=-7)]: Done 1960 out of 1960 | elapsed:    6.0s finished\n"
     ]
    },
    {
     "name": "stdout",
     "output_type": "stream",
     "text": [
      "Fitting 10 folds for each of 196 candidates, totalling 1960 fits\n"
     ]
    },
    {
     "name": "stderr",
     "output_type": "stream",
     "text": [
      "[Parallel(n_jobs=-7)]: Using backend LokyBackend with 58 concurrent workers.\n",
      "[Parallel(n_jobs=-7)]: Done  84 tasks      | elapsed:    0.2s\n",
      "[Parallel(n_jobs=-7)]: Done 760 tasks      | elapsed:    1.8s\n",
      "[Parallel(n_jobs=-7)]: Done 1784 tasks      | elapsed:    5.0s\n",
      "[Parallel(n_jobs=-7)]: Done 1845 out of 1960 | elapsed:    5.1s remaining:    0.2s\n",
      "[Parallel(n_jobs=-7)]: Done 1960 out of 1960 | elapsed:    6.0s finished\n"
     ]
    },
    {
     "name": "stdout",
     "output_type": "stream",
     "text": [
      "Fitting 10 folds for each of 196 candidates, totalling 1960 fits\n"
     ]
    },
    {
     "name": "stderr",
     "output_type": "stream",
     "text": [
      "[Parallel(n_jobs=-7)]: Using backend LokyBackend with 58 concurrent workers.\n",
      "[Parallel(n_jobs=-7)]: Done  84 tasks      | elapsed:    0.2s\n",
      "[Parallel(n_jobs=-7)]: Done 762 tasks      | elapsed:    1.8s\n",
      "[Parallel(n_jobs=-7)]: Done 1781 tasks      | elapsed:    5.0s\n",
      "[Parallel(n_jobs=-7)]: Done 1845 out of 1960 | elapsed:    5.1s remaining:    0.2s\n",
      "[Parallel(n_jobs=-7)]: Done 1960 out of 1960 | elapsed:    6.0s finished\n",
      "[Parallel(n_jobs=-7)]: Using backend LokyBackend with 58 concurrent workers.\n"
     ]
    },
    {
     "name": "stdout",
     "output_type": "stream",
     "text": [
      "Fitting 10 folds for each of 196 candidates, totalling 1960 fits\n"
     ]
    },
    {
     "name": "stderr",
     "output_type": "stream",
     "text": [
      "[Parallel(n_jobs=-7)]: Done  84 tasks      | elapsed:    0.2s\n",
      "[Parallel(n_jobs=-7)]: Done 762 tasks      | elapsed:    1.8s\n",
      "[Parallel(n_jobs=-7)]: Done 1790 tasks      | elapsed:    5.0s\n",
      "[Parallel(n_jobs=-7)]: Done 1845 out of 1960 | elapsed:    5.1s remaining:    0.2s\n",
      "[Parallel(n_jobs=-7)]: Done 1960 out of 1960 | elapsed:    6.1s finished\n",
      "[Parallel(n_jobs=-7)]: Using backend LokyBackend with 58 concurrent workers.\n"
     ]
    },
    {
     "name": "stdout",
     "output_type": "stream",
     "text": [
      "Fitting 10 folds for each of 196 candidates, totalling 1960 fits\n"
     ]
    },
    {
     "name": "stderr",
     "output_type": "stream",
     "text": [
      "[Parallel(n_jobs=-7)]: Done  84 tasks      | elapsed:    0.2s\n",
      "[Parallel(n_jobs=-7)]: Done 760 tasks      | elapsed:    1.7s\n",
      "[Parallel(n_jobs=-7)]: Done 1781 tasks      | elapsed:    4.6s\n",
      "[Parallel(n_jobs=-7)]: Done 1845 out of 1960 | elapsed:    4.7s remaining:    0.2s\n",
      "[Parallel(n_jobs=-7)]: Done 1960 out of 1960 | elapsed:    5.6s finished\n"
     ]
    },
    {
     "name": "stdout",
     "output_type": "stream",
     "text": [
      "Fitting 10 folds for each of 196 candidates, totalling 1960 fits\n"
     ]
    },
    {
     "name": "stderr",
     "output_type": "stream",
     "text": [
      "[Parallel(n_jobs=-7)]: Using backend LokyBackend with 58 concurrent workers.\n",
      "[Parallel(n_jobs=-7)]: Done  84 tasks      | elapsed:    0.2s\n",
      "[Parallel(n_jobs=-7)]: Done 760 tasks      | elapsed:    1.7s\n",
      "[Parallel(n_jobs=-7)]: Done 1784 tasks      | elapsed:    4.5s\n",
      "[Parallel(n_jobs=-7)]: Done 1845 out of 1960 | elapsed:    4.6s remaining:    0.2s\n",
      "[Parallel(n_jobs=-7)]: Done 1960 out of 1960 | elapsed:    5.5s finished\n"
     ]
    },
    {
     "name": "stdout",
     "output_type": "stream",
     "text": [
      "Fitting 10 folds for each of 196 candidates, totalling 1960 fits\n"
     ]
    },
    {
     "name": "stderr",
     "output_type": "stream",
     "text": [
      "[Parallel(n_jobs=-7)]: Using backend LokyBackend with 58 concurrent workers.\n",
      "[Parallel(n_jobs=-7)]: Done  84 tasks      | elapsed:    0.2s\n",
      "[Parallel(n_jobs=-7)]: Done 762 tasks      | elapsed:    1.7s\n",
      "[Parallel(n_jobs=-7)]: Done 1781 tasks      | elapsed:    4.5s\n",
      "[Parallel(n_jobs=-7)]: Done 1845 out of 1960 | elapsed:    4.6s remaining:    0.2s\n",
      "[Parallel(n_jobs=-7)]: Done 1960 out of 1960 | elapsed:    5.5s finished\n",
      "[Parallel(n_jobs=-7)]: Using backend LokyBackend with 58 concurrent workers.\n"
     ]
    },
    {
     "name": "stdout",
     "output_type": "stream",
     "text": [
      "Fitting 10 folds for each of 196 candidates, totalling 1960 fits\n"
     ]
    },
    {
     "name": "stderr",
     "output_type": "stream",
     "text": [
      "[Parallel(n_jobs=-7)]: Done  84 tasks      | elapsed:    0.2s\n",
      "[Parallel(n_jobs=-7)]: Done 764 tasks      | elapsed:    1.7s\n",
      "[Parallel(n_jobs=-7)]: Done 1790 tasks      | elapsed:    4.6s\n",
      "[Parallel(n_jobs=-7)]: Done 1845 out of 1960 | elapsed:    4.7s remaining:    0.2s\n",
      "[Parallel(n_jobs=-7)]: Done 1960 out of 1960 | elapsed:    5.5s finished\n",
      "[Parallel(n_jobs=-7)]: Using backend LokyBackend with 58 concurrent workers.\n"
     ]
    },
    {
     "name": "stdout",
     "output_type": "stream",
     "text": [
      "Fitting 10 folds for each of 196 candidates, totalling 1960 fits\n"
     ]
    },
    {
     "name": "stderr",
     "output_type": "stream",
     "text": [
      "[Parallel(n_jobs=-7)]: Done  84 tasks      | elapsed:    0.2s\n",
      "[Parallel(n_jobs=-7)]: Done 762 tasks      | elapsed:    1.7s\n",
      "[Parallel(n_jobs=-7)]: Done 1784 tasks      | elapsed:    4.5s\n",
      "[Parallel(n_jobs=-7)]: Done 1960 out of 1960 | elapsed:    5.5s finished\n",
      "[Parallel(n_jobs=-7)]: Using backend LokyBackend with 58 concurrent workers.\n"
     ]
    },
    {
     "name": "stdout",
     "output_type": "stream",
     "text": [
      "Fitting 10 folds for each of 196 candidates, totalling 1960 fits\n"
     ]
    },
    {
     "name": "stderr",
     "output_type": "stream",
     "text": [
      "[Parallel(n_jobs=-7)]: Done  84 tasks      | elapsed:    0.2s\n",
      "[Parallel(n_jobs=-7)]: Done 764 tasks      | elapsed:    1.7s\n",
      "[Parallel(n_jobs=-7)]: Done 1784 tasks      | elapsed:    4.5s\n",
      "[Parallel(n_jobs=-7)]: Done 1845 out of 1960 | elapsed:    4.7s remaining:    0.2s\n",
      "[Parallel(n_jobs=-7)]: Done 1960 out of 1960 | elapsed:    5.4s finished\n",
      "[Parallel(n_jobs=-7)]: Using backend LokyBackend with 58 concurrent workers.\n"
     ]
    },
    {
     "name": "stdout",
     "output_type": "stream",
     "text": [
      "Fitting 10 folds for each of 196 candidates, totalling 1960 fits\n"
     ]
    },
    {
     "name": "stderr",
     "output_type": "stream",
     "text": [
      "[Parallel(n_jobs=-7)]: Done  84 tasks      | elapsed:    0.2s\n",
      "[Parallel(n_jobs=-7)]: Done 760 tasks      | elapsed:    1.7s\n",
      "[Parallel(n_jobs=-7)]: Done 1784 tasks      | elapsed:    4.5s\n",
      "[Parallel(n_jobs=-7)]: Done 1845 out of 1960 | elapsed:    4.7s remaining:    0.2s\n",
      "[Parallel(n_jobs=-7)]: Done 1960 out of 1960 | elapsed:    5.6s finished\n",
      "[Parallel(n_jobs=-7)]: Using backend LokyBackend with 58 concurrent workers.\n"
     ]
    },
    {
     "name": "stdout",
     "output_type": "stream",
     "text": [
      "Fitting 10 folds for each of 196 candidates, totalling 1960 fits\n"
     ]
    },
    {
     "name": "stderr",
     "output_type": "stream",
     "text": [
      "[Parallel(n_jobs=-7)]: Done  84 tasks      | elapsed:    0.2s\n",
      "[Parallel(n_jobs=-7)]: Done 762 tasks      | elapsed:    1.7s\n",
      "[Parallel(n_jobs=-7)]: Done 1784 tasks      | elapsed:    4.5s\n",
      "[Parallel(n_jobs=-7)]: Done 1845 out of 1960 | elapsed:    4.7s remaining:    0.2s\n",
      "[Parallel(n_jobs=-7)]: Done 1960 out of 1960 | elapsed:    5.5s finished\n",
      "[Parallel(n_jobs=-7)]: Using backend LokyBackend with 58 concurrent workers.\n"
     ]
    },
    {
     "name": "stdout",
     "output_type": "stream",
     "text": [
      "Fitting 10 folds for each of 196 candidates, totalling 1960 fits\n"
     ]
    },
    {
     "name": "stderr",
     "output_type": "stream",
     "text": [
      "[Parallel(n_jobs=-7)]: Done  84 tasks      | elapsed:    0.2s\n",
      "[Parallel(n_jobs=-7)]: Done 762 tasks      | elapsed:    1.7s\n",
      "[Parallel(n_jobs=-7)]: Done 1787 tasks      | elapsed:    4.6s\n",
      "[Parallel(n_jobs=-7)]: Done 1845 out of 1960 | elapsed:    4.7s remaining:    0.2s\n",
      "[Parallel(n_jobs=-7)]: Done 1960 out of 1960 | elapsed:    5.5s finished\n",
      "[Parallel(n_jobs=-7)]: Using backend LokyBackend with 58 concurrent workers.\n"
     ]
    },
    {
     "name": "stdout",
     "output_type": "stream",
     "text": [
      "Fitting 10 folds for each of 196 candidates, totalling 1960 fits\n"
     ]
    },
    {
     "name": "stderr",
     "output_type": "stream",
     "text": [
      "[Parallel(n_jobs=-7)]: Done  84 tasks      | elapsed:    0.2s\n",
      "[Parallel(n_jobs=-7)]: Done 764 tasks      | elapsed:    1.7s\n",
      "[Parallel(n_jobs=-7)]: Done 1781 tasks      | elapsed:    4.5s\n",
      "[Parallel(n_jobs=-7)]: Done 1845 out of 1960 | elapsed:    4.7s remaining:    0.2s\n",
      "[Parallel(n_jobs=-7)]: Done 1960 out of 1960 | elapsed:    5.5s finished\n",
      "[Parallel(n_jobs=-7)]: Using backend LokyBackend with 58 concurrent workers.\n"
     ]
    },
    {
     "name": "stdout",
     "output_type": "stream",
     "text": [
      "Fitting 10 folds for each of 196 candidates, totalling 1960 fits\n"
     ]
    },
    {
     "name": "stderr",
     "output_type": "stream",
     "text": [
      "[Parallel(n_jobs=-7)]: Done  84 tasks      | elapsed:    0.2s\n",
      "[Parallel(n_jobs=-7)]: Done 762 tasks      | elapsed:    1.7s\n",
      "[Parallel(n_jobs=-7)]: Done 1784 tasks      | elapsed:    4.6s\n",
      "[Parallel(n_jobs=-7)]: Done 1845 out of 1960 | elapsed:    4.7s remaining:    0.2s\n",
      "[Parallel(n_jobs=-7)]: Done 1960 out of 1960 | elapsed:    5.6s finished\n",
      "[Parallel(n_jobs=-7)]: Using backend LokyBackend with 58 concurrent workers.\n"
     ]
    },
    {
     "name": "stdout",
     "output_type": "stream",
     "text": [
      "Fitting 10 folds for each of 196 candidates, totalling 1960 fits\n"
     ]
    },
    {
     "name": "stderr",
     "output_type": "stream",
     "text": [
      "[Parallel(n_jobs=-7)]: Done  84 tasks      | elapsed:    0.2s\n",
      "[Parallel(n_jobs=-7)]: Done 762 tasks      | elapsed:    1.8s\n",
      "[Parallel(n_jobs=-7)]: Done 1784 tasks      | elapsed:    4.7s\n",
      "[Parallel(n_jobs=-7)]: Done 1845 out of 1960 | elapsed:    4.8s remaining:    0.2s\n",
      "[Parallel(n_jobs=-7)]: Done 1960 out of 1960 | elapsed:    5.6s finished\n",
      "[Parallel(n_jobs=-7)]: Using backend LokyBackend with 58 concurrent workers.\n"
     ]
    },
    {
     "name": "stdout",
     "output_type": "stream",
     "text": [
      "Fitting 10 folds for each of 196 candidates, totalling 1960 fits\n"
     ]
    },
    {
     "name": "stderr",
     "output_type": "stream",
     "text": [
      "[Parallel(n_jobs=-7)]: Done  84 tasks      | elapsed:    0.2s\n",
      "[Parallel(n_jobs=-7)]: Done 764 tasks      | elapsed:    1.7s\n",
      "[Parallel(n_jobs=-7)]: Done 1787 tasks      | elapsed:    4.6s\n",
      "[Parallel(n_jobs=-7)]: Done 1960 out of 1960 | elapsed:    5.6s finished\n",
      "[Parallel(n_jobs=-7)]: Using backend LokyBackend with 58 concurrent workers.\n"
     ]
    },
    {
     "name": "stdout",
     "output_type": "stream",
     "text": [
      "Fitting 10 folds for each of 196 candidates, totalling 1960 fits\n"
     ]
    },
    {
     "name": "stderr",
     "output_type": "stream",
     "text": [
      "[Parallel(n_jobs=-7)]: Done  84 tasks      | elapsed:    0.2s\n",
      "[Parallel(n_jobs=-7)]: Done 762 tasks      | elapsed:    1.7s\n",
      "[Parallel(n_jobs=-7)]: Done 1787 tasks      | elapsed:    4.6s\n",
      "[Parallel(n_jobs=-7)]: Done 1845 out of 1960 | elapsed:    4.7s remaining:    0.2s\n",
      "[Parallel(n_jobs=-7)]: Done 1960 out of 1960 | elapsed:    5.5s finished\n"
     ]
    },
    {
     "name": "stdout",
     "output_type": "stream",
     "text": [
      "Fitting 10 folds for each of 196 candidates, totalling 1960 fits\n"
     ]
    },
    {
     "name": "stderr",
     "output_type": "stream",
     "text": [
      "[Parallel(n_jobs=-7)]: Using backend LokyBackend with 58 concurrent workers.\n",
      "[Parallel(n_jobs=-7)]: Done  84 tasks      | elapsed:    0.2s\n",
      "[Parallel(n_jobs=-7)]: Done 764 tasks      | elapsed:    1.7s\n",
      "[Parallel(n_jobs=-7)]: Done 1790 tasks      | elapsed:    4.6s\n",
      "[Parallel(n_jobs=-7)]: Done 1845 out of 1960 | elapsed:    4.7s remaining:    0.2s\n",
      "[Parallel(n_jobs=-7)]: Done 1960 out of 1960 | elapsed:    5.5s finished\n",
      "[Parallel(n_jobs=-7)]: Using backend LokyBackend with 58 concurrent workers.\n"
     ]
    },
    {
     "name": "stdout",
     "output_type": "stream",
     "text": [
      "Fitting 10 folds for each of 196 candidates, totalling 1960 fits\n"
     ]
    },
    {
     "name": "stderr",
     "output_type": "stream",
     "text": [
      "[Parallel(n_jobs=-7)]: Done  84 tasks      | elapsed:    0.2s\n",
      "[Parallel(n_jobs=-7)]: Done 764 tasks      | elapsed:    1.7s\n",
      "[Parallel(n_jobs=-7)]: Done 1784 tasks      | elapsed:    4.6s\n",
      "[Parallel(n_jobs=-7)]: Done 1845 out of 1960 | elapsed:    4.7s remaining:    0.2s\n",
      "[Parallel(n_jobs=-7)]: Done 1960 out of 1960 | elapsed:    5.6s finished\n",
      "[Parallel(n_jobs=-7)]: Using backend LokyBackend with 58 concurrent workers.\n"
     ]
    },
    {
     "name": "stdout",
     "output_type": "stream",
     "text": [
      "Fitting 10 folds for each of 196 candidates, totalling 1960 fits\n"
     ]
    },
    {
     "name": "stderr",
     "output_type": "stream",
     "text": [
      "[Parallel(n_jobs=-7)]: Done  84 tasks      | elapsed:    0.2s\n",
      "[Parallel(n_jobs=-7)]: Done 760 tasks      | elapsed:    1.7s\n",
      "[Parallel(n_jobs=-7)]: Done 1787 tasks      | elapsed:    4.6s\n",
      "[Parallel(n_jobs=-7)]: Done 1845 out of 1960 | elapsed:    4.7s remaining:    0.2s\n",
      "[Parallel(n_jobs=-7)]: Done 1960 out of 1960 | elapsed:    5.5s finished\n",
      "[Parallel(n_jobs=-7)]: Using backend LokyBackend with 58 concurrent workers.\n"
     ]
    },
    {
     "name": "stdout",
     "output_type": "stream",
     "text": [
      "Fitting 10 folds for each of 196 candidates, totalling 1960 fits\n"
     ]
    },
    {
     "name": "stderr",
     "output_type": "stream",
     "text": [
      "[Parallel(n_jobs=-7)]: Done  84 tasks      | elapsed:    0.3s\n",
      "[Parallel(n_jobs=-7)]: Done 762 tasks      | elapsed:    1.8s\n",
      "[Parallel(n_jobs=-7)]: Done 1784 tasks      | elapsed:    4.7s\n",
      "[Parallel(n_jobs=-7)]: Done 1845 out of 1960 | elapsed:    4.8s remaining:    0.2s\n",
      "[Parallel(n_jobs=-7)]: Done 1960 out of 1960 | elapsed:    5.7s finished\n",
      "[Parallel(n_jobs=-7)]: Using backend LokyBackend with 58 concurrent workers.\n"
     ]
    },
    {
     "name": "stdout",
     "output_type": "stream",
     "text": [
      "Fitting 10 folds for each of 196 candidates, totalling 1960 fits\n"
     ]
    },
    {
     "name": "stderr",
     "output_type": "stream",
     "text": [
      "[Parallel(n_jobs=-7)]: Done  84 tasks      | elapsed:    0.2s\n",
      "[Parallel(n_jobs=-7)]: Done 762 tasks      | elapsed:    1.7s\n",
      "[Parallel(n_jobs=-7)]: Done 1781 tasks      | elapsed:    4.6s\n",
      "[Parallel(n_jobs=-7)]: Done 1845 out of 1960 | elapsed:    4.7s remaining:    0.2s\n",
      "[Parallel(n_jobs=-7)]: Done 1960 out of 1960 | elapsed:    5.6s finished\n",
      "[Parallel(n_jobs=-7)]: Using backend LokyBackend with 58 concurrent workers.\n"
     ]
    },
    {
     "name": "stdout",
     "output_type": "stream",
     "text": [
      "Fitting 10 folds for each of 196 candidates, totalling 1960 fits\n"
     ]
    },
    {
     "name": "stderr",
     "output_type": "stream",
     "text": [
      "[Parallel(n_jobs=-7)]: Done  84 tasks      | elapsed:    0.2s\n",
      "[Parallel(n_jobs=-7)]: Done 764 tasks      | elapsed:    1.7s\n",
      "[Parallel(n_jobs=-7)]: Done 1784 tasks      | elapsed:    4.6s\n",
      "[Parallel(n_jobs=-7)]: Done 1845 out of 1960 | elapsed:    4.7s remaining:    0.2s\n",
      "[Parallel(n_jobs=-7)]: Done 1960 out of 1960 | elapsed:    5.5s finished\n",
      "[Parallel(n_jobs=-7)]: Using backend LokyBackend with 58 concurrent workers.\n"
     ]
    },
    {
     "name": "stdout",
     "output_type": "stream",
     "text": [
      "Fitting 10 folds for each of 196 candidates, totalling 1960 fits\n"
     ]
    },
    {
     "name": "stderr",
     "output_type": "stream",
     "text": [
      "[Parallel(n_jobs=-7)]: Done  84 tasks      | elapsed:    0.2s\n",
      "[Parallel(n_jobs=-7)]: Done 762 tasks      | elapsed:    1.7s\n",
      "[Parallel(n_jobs=-7)]: Done 1781 tasks      | elapsed:    4.6s\n",
      "[Parallel(n_jobs=-7)]: Done 1845 out of 1960 | elapsed:    4.7s remaining:    0.2s\n",
      "[Parallel(n_jobs=-7)]: Done 1960 out of 1960 | elapsed:    5.7s finished\n"
     ]
    },
    {
     "name": "stdout",
     "output_type": "stream",
     "text": [
      "Fitting 10 folds for each of 196 candidates, totalling 1960 fits\n"
     ]
    },
    {
     "name": "stderr",
     "output_type": "stream",
     "text": [
      "[Parallel(n_jobs=-7)]: Using backend LokyBackend with 58 concurrent workers.\n",
      "[Parallel(n_jobs=-7)]: Done  84 tasks      | elapsed:    0.2s\n",
      "[Parallel(n_jobs=-7)]: Done 762 tasks      | elapsed:    1.8s\n",
      "[Parallel(n_jobs=-7)]: Done 1787 tasks      | elapsed:    4.7s\n",
      "[Parallel(n_jobs=-7)]: Done 1845 out of 1960 | elapsed:    4.8s remaining:    0.2s\n",
      "[Parallel(n_jobs=-7)]: Done 1960 out of 1960 | elapsed:    5.7s finished\n"
     ]
    },
    {
     "name": "stdout",
     "output_type": "stream",
     "text": [
      "Fitting 10 folds for each of 196 candidates, totalling 1960 fits\n"
     ]
    },
    {
     "name": "stderr",
     "output_type": "stream",
     "text": [
      "[Parallel(n_jobs=-7)]: Using backend LokyBackend with 58 concurrent workers.\n",
      "[Parallel(n_jobs=-7)]: Done  84 tasks      | elapsed:    0.2s\n",
      "[Parallel(n_jobs=-7)]: Done 762 tasks      | elapsed:    1.7s\n",
      "[Parallel(n_jobs=-7)]: Done 1790 tasks      | elapsed:    4.6s\n",
      "[Parallel(n_jobs=-7)]: Done 1845 out of 1960 | elapsed:    4.7s remaining:    0.2s\n",
      "[Parallel(n_jobs=-7)]: Done 1960 out of 1960 | elapsed:    5.6s finished\n",
      "[Parallel(n_jobs=-7)]: Using backend LokyBackend with 58 concurrent workers.\n"
     ]
    },
    {
     "name": "stdout",
     "output_type": "stream",
     "text": [
      "Fitting 10 folds for each of 196 candidates, totalling 1960 fits\n"
     ]
    },
    {
     "name": "stderr",
     "output_type": "stream",
     "text": [
      "[Parallel(n_jobs=-7)]: Done  84 tasks      | elapsed:    0.2s\n",
      "[Parallel(n_jobs=-7)]: Done 762 tasks      | elapsed:    1.7s\n",
      "[Parallel(n_jobs=-7)]: Done 1784 tasks      | elapsed:    4.6s\n",
      "[Parallel(n_jobs=-7)]: Done 1845 out of 1960 | elapsed:    4.7s remaining:    0.2s\n",
      "[Parallel(n_jobs=-7)]: Done 1960 out of 1960 | elapsed:    5.6s finished\n",
      "[Parallel(n_jobs=-7)]: Using backend LokyBackend with 58 concurrent workers.\n"
     ]
    },
    {
     "name": "stdout",
     "output_type": "stream",
     "text": [
      "Fitting 10 folds for each of 196 candidates, totalling 1960 fits\n"
     ]
    },
    {
     "name": "stderr",
     "output_type": "stream",
     "text": [
      "[Parallel(n_jobs=-7)]: Done  84 tasks      | elapsed:    0.2s\n",
      "[Parallel(n_jobs=-7)]: Done 760 tasks      | elapsed:    1.7s\n",
      "[Parallel(n_jobs=-7)]: Done 1787 tasks      | elapsed:    4.6s\n",
      "[Parallel(n_jobs=-7)]: Done 1845 out of 1960 | elapsed:    4.7s remaining:    0.2s\n",
      "[Parallel(n_jobs=-7)]: Done 1960 out of 1960 | elapsed:    5.6s finished\n",
      "[Parallel(n_jobs=-7)]: Using backend LokyBackend with 58 concurrent workers.\n"
     ]
    },
    {
     "name": "stdout",
     "output_type": "stream",
     "text": [
      "Fitting 10 folds for each of 196 candidates, totalling 1960 fits\n"
     ]
    },
    {
     "name": "stderr",
     "output_type": "stream",
     "text": [
      "[Parallel(n_jobs=-7)]: Done  84 tasks      | elapsed:    0.2s\n",
      "[Parallel(n_jobs=-7)]: Done 762 tasks      | elapsed:    1.7s\n",
      "[Parallel(n_jobs=-7)]: Done 1778 tasks      | elapsed:    4.6s\n",
      "[Parallel(n_jobs=-7)]: Done 1845 out of 1960 | elapsed:    4.7s remaining:    0.2s\n",
      "[Parallel(n_jobs=-7)]: Done 1960 out of 1960 | elapsed:    5.6s finished\n",
      "[Parallel(n_jobs=-7)]: Using backend LokyBackend with 58 concurrent workers.\n"
     ]
    },
    {
     "name": "stdout",
     "output_type": "stream",
     "text": [
      "Fitting 10 folds for each of 196 candidates, totalling 1960 fits\n"
     ]
    },
    {
     "name": "stderr",
     "output_type": "stream",
     "text": [
      "[Parallel(n_jobs=-7)]: Done  84 tasks      | elapsed:    0.2s\n",
      "[Parallel(n_jobs=-7)]: Done 760 tasks      | elapsed:    1.7s\n",
      "[Parallel(n_jobs=-7)]: Done 1784 tasks      | elapsed:    4.6s\n",
      "[Parallel(n_jobs=-7)]: Done 1845 out of 1960 | elapsed:    4.7s remaining:    0.2s\n",
      "[Parallel(n_jobs=-7)]: Done 1960 out of 1960 | elapsed:    5.6s finished\n",
      "[Parallel(n_jobs=-7)]: Using backend LokyBackend with 58 concurrent workers.\n"
     ]
    },
    {
     "name": "stdout",
     "output_type": "stream",
     "text": [
      "Fitting 10 folds for each of 196 candidates, totalling 1960 fits\n"
     ]
    },
    {
     "name": "stderr",
     "output_type": "stream",
     "text": [
      "[Parallel(n_jobs=-7)]: Done  84 tasks      | elapsed:    0.2s\n",
      "[Parallel(n_jobs=-7)]: Done 758 tasks      | elapsed:    1.7s\n",
      "[Parallel(n_jobs=-7)]: Done 1787 tasks      | elapsed:    4.7s\n",
      "[Parallel(n_jobs=-7)]: Done 1845 out of 1960 | elapsed:    4.8s remaining:    0.2s\n",
      "[Parallel(n_jobs=-7)]: Done 1960 out of 1960 | elapsed:    5.6s finished\n",
      "[Parallel(n_jobs=-7)]: Using backend LokyBackend with 58 concurrent workers.\n"
     ]
    },
    {
     "name": "stdout",
     "output_type": "stream",
     "text": [
      "Fitting 10 folds for each of 196 candidates, totalling 1960 fits\n"
     ]
    },
    {
     "name": "stderr",
     "output_type": "stream",
     "text": [
      "[Parallel(n_jobs=-7)]: Done  84 tasks      | elapsed:    0.2s\n",
      "[Parallel(n_jobs=-7)]: Done 762 tasks      | elapsed:    1.7s\n",
      "[Parallel(n_jobs=-7)]: Done 1778 tasks      | elapsed:    4.6s\n",
      "[Parallel(n_jobs=-7)]: Done 1845 out of 1960 | elapsed:    4.8s remaining:    0.2s\n",
      "[Parallel(n_jobs=-7)]: Done 1960 out of 1960 | elapsed:    5.6s finished\n"
     ]
    },
    {
     "name": "stdout",
     "output_type": "stream",
     "text": [
      "Fitting 10 folds for each of 196 candidates, totalling 1960 fits\n"
     ]
    },
    {
     "name": "stderr",
     "output_type": "stream",
     "text": [
      "[Parallel(n_jobs=-7)]: Using backend LokyBackend with 58 concurrent workers.\n",
      "[Parallel(n_jobs=-7)]: Done  84 tasks      | elapsed:    0.2s\n",
      "[Parallel(n_jobs=-7)]: Done 764 tasks      | elapsed:    1.7s\n",
      "[Parallel(n_jobs=-7)]: Done 1781 tasks      | elapsed:    4.6s\n",
      "[Parallel(n_jobs=-7)]: Done 1845 out of 1960 | elapsed:    4.7s remaining:    0.2s\n",
      "[Parallel(n_jobs=-7)]: Done 1960 out of 1960 | elapsed:    5.6s finished\n",
      "[Parallel(n_jobs=-7)]: Using backend LokyBackend with 58 concurrent workers.\n"
     ]
    },
    {
     "name": "stdout",
     "output_type": "stream",
     "text": [
      "Fitting 10 folds for each of 196 candidates, totalling 1960 fits\n"
     ]
    },
    {
     "name": "stderr",
     "output_type": "stream",
     "text": [
      "[Parallel(n_jobs=-7)]: Done  84 tasks      | elapsed:    0.2s\n",
      "[Parallel(n_jobs=-7)]: Done 758 tasks      | elapsed:    1.8s\n",
      "[Parallel(n_jobs=-7)]: Done 1790 tasks      | elapsed:    4.7s\n",
      "[Parallel(n_jobs=-7)]: Done 1960 out of 1960 | elapsed:    5.7s finished\n"
     ]
    },
    {
     "name": "stdout",
     "output_type": "stream",
     "text": [
      "Fitting 10 folds for each of 196 candidates, totalling 1960 fits\n"
     ]
    },
    {
     "name": "stderr",
     "output_type": "stream",
     "text": [
      "[Parallel(n_jobs=-7)]: Using backend LokyBackend with 58 concurrent workers.\n",
      "[Parallel(n_jobs=-7)]: Done  84 tasks      | elapsed:    0.2s\n",
      "[Parallel(n_jobs=-7)]: Done 764 tasks      | elapsed:    1.8s\n",
      "[Parallel(n_jobs=-7)]: Done 1790 tasks      | elapsed:    4.8s\n",
      "[Parallel(n_jobs=-7)]: Done 1845 out of 1960 | elapsed:    4.9s remaining:    0.2s\n",
      "[Parallel(n_jobs=-7)]: Done 1960 out of 1960 | elapsed:    5.8s finished\n",
      "[Parallel(n_jobs=-7)]: Using backend LokyBackend with 58 concurrent workers.\n"
     ]
    },
    {
     "name": "stdout",
     "output_type": "stream",
     "text": [
      "Fitting 10 folds for each of 196 candidates, totalling 1960 fits\n"
     ]
    },
    {
     "name": "stderr",
     "output_type": "stream",
     "text": [
      "[Parallel(n_jobs=-7)]: Done  84 tasks      | elapsed:    0.2s\n",
      "[Parallel(n_jobs=-7)]: Done 762 tasks      | elapsed:    1.7s\n",
      "[Parallel(n_jobs=-7)]: Done 1784 tasks      | elapsed:    4.6s\n",
      "[Parallel(n_jobs=-7)]: Done 1845 out of 1960 | elapsed:    4.8s remaining:    0.2s\n",
      "[Parallel(n_jobs=-7)]: Done 1960 out of 1960 | elapsed:    5.6s finished\n",
      "[Parallel(n_jobs=-7)]: Using backend LokyBackend with 58 concurrent workers.\n"
     ]
    },
    {
     "name": "stdout",
     "output_type": "stream",
     "text": [
      "Fitting 10 folds for each of 196 candidates, totalling 1960 fits\n"
     ]
    },
    {
     "name": "stderr",
     "output_type": "stream",
     "text": [
      "[Parallel(n_jobs=-7)]: Done  84 tasks      | elapsed:    0.2s\n",
      "[Parallel(n_jobs=-7)]: Done 760 tasks      | elapsed:    1.7s\n",
      "[Parallel(n_jobs=-7)]: Done 1784 tasks      | elapsed:    4.6s\n",
      "[Parallel(n_jobs=-7)]: Done 1845 out of 1960 | elapsed:    4.8s remaining:    0.2s\n",
      "[Parallel(n_jobs=-7)]: Done 1960 out of 1960 | elapsed:    5.6s finished\n"
     ]
    },
    {
     "name": "stdout",
     "output_type": "stream",
     "text": [
      "Fitting 10 folds for each of 196 candidates, totalling 1960 fits\n"
     ]
    },
    {
     "name": "stderr",
     "output_type": "stream",
     "text": [
      "[Parallel(n_jobs=-7)]: Using backend LokyBackend with 58 concurrent workers.\n",
      "[Parallel(n_jobs=-7)]: Done  84 tasks      | elapsed:    0.2s\n",
      "[Parallel(n_jobs=-7)]: Done 760 tasks      | elapsed:    1.7s\n",
      "[Parallel(n_jobs=-7)]: Done 1784 tasks      | elapsed:    4.6s\n",
      "[Parallel(n_jobs=-7)]: Done 1845 out of 1960 | elapsed:    4.8s remaining:    0.2s\n",
      "[Parallel(n_jobs=-7)]: Done 1960 out of 1960 | elapsed:    5.6s finished\n"
     ]
    },
    {
     "name": "stdout",
     "output_type": "stream",
     "text": [
      "Fitting 10 folds for each of 196 candidates, totalling 1960 fits\n"
     ]
    },
    {
     "name": "stderr",
     "output_type": "stream",
     "text": [
      "[Parallel(n_jobs=-7)]: Using backend LokyBackend with 58 concurrent workers.\n",
      "[Parallel(n_jobs=-7)]: Done  84 tasks      | elapsed:    0.2s\n",
      "[Parallel(n_jobs=-7)]: Done 760 tasks      | elapsed:    1.7s\n",
      "[Parallel(n_jobs=-7)]: Done 1784 tasks      | elapsed:    4.6s\n",
      "[Parallel(n_jobs=-7)]: Done 1845 out of 1960 | elapsed:    4.8s remaining:    0.2s\n",
      "[Parallel(n_jobs=-7)]: Done 1960 out of 1960 | elapsed:    5.7s finished\n",
      "[Parallel(n_jobs=-7)]: Using backend LokyBackend with 58 concurrent workers.\n"
     ]
    },
    {
     "name": "stdout",
     "output_type": "stream",
     "text": [
      "Fitting 10 folds for each of 196 candidates, totalling 1960 fits\n"
     ]
    },
    {
     "name": "stderr",
     "output_type": "stream",
     "text": [
      "[Parallel(n_jobs=-7)]: Done  84 tasks      | elapsed:    0.2s\n",
      "[Parallel(n_jobs=-7)]: Done 764 tasks      | elapsed:    1.7s\n",
      "[Parallel(n_jobs=-7)]: Done 1775 tasks      | elapsed:    4.7s\n",
      "[Parallel(n_jobs=-7)]: Done 1845 out of 1960 | elapsed:    4.8s remaining:    0.2s\n",
      "[Parallel(n_jobs=-7)]: Done 1960 out of 1960 | elapsed:    5.7s finished\n",
      "[Parallel(n_jobs=-7)]: Using backend LokyBackend with 58 concurrent workers.\n"
     ]
    },
    {
     "name": "stdout",
     "output_type": "stream",
     "text": [
      "Fitting 10 folds for each of 196 candidates, totalling 1960 fits\n"
     ]
    },
    {
     "name": "stderr",
     "output_type": "stream",
     "text": [
      "[Parallel(n_jobs=-7)]: Done  84 tasks      | elapsed:    0.2s\n",
      "[Parallel(n_jobs=-7)]: Done 760 tasks      | elapsed:    1.7s\n",
      "[Parallel(n_jobs=-7)]: Done 1784 tasks      | elapsed:    4.7s\n",
      "[Parallel(n_jobs=-7)]: Done 1845 out of 1960 | elapsed:    4.8s remaining:    0.2s\n",
      "[Parallel(n_jobs=-7)]: Done 1960 out of 1960 | elapsed:    5.6s finished\n",
      "[Parallel(n_jobs=-7)]: Using backend LokyBackend with 58 concurrent workers.\n"
     ]
    },
    {
     "name": "stdout",
     "output_type": "stream",
     "text": [
      "Fitting 10 folds for each of 196 candidates, totalling 1960 fits\n"
     ]
    },
    {
     "name": "stderr",
     "output_type": "stream",
     "text": [
      "[Parallel(n_jobs=-7)]: Done  84 tasks      | elapsed:    0.2s\n",
      "[Parallel(n_jobs=-7)]: Done 758 tasks      | elapsed:    1.7s\n",
      "[Parallel(n_jobs=-7)]: Done 1778 tasks      | elapsed:    4.7s\n",
      "[Parallel(n_jobs=-7)]: Done 1845 out of 1960 | elapsed:    4.8s remaining:    0.2s\n",
      "[Parallel(n_jobs=-7)]: Done 1960 out of 1960 | elapsed:    5.7s finished\n",
      "[Parallel(n_jobs=-7)]: Using backend LokyBackend with 58 concurrent workers.\n"
     ]
    },
    {
     "name": "stdout",
     "output_type": "stream",
     "text": [
      "Fitting 10 folds for each of 196 candidates, totalling 1960 fits\n"
     ]
    },
    {
     "name": "stderr",
     "output_type": "stream",
     "text": [
      "[Parallel(n_jobs=-7)]: Done  84 tasks      | elapsed:    0.2s\n",
      "[Parallel(n_jobs=-7)]: Done 762 tasks      | elapsed:    1.7s\n",
      "[Parallel(n_jobs=-7)]: Done 1784 tasks      | elapsed:    4.7s\n",
      "[Parallel(n_jobs=-7)]: Done 1845 out of 1960 | elapsed:    4.8s remaining:    0.2s\n",
      "[Parallel(n_jobs=-7)]: Done 1960 out of 1960 | elapsed:    5.6s finished\n",
      "[Parallel(n_jobs=-7)]: Using backend LokyBackend with 58 concurrent workers.\n"
     ]
    },
    {
     "name": "stdout",
     "output_type": "stream",
     "text": [
      "Fitting 10 folds for each of 196 candidates, totalling 1960 fits\n"
     ]
    },
    {
     "name": "stderr",
     "output_type": "stream",
     "text": [
      "[Parallel(n_jobs=-7)]: Done  84 tasks      | elapsed:    0.2s\n",
      "[Parallel(n_jobs=-7)]: Done 758 tasks      | elapsed:    1.7s\n",
      "[Parallel(n_jobs=-7)]: Done 1784 tasks      | elapsed:    4.7s\n",
      "[Parallel(n_jobs=-7)]: Done 1845 out of 1960 | elapsed:    4.8s remaining:    0.2s\n",
      "[Parallel(n_jobs=-7)]: Done 1960 out of 1960 | elapsed:    5.7s finished\n",
      "[Parallel(n_jobs=-7)]: Using backend LokyBackend with 58 concurrent workers.\n"
     ]
    },
    {
     "name": "stdout",
     "output_type": "stream",
     "text": [
      "Fitting 10 folds for each of 196 candidates, totalling 1960 fits\n"
     ]
    },
    {
     "name": "stderr",
     "output_type": "stream",
     "text": [
      "[Parallel(n_jobs=-7)]: Done  84 tasks      | elapsed:    0.2s\n",
      "[Parallel(n_jobs=-7)]: Done 764 tasks      | elapsed:    1.8s\n",
      "[Parallel(n_jobs=-7)]: Done 1778 tasks      | elapsed:    4.8s\n",
      "[Parallel(n_jobs=-7)]: Done 1845 out of 1960 | elapsed:    4.9s remaining:    0.2s\n",
      "[Parallel(n_jobs=-7)]: Done 1960 out of 1960 | elapsed:    5.7s finished\n",
      "[Parallel(n_jobs=-7)]: Using backend LokyBackend with 58 concurrent workers.\n"
     ]
    },
    {
     "name": "stdout",
     "output_type": "stream",
     "text": [
      "Fitting 10 folds for each of 196 candidates, totalling 1960 fits\n"
     ]
    },
    {
     "name": "stderr",
     "output_type": "stream",
     "text": [
      "[Parallel(n_jobs=-7)]: Done  84 tasks      | elapsed:    0.2s\n",
      "[Parallel(n_jobs=-7)]: Done 762 tasks      | elapsed:    1.8s\n",
      "[Parallel(n_jobs=-7)]: Done 1781 tasks      | elapsed:    4.7s\n",
      "[Parallel(n_jobs=-7)]: Done 1845 out of 1960 | elapsed:    4.9s remaining:    0.2s\n",
      "[Parallel(n_jobs=-7)]: Done 1960 out of 1960 | elapsed:    5.8s finished\n",
      "[Parallel(n_jobs=-7)]: Using backend LokyBackend with 58 concurrent workers.\n"
     ]
    },
    {
     "name": "stdout",
     "output_type": "stream",
     "text": [
      "Fitting 10 folds for each of 196 candidates, totalling 1960 fits\n"
     ]
    },
    {
     "name": "stderr",
     "output_type": "stream",
     "text": [
      "[Parallel(n_jobs=-7)]: Done  84 tasks      | elapsed:    0.3s\n",
      "[Parallel(n_jobs=-7)]: Done 764 tasks      | elapsed:    1.8s\n",
      "[Parallel(n_jobs=-7)]: Done 1787 tasks      | elapsed:    4.8s\n",
      "[Parallel(n_jobs=-7)]: Done 1845 out of 1960 | elapsed:    4.9s remaining:    0.2s\n",
      "[Parallel(n_jobs=-7)]: Done 1960 out of 1960 | elapsed:    5.7s finished\n"
     ]
    },
    {
     "name": "stdout",
     "output_type": "stream",
     "text": [
      "Fitting 10 folds for each of 196 candidates, totalling 1960 fits\n"
     ]
    },
    {
     "name": "stderr",
     "output_type": "stream",
     "text": [
      "[Parallel(n_jobs=-7)]: Using backend LokyBackend with 58 concurrent workers.\n",
      "[Parallel(n_jobs=-7)]: Done  84 tasks      | elapsed:    0.2s\n",
      "[Parallel(n_jobs=-7)]: Done 760 tasks      | elapsed:    1.7s\n",
      "[Parallel(n_jobs=-7)]: Done 1787 tasks      | elapsed:    4.7s\n",
      "[Parallel(n_jobs=-7)]: Done 1845 out of 1960 | elapsed:    4.8s remaining:    0.2s\n",
      "[Parallel(n_jobs=-7)]: Done 1960 out of 1960 | elapsed:    5.6s finished\n",
      "[Parallel(n_jobs=-7)]: Using backend LokyBackend with 58 concurrent workers.\n"
     ]
    },
    {
     "name": "stdout",
     "output_type": "stream",
     "text": [
      "Fitting 10 folds for each of 196 candidates, totalling 1960 fits\n"
     ]
    },
    {
     "name": "stderr",
     "output_type": "stream",
     "text": [
      "[Parallel(n_jobs=-7)]: Done  84 tasks      | elapsed:    0.2s\n",
      "[Parallel(n_jobs=-7)]: Done 760 tasks      | elapsed:    1.8s\n",
      "[Parallel(n_jobs=-7)]: Done 1787 tasks      | elapsed:    4.7s\n",
      "[Parallel(n_jobs=-7)]: Done 1845 out of 1960 | elapsed:    4.8s remaining:    0.2s\n",
      "[Parallel(n_jobs=-7)]: Done 1960 out of 1960 | elapsed:    5.7s finished\n"
     ]
    },
    {
     "name": "stdout",
     "output_type": "stream",
     "text": [
      "Fitting 10 folds for each of 196 candidates, totalling 1960 fits\n"
     ]
    },
    {
     "name": "stderr",
     "output_type": "stream",
     "text": [
      "[Parallel(n_jobs=-7)]: Using backend LokyBackend with 58 concurrent workers.\n",
      "[Parallel(n_jobs=-7)]: Done  84 tasks      | elapsed:    0.2s\n",
      "[Parallel(n_jobs=-7)]: Done 760 tasks      | elapsed:    1.7s\n",
      "[Parallel(n_jobs=-7)]: Done 1784 tasks      | elapsed:    4.7s\n",
      "[Parallel(n_jobs=-7)]: Done 1845 out of 1960 | elapsed:    4.8s remaining:    0.2s\n",
      "[Parallel(n_jobs=-7)]: Done 1960 out of 1960 | elapsed:    5.7s finished\n",
      "[Parallel(n_jobs=-7)]: Using backend LokyBackend with 58 concurrent workers.\n"
     ]
    },
    {
     "name": "stdout",
     "output_type": "stream",
     "text": [
      "Fitting 10 folds for each of 196 candidates, totalling 1960 fits\n"
     ]
    },
    {
     "name": "stderr",
     "output_type": "stream",
     "text": [
      "[Parallel(n_jobs=-7)]: Done  84 tasks      | elapsed:    0.2s\n",
      "[Parallel(n_jobs=-7)]: Done 764 tasks      | elapsed:    1.8s\n",
      "[Parallel(n_jobs=-7)]: Done 1784 tasks      | elapsed:    4.7s\n",
      "[Parallel(n_jobs=-7)]: Done 1845 out of 1960 | elapsed:    4.8s remaining:    0.2s\n",
      "[Parallel(n_jobs=-7)]: Done 1960 out of 1960 | elapsed:    5.7s finished\n",
      "[Parallel(n_jobs=-7)]: Using backend LokyBackend with 58 concurrent workers.\n"
     ]
    },
    {
     "name": "stdout",
     "output_type": "stream",
     "text": [
      "Fitting 10 folds for each of 196 candidates, totalling 1960 fits\n"
     ]
    },
    {
     "name": "stderr",
     "output_type": "stream",
     "text": [
      "[Parallel(n_jobs=-7)]: Done  84 tasks      | elapsed:    0.2s\n",
      "[Parallel(n_jobs=-7)]: Done 760 tasks      | elapsed:    1.7s\n",
      "[Parallel(n_jobs=-7)]: Done 1781 tasks      | elapsed:    4.7s\n",
      "[Parallel(n_jobs=-7)]: Done 1845 out of 1960 | elapsed:    4.8s remaining:    0.2s\n",
      "[Parallel(n_jobs=-7)]: Done 1960 out of 1960 | elapsed:    5.8s finished\n"
     ]
    },
    {
     "name": "stdout",
     "output_type": "stream",
     "text": [
      "Fitting 10 folds for each of 196 candidates, totalling 1960 fits\n"
     ]
    },
    {
     "name": "stderr",
     "output_type": "stream",
     "text": [
      "[Parallel(n_jobs=-7)]: Using backend LokyBackend with 58 concurrent workers.\n",
      "[Parallel(n_jobs=-7)]: Done  84 tasks      | elapsed:    0.2s\n",
      "[Parallel(n_jobs=-7)]: Done 764 tasks      | elapsed:    1.7s\n",
      "[Parallel(n_jobs=-7)]: Done 1784 tasks      | elapsed:    4.7s\n",
      "[Parallel(n_jobs=-7)]: Done 1845 out of 1960 | elapsed:    4.8s remaining:    0.2s\n",
      "[Parallel(n_jobs=-7)]: Done 1960 out of 1960 | elapsed:    5.7s finished\n"
     ]
    },
    {
     "name": "stdout",
     "output_type": "stream",
     "text": [
      "Fitting 10 folds for each of 196 candidates, totalling 1960 fits\n"
     ]
    },
    {
     "name": "stderr",
     "output_type": "stream",
     "text": [
      "[Parallel(n_jobs=-7)]: Using backend LokyBackend with 58 concurrent workers.\n",
      "[Parallel(n_jobs=-7)]: Done  84 tasks      | elapsed:    0.2s\n",
      "[Parallel(n_jobs=-7)]: Done 762 tasks      | elapsed:    1.7s\n",
      "[Parallel(n_jobs=-7)]: Done 1790 tasks      | elapsed:    4.7s\n",
      "[Parallel(n_jobs=-7)]: Done 1845 out of 1960 | elapsed:    4.8s remaining:    0.2s\n",
      "[Parallel(n_jobs=-7)]: Done 1960 out of 1960 | elapsed:    5.7s finished\n"
     ]
    },
    {
     "name": "stdout",
     "output_type": "stream",
     "text": [
      "Fitting 10 folds for each of 196 candidates, totalling 1960 fits\n"
     ]
    },
    {
     "name": "stderr",
     "output_type": "stream",
     "text": [
      "[Parallel(n_jobs=-7)]: Using backend LokyBackend with 58 concurrent workers.\n",
      "[Parallel(n_jobs=-7)]: Done  84 tasks      | elapsed:    0.2s\n",
      "[Parallel(n_jobs=-7)]: Done 764 tasks      | elapsed:    1.7s\n",
      "[Parallel(n_jobs=-7)]: Done 1784 tasks      | elapsed:    4.8s\n",
      "[Parallel(n_jobs=-7)]: Done 1845 out of 1960 | elapsed:    5.0s remaining:    0.2s\n",
      "[Parallel(n_jobs=-7)]: Done 1960 out of 1960 | elapsed:    5.9s finished\n",
      "[Parallel(n_jobs=-7)]: Using backend LokyBackend with 58 concurrent workers.\n"
     ]
    },
    {
     "name": "stdout",
     "output_type": "stream",
     "text": [
      "Fitting 10 folds for each of 196 candidates, totalling 1960 fits\n"
     ]
    },
    {
     "name": "stderr",
     "output_type": "stream",
     "text": [
      "[Parallel(n_jobs=-7)]: Done  84 tasks      | elapsed:    0.2s\n",
      "[Parallel(n_jobs=-7)]: Done 762 tasks      | elapsed:    1.7s\n",
      "[Parallel(n_jobs=-7)]: Done 1787 tasks      | elapsed:    4.8s\n",
      "[Parallel(n_jobs=-7)]: Done 1960 out of 1960 | elapsed:    5.7s finished\n",
      "[Parallel(n_jobs=-7)]: Using backend LokyBackend with 58 concurrent workers.\n"
     ]
    },
    {
     "name": "stdout",
     "output_type": "stream",
     "text": [
      "Fitting 10 folds for each of 196 candidates, totalling 1960 fits\n"
     ]
    },
    {
     "name": "stderr",
     "output_type": "stream",
     "text": [
      "[Parallel(n_jobs=-7)]: Done  84 tasks      | elapsed:    0.2s\n",
      "[Parallel(n_jobs=-7)]: Done 756 tasks      | elapsed:    1.7s\n",
      "[Parallel(n_jobs=-7)]: Done 1793 tasks      | elapsed:    4.8s\n",
      "[Parallel(n_jobs=-7)]: Done 1845 out of 1960 | elapsed:    4.8s remaining:    0.2s\n",
      "[Parallel(n_jobs=-7)]: Done 1960 out of 1960 | elapsed:    5.8s finished\n",
      "[Parallel(n_jobs=-7)]: Using backend LokyBackend with 58 concurrent workers.\n"
     ]
    },
    {
     "name": "stdout",
     "output_type": "stream",
     "text": [
      "Fitting 10 folds for each of 196 candidates, totalling 1960 fits\n"
     ]
    },
    {
     "name": "stderr",
     "output_type": "stream",
     "text": [
      "[Parallel(n_jobs=-7)]: Done  84 tasks      | elapsed:    0.2s\n",
      "[Parallel(n_jobs=-7)]: Done 762 tasks      | elapsed:    1.7s\n",
      "[Parallel(n_jobs=-7)]: Done 1784 tasks      | elapsed:    4.7s\n",
      "[Parallel(n_jobs=-7)]: Done 1845 out of 1960 | elapsed:    4.9s remaining:    0.2s\n",
      "[Parallel(n_jobs=-7)]: Done 1960 out of 1960 | elapsed:    5.8s finished\n",
      "[Parallel(n_jobs=-7)]: Using backend LokyBackend with 58 concurrent workers.\n"
     ]
    },
    {
     "name": "stdout",
     "output_type": "stream",
     "text": [
      "Fitting 10 folds for each of 196 candidates, totalling 1960 fits\n"
     ]
    },
    {
     "name": "stderr",
     "output_type": "stream",
     "text": [
      "[Parallel(n_jobs=-7)]: Done  84 tasks      | elapsed:    0.2s\n",
      "[Parallel(n_jobs=-7)]: Done 762 tasks      | elapsed:    1.8s\n",
      "[Parallel(n_jobs=-7)]: Done 1790 tasks      | elapsed:    4.8s\n",
      "[Parallel(n_jobs=-7)]: Done 1845 out of 1960 | elapsed:    4.9s remaining:    0.2s\n",
      "[Parallel(n_jobs=-7)]: Done 1960 out of 1960 | elapsed:    5.8s finished\n",
      "[Parallel(n_jobs=-7)]: Using backend LokyBackend with 58 concurrent workers.\n"
     ]
    },
    {
     "name": "stdout",
     "output_type": "stream",
     "text": [
      "Fitting 10 folds for each of 196 candidates, totalling 1960 fits\n"
     ]
    },
    {
     "name": "stderr",
     "output_type": "stream",
     "text": [
      "[Parallel(n_jobs=-7)]: Done  84 tasks      | elapsed:    0.2s\n",
      "[Parallel(n_jobs=-7)]: Done 760 tasks      | elapsed:    1.7s\n",
      "[Parallel(n_jobs=-7)]: Done 1781 tasks      | elapsed:    4.8s\n",
      "[Parallel(n_jobs=-7)]: Done 1845 out of 1960 | elapsed:    4.9s remaining:    0.2s\n",
      "[Parallel(n_jobs=-7)]: Done 1960 out of 1960 | elapsed:    5.8s finished\n",
      "[Parallel(n_jobs=-7)]: Using backend LokyBackend with 58 concurrent workers.\n"
     ]
    },
    {
     "name": "stdout",
     "output_type": "stream",
     "text": [
      "Fitting 10 folds for each of 196 candidates, totalling 1960 fits\n"
     ]
    },
    {
     "name": "stderr",
     "output_type": "stream",
     "text": [
      "[Parallel(n_jobs=-7)]: Done  84 tasks      | elapsed:    0.2s\n",
      "[Parallel(n_jobs=-7)]: Done 762 tasks      | elapsed:    1.8s\n",
      "[Parallel(n_jobs=-7)]: Done 1784 tasks      | elapsed:    4.8s\n",
      "[Parallel(n_jobs=-7)]: Done 1845 out of 1960 | elapsed:    4.9s remaining:    0.2s\n",
      "[Parallel(n_jobs=-7)]: Done 1960 out of 1960 | elapsed:    5.8s finished\n",
      "[Parallel(n_jobs=-7)]: Using backend LokyBackend with 58 concurrent workers.\n"
     ]
    },
    {
     "name": "stdout",
     "output_type": "stream",
     "text": [
      "Fitting 10 folds for each of 196 candidates, totalling 1960 fits\n"
     ]
    },
    {
     "name": "stderr",
     "output_type": "stream",
     "text": [
      "[Parallel(n_jobs=-7)]: Done  84 tasks      | elapsed:    0.2s\n",
      "[Parallel(n_jobs=-7)]: Done 762 tasks      | elapsed:    1.7s\n",
      "[Parallel(n_jobs=-7)]: Done 1787 tasks      | elapsed:    4.8s\n",
      "[Parallel(n_jobs=-7)]: Done 1845 out of 1960 | elapsed:    4.9s remaining:    0.2s\n",
      "[Parallel(n_jobs=-7)]: Done 1960 out of 1960 | elapsed:    5.7s finished\n",
      "[Parallel(n_jobs=-7)]: Using backend LokyBackend with 58 concurrent workers.\n"
     ]
    },
    {
     "name": "stdout",
     "output_type": "stream",
     "text": [
      "Fitting 10 folds for each of 196 candidates, totalling 1960 fits\n"
     ]
    },
    {
     "name": "stderr",
     "output_type": "stream",
     "text": [
      "[Parallel(n_jobs=-7)]: Done  84 tasks      | elapsed:    0.2s\n",
      "[Parallel(n_jobs=-7)]: Done 764 tasks      | elapsed:    1.8s\n",
      "[Parallel(n_jobs=-7)]: Done 1787 tasks      | elapsed:    4.8s\n",
      "[Parallel(n_jobs=-7)]: Done 1845 out of 1960 | elapsed:    4.9s remaining:    0.2s\n",
      "[Parallel(n_jobs=-7)]: Done 1960 out of 1960 | elapsed:    5.9s finished\n",
      "[Parallel(n_jobs=-7)]: Using backend LokyBackend with 58 concurrent workers.\n"
     ]
    },
    {
     "name": "stdout",
     "output_type": "stream",
     "text": [
      "Fitting 10 folds for each of 196 candidates, totalling 1960 fits\n"
     ]
    },
    {
     "name": "stderr",
     "output_type": "stream",
     "text": [
      "[Parallel(n_jobs=-7)]: Done  84 tasks      | elapsed:    0.2s\n",
      "[Parallel(n_jobs=-7)]: Done 796 tasks      | elapsed:    1.9s\n",
      "[Parallel(n_jobs=-7)]: Done 1960 out of 1960 | elapsed:    6.5s finished\n",
      "[Parallel(n_jobs=-7)]: Using backend LokyBackend with 58 concurrent workers.\n"
     ]
    },
    {
     "name": "stdout",
     "output_type": "stream",
     "text": [
      "Fitting 10 folds for each of 196 candidates, totalling 1960 fits\n"
     ]
    },
    {
     "name": "stderr",
     "output_type": "stream",
     "text": [
      "[Parallel(n_jobs=-7)]: Done  84 tasks      | elapsed:    0.2s\n",
      "[Parallel(n_jobs=-7)]: Done 764 tasks      | elapsed:    1.7s\n",
      "[Parallel(n_jobs=-7)]: Done 1790 tasks      | elapsed:    4.9s\n",
      "[Parallel(n_jobs=-7)]: Done 1845 out of 1960 | elapsed:    5.0s remaining:    0.2s\n",
      "[Parallel(n_jobs=-7)]: Done 1960 out of 1960 | elapsed:    5.9s finished\n",
      "[Parallel(n_jobs=-7)]: Using backend LokyBackend with 58 concurrent workers.\n"
     ]
    },
    {
     "name": "stdout",
     "output_type": "stream",
     "text": [
      "Fitting 10 folds for each of 196 candidates, totalling 1960 fits\n"
     ]
    },
    {
     "name": "stderr",
     "output_type": "stream",
     "text": [
      "[Parallel(n_jobs=-7)]: Done  84 tasks      | elapsed:    0.2s\n",
      "[Parallel(n_jobs=-7)]: Done 762 tasks      | elapsed:    1.8s\n",
      "[Parallel(n_jobs=-7)]: Done 1784 tasks      | elapsed:    4.8s\n",
      "[Parallel(n_jobs=-7)]: Done 1845 out of 1960 | elapsed:    4.9s remaining:    0.2s\n",
      "[Parallel(n_jobs=-7)]: Done 1960 out of 1960 | elapsed:    5.9s finished\n",
      "[Parallel(n_jobs=-7)]: Using backend LokyBackend with 58 concurrent workers.\n"
     ]
    },
    {
     "name": "stdout",
     "output_type": "stream",
     "text": [
      "Fitting 10 folds for each of 196 candidates, totalling 1960 fits\n"
     ]
    },
    {
     "name": "stderr",
     "output_type": "stream",
     "text": [
      "[Parallel(n_jobs=-7)]: Done  84 tasks      | elapsed:    0.2s\n",
      "[Parallel(n_jobs=-7)]: Done 764 tasks      | elapsed:    1.8s\n",
      "[Parallel(n_jobs=-7)]: Done 1784 tasks      | elapsed:    4.8s\n",
      "[Parallel(n_jobs=-7)]: Done 1845 out of 1960 | elapsed:    4.9s remaining:    0.2s\n",
      "[Parallel(n_jobs=-7)]: Done 1960 out of 1960 | elapsed:    5.8s finished\n"
     ]
    },
    {
     "name": "stdout",
     "output_type": "stream",
     "text": [
      "Fitting 10 folds for each of 196 candidates, totalling 1960 fits\n"
     ]
    },
    {
     "name": "stderr",
     "output_type": "stream",
     "text": [
      "[Parallel(n_jobs=-7)]: Using backend LokyBackend with 58 concurrent workers.\n",
      "[Parallel(n_jobs=-7)]: Done  84 tasks      | elapsed:    0.2s\n",
      "[Parallel(n_jobs=-7)]: Done 764 tasks      | elapsed:    1.7s\n",
      "[Parallel(n_jobs=-7)]: Done 1781 tasks      | elapsed:    4.8s\n",
      "[Parallel(n_jobs=-7)]: Done 1845 out of 1960 | elapsed:    4.9s remaining:    0.2s\n",
      "[Parallel(n_jobs=-7)]: Done 1960 out of 1960 | elapsed:    5.8s finished\n",
      "[Parallel(n_jobs=-7)]: Using backend LokyBackend with 58 concurrent workers.\n"
     ]
    },
    {
     "name": "stdout",
     "output_type": "stream",
     "text": [
      "Fitting 10 folds for each of 196 candidates, totalling 1960 fits\n"
     ]
    },
    {
     "name": "stderr",
     "output_type": "stream",
     "text": [
      "[Parallel(n_jobs=-7)]: Done  84 tasks      | elapsed:    0.2s\n",
      "[Parallel(n_jobs=-7)]: Done 762 tasks      | elapsed:    1.8s\n",
      "[Parallel(n_jobs=-7)]: Done 1787 tasks      | elapsed:    4.8s\n",
      "[Parallel(n_jobs=-7)]: Done 1845 out of 1960 | elapsed:    4.9s remaining:    0.2s\n",
      "[Parallel(n_jobs=-7)]: Done 1960 out of 1960 | elapsed:    5.8s finished\n"
     ]
    },
    {
     "name": "stdout",
     "output_type": "stream",
     "text": [
      "Fitting 10 folds for each of 196 candidates, totalling 1960 fits\n"
     ]
    },
    {
     "name": "stderr",
     "output_type": "stream",
     "text": [
      "[Parallel(n_jobs=-7)]: Using backend LokyBackend with 58 concurrent workers.\n",
      "[Parallel(n_jobs=-7)]: Done  84 tasks      | elapsed:    0.2s\n",
      "[Parallel(n_jobs=-7)]: Done 760 tasks      | elapsed:    1.7s\n",
      "[Parallel(n_jobs=-7)]: Done 1787 tasks      | elapsed:    4.8s\n",
      "[Parallel(n_jobs=-7)]: Done 1960 out of 1960 | elapsed:    5.8s finished\n",
      "[Parallel(n_jobs=-7)]: Using backend LokyBackend with 58 concurrent workers.\n"
     ]
    },
    {
     "name": "stdout",
     "output_type": "stream",
     "text": [
      "Fitting 10 folds for each of 196 candidates, totalling 1960 fits\n"
     ]
    },
    {
     "name": "stderr",
     "output_type": "stream",
     "text": [
      "[Parallel(n_jobs=-7)]: Done  84 tasks      | elapsed:    0.2s\n",
      "[Parallel(n_jobs=-7)]: Done 764 tasks      | elapsed:    1.8s\n",
      "[Parallel(n_jobs=-7)]: Done 1781 tasks      | elapsed:    4.8s\n",
      "[Parallel(n_jobs=-7)]: Done 1845 out of 1960 | elapsed:    5.0s remaining:    0.2s\n",
      "[Parallel(n_jobs=-7)]: Done 1960 out of 1960 | elapsed:    5.8s finished\n",
      "[Parallel(n_jobs=-7)]: Using backend LokyBackend with 58 concurrent workers.\n"
     ]
    },
    {
     "name": "stdout",
     "output_type": "stream",
     "text": [
      "Fitting 10 folds for each of 196 candidates, totalling 1960 fits\n"
     ]
    },
    {
     "name": "stderr",
     "output_type": "stream",
     "text": [
      "[Parallel(n_jobs=-7)]: Done  84 tasks      | elapsed:    0.2s\n",
      "[Parallel(n_jobs=-7)]: Done 764 tasks      | elapsed:    1.8s\n",
      "[Parallel(n_jobs=-7)]: Done 1784 tasks      | elapsed:    4.8s\n",
      "[Parallel(n_jobs=-7)]: Done 1845 out of 1960 | elapsed:    4.9s remaining:    0.2s\n",
      "[Parallel(n_jobs=-7)]: Done 1960 out of 1960 | elapsed:    5.8s finished\n",
      "[Parallel(n_jobs=-7)]: Using backend LokyBackend with 58 concurrent workers.\n"
     ]
    },
    {
     "name": "stdout",
     "output_type": "stream",
     "text": [
      "Fitting 10 folds for each of 196 candidates, totalling 1960 fits\n"
     ]
    },
    {
     "name": "stderr",
     "output_type": "stream",
     "text": [
      "[Parallel(n_jobs=-7)]: Done  84 tasks      | elapsed:    0.3s\n",
      "[Parallel(n_jobs=-7)]: Done 762 tasks      | elapsed:    1.8s\n",
      "[Parallel(n_jobs=-7)]: Done 1778 tasks      | elapsed:    4.9s\n",
      "[Parallel(n_jobs=-7)]: Done 1845 out of 1960 | elapsed:    5.0s remaining:    0.2s\n",
      "[Parallel(n_jobs=-7)]: Done 1960 out of 1960 | elapsed:    5.9s finished\n",
      "[Parallel(n_jobs=-7)]: Using backend LokyBackend with 58 concurrent workers.\n"
     ]
    },
    {
     "name": "stdout",
     "output_type": "stream",
     "text": [
      "Fitting 10 folds for each of 196 candidates, totalling 1960 fits\n"
     ]
    },
    {
     "name": "stderr",
     "output_type": "stream",
     "text": [
      "[Parallel(n_jobs=-7)]: Done  84 tasks      | elapsed:    0.2s\n",
      "[Parallel(n_jobs=-7)]: Done 760 tasks      | elapsed:    1.8s\n",
      "[Parallel(n_jobs=-7)]: Done 1787 tasks      | elapsed:    4.8s\n",
      "[Parallel(n_jobs=-7)]: Done 1845 out of 1960 | elapsed:    4.9s remaining:    0.2s\n",
      "[Parallel(n_jobs=-7)]: Done 1960 out of 1960 | elapsed:    5.9s finished\n",
      "[Parallel(n_jobs=-7)]: Using backend LokyBackend with 58 concurrent workers.\n"
     ]
    },
    {
     "name": "stdout",
     "output_type": "stream",
     "text": [
      "Fitting 10 folds for each of 196 candidates, totalling 1960 fits\n"
     ]
    },
    {
     "name": "stderr",
     "output_type": "stream",
     "text": [
      "[Parallel(n_jobs=-7)]: Done  84 tasks      | elapsed:    0.2s\n",
      "[Parallel(n_jobs=-7)]: Done 758 tasks      | elapsed:    1.8s\n",
      "[Parallel(n_jobs=-7)]: Done 1784 tasks      | elapsed:    5.0s\n",
      "[Parallel(n_jobs=-7)]: Done 1845 out of 1960 | elapsed:    5.1s remaining:    0.2s\n",
      "[Parallel(n_jobs=-7)]: Done 1960 out of 1960 | elapsed:    6.0s finished\n",
      "[Parallel(n_jobs=-7)]: Using backend LokyBackend with 58 concurrent workers.\n"
     ]
    },
    {
     "name": "stdout",
     "output_type": "stream",
     "text": [
      "Fitting 10 folds for each of 196 candidates, totalling 1960 fits\n"
     ]
    },
    {
     "name": "stderr",
     "output_type": "stream",
     "text": [
      "[Parallel(n_jobs=-7)]: Done  84 tasks      | elapsed:    0.2s\n",
      "[Parallel(n_jobs=-7)]: Done 764 tasks      | elapsed:    1.8s\n",
      "[Parallel(n_jobs=-7)]: Done 1793 tasks      | elapsed:    4.8s\n",
      "[Parallel(n_jobs=-7)]: Done 1845 out of 1960 | elapsed:    4.9s remaining:    0.2s\n",
      "[Parallel(n_jobs=-7)]: Done 1960 out of 1960 | elapsed:    5.9s finished\n",
      "[Parallel(n_jobs=-7)]: Using backend LokyBackend with 58 concurrent workers.\n"
     ]
    },
    {
     "name": "stdout",
     "output_type": "stream",
     "text": [
      "Fitting 10 folds for each of 196 candidates, totalling 1960 fits\n"
     ]
    },
    {
     "name": "stderr",
     "output_type": "stream",
     "text": [
      "[Parallel(n_jobs=-7)]: Done  84 tasks      | elapsed:    0.2s\n",
      "[Parallel(n_jobs=-7)]: Done 760 tasks      | elapsed:    1.8s\n",
      "[Parallel(n_jobs=-7)]: Done 1778 tasks      | elapsed:    4.8s\n",
      "[Parallel(n_jobs=-7)]: Done 1845 out of 1960 | elapsed:    5.0s remaining:    0.2s\n",
      "[Parallel(n_jobs=-7)]: Done 1960 out of 1960 | elapsed:    5.9s finished\n",
      "[Parallel(n_jobs=-7)]: Using backend LokyBackend with 58 concurrent workers.\n"
     ]
    },
    {
     "name": "stdout",
     "output_type": "stream",
     "text": [
      "Fitting 10 folds for each of 196 candidates, totalling 1960 fits\n"
     ]
    },
    {
     "name": "stderr",
     "output_type": "stream",
     "text": [
      "[Parallel(n_jobs=-7)]: Done  84 tasks      | elapsed:    0.2s\n",
      "[Parallel(n_jobs=-7)]: Done 762 tasks      | elapsed:    1.8s\n",
      "[Parallel(n_jobs=-7)]: Done 1787 tasks      | elapsed:    4.9s\n",
      "[Parallel(n_jobs=-7)]: Done 1845 out of 1960 | elapsed:    5.0s remaining:    0.2s\n",
      "[Parallel(n_jobs=-7)]: Done 1960 out of 1960 | elapsed:    5.8s finished\n"
     ]
    },
    {
     "name": "stdout",
     "output_type": "stream",
     "text": [
      "Fitting 10 folds for each of 196 candidates, totalling 1960 fits\n"
     ]
    },
    {
     "name": "stderr",
     "output_type": "stream",
     "text": [
      "[Parallel(n_jobs=-7)]: Using backend LokyBackend with 58 concurrent workers.\n",
      "[Parallel(n_jobs=-7)]: Done  84 tasks      | elapsed:    0.2s\n",
      "[Parallel(n_jobs=-7)]: Done 762 tasks      | elapsed:    1.8s\n",
      "[Parallel(n_jobs=-7)]: Done 1781 tasks      | elapsed:    4.8s\n",
      "[Parallel(n_jobs=-7)]: Done 1845 out of 1960 | elapsed:    5.0s remaining:    0.2s\n",
      "[Parallel(n_jobs=-7)]: Done 1960 out of 1960 | elapsed:    5.9s finished\n"
     ]
    },
    {
     "name": "stdout",
     "output_type": "stream",
     "text": [
      "Fitting 10 folds for each of 196 candidates, totalling 1960 fits\n"
     ]
    },
    {
     "name": "stderr",
     "output_type": "stream",
     "text": [
      "[Parallel(n_jobs=-7)]: Using backend LokyBackend with 58 concurrent workers.\n",
      "[Parallel(n_jobs=-7)]: Done  84 tasks      | elapsed:    0.2s\n",
      "[Parallel(n_jobs=-7)]: Done 764 tasks      | elapsed:    1.7s\n",
      "[Parallel(n_jobs=-7)]: Done 1781 tasks      | elapsed:    4.9s\n",
      "[Parallel(n_jobs=-7)]: Done 1845 out of 1960 | elapsed:    5.0s remaining:    0.2s\n",
      "[Parallel(n_jobs=-7)]: Done 1960 out of 1960 | elapsed:    5.9s finished\n",
      "[Parallel(n_jobs=-7)]: Using backend LokyBackend with 58 concurrent workers.\n"
     ]
    },
    {
     "name": "stdout",
     "output_type": "stream",
     "text": [
      "Fitting 10 folds for each of 196 candidates, totalling 1960 fits\n"
     ]
    },
    {
     "name": "stderr",
     "output_type": "stream",
     "text": [
      "[Parallel(n_jobs=-7)]: Done  84 tasks      | elapsed:    0.2s\n",
      "[Parallel(n_jobs=-7)]: Done 762 tasks      | elapsed:    1.8s\n",
      "[Parallel(n_jobs=-7)]: Done 1790 tasks      | elapsed:    4.9s\n",
      "[Parallel(n_jobs=-7)]: Done 1845 out of 1960 | elapsed:    5.0s remaining:    0.2s\n",
      "[Parallel(n_jobs=-7)]: Done 1960 out of 1960 | elapsed:    5.9s finished\n",
      "[Parallel(n_jobs=-7)]: Using backend LokyBackend with 58 concurrent workers.\n"
     ]
    },
    {
     "name": "stdout",
     "output_type": "stream",
     "text": [
      "Fitting 10 folds for each of 196 candidates, totalling 1960 fits\n"
     ]
    },
    {
     "name": "stderr",
     "output_type": "stream",
     "text": [
      "[Parallel(n_jobs=-7)]: Done  84 tasks      | elapsed:    0.2s\n",
      "[Parallel(n_jobs=-7)]: Done 760 tasks      | elapsed:    1.8s\n",
      "[Parallel(n_jobs=-7)]: Done 1787 tasks      | elapsed:    4.9s\n",
      "[Parallel(n_jobs=-7)]: Done 1845 out of 1960 | elapsed:    5.0s remaining:    0.2s\n",
      "[Parallel(n_jobs=-7)]: Done 1960 out of 1960 | elapsed:    5.9s finished\n",
      "[Parallel(n_jobs=-7)]: Using backend LokyBackend with 58 concurrent workers.\n"
     ]
    },
    {
     "name": "stdout",
     "output_type": "stream",
     "text": [
      "Fitting 10 folds for each of 196 candidates, totalling 1960 fits\n"
     ]
    },
    {
     "name": "stderr",
     "output_type": "stream",
     "text": [
      "[Parallel(n_jobs=-7)]: Done  84 tasks      | elapsed:    0.2s\n",
      "[Parallel(n_jobs=-7)]: Done 762 tasks      | elapsed:    1.8s\n",
      "[Parallel(n_jobs=-7)]: Done 1781 tasks      | elapsed:    4.9s\n",
      "[Parallel(n_jobs=-7)]: Done 1845 out of 1960 | elapsed:    5.0s remaining:    0.2s\n",
      "[Parallel(n_jobs=-7)]: Done 1960 out of 1960 | elapsed:    6.0s finished\n",
      "[Parallel(n_jobs=-7)]: Using backend LokyBackend with 58 concurrent workers.\n"
     ]
    },
    {
     "name": "stdout",
     "output_type": "stream",
     "text": [
      "Fitting 10 folds for each of 196 candidates, totalling 1960 fits\n"
     ]
    },
    {
     "name": "stderr",
     "output_type": "stream",
     "text": [
      "[Parallel(n_jobs=-7)]: Done  84 tasks      | elapsed:    0.2s\n",
      "[Parallel(n_jobs=-7)]: Done 762 tasks      | elapsed:    1.8s\n",
      "[Parallel(n_jobs=-7)]: Done 1790 tasks      | elapsed:    4.9s\n",
      "[Parallel(n_jobs=-7)]: Done 1845 out of 1960 | elapsed:    5.0s remaining:    0.2s\n",
      "[Parallel(n_jobs=-7)]: Done 1960 out of 1960 | elapsed:    6.0s finished\n",
      "[Parallel(n_jobs=-7)]: Using backend LokyBackend with 58 concurrent workers.\n"
     ]
    },
    {
     "name": "stdout",
     "output_type": "stream",
     "text": [
      "Fitting 10 folds for each of 196 candidates, totalling 1960 fits\n"
     ]
    },
    {
     "name": "stderr",
     "output_type": "stream",
     "text": [
      "[Parallel(n_jobs=-7)]: Done  86 tasks      | elapsed:    0.2s\n",
      "[Parallel(n_jobs=-7)]: Done 762 tasks      | elapsed:    1.9s\n",
      "[Parallel(n_jobs=-7)]: Done 1784 tasks      | elapsed:    5.0s\n",
      "[Parallel(n_jobs=-7)]: Done 1845 out of 1960 | elapsed:    5.1s remaining:    0.2s\n",
      "[Parallel(n_jobs=-7)]: Done 1960 out of 1960 | elapsed:    6.2s finished\n",
      "[Parallel(n_jobs=-7)]: Using backend LokyBackend with 58 concurrent workers.\n"
     ]
    },
    {
     "name": "stdout",
     "output_type": "stream",
     "text": [
      "Fitting 10 folds for each of 196 candidates, totalling 1960 fits\n"
     ]
    },
    {
     "name": "stderr",
     "output_type": "stream",
     "text": [
      "[Parallel(n_jobs=-7)]: Done  84 tasks      | elapsed:    0.2s\n",
      "[Parallel(n_jobs=-7)]: Done 762 tasks      | elapsed:    1.8s\n",
      "[Parallel(n_jobs=-7)]: Done 1781 tasks      | elapsed:    5.0s\n",
      "[Parallel(n_jobs=-7)]: Done 1845 out of 1960 | elapsed:    5.1s remaining:    0.2s\n",
      "[Parallel(n_jobs=-7)]: Done 1960 out of 1960 | elapsed:    6.1s finished\n",
      "[Parallel(n_jobs=-7)]: Using backend LokyBackend with 58 concurrent workers.\n"
     ]
    },
    {
     "name": "stdout",
     "output_type": "stream",
     "text": [
      "Fitting 10 folds for each of 196 candidates, totalling 1960 fits\n"
     ]
    },
    {
     "name": "stderr",
     "output_type": "stream",
     "text": [
      "[Parallel(n_jobs=-7)]: Done  85 tasks      | elapsed:    0.2s\n",
      "[Parallel(n_jobs=-7)]: Done 764 tasks      | elapsed:    1.8s\n",
      "[Parallel(n_jobs=-7)]: Done 1784 tasks      | elapsed:    4.9s\n",
      "[Parallel(n_jobs=-7)]: Done 1845 out of 1960 | elapsed:    5.1s remaining:    0.2s\n",
      "[Parallel(n_jobs=-7)]: Done 1960 out of 1960 | elapsed:    6.0s finished\n",
      "[Parallel(n_jobs=-7)]: Using backend LokyBackend with 58 concurrent workers.\n"
     ]
    },
    {
     "name": "stdout",
     "output_type": "stream",
     "text": [
      "Fitting 10 folds for each of 196 candidates, totalling 1960 fits\n"
     ]
    },
    {
     "name": "stderr",
     "output_type": "stream",
     "text": [
      "[Parallel(n_jobs=-7)]: Done  84 tasks      | elapsed:    0.2s\n",
      "[Parallel(n_jobs=-7)]: Done 760 tasks      | elapsed:    1.8s\n",
      "[Parallel(n_jobs=-7)]: Done 1784 tasks      | elapsed:    4.9s\n",
      "[Parallel(n_jobs=-7)]: Done 1845 out of 1960 | elapsed:    5.0s remaining:    0.2s\n",
      "[Parallel(n_jobs=-7)]: Done 1960 out of 1960 | elapsed:    5.9s finished\n",
      "[Parallel(n_jobs=-7)]: Using backend LokyBackend with 58 concurrent workers.\n"
     ]
    },
    {
     "name": "stdout",
     "output_type": "stream",
     "text": [
      "Fitting 10 folds for each of 196 candidates, totalling 1960 fits\n"
     ]
    },
    {
     "name": "stderr",
     "output_type": "stream",
     "text": [
      "[Parallel(n_jobs=-7)]: Done  84 tasks      | elapsed:    0.2s\n",
      "[Parallel(n_jobs=-7)]: Done 762 tasks      | elapsed:    1.8s\n",
      "[Parallel(n_jobs=-7)]: Done 1790 tasks      | elapsed:    4.9s\n",
      "[Parallel(n_jobs=-7)]: Done 1845 out of 1960 | elapsed:    5.0s remaining:    0.2s\n",
      "[Parallel(n_jobs=-7)]: Done 1960 out of 1960 | elapsed:    5.9s finished\n",
      "[Parallel(n_jobs=-7)]: Using backend LokyBackend with 58 concurrent workers.\n"
     ]
    },
    {
     "name": "stdout",
     "output_type": "stream",
     "text": [
      "Fitting 10 folds for each of 196 candidates, totalling 1960 fits\n"
     ]
    },
    {
     "name": "stderr",
     "output_type": "stream",
     "text": [
      "[Parallel(n_jobs=-7)]: Done  84 tasks      | elapsed:    0.2s\n",
      "[Parallel(n_jobs=-7)]: Done 760 tasks      | elapsed:    1.8s\n",
      "[Parallel(n_jobs=-7)]: Done 1784 tasks      | elapsed:    4.9s\n",
      "[Parallel(n_jobs=-7)]: Done 1845 out of 1960 | elapsed:    5.0s remaining:    0.2s\n",
      "[Parallel(n_jobs=-7)]: Done 1960 out of 1960 | elapsed:    5.9s finished\n"
     ]
    },
    {
     "name": "stdout",
     "output_type": "stream",
     "text": [
      "Fitting 10 folds for each of 196 candidates, totalling 1960 fits\n"
     ]
    },
    {
     "name": "stderr",
     "output_type": "stream",
     "text": [
      "[Parallel(n_jobs=-7)]: Using backend LokyBackend with 58 concurrent workers.\n",
      "[Parallel(n_jobs=-7)]: Done  84 tasks      | elapsed:    0.2s\n",
      "[Parallel(n_jobs=-7)]: Done 764 tasks      | elapsed:    1.8s\n",
      "[Parallel(n_jobs=-7)]: Done 1790 tasks      | elapsed:    4.9s\n",
      "[Parallel(n_jobs=-7)]: Done 1960 out of 1960 | elapsed:    5.9s finished\n",
      "[Parallel(n_jobs=-7)]: Using backend LokyBackend with 58 concurrent workers.\n"
     ]
    },
    {
     "name": "stdout",
     "output_type": "stream",
     "text": [
      "Fitting 10 folds for each of 196 candidates, totalling 1960 fits\n"
     ]
    },
    {
     "name": "stderr",
     "output_type": "stream",
     "text": [
      "[Parallel(n_jobs=-7)]: Done  85 tasks      | elapsed:    0.2s\n",
      "[Parallel(n_jobs=-7)]: Done 758 tasks      | elapsed:    1.8s\n",
      "[Parallel(n_jobs=-7)]: Done 1778 tasks      | elapsed:    4.9s\n",
      "[Parallel(n_jobs=-7)]: Done 1845 out of 1960 | elapsed:    5.0s remaining:    0.2s\n",
      "[Parallel(n_jobs=-7)]: Done 1960 out of 1960 | elapsed:    6.0s finished\n",
      "[Parallel(n_jobs=-7)]: Using backend LokyBackend with 58 concurrent workers.\n"
     ]
    },
    {
     "name": "stdout",
     "output_type": "stream",
     "text": [
      "Fitting 10 folds for each of 196 candidates, totalling 1960 fits\n"
     ]
    },
    {
     "name": "stderr",
     "output_type": "stream",
     "text": [
      "[Parallel(n_jobs=-7)]: Done  84 tasks      | elapsed:    0.2s\n",
      "[Parallel(n_jobs=-7)]: Done 760 tasks      | elapsed:    1.8s\n",
      "[Parallel(n_jobs=-7)]: Done 1787 tasks      | elapsed:    4.9s\n",
      "[Parallel(n_jobs=-7)]: Done 1845 out of 1960 | elapsed:    5.0s remaining:    0.2s\n",
      "[Parallel(n_jobs=-7)]: Done 1960 out of 1960 | elapsed:    6.0s finished\n",
      "[Parallel(n_jobs=-7)]: Using backend LokyBackend with 58 concurrent workers.\n"
     ]
    },
    {
     "name": "stdout",
     "output_type": "stream",
     "text": [
      "Fitting 10 folds for each of 196 candidates, totalling 1960 fits\n"
     ]
    },
    {
     "name": "stderr",
     "output_type": "stream",
     "text": [
      "[Parallel(n_jobs=-7)]: Done  84 tasks      | elapsed:    0.2s\n",
      "[Parallel(n_jobs=-7)]: Done 760 tasks      | elapsed:    1.8s\n",
      "[Parallel(n_jobs=-7)]: Done 1790 tasks      | elapsed:    5.0s\n",
      "[Parallel(n_jobs=-7)]: Done 1845 out of 1960 | elapsed:    5.1s remaining:    0.2s\n",
      "[Parallel(n_jobs=-7)]: Done 1960 out of 1960 | elapsed:    6.0s finished\n"
     ]
    },
    {
     "name": "stdout",
     "output_type": "stream",
     "text": [
      "Fitting 10 folds for each of 196 candidates, totalling 1960 fits\n"
     ]
    },
    {
     "name": "stderr",
     "output_type": "stream",
     "text": [
      "[Parallel(n_jobs=-7)]: Using backend LokyBackend with 58 concurrent workers.\n",
      "[Parallel(n_jobs=-7)]: Done  84 tasks      | elapsed:    0.2s\n",
      "[Parallel(n_jobs=-7)]: Done 552 tasks      | elapsed:    1.3s\n",
      "[Parallel(n_jobs=-7)]: Done 1252 tasks      | elapsed:    3.4s\n",
      "[Parallel(n_jobs=-7)]: Done 1845 out of 1960 | elapsed:    5.1s remaining:    0.2s\n",
      "[Parallel(n_jobs=-7)]: Done 1960 out of 1960 | elapsed:    5.8s finished\n",
      "[Parallel(n_jobs=-7)]: Using backend LokyBackend with 58 concurrent workers.\n"
     ]
    },
    {
     "name": "stdout",
     "output_type": "stream",
     "text": [
      "Fitting 10 folds for each of 196 candidates, totalling 1960 fits\n"
     ]
    },
    {
     "name": "stderr",
     "output_type": "stream",
     "text": [
      "[Parallel(n_jobs=-7)]: Done  84 tasks      | elapsed:    0.2s\n",
      "[Parallel(n_jobs=-7)]: Done 762 tasks      | elapsed:    1.8s\n",
      "[Parallel(n_jobs=-7)]: Done 1784 tasks      | elapsed:    4.9s\n",
      "[Parallel(n_jobs=-7)]: Done 1845 out of 1960 | elapsed:    5.0s remaining:    0.2s\n",
      "[Parallel(n_jobs=-7)]: Done 1960 out of 1960 | elapsed:    6.0s finished\n",
      "[Parallel(n_jobs=-7)]: Using backend LokyBackend with 58 concurrent workers.\n"
     ]
    },
    {
     "name": "stdout",
     "output_type": "stream",
     "text": [
      "Fitting 10 folds for each of 196 candidates, totalling 1960 fits\n"
     ]
    },
    {
     "name": "stderr",
     "output_type": "stream",
     "text": [
      "[Parallel(n_jobs=-7)]: Done  84 tasks      | elapsed:    0.2s\n",
      "[Parallel(n_jobs=-7)]: Done 760 tasks      | elapsed:    1.8s\n",
      "[Parallel(n_jobs=-7)]: Done 1784 tasks      | elapsed:    5.0s\n",
      "[Parallel(n_jobs=-7)]: Done 1960 out of 1960 | elapsed:    6.0s finished\n",
      "[Parallel(n_jobs=-7)]: Using backend LokyBackend with 58 concurrent workers.\n"
     ]
    },
    {
     "name": "stdout",
     "output_type": "stream",
     "text": [
      "Fitting 10 folds for each of 196 candidates, totalling 1960 fits\n"
     ]
    },
    {
     "name": "stderr",
     "output_type": "stream",
     "text": [
      "[Parallel(n_jobs=-7)]: Done  84 tasks      | elapsed:    0.2s\n",
      "[Parallel(n_jobs=-7)]: Done 758 tasks      | elapsed:    1.8s\n",
      "[Parallel(n_jobs=-7)]: Done 1781 tasks      | elapsed:    4.9s\n",
      "[Parallel(n_jobs=-7)]: Done 1845 out of 1960 | elapsed:    5.0s remaining:    0.2s\n",
      "[Parallel(n_jobs=-7)]: Done 1960 out of 1960 | elapsed:    6.0s finished\n"
     ]
    },
    {
     "name": "stdout",
     "output_type": "stream",
     "text": [
      "Fitting 10 folds for each of 196 candidates, totalling 1960 fits\n"
     ]
    },
    {
     "name": "stderr",
     "output_type": "stream",
     "text": [
      "[Parallel(n_jobs=-7)]: Using backend LokyBackend with 58 concurrent workers.\n",
      "[Parallel(n_jobs=-7)]: Done  84 tasks      | elapsed:    0.2s\n",
      "[Parallel(n_jobs=-7)]: Done 764 tasks      | elapsed:    1.8s\n",
      "[Parallel(n_jobs=-7)]: Done 1781 tasks      | elapsed:    5.0s\n",
      "[Parallel(n_jobs=-7)]: Done 1845 out of 1960 | elapsed:    5.1s remaining:    0.2s\n",
      "[Parallel(n_jobs=-7)]: Done 1960 out of 1960 | elapsed:    6.0s finished\n",
      "[Parallel(n_jobs=-7)]: Using backend LokyBackend with 58 concurrent workers.\n"
     ]
    },
    {
     "name": "stdout",
     "output_type": "stream",
     "text": [
      "Fitting 10 folds for each of 196 candidates, totalling 1960 fits\n"
     ]
    },
    {
     "name": "stderr",
     "output_type": "stream",
     "text": [
      "[Parallel(n_jobs=-7)]: Done  84 tasks      | elapsed:    0.2s\n",
      "[Parallel(n_jobs=-7)]: Done 762 tasks      | elapsed:    1.8s\n",
      "[Parallel(n_jobs=-7)]: Done 1790 tasks      | elapsed:    4.9s\n",
      "[Parallel(n_jobs=-7)]: Done 1845 out of 1960 | elapsed:    5.0s remaining:    0.2s\n",
      "[Parallel(n_jobs=-7)]: Done 1960 out of 1960 | elapsed:    6.1s finished\n",
      "[Parallel(n_jobs=-7)]: Using backend LokyBackend with 58 concurrent workers.\n"
     ]
    },
    {
     "name": "stdout",
     "output_type": "stream",
     "text": [
      "Fitting 10 folds for each of 196 candidates, totalling 1960 fits\n"
     ]
    },
    {
     "name": "stderr",
     "output_type": "stream",
     "text": [
      "[Parallel(n_jobs=-7)]: Done  84 tasks      | elapsed:    0.2s\n",
      "[Parallel(n_jobs=-7)]: Done 762 tasks      | elapsed:    1.8s\n",
      "[Parallel(n_jobs=-7)]: Done 1784 tasks      | elapsed:    5.0s\n",
      "[Parallel(n_jobs=-7)]: Done 1845 out of 1960 | elapsed:    5.1s remaining:    0.2s\n",
      "[Parallel(n_jobs=-7)]: Done 1960 out of 1960 | elapsed:    6.0s finished\n",
      "[Parallel(n_jobs=-7)]: Using backend LokyBackend with 58 concurrent workers.\n"
     ]
    },
    {
     "name": "stdout",
     "output_type": "stream",
     "text": [
      "Fitting 10 folds for each of 196 candidates, totalling 1960 fits\n"
     ]
    },
    {
     "name": "stderr",
     "output_type": "stream",
     "text": [
      "[Parallel(n_jobs=-7)]: Done  84 tasks      | elapsed:    0.2s\n",
      "[Parallel(n_jobs=-7)]: Done 764 tasks      | elapsed:    1.8s\n",
      "[Parallel(n_jobs=-7)]: Done 1787 tasks      | elapsed:    5.0s\n",
      "[Parallel(n_jobs=-7)]: Done 1845 out of 1960 | elapsed:    5.1s remaining:    0.2s\n",
      "[Parallel(n_jobs=-7)]: Done 1960 out of 1960 | elapsed:    6.0s finished\n",
      "[Parallel(n_jobs=-7)]: Using backend LokyBackend with 58 concurrent workers.\n"
     ]
    },
    {
     "name": "stdout",
     "output_type": "stream",
     "text": [
      "Fitting 10 folds for each of 196 candidates, totalling 1960 fits\n"
     ]
    },
    {
     "name": "stderr",
     "output_type": "stream",
     "text": [
      "[Parallel(n_jobs=-7)]: Done  84 tasks      | elapsed:    0.2s\n",
      "[Parallel(n_jobs=-7)]: Done 760 tasks      | elapsed:    1.8s\n",
      "[Parallel(n_jobs=-7)]: Done 1784 tasks      | elapsed:    5.0s\n",
      "[Parallel(n_jobs=-7)]: Done 1845 out of 1960 | elapsed:    5.1s remaining:    0.2s\n",
      "[Parallel(n_jobs=-7)]: Done 1960 out of 1960 | elapsed:    6.0s finished\n",
      "[Parallel(n_jobs=-7)]: Using backend LokyBackend with 58 concurrent workers.\n"
     ]
    },
    {
     "name": "stdout",
     "output_type": "stream",
     "text": [
      "Fitting 10 folds for each of 196 candidates, totalling 1960 fits\n"
     ]
    },
    {
     "name": "stderr",
     "output_type": "stream",
     "text": [
      "[Parallel(n_jobs=-7)]: Done  84 tasks      | elapsed:    0.2s\n",
      "[Parallel(n_jobs=-7)]: Done 760 tasks      | elapsed:    1.9s\n",
      "[Parallel(n_jobs=-7)]: Done 1781 tasks      | elapsed:    5.2s\n",
      "[Parallel(n_jobs=-7)]: Done 1960 out of 1960 | elapsed:    6.2s finished\n",
      "[Parallel(n_jobs=-7)]: Using backend LokyBackend with 58 concurrent workers.\n"
     ]
    },
    {
     "name": "stdout",
     "output_type": "stream",
     "text": [
      "Fitting 10 folds for each of 196 candidates, totalling 1960 fits\n"
     ]
    },
    {
     "name": "stderr",
     "output_type": "stream",
     "text": [
      "[Parallel(n_jobs=-7)]: Done  84 tasks      | elapsed:    0.2s\n",
      "[Parallel(n_jobs=-7)]: Done 764 tasks      | elapsed:    1.9s\n",
      "[Parallel(n_jobs=-7)]: Done 1790 tasks      | elapsed:    5.0s\n",
      "[Parallel(n_jobs=-7)]: Done 1845 out of 1960 | elapsed:    5.1s remaining:    0.2s\n",
      "[Parallel(n_jobs=-7)]: Done 1960 out of 1960 | elapsed:    6.2s finished\n"
     ]
    },
    {
     "name": "stdout",
     "output_type": "stream",
     "text": [
      "Fitting 10 folds for each of 196 candidates, totalling 1960 fits\n"
     ]
    },
    {
     "name": "stderr",
     "output_type": "stream",
     "text": [
      "[Parallel(n_jobs=-7)]: Using backend LokyBackend with 58 concurrent workers.\n",
      "[Parallel(n_jobs=-7)]: Done  84 tasks      | elapsed:    0.2s\n",
      "[Parallel(n_jobs=-7)]: Done 762 tasks      | elapsed:    1.8s\n",
      "[Parallel(n_jobs=-7)]: Done 1790 tasks      | elapsed:    5.0s\n",
      "[Parallel(n_jobs=-7)]: Done 1845 out of 1960 | elapsed:    5.1s remaining:    0.2s\n",
      "[Parallel(n_jobs=-7)]: Done 1960 out of 1960 | elapsed:    6.0s finished\n",
      "[Parallel(n_jobs=-7)]: Using backend LokyBackend with 58 concurrent workers.\n"
     ]
    },
    {
     "name": "stdout",
     "output_type": "stream",
     "text": [
      "Fitting 10 folds for each of 196 candidates, totalling 1960 fits\n"
     ]
    },
    {
     "name": "stderr",
     "output_type": "stream",
     "text": [
      "[Parallel(n_jobs=-7)]: Done  84 tasks      | elapsed:    0.2s\n",
      "[Parallel(n_jobs=-7)]: Done 760 tasks      | elapsed:    1.8s\n",
      "[Parallel(n_jobs=-7)]: Done 1790 tasks      | elapsed:    5.0s\n",
      "[Parallel(n_jobs=-7)]: Done 1845 out of 1960 | elapsed:    5.1s remaining:    0.2s\n",
      "[Parallel(n_jobs=-7)]: Done 1960 out of 1960 | elapsed:    6.1s finished\n"
     ]
    },
    {
     "name": "stdout",
     "output_type": "stream",
     "text": [
      "Fitting 10 folds for each of 196 candidates, totalling 1960 fits\n"
     ]
    },
    {
     "name": "stderr",
     "output_type": "stream",
     "text": [
      "[Parallel(n_jobs=-7)]: Using backend LokyBackend with 58 concurrent workers.\n",
      "[Parallel(n_jobs=-7)]: Done  84 tasks      | elapsed:    0.2s\n",
      "[Parallel(n_jobs=-7)]: Done 764 tasks      | elapsed:    1.7s\n",
      "[Parallel(n_jobs=-7)]: Done 1784 tasks      | elapsed:    4.5s\n",
      "[Parallel(n_jobs=-7)]: Done 1960 out of 1960 | elapsed:    5.5s finished\n",
      "[Parallel(n_jobs=-7)]: Using backend LokyBackend with 58 concurrent workers.\n"
     ]
    },
    {
     "name": "stdout",
     "output_type": "stream",
     "text": [
      "Fitting 10 folds for each of 196 candidates, totalling 1960 fits\n"
     ]
    },
    {
     "name": "stderr",
     "output_type": "stream",
     "text": [
      "[Parallel(n_jobs=-7)]: Done  84 tasks      | elapsed:    0.2s\n",
      "[Parallel(n_jobs=-7)]: Done 762 tasks      | elapsed:    1.7s\n",
      "[Parallel(n_jobs=-7)]: Done 1790 tasks      | elapsed:    4.5s\n",
      "[Parallel(n_jobs=-7)]: Done 1845 out of 1960 | elapsed:    4.6s remaining:    0.2s\n",
      "[Parallel(n_jobs=-7)]: Done 1960 out of 1960 | elapsed:    5.5s finished\n"
     ]
    },
    {
     "name": "stdout",
     "output_type": "stream",
     "text": [
      "Fitting 10 folds for each of 196 candidates, totalling 1960 fits\n"
     ]
    },
    {
     "name": "stderr",
     "output_type": "stream",
     "text": [
      "[Parallel(n_jobs=-7)]: Using backend LokyBackend with 58 concurrent workers.\n",
      "[Parallel(n_jobs=-7)]: Done  84 tasks      | elapsed:    0.2s\n",
      "[Parallel(n_jobs=-7)]: Done 764 tasks      | elapsed:    1.7s\n",
      "[Parallel(n_jobs=-7)]: Done 1778 tasks      | elapsed:    4.5s\n",
      "[Parallel(n_jobs=-7)]: Done 1845 out of 1960 | elapsed:    4.6s remaining:    0.2s\n",
      "[Parallel(n_jobs=-7)]: Done 1960 out of 1960 | elapsed:    5.4s finished\n",
      "[Parallel(n_jobs=-7)]: Using backend LokyBackend with 58 concurrent workers.\n"
     ]
    },
    {
     "name": "stdout",
     "output_type": "stream",
     "text": [
      "Fitting 10 folds for each of 196 candidates, totalling 1960 fits\n"
     ]
    },
    {
     "name": "stderr",
     "output_type": "stream",
     "text": [
      "[Parallel(n_jobs=-7)]: Done  84 tasks      | elapsed:    0.2s\n",
      "[Parallel(n_jobs=-7)]: Done 760 tasks      | elapsed:    1.7s\n",
      "[Parallel(n_jobs=-7)]: Done 1787 tasks      | elapsed:    4.5s\n",
      "[Parallel(n_jobs=-7)]: Done 1845 out of 1960 | elapsed:    4.6s remaining:    0.2s\n",
      "[Parallel(n_jobs=-7)]: Done 1960 out of 1960 | elapsed:    5.5s finished\n"
     ]
    },
    {
     "name": "stdout",
     "output_type": "stream",
     "text": [
      "Fitting 10 folds for each of 196 candidates, totalling 1960 fits\n"
     ]
    },
    {
     "name": "stderr",
     "output_type": "stream",
     "text": [
      "[Parallel(n_jobs=-7)]: Using backend LokyBackend with 58 concurrent workers.\n",
      "[Parallel(n_jobs=-7)]: Done  84 tasks      | elapsed:    0.2s\n",
      "[Parallel(n_jobs=-7)]: Done 762 tasks      | elapsed:    1.7s\n",
      "[Parallel(n_jobs=-7)]: Done 1787 tasks      | elapsed:    4.5s\n",
      "[Parallel(n_jobs=-7)]: Done 1845 out of 1960 | elapsed:    4.6s remaining:    0.2s\n",
      "[Parallel(n_jobs=-7)]: Done 1960 out of 1960 | elapsed:    5.4s finished\n",
      "[Parallel(n_jobs=-7)]: Using backend LokyBackend with 58 concurrent workers.\n"
     ]
    },
    {
     "name": "stdout",
     "output_type": "stream",
     "text": [
      "Fitting 10 folds for each of 196 candidates, totalling 1960 fits\n"
     ]
    },
    {
     "name": "stderr",
     "output_type": "stream",
     "text": [
      "[Parallel(n_jobs=-7)]: Done  84 tasks      | elapsed:    0.2s\n",
      "[Parallel(n_jobs=-7)]: Done 762 tasks      | elapsed:    1.7s\n",
      "[Parallel(n_jobs=-7)]: Done 1787 tasks      | elapsed:    4.5s\n",
      "[Parallel(n_jobs=-7)]: Done 1845 out of 1960 | elapsed:    4.6s remaining:    0.2s\n",
      "[Parallel(n_jobs=-7)]: Done 1960 out of 1960 | elapsed:    5.4s finished\n"
     ]
    },
    {
     "name": "stdout",
     "output_type": "stream",
     "text": [
      "Fitting 10 folds for each of 196 candidates, totalling 1960 fits\n"
     ]
    },
    {
     "name": "stderr",
     "output_type": "stream",
     "text": [
      "[Parallel(n_jobs=-7)]: Using backend LokyBackend with 58 concurrent workers.\n",
      "[Parallel(n_jobs=-7)]: Done  84 tasks      | elapsed:    0.2s\n",
      "[Parallel(n_jobs=-7)]: Done 764 tasks      | elapsed:    1.7s\n",
      "[Parallel(n_jobs=-7)]: Done 1781 tasks      | elapsed:    4.7s\n",
      "[Parallel(n_jobs=-7)]: Done 1845 out of 1960 | elapsed:    4.8s remaining:    0.2s\n",
      "[Parallel(n_jobs=-7)]: Done 1960 out of 1960 | elapsed:    5.6s finished\n",
      "[Parallel(n_jobs=-7)]: Using backend LokyBackend with 58 concurrent workers.\n"
     ]
    },
    {
     "name": "stdout",
     "output_type": "stream",
     "text": [
      "Fitting 10 folds for each of 196 candidates, totalling 1960 fits\n"
     ]
    },
    {
     "name": "stderr",
     "output_type": "stream",
     "text": [
      "[Parallel(n_jobs=-7)]: Done  84 tasks      | elapsed:    0.2s\n",
      "[Parallel(n_jobs=-7)]: Done 762 tasks      | elapsed:    1.7s\n",
      "[Parallel(n_jobs=-7)]: Done 1784 tasks      | elapsed:    4.5s\n",
      "[Parallel(n_jobs=-7)]: Done 1845 out of 1960 | elapsed:    4.7s remaining:    0.2s\n",
      "[Parallel(n_jobs=-7)]: Done 1960 out of 1960 | elapsed:    5.6s finished\n",
      "[Parallel(n_jobs=-7)]: Using backend LokyBackend with 58 concurrent workers.\n"
     ]
    },
    {
     "name": "stdout",
     "output_type": "stream",
     "text": [
      "Fitting 10 folds for each of 196 candidates, totalling 1960 fits\n"
     ]
    },
    {
     "name": "stderr",
     "output_type": "stream",
     "text": [
      "[Parallel(n_jobs=-7)]: Done  84 tasks      | elapsed:    0.2s\n",
      "[Parallel(n_jobs=-7)]: Done 760 tasks      | elapsed:    1.8s\n",
      "[Parallel(n_jobs=-7)]: Done 1781 tasks      | elapsed:    4.6s\n",
      "[Parallel(n_jobs=-7)]: Done 1845 out of 1960 | elapsed:    4.7s remaining:    0.2s\n",
      "[Parallel(n_jobs=-7)]: Done 1960 out of 1960 | elapsed:    5.5s finished\n",
      "[Parallel(n_jobs=-7)]: Using backend LokyBackend with 58 concurrent workers.\n"
     ]
    },
    {
     "name": "stdout",
     "output_type": "stream",
     "text": [
      "Fitting 10 folds for each of 196 candidates, totalling 1960 fits\n"
     ]
    },
    {
     "name": "stderr",
     "output_type": "stream",
     "text": [
      "[Parallel(n_jobs=-7)]: Done  84 tasks      | elapsed:    0.2s\n",
      "[Parallel(n_jobs=-7)]: Done 762 tasks      | elapsed:    1.7s\n",
      "[Parallel(n_jobs=-7)]: Done 1781 tasks      | elapsed:    4.5s\n",
      "[Parallel(n_jobs=-7)]: Done 1960 out of 1960 | elapsed:    5.5s finished\n",
      "[Parallel(n_jobs=-7)]: Using backend LokyBackend with 58 concurrent workers.\n"
     ]
    },
    {
     "name": "stdout",
     "output_type": "stream",
     "text": [
      "Fitting 10 folds for each of 196 candidates, totalling 1960 fits\n"
     ]
    },
    {
     "name": "stderr",
     "output_type": "stream",
     "text": [
      "[Parallel(n_jobs=-7)]: Done  84 tasks      | elapsed:    0.2s\n",
      "[Parallel(n_jobs=-7)]: Done 762 tasks      | elapsed:    1.7s\n",
      "[Parallel(n_jobs=-7)]: Done 1787 tasks      | elapsed:    4.5s\n",
      "[Parallel(n_jobs=-7)]: Done 1845 out of 1960 | elapsed:    4.6s remaining:    0.2s\n",
      "[Parallel(n_jobs=-7)]: Done 1960 out of 1960 | elapsed:    5.5s finished\n",
      "[Parallel(n_jobs=-7)]: Using backend LokyBackend with 58 concurrent workers.\n"
     ]
    },
    {
     "name": "stdout",
     "output_type": "stream",
     "text": [
      "Fitting 10 folds for each of 196 candidates, totalling 1960 fits\n"
     ]
    },
    {
     "name": "stderr",
     "output_type": "stream",
     "text": [
      "[Parallel(n_jobs=-7)]: Done  84 tasks      | elapsed:    0.2s\n",
      "[Parallel(n_jobs=-7)]: Done 764 tasks      | elapsed:    1.7s\n",
      "[Parallel(n_jobs=-7)]: Done 1781 tasks      | elapsed:    4.5s\n",
      "[Parallel(n_jobs=-7)]: Done 1845 out of 1960 | elapsed:    4.7s remaining:    0.2s\n",
      "[Parallel(n_jobs=-7)]: Done 1960 out of 1960 | elapsed:    5.5s finished\n",
      "[Parallel(n_jobs=-7)]: Using backend LokyBackend with 58 concurrent workers.\n"
     ]
    },
    {
     "name": "stdout",
     "output_type": "stream",
     "text": [
      "Fitting 10 folds for each of 196 candidates, totalling 1960 fits\n"
     ]
    },
    {
     "name": "stderr",
     "output_type": "stream",
     "text": [
      "[Parallel(n_jobs=-7)]: Done  84 tasks      | elapsed:    0.2s\n",
      "[Parallel(n_jobs=-7)]: Done 760 tasks      | elapsed:    1.7s\n",
      "[Parallel(n_jobs=-7)]: Done 1781 tasks      | elapsed:    4.5s\n",
      "[Parallel(n_jobs=-7)]: Done 1960 out of 1960 | elapsed:    5.5s finished\n",
      "[Parallel(n_jobs=-7)]: Using backend LokyBackend with 58 concurrent workers.\n"
     ]
    },
    {
     "name": "stdout",
     "output_type": "stream",
     "text": [
      "Fitting 10 folds for each of 196 candidates, totalling 1960 fits\n"
     ]
    },
    {
     "name": "stderr",
     "output_type": "stream",
     "text": [
      "[Parallel(n_jobs=-7)]: Done  84 tasks      | elapsed:    0.2s\n",
      "[Parallel(n_jobs=-7)]: Done 764 tasks      | elapsed:    1.7s\n",
      "[Parallel(n_jobs=-7)]: Done 1787 tasks      | elapsed:    4.6s\n",
      "[Parallel(n_jobs=-7)]: Done 1845 out of 1960 | elapsed:    4.7s remaining:    0.2s\n",
      "[Parallel(n_jobs=-7)]: Done 1960 out of 1960 | elapsed:    5.5s finished\n",
      "[Parallel(n_jobs=-7)]: Using backend LokyBackend with 58 concurrent workers.\n"
     ]
    },
    {
     "name": "stdout",
     "output_type": "stream",
     "text": [
      "Fitting 10 folds for each of 196 candidates, totalling 1960 fits\n"
     ]
    },
    {
     "name": "stderr",
     "output_type": "stream",
     "text": [
      "[Parallel(n_jobs=-7)]: Done  84 tasks      | elapsed:    0.2s\n",
      "[Parallel(n_jobs=-7)]: Done 762 tasks      | elapsed:    1.7s\n",
      "[Parallel(n_jobs=-7)]: Done 1781 tasks      | elapsed:    4.5s\n",
      "[Parallel(n_jobs=-7)]: Done 1845 out of 1960 | elapsed:    4.6s remaining:    0.2s\n",
      "[Parallel(n_jobs=-7)]: Done 1960 out of 1960 | elapsed:    5.5s finished\n",
      "[Parallel(n_jobs=-7)]: Using backend LokyBackend with 58 concurrent workers.\n"
     ]
    },
    {
     "name": "stdout",
     "output_type": "stream",
     "text": [
      "Fitting 10 folds for each of 196 candidates, totalling 1960 fits\n"
     ]
    },
    {
     "name": "stderr",
     "output_type": "stream",
     "text": [
      "[Parallel(n_jobs=-7)]: Done  84 tasks      | elapsed:    0.2s\n",
      "[Parallel(n_jobs=-7)]: Done 762 tasks      | elapsed:    1.7s\n",
      "[Parallel(n_jobs=-7)]: Done 1784 tasks      | elapsed:    4.6s\n",
      "[Parallel(n_jobs=-7)]: Done 1845 out of 1960 | elapsed:    4.7s remaining:    0.2s\n",
      "[Parallel(n_jobs=-7)]: Done 1960 out of 1960 | elapsed:    5.5s finished\n",
      "[Parallel(n_jobs=-7)]: Using backend LokyBackend with 58 concurrent workers.\n"
     ]
    },
    {
     "name": "stdout",
     "output_type": "stream",
     "text": [
      "Fitting 10 folds for each of 196 candidates, totalling 1960 fits\n"
     ]
    },
    {
     "name": "stderr",
     "output_type": "stream",
     "text": [
      "[Parallel(n_jobs=-7)]: Done  84 tasks      | elapsed:    0.2s\n",
      "[Parallel(n_jobs=-7)]: Done 762 tasks      | elapsed:    1.7s\n",
      "[Parallel(n_jobs=-7)]: Done 1790 tasks      | elapsed:    4.6s\n",
      "[Parallel(n_jobs=-7)]: Done 1960 out of 1960 | elapsed:    5.5s finished\n"
     ]
    },
    {
     "name": "stdout",
     "output_type": "stream",
     "text": [
      "Fitting 10 folds for each of 196 candidates, totalling 1960 fits\n"
     ]
    },
    {
     "name": "stderr",
     "output_type": "stream",
     "text": [
      "[Parallel(n_jobs=-7)]: Using backend LokyBackend with 58 concurrent workers.\n",
      "[Parallel(n_jobs=-7)]: Done  84 tasks      | elapsed:    0.2s\n",
      "[Parallel(n_jobs=-7)]: Done 760 tasks      | elapsed:    1.8s\n",
      "[Parallel(n_jobs=-7)]: Done 1781 tasks      | elapsed:    4.7s\n",
      "[Parallel(n_jobs=-7)]: Done 1845 out of 1960 | elapsed:    4.8s remaining:    0.2s\n",
      "[Parallel(n_jobs=-7)]: Done 1960 out of 1960 | elapsed:    5.5s finished\n",
      "[Parallel(n_jobs=-7)]: Using backend LokyBackend with 58 concurrent workers.\n"
     ]
    },
    {
     "name": "stdout",
     "output_type": "stream",
     "text": [
      "Fitting 10 folds for each of 196 candidates, totalling 1960 fits\n"
     ]
    },
    {
     "name": "stderr",
     "output_type": "stream",
     "text": [
      "[Parallel(n_jobs=-7)]: Done  84 tasks      | elapsed:    0.2s\n",
      "[Parallel(n_jobs=-7)]: Done 762 tasks      | elapsed:    1.7s\n",
      "[Parallel(n_jobs=-7)]: Done 1778 tasks      | elapsed:    4.6s\n",
      "[Parallel(n_jobs=-7)]: Done 1845 out of 1960 | elapsed:    4.7s remaining:    0.2s\n",
      "[Parallel(n_jobs=-7)]: Done 1960 out of 1960 | elapsed:    5.5s finished\n",
      "[Parallel(n_jobs=-7)]: Using backend LokyBackend with 58 concurrent workers.\n"
     ]
    },
    {
     "name": "stdout",
     "output_type": "stream",
     "text": [
      "Fitting 10 folds for each of 196 candidates, totalling 1960 fits\n"
     ]
    },
    {
     "name": "stderr",
     "output_type": "stream",
     "text": [
      "[Parallel(n_jobs=-7)]: Done  84 tasks      | elapsed:    0.2s\n",
      "[Parallel(n_jobs=-7)]: Done 762 tasks      | elapsed:    1.7s\n",
      "[Parallel(n_jobs=-7)]: Done 1787 tasks      | elapsed:    4.6s\n",
      "[Parallel(n_jobs=-7)]: Done 1845 out of 1960 | elapsed:    4.7s remaining:    0.2s\n",
      "[Parallel(n_jobs=-7)]: Done 1960 out of 1960 | elapsed:    5.5s finished\n",
      "[Parallel(n_jobs=-7)]: Using backend LokyBackend with 58 concurrent workers.\n"
     ]
    },
    {
     "name": "stdout",
     "output_type": "stream",
     "text": [
      "Fitting 10 folds for each of 196 candidates, totalling 1960 fits\n"
     ]
    },
    {
     "name": "stderr",
     "output_type": "stream",
     "text": [
      "[Parallel(n_jobs=-7)]: Done  84 tasks      | elapsed:    0.2s\n",
      "[Parallel(n_jobs=-7)]: Done 762 tasks      | elapsed:    1.7s\n",
      "[Parallel(n_jobs=-7)]: Done 1787 tasks      | elapsed:    4.6s\n",
      "[Parallel(n_jobs=-7)]: Done 1845 out of 1960 | elapsed:    4.7s remaining:    0.2s\n",
      "[Parallel(n_jobs=-7)]: Done 1960 out of 1960 | elapsed:    5.5s finished\n"
     ]
    },
    {
     "name": "stdout",
     "output_type": "stream",
     "text": [
      "Fitting 10 folds for each of 196 candidates, totalling 1960 fits\n"
     ]
    },
    {
     "name": "stderr",
     "output_type": "stream",
     "text": [
      "[Parallel(n_jobs=-7)]: Using backend LokyBackend with 58 concurrent workers.\n",
      "[Parallel(n_jobs=-7)]: Done  84 tasks      | elapsed:    0.3s\n",
      "[Parallel(n_jobs=-7)]: Done 764 tasks      | elapsed:    1.8s\n",
      "[Parallel(n_jobs=-7)]: Done 1784 tasks      | elapsed:    4.7s\n",
      "[Parallel(n_jobs=-7)]: Done 1960 out of 1960 | elapsed:    5.7s finished\n"
     ]
    },
    {
     "name": "stdout",
     "output_type": "stream",
     "text": [
      "Fitting 10 folds for each of 196 candidates, totalling 1960 fits\n"
     ]
    },
    {
     "name": "stderr",
     "output_type": "stream",
     "text": [
      "[Parallel(n_jobs=-7)]: Using backend LokyBackend with 58 concurrent workers.\n",
      "[Parallel(n_jobs=-7)]: Done  84 tasks      | elapsed:    0.2s\n",
      "[Parallel(n_jobs=-7)]: Done 764 tasks      | elapsed:    1.7s\n",
      "[Parallel(n_jobs=-7)]: Done 1790 tasks      | elapsed:    4.6s\n",
      "[Parallel(n_jobs=-7)]: Done 1845 out of 1960 | elapsed:    4.7s remaining:    0.2s\n",
      "[Parallel(n_jobs=-7)]: Done 1960 out of 1960 | elapsed:    5.6s finished\n",
      "[Parallel(n_jobs=-7)]: Using backend LokyBackend with 58 concurrent workers.\n"
     ]
    },
    {
     "name": "stdout",
     "output_type": "stream",
     "text": [
      "Fitting 10 folds for each of 196 candidates, totalling 1960 fits\n"
     ]
    },
    {
     "name": "stderr",
     "output_type": "stream",
     "text": [
      "[Parallel(n_jobs=-7)]: Done  84 tasks      | elapsed:    0.2s\n",
      "[Parallel(n_jobs=-7)]: Done 764 tasks      | elapsed:    1.7s\n",
      "[Parallel(n_jobs=-7)]: Done 1787 tasks      | elapsed:    4.6s\n",
      "[Parallel(n_jobs=-7)]: Done 1845 out of 1960 | elapsed:    4.8s remaining:    0.2s\n",
      "[Parallel(n_jobs=-7)]: Done 1960 out of 1960 | elapsed:    5.6s finished\n",
      "[Parallel(n_jobs=-7)]: Using backend LokyBackend with 58 concurrent workers.\n"
     ]
    },
    {
     "name": "stdout",
     "output_type": "stream",
     "text": [
      "Fitting 10 folds for each of 196 candidates, totalling 1960 fits\n"
     ]
    },
    {
     "name": "stderr",
     "output_type": "stream",
     "text": [
      "[Parallel(n_jobs=-7)]: Done  84 tasks      | elapsed:    0.2s\n",
      "[Parallel(n_jobs=-7)]: Done 762 tasks      | elapsed:    1.7s\n",
      "[Parallel(n_jobs=-7)]: Done 1781 tasks      | elapsed:    4.6s\n",
      "[Parallel(n_jobs=-7)]: Done 1845 out of 1960 | elapsed:    4.7s remaining:    0.2s\n",
      "[Parallel(n_jobs=-7)]: Done 1960 out of 1960 | elapsed:    5.6s finished\n",
      "[Parallel(n_jobs=-7)]: Using backend LokyBackend with 58 concurrent workers.\n"
     ]
    },
    {
     "name": "stdout",
     "output_type": "stream",
     "text": [
      "Fitting 10 folds for each of 196 candidates, totalling 1960 fits\n"
     ]
    },
    {
     "name": "stderr",
     "output_type": "stream",
     "text": [
      "[Parallel(n_jobs=-7)]: Done  84 tasks      | elapsed:    0.2s\n",
      "[Parallel(n_jobs=-7)]: Done 762 tasks      | elapsed:    1.7s\n",
      "[Parallel(n_jobs=-7)]: Done 1784 tasks      | elapsed:    4.6s\n",
      "[Parallel(n_jobs=-7)]: Done 1845 out of 1960 | elapsed:    4.7s remaining:    0.2s\n",
      "[Parallel(n_jobs=-7)]: Done 1960 out of 1960 | elapsed:    5.6s finished\n",
      "[Parallel(n_jobs=-7)]: Using backend LokyBackend with 58 concurrent workers.\n"
     ]
    },
    {
     "name": "stdout",
     "output_type": "stream",
     "text": [
      "Fitting 10 folds for each of 196 candidates, totalling 1960 fits\n"
     ]
    },
    {
     "name": "stderr",
     "output_type": "stream",
     "text": [
      "[Parallel(n_jobs=-7)]: Done  84 tasks      | elapsed:    0.2s\n",
      "[Parallel(n_jobs=-7)]: Done 760 tasks      | elapsed:    1.7s\n",
      "[Parallel(n_jobs=-7)]: Done 1781 tasks      | elapsed:    4.6s\n",
      "[Parallel(n_jobs=-7)]: Done 1845 out of 1960 | elapsed:    4.7s remaining:    0.2s\n",
      "[Parallel(n_jobs=-7)]: Done 1960 out of 1960 | elapsed:    5.6s finished\n",
      "[Parallel(n_jobs=-7)]: Using backend LokyBackend with 58 concurrent workers.\n"
     ]
    },
    {
     "name": "stdout",
     "output_type": "stream",
     "text": [
      "Fitting 10 folds for each of 196 candidates, totalling 1960 fits\n"
     ]
    },
    {
     "name": "stderr",
     "output_type": "stream",
     "text": [
      "[Parallel(n_jobs=-7)]: Done  84 tasks      | elapsed:    0.2s\n",
      "[Parallel(n_jobs=-7)]: Done 762 tasks      | elapsed:    1.8s\n",
      "[Parallel(n_jobs=-7)]: Done 1787 tasks      | elapsed:    4.8s\n",
      "[Parallel(n_jobs=-7)]: Done 1845 out of 1960 | elapsed:    4.9s remaining:    0.2s\n",
      "[Parallel(n_jobs=-7)]: Done 1960 out of 1960 | elapsed:    5.7s finished\n",
      "[Parallel(n_jobs=-7)]: Using backend LokyBackend with 58 concurrent workers.\n"
     ]
    },
    {
     "name": "stdout",
     "output_type": "stream",
     "text": [
      "Fitting 10 folds for each of 196 candidates, totalling 1960 fits\n"
     ]
    },
    {
     "name": "stderr",
     "output_type": "stream",
     "text": [
      "[Parallel(n_jobs=-7)]: Done  84 tasks      | elapsed:    0.2s\n",
      "[Parallel(n_jobs=-7)]: Done 762 tasks      | elapsed:    1.7s\n",
      "[Parallel(n_jobs=-7)]: Done 1781 tasks      | elapsed:    4.6s\n",
      "[Parallel(n_jobs=-7)]: Done 1960 out of 1960 | elapsed:    5.6s finished\n",
      "[Parallel(n_jobs=-7)]: Using backend LokyBackend with 58 concurrent workers.\n"
     ]
    },
    {
     "name": "stdout",
     "output_type": "stream",
     "text": [
      "Fitting 10 folds for each of 196 candidates, totalling 1960 fits\n"
     ]
    },
    {
     "name": "stderr",
     "output_type": "stream",
     "text": [
      "[Parallel(n_jobs=-7)]: Done  84 tasks      | elapsed:    0.2s\n",
      "[Parallel(n_jobs=-7)]: Done 762 tasks      | elapsed:    1.7s\n",
      "[Parallel(n_jobs=-7)]: Done 1787 tasks      | elapsed:    4.6s\n",
      "[Parallel(n_jobs=-7)]: Done 1845 out of 1960 | elapsed:    4.7s remaining:    0.2s\n",
      "[Parallel(n_jobs=-7)]: Done 1960 out of 1960 | elapsed:    5.6s finished\n",
      "[Parallel(n_jobs=-7)]: Using backend LokyBackend with 58 concurrent workers.\n"
     ]
    },
    {
     "name": "stdout",
     "output_type": "stream",
     "text": [
      "Fitting 10 folds for each of 196 candidates, totalling 1960 fits\n"
     ]
    },
    {
     "name": "stderr",
     "output_type": "stream",
     "text": [
      "[Parallel(n_jobs=-7)]: Done  84 tasks      | elapsed:    0.2s\n",
      "[Parallel(n_jobs=-7)]: Done 762 tasks      | elapsed:    1.7s\n",
      "[Parallel(n_jobs=-7)]: Done 1787 tasks      | elapsed:    4.6s\n",
      "[Parallel(n_jobs=-7)]: Done 1845 out of 1960 | elapsed:    4.8s remaining:    0.2s\n",
      "[Parallel(n_jobs=-7)]: Done 1960 out of 1960 | elapsed:    5.7s finished\n"
     ]
    },
    {
     "name": "stdout",
     "output_type": "stream",
     "text": [
      "Fitting 10 folds for each of 196 candidates, totalling 1960 fits\n"
     ]
    },
    {
     "name": "stderr",
     "output_type": "stream",
     "text": [
      "[Parallel(n_jobs=-7)]: Using backend LokyBackend with 58 concurrent workers.\n",
      "[Parallel(n_jobs=-7)]: Done  84 tasks      | elapsed:    0.2s\n",
      "[Parallel(n_jobs=-7)]: Done 762 tasks      | elapsed:    1.7s\n",
      "[Parallel(n_jobs=-7)]: Done 1787 tasks      | elapsed:    4.6s\n",
      "[Parallel(n_jobs=-7)]: Done 1845 out of 1960 | elapsed:    4.7s remaining:    0.2s\n",
      "[Parallel(n_jobs=-7)]: Done 1960 out of 1960 | elapsed:    5.6s finished\n"
     ]
    },
    {
     "name": "stdout",
     "output_type": "stream",
     "text": [
      "Fitting 10 folds for each of 196 candidates, totalling 1960 fits\n"
     ]
    },
    {
     "name": "stderr",
     "output_type": "stream",
     "text": [
      "[Parallel(n_jobs=-7)]: Using backend LokyBackend with 58 concurrent workers.\n",
      "[Parallel(n_jobs=-7)]: Done  84 tasks      | elapsed:    0.2s\n",
      "[Parallel(n_jobs=-7)]: Done 764 tasks      | elapsed:    1.7s\n",
      "[Parallel(n_jobs=-7)]: Done 1781 tasks      | elapsed:    4.6s\n",
      "[Parallel(n_jobs=-7)]: Done 1845 out of 1960 | elapsed:    4.7s remaining:    0.2s\n",
      "[Parallel(n_jobs=-7)]: Done 1960 out of 1960 | elapsed:    5.6s finished\n",
      "[Parallel(n_jobs=-7)]: Using backend LokyBackend with 58 concurrent workers.\n"
     ]
    },
    {
     "name": "stdout",
     "output_type": "stream",
     "text": [
      "Fitting 10 folds for each of 196 candidates, totalling 1960 fits\n"
     ]
    },
    {
     "name": "stderr",
     "output_type": "stream",
     "text": [
      "[Parallel(n_jobs=-7)]: Done  84 tasks      | elapsed:    0.2s\n",
      "[Parallel(n_jobs=-7)]: Done 762 tasks      | elapsed:    1.7s\n",
      "[Parallel(n_jobs=-7)]: Done 1784 tasks      | elapsed:    4.6s\n",
      "[Parallel(n_jobs=-7)]: Done 1845 out of 1960 | elapsed:    4.7s remaining:    0.2s\n",
      "[Parallel(n_jobs=-7)]: Done 1960 out of 1960 | elapsed:    5.6s finished\n",
      "[Parallel(n_jobs=-7)]: Using backend LokyBackend with 58 concurrent workers.\n"
     ]
    },
    {
     "name": "stdout",
     "output_type": "stream",
     "text": [
      "Fitting 10 folds for each of 196 candidates, totalling 1960 fits\n"
     ]
    },
    {
     "name": "stderr",
     "output_type": "stream",
     "text": [
      "[Parallel(n_jobs=-7)]: Done  84 tasks      | elapsed:    0.2s\n",
      "[Parallel(n_jobs=-7)]: Done 758 tasks      | elapsed:    1.8s\n",
      "[Parallel(n_jobs=-7)]: Done 1781 tasks      | elapsed:    4.7s\n",
      "[Parallel(n_jobs=-7)]: Done 1845 out of 1960 | elapsed:    4.8s remaining:    0.2s\n",
      "[Parallel(n_jobs=-7)]: Done 1960 out of 1960 | elapsed:    5.7s finished\n",
      "[Parallel(n_jobs=-7)]: Using backend LokyBackend with 58 concurrent workers.\n"
     ]
    },
    {
     "name": "stdout",
     "output_type": "stream",
     "text": [
      "Fitting 10 folds for each of 196 candidates, totalling 1960 fits\n"
     ]
    },
    {
     "name": "stderr",
     "output_type": "stream",
     "text": [
      "[Parallel(n_jobs=-7)]: Done  84 tasks      | elapsed:    0.2s\n",
      "[Parallel(n_jobs=-7)]: Done 758 tasks      | elapsed:    1.7s\n",
      "[Parallel(n_jobs=-7)]: Done 1781 tasks      | elapsed:    4.7s\n",
      "[Parallel(n_jobs=-7)]: Done 1845 out of 1960 | elapsed:    4.8s remaining:    0.2s\n",
      "[Parallel(n_jobs=-7)]: Done 1960 out of 1960 | elapsed:    5.7s finished\n"
     ]
    },
    {
     "name": "stdout",
     "output_type": "stream",
     "text": [
      "Fitting 10 folds for each of 196 candidates, totalling 1960 fits\n"
     ]
    },
    {
     "name": "stderr",
     "output_type": "stream",
     "text": [
      "[Parallel(n_jobs=-7)]: Using backend LokyBackend with 58 concurrent workers.\n",
      "[Parallel(n_jobs=-7)]: Done  84 tasks      | elapsed:    0.2s\n",
      "[Parallel(n_jobs=-7)]: Done 764 tasks      | elapsed:    1.7s\n",
      "[Parallel(n_jobs=-7)]: Done 1787 tasks      | elapsed:    4.7s\n",
      "[Parallel(n_jobs=-7)]: Done 1845 out of 1960 | elapsed:    4.8s remaining:    0.2s\n",
      "[Parallel(n_jobs=-7)]: Done 1960 out of 1960 | elapsed:    5.6s finished\n",
      "[Parallel(n_jobs=-7)]: Using backend LokyBackend with 58 concurrent workers.\n"
     ]
    },
    {
     "name": "stdout",
     "output_type": "stream",
     "text": [
      "Fitting 10 folds for each of 196 candidates, totalling 1960 fits\n"
     ]
    },
    {
     "name": "stderr",
     "output_type": "stream",
     "text": [
      "[Parallel(n_jobs=-7)]: Done  84 tasks      | elapsed:    0.2s\n",
      "[Parallel(n_jobs=-7)]: Done 760 tasks      | elapsed:    1.7s\n",
      "[Parallel(n_jobs=-7)]: Done 1784 tasks      | elapsed:    4.8s\n",
      "[Parallel(n_jobs=-7)]: Done 1845 out of 1960 | elapsed:    4.9s remaining:    0.2s\n",
      "[Parallel(n_jobs=-7)]: Done 1960 out of 1960 | elapsed:    5.8s finished\n",
      "[Parallel(n_jobs=-7)]: Using backend LokyBackend with 58 concurrent workers.\n"
     ]
    },
    {
     "name": "stdout",
     "output_type": "stream",
     "text": [
      "Fitting 10 folds for each of 196 candidates, totalling 1960 fits\n"
     ]
    },
    {
     "name": "stderr",
     "output_type": "stream",
     "text": [
      "[Parallel(n_jobs=-7)]: Done  84 tasks      | elapsed:    0.2s\n",
      "[Parallel(n_jobs=-7)]: Done 760 tasks      | elapsed:    1.7s\n",
      "[Parallel(n_jobs=-7)]: Done 1784 tasks      | elapsed:    4.7s\n",
      "[Parallel(n_jobs=-7)]: Done 1845 out of 1960 | elapsed:    4.8s remaining:    0.2s\n",
      "[Parallel(n_jobs=-7)]: Done 1960 out of 1960 | elapsed:    5.7s finished\n",
      "[Parallel(n_jobs=-7)]: Using backend LokyBackend with 58 concurrent workers.\n"
     ]
    },
    {
     "name": "stdout",
     "output_type": "stream",
     "text": [
      "Fitting 10 folds for each of 196 candidates, totalling 1960 fits\n"
     ]
    },
    {
     "name": "stderr",
     "output_type": "stream",
     "text": [
      "[Parallel(n_jobs=-7)]: Done  84 tasks      | elapsed:    0.2s\n",
      "[Parallel(n_jobs=-7)]: Done 764 tasks      | elapsed:    1.7s\n",
      "[Parallel(n_jobs=-7)]: Done 1781 tasks      | elapsed:    4.7s\n",
      "[Parallel(n_jobs=-7)]: Done 1845 out of 1960 | elapsed:    4.8s remaining:    0.2s\n",
      "[Parallel(n_jobs=-7)]: Done 1960 out of 1960 | elapsed:    5.7s finished\n",
      "[Parallel(n_jobs=-7)]: Using backend LokyBackend with 58 concurrent workers.\n"
     ]
    },
    {
     "name": "stdout",
     "output_type": "stream",
     "text": [
      "Fitting 10 folds for each of 196 candidates, totalling 1960 fits\n"
     ]
    },
    {
     "name": "stderr",
     "output_type": "stream",
     "text": [
      "[Parallel(n_jobs=-7)]: Done  84 tasks      | elapsed:    0.2s\n",
      "[Parallel(n_jobs=-7)]: Done 762 tasks      | elapsed:    1.7s\n",
      "[Parallel(n_jobs=-7)]: Done 1784 tasks      | elapsed:    4.7s\n",
      "[Parallel(n_jobs=-7)]: Done 1845 out of 1960 | elapsed:    4.8s remaining:    0.2s\n",
      "[Parallel(n_jobs=-7)]: Done 1960 out of 1960 | elapsed:    5.7s finished\n",
      "[Parallel(n_jobs=-7)]: Using backend LokyBackend with 58 concurrent workers.\n"
     ]
    },
    {
     "name": "stdout",
     "output_type": "stream",
     "text": [
      "Fitting 10 folds for each of 196 candidates, totalling 1960 fits\n"
     ]
    },
    {
     "name": "stderr",
     "output_type": "stream",
     "text": [
      "[Parallel(n_jobs=-7)]: Done  84 tasks      | elapsed:    0.2s\n",
      "[Parallel(n_jobs=-7)]: Done 764 tasks      | elapsed:    1.7s\n",
      "[Parallel(n_jobs=-7)]: Done 1790 tasks      | elapsed:    4.7s\n",
      "[Parallel(n_jobs=-7)]: Done 1845 out of 1960 | elapsed:    4.8s remaining:    0.2s\n",
      "[Parallel(n_jobs=-7)]: Done 1960 out of 1960 | elapsed:    5.7s finished\n"
     ]
    },
    {
     "name": "stdout",
     "output_type": "stream",
     "text": [
      "Fitting 10 folds for each of 196 candidates, totalling 1960 fits\n"
     ]
    },
    {
     "name": "stderr",
     "output_type": "stream",
     "text": [
      "[Parallel(n_jobs=-7)]: Using backend LokyBackend with 58 concurrent workers.\n",
      "[Parallel(n_jobs=-7)]: Done  84 tasks      | elapsed:    0.2s\n",
      "[Parallel(n_jobs=-7)]: Done 758 tasks      | elapsed:    1.7s\n",
      "[Parallel(n_jobs=-7)]: Done 1778 tasks      | elapsed:    4.7s\n",
      "[Parallel(n_jobs=-7)]: Done 1845 out of 1960 | elapsed:    4.8s remaining:    0.2s\n",
      "[Parallel(n_jobs=-7)]: Done 1960 out of 1960 | elapsed:    5.7s finished\n",
      "[Parallel(n_jobs=-7)]: Using backend LokyBackend with 58 concurrent workers.\n"
     ]
    },
    {
     "name": "stdout",
     "output_type": "stream",
     "text": [
      "Fitting 10 folds for each of 196 candidates, totalling 1960 fits\n"
     ]
    },
    {
     "name": "stderr",
     "output_type": "stream",
     "text": [
      "[Parallel(n_jobs=-7)]: Done  84 tasks      | elapsed:    0.2s\n",
      "[Parallel(n_jobs=-7)]: Done 764 tasks      | elapsed:    1.7s\n",
      "[Parallel(n_jobs=-7)]: Done 1790 tasks      | elapsed:    4.7s\n",
      "[Parallel(n_jobs=-7)]: Done 1845 out of 1960 | elapsed:    4.8s remaining:    0.2s\n",
      "[Parallel(n_jobs=-7)]: Done 1960 out of 1960 | elapsed:    5.7s finished\n"
     ]
    },
    {
     "name": "stdout",
     "output_type": "stream",
     "text": [
      "Fitting 10 folds for each of 196 candidates, totalling 1960 fits\n"
     ]
    },
    {
     "name": "stderr",
     "output_type": "stream",
     "text": [
      "[Parallel(n_jobs=-7)]: Using backend LokyBackend with 58 concurrent workers.\n",
      "[Parallel(n_jobs=-7)]: Done  84 tasks      | elapsed:    0.2s\n",
      "[Parallel(n_jobs=-7)]: Done 760 tasks      | elapsed:    1.7s\n",
      "[Parallel(n_jobs=-7)]: Done 1784 tasks      | elapsed:    4.7s\n",
      "[Parallel(n_jobs=-7)]: Done 1845 out of 1960 | elapsed:    4.8s remaining:    0.2s\n",
      "[Parallel(n_jobs=-7)]: Done 1960 out of 1960 | elapsed:    5.7s finished\n"
     ]
    },
    {
     "name": "stdout",
     "output_type": "stream",
     "text": [
      "Fitting 10 folds for each of 196 candidates, totalling 1960 fits\n"
     ]
    },
    {
     "name": "stderr",
     "output_type": "stream",
     "text": [
      "[Parallel(n_jobs=-7)]: Using backend LokyBackend with 58 concurrent workers.\n",
      "[Parallel(n_jobs=-7)]: Done  84 tasks      | elapsed:    0.2s\n",
      "[Parallel(n_jobs=-7)]: Done 764 tasks      | elapsed:    1.7s\n",
      "[Parallel(n_jobs=-7)]: Done 1787 tasks      | elapsed:    4.7s\n",
      "[Parallel(n_jobs=-7)]: Done 1845 out of 1960 | elapsed:    4.8s remaining:    0.2s\n",
      "[Parallel(n_jobs=-7)]: Done 1960 out of 1960 | elapsed:    5.6s finished\n",
      "[Parallel(n_jobs=-7)]: Using backend LokyBackend with 58 concurrent workers.\n"
     ]
    },
    {
     "name": "stdout",
     "output_type": "stream",
     "text": [
      "Fitting 10 folds for each of 196 candidates, totalling 1960 fits\n"
     ]
    },
    {
     "name": "stderr",
     "output_type": "stream",
     "text": [
      "[Parallel(n_jobs=-7)]: Done  84 tasks      | elapsed:    0.2s\n",
      "[Parallel(n_jobs=-7)]: Done 762 tasks      | elapsed:    1.7s\n",
      "[Parallel(n_jobs=-7)]: Done 1784 tasks      | elapsed:    4.7s\n",
      "[Parallel(n_jobs=-7)]: Done 1845 out of 1960 | elapsed:    4.8s remaining:    0.2s\n",
      "[Parallel(n_jobs=-7)]: Done 1960 out of 1960 | elapsed:    5.7s finished\n",
      "[Parallel(n_jobs=-7)]: Using backend LokyBackend with 58 concurrent workers.\n"
     ]
    },
    {
     "name": "stdout",
     "output_type": "stream",
     "text": [
      "Fitting 10 folds for each of 196 candidates, totalling 1960 fits\n"
     ]
    },
    {
     "name": "stderr",
     "output_type": "stream",
     "text": [
      "[Parallel(n_jobs=-7)]: Done  84 tasks      | elapsed:    0.2s\n",
      "[Parallel(n_jobs=-7)]: Done 762 tasks      | elapsed:    1.8s\n",
      "[Parallel(n_jobs=-7)]: Done 1787 tasks      | elapsed:    4.8s\n",
      "[Parallel(n_jobs=-7)]: Done 1845 out of 1960 | elapsed:    4.9s remaining:    0.2s\n",
      "[Parallel(n_jobs=-7)]: Done 1960 out of 1960 | elapsed:    5.9s finished\n"
     ]
    },
    {
     "name": "stdout",
     "output_type": "stream",
     "text": [
      "Fitting 10 folds for each of 196 candidates, totalling 1960 fits\n"
     ]
    },
    {
     "name": "stderr",
     "output_type": "stream",
     "text": [
      "[Parallel(n_jobs=-7)]: Using backend LokyBackend with 58 concurrent workers.\n",
      "[Parallel(n_jobs=-7)]: Done  84 tasks      | elapsed:    0.2s\n",
      "[Parallel(n_jobs=-7)]: Done 764 tasks      | elapsed:    1.7s\n",
      "[Parallel(n_jobs=-7)]: Done 1787 tasks      | elapsed:    4.7s\n",
      "[Parallel(n_jobs=-7)]: Done 1845 out of 1960 | elapsed:    4.8s remaining:    0.2s\n",
      "[Parallel(n_jobs=-7)]: Done 1960 out of 1960 | elapsed:    5.7s finished\n"
     ]
    },
    {
     "name": "stdout",
     "output_type": "stream",
     "text": [
      "Fitting 10 folds for each of 196 candidates, totalling 1960 fits\n"
     ]
    },
    {
     "name": "stderr",
     "output_type": "stream",
     "text": [
      "[Parallel(n_jobs=-7)]: Using backend LokyBackend with 58 concurrent workers.\n",
      "[Parallel(n_jobs=-7)]: Done  84 tasks      | elapsed:    0.2s\n",
      "[Parallel(n_jobs=-7)]: Done 760 tasks      | elapsed:    1.7s\n",
      "[Parallel(n_jobs=-7)]: Done 1793 tasks      | elapsed:    4.7s\n",
      "[Parallel(n_jobs=-7)]: Done 1845 out of 1960 | elapsed:    4.8s remaining:    0.2s\n",
      "[Parallel(n_jobs=-7)]: Done 1960 out of 1960 | elapsed:    5.8s finished\n"
     ]
    },
    {
     "name": "stdout",
     "output_type": "stream",
     "text": [
      "Fitting 10 folds for each of 196 candidates, totalling 1960 fits\n"
     ]
    },
    {
     "name": "stderr",
     "output_type": "stream",
     "text": [
      "[Parallel(n_jobs=-7)]: Using backend LokyBackend with 58 concurrent workers.\n",
      "[Parallel(n_jobs=-7)]: Done  84 tasks      | elapsed:    0.2s\n",
      "[Parallel(n_jobs=-7)]: Done 760 tasks      | elapsed:    1.7s\n",
      "[Parallel(n_jobs=-7)]: Done 1790 tasks      | elapsed:    4.8s\n",
      "[Parallel(n_jobs=-7)]: Done 1845 out of 1960 | elapsed:    4.9s remaining:    0.2s\n",
      "[Parallel(n_jobs=-7)]: Done 1960 out of 1960 | elapsed:    5.7s finished\n",
      "[Parallel(n_jobs=-7)]: Using backend LokyBackend with 58 concurrent workers.\n"
     ]
    },
    {
     "name": "stdout",
     "output_type": "stream",
     "text": [
      "Fitting 10 folds for each of 196 candidates, totalling 1960 fits\n"
     ]
    },
    {
     "name": "stderr",
     "output_type": "stream",
     "text": [
      "[Parallel(n_jobs=-7)]: Done  84 tasks      | elapsed:    0.2s\n",
      "[Parallel(n_jobs=-7)]: Done 764 tasks      | elapsed:    1.8s\n",
      "[Parallel(n_jobs=-7)]: Done 1787 tasks      | elapsed:    4.7s\n",
      "[Parallel(n_jobs=-7)]: Done 1845 out of 1960 | elapsed:    4.8s remaining:    0.2s\n",
      "[Parallel(n_jobs=-7)]: Done 1960 out of 1960 | elapsed:    5.7s finished\n"
     ]
    },
    {
     "name": "stdout",
     "output_type": "stream",
     "text": [
      "Fitting 10 folds for each of 196 candidates, totalling 1960 fits\n"
     ]
    },
    {
     "name": "stderr",
     "output_type": "stream",
     "text": [
      "[Parallel(n_jobs=-7)]: Using backend LokyBackend with 58 concurrent workers.\n",
      "[Parallel(n_jobs=-7)]: Done  84 tasks      | elapsed:    0.2s\n",
      "[Parallel(n_jobs=-7)]: Done 762 tasks      | elapsed:    1.8s\n",
      "[Parallel(n_jobs=-7)]: Done 1784 tasks      | elapsed:    4.7s\n",
      "[Parallel(n_jobs=-7)]: Done 1960 out of 1960 | elapsed:    5.7s finished\n",
      "[Parallel(n_jobs=-7)]: Using backend LokyBackend with 58 concurrent workers.\n"
     ]
    },
    {
     "name": "stdout",
     "output_type": "stream",
     "text": [
      "Fitting 10 folds for each of 196 candidates, totalling 1960 fits\n"
     ]
    },
    {
     "name": "stderr",
     "output_type": "stream",
     "text": [
      "[Parallel(n_jobs=-7)]: Done  84 tasks      | elapsed:    0.2s\n",
      "[Parallel(n_jobs=-7)]: Done 762 tasks      | elapsed:    1.7s\n",
      "[Parallel(n_jobs=-7)]: Done 1787 tasks      | elapsed:    4.7s\n",
      "[Parallel(n_jobs=-7)]: Done 1845 out of 1960 | elapsed:    4.8s remaining:    0.2s\n",
      "[Parallel(n_jobs=-7)]: Done 1960 out of 1960 | elapsed:    5.8s finished\n",
      "[Parallel(n_jobs=-7)]: Using backend LokyBackend with 58 concurrent workers.\n"
     ]
    },
    {
     "name": "stdout",
     "output_type": "stream",
     "text": [
      "Fitting 10 folds for each of 196 candidates, totalling 1960 fits\n"
     ]
    },
    {
     "name": "stderr",
     "output_type": "stream",
     "text": [
      "[Parallel(n_jobs=-7)]: Done  84 tasks      | elapsed:    0.2s\n",
      "[Parallel(n_jobs=-7)]: Done 758 tasks      | elapsed:    1.7s\n",
      "[Parallel(n_jobs=-7)]: Done 1784 tasks      | elapsed:    4.7s\n",
      "[Parallel(n_jobs=-7)]: Done 1845 out of 1960 | elapsed:    4.9s remaining:    0.2s\n",
      "[Parallel(n_jobs=-7)]: Done 1960 out of 1960 | elapsed:    5.7s finished\n",
      "[Parallel(n_jobs=-7)]: Using backend LokyBackend with 58 concurrent workers.\n"
     ]
    },
    {
     "name": "stdout",
     "output_type": "stream",
     "text": [
      "Fitting 10 folds for each of 196 candidates, totalling 1960 fits\n"
     ]
    },
    {
     "name": "stderr",
     "output_type": "stream",
     "text": [
      "[Parallel(n_jobs=-7)]: Done  84 tasks      | elapsed:    0.3s\n",
      "[Parallel(n_jobs=-7)]: Done 762 tasks      | elapsed:    1.8s\n",
      "[Parallel(n_jobs=-7)]: Done 1784 tasks      | elapsed:    4.8s\n",
      "[Parallel(n_jobs=-7)]: Done 1845 out of 1960 | elapsed:    4.9s remaining:    0.2s\n",
      "[Parallel(n_jobs=-7)]: Done 1960 out of 1960 | elapsed:    5.8s finished\n",
      "[Parallel(n_jobs=-7)]: Using backend LokyBackend with 58 concurrent workers.\n"
     ]
    },
    {
     "name": "stdout",
     "output_type": "stream",
     "text": [
      "Fitting 10 folds for each of 196 candidates, totalling 1960 fits\n"
     ]
    },
    {
     "name": "stderr",
     "output_type": "stream",
     "text": [
      "[Parallel(n_jobs=-7)]: Done  85 tasks      | elapsed:    0.2s\n",
      "[Parallel(n_jobs=-7)]: Done 764 tasks      | elapsed:    1.7s\n",
      "[Parallel(n_jobs=-7)]: Done 1787 tasks      | elapsed:    4.7s\n",
      "[Parallel(n_jobs=-7)]: Done 1845 out of 1960 | elapsed:    4.8s remaining:    0.2s\n",
      "[Parallel(n_jobs=-7)]: Done 1960 out of 1960 | elapsed:    5.8s finished\n",
      "[Parallel(n_jobs=-7)]: Using backend LokyBackend with 58 concurrent workers.\n"
     ]
    },
    {
     "name": "stdout",
     "output_type": "stream",
     "text": [
      "Fitting 10 folds for each of 196 candidates, totalling 1960 fits\n"
     ]
    },
    {
     "name": "stderr",
     "output_type": "stream",
     "text": [
      "[Parallel(n_jobs=-7)]: Done  84 tasks      | elapsed:    0.2s\n",
      "[Parallel(n_jobs=-7)]: Done 758 tasks      | elapsed:    1.8s\n",
      "[Parallel(n_jobs=-7)]: Done 1784 tasks      | elapsed:    4.9s\n",
      "[Parallel(n_jobs=-7)]: Done 1845 out of 1960 | elapsed:    5.0s remaining:    0.2s\n",
      "[Parallel(n_jobs=-7)]: Done 1960 out of 1960 | elapsed:    6.0s finished\n"
     ]
    },
    {
     "name": "stdout",
     "output_type": "stream",
     "text": [
      "Fitting 10 folds for each of 196 candidates, totalling 1960 fits\n"
     ]
    },
    {
     "name": "stderr",
     "output_type": "stream",
     "text": [
      "[Parallel(n_jobs=-7)]: Using backend LokyBackend with 58 concurrent workers.\n",
      "[Parallel(n_jobs=-7)]: Done  84 tasks      | elapsed:    0.2s\n",
      "[Parallel(n_jobs=-7)]: Done 764 tasks      | elapsed:    1.7s\n",
      "[Parallel(n_jobs=-7)]: Done 1784 tasks      | elapsed:    4.7s\n",
      "[Parallel(n_jobs=-7)]: Done 1845 out of 1960 | elapsed:    4.9s remaining:    0.2s\n",
      "[Parallel(n_jobs=-7)]: Done 1960 out of 1960 | elapsed:    5.7s finished\n",
      "[Parallel(n_jobs=-7)]: Using backend LokyBackend with 58 concurrent workers.\n"
     ]
    },
    {
     "name": "stdout",
     "output_type": "stream",
     "text": [
      "Fitting 10 folds for each of 196 candidates, totalling 1960 fits\n"
     ]
    },
    {
     "name": "stderr",
     "output_type": "stream",
     "text": [
      "[Parallel(n_jobs=-7)]: Done  84 tasks      | elapsed:    0.2s\n",
      "[Parallel(n_jobs=-7)]: Done 758 tasks      | elapsed:    1.8s\n",
      "[Parallel(n_jobs=-7)]: Done 1784 tasks      | elapsed:    4.8s\n",
      "[Parallel(n_jobs=-7)]: Done 1845 out of 1960 | elapsed:    4.9s remaining:    0.2s\n",
      "[Parallel(n_jobs=-7)]: Done 1960 out of 1960 | elapsed:    5.8s finished\n",
      "[Parallel(n_jobs=-7)]: Using backend LokyBackend with 58 concurrent workers.\n"
     ]
    },
    {
     "name": "stdout",
     "output_type": "stream",
     "text": [
      "Fitting 10 folds for each of 196 candidates, totalling 1960 fits\n"
     ]
    },
    {
     "name": "stderr",
     "output_type": "stream",
     "text": [
      "[Parallel(n_jobs=-7)]: Done  84 tasks      | elapsed:    0.2s\n",
      "[Parallel(n_jobs=-7)]: Done 760 tasks      | elapsed:    1.8s\n",
      "[Parallel(n_jobs=-7)]: Done 1784 tasks      | elapsed:    4.8s\n",
      "[Parallel(n_jobs=-7)]: Done 1845 out of 1960 | elapsed:    4.9s remaining:    0.2s\n",
      "[Parallel(n_jobs=-7)]: Done 1960 out of 1960 | elapsed:    5.8s finished\n"
     ]
    },
    {
     "name": "stdout",
     "output_type": "stream",
     "text": [
      "Fitting 10 folds for each of 196 candidates, totalling 1960 fits\n"
     ]
    },
    {
     "name": "stderr",
     "output_type": "stream",
     "text": [
      "[Parallel(n_jobs=-7)]: Using backend LokyBackend with 58 concurrent workers.\n",
      "[Parallel(n_jobs=-7)]: Done  84 tasks      | elapsed:    0.2s\n",
      "[Parallel(n_jobs=-7)]: Done 764 tasks      | elapsed:    1.7s\n",
      "[Parallel(n_jobs=-7)]: Done 1781 tasks      | elapsed:    4.8s\n",
      "[Parallel(n_jobs=-7)]: Done 1960 out of 1960 | elapsed:    5.9s finished\n",
      "[Parallel(n_jobs=-7)]: Using backend LokyBackend with 58 concurrent workers.\n"
     ]
    },
    {
     "name": "stdout",
     "output_type": "stream",
     "text": [
      "Fitting 10 folds for each of 196 candidates, totalling 1960 fits\n"
     ]
    },
    {
     "name": "stderr",
     "output_type": "stream",
     "text": [
      "[Parallel(n_jobs=-7)]: Done  84 tasks      | elapsed:    0.2s\n",
      "[Parallel(n_jobs=-7)]: Done 764 tasks      | elapsed:    1.8s\n",
      "[Parallel(n_jobs=-7)]: Done 1784 tasks      | elapsed:    4.7s\n",
      "[Parallel(n_jobs=-7)]: Done 1845 out of 1960 | elapsed:    4.9s remaining:    0.2s\n",
      "[Parallel(n_jobs=-7)]: Done 1960 out of 1960 | elapsed:    5.8s finished\n",
      "[Parallel(n_jobs=-7)]: Using backend LokyBackend with 58 concurrent workers.\n"
     ]
    },
    {
     "name": "stdout",
     "output_type": "stream",
     "text": [
      "Fitting 10 folds for each of 196 candidates, totalling 1960 fits\n"
     ]
    },
    {
     "name": "stderr",
     "output_type": "stream",
     "text": [
      "[Parallel(n_jobs=-7)]: Done  84 tasks      | elapsed:    0.2s\n",
      "[Parallel(n_jobs=-7)]: Done 760 tasks      | elapsed:    1.8s\n",
      "[Parallel(n_jobs=-7)]: Done 1787 tasks      | elapsed:    4.8s\n",
      "[Parallel(n_jobs=-7)]: Done 1845 out of 1960 | elapsed:    4.9s remaining:    0.2s\n",
      "[Parallel(n_jobs=-7)]: Done 1960 out of 1960 | elapsed:    5.8s finished\n"
     ]
    },
    {
     "name": "stdout",
     "output_type": "stream",
     "text": [
      "Fitting 10 folds for each of 196 candidates, totalling 1960 fits\n"
     ]
    },
    {
     "name": "stderr",
     "output_type": "stream",
     "text": [
      "[Parallel(n_jobs=-7)]: Using backend LokyBackend with 58 concurrent workers.\n",
      "[Parallel(n_jobs=-7)]: Done  84 tasks      | elapsed:    0.2s\n",
      "[Parallel(n_jobs=-7)]: Done 764 tasks      | elapsed:    1.7s\n",
      "[Parallel(n_jobs=-7)]: Done 1781 tasks      | elapsed:    4.8s\n",
      "[Parallel(n_jobs=-7)]: Done 1845 out of 1960 | elapsed:    4.9s remaining:    0.2s\n",
      "[Parallel(n_jobs=-7)]: Done 1960 out of 1960 | elapsed:    5.8s finished\n"
     ]
    },
    {
     "name": "stdout",
     "output_type": "stream",
     "text": [
      "Fitting 10 folds for each of 196 candidates, totalling 1960 fits\n"
     ]
    },
    {
     "name": "stderr",
     "output_type": "stream",
     "text": [
      "[Parallel(n_jobs=-7)]: Using backend LokyBackend with 58 concurrent workers.\n",
      "[Parallel(n_jobs=-7)]: Done  84 tasks      | elapsed:    0.2s\n",
      "[Parallel(n_jobs=-7)]: Done 760 tasks      | elapsed:    1.7s\n",
      "[Parallel(n_jobs=-7)]: Done 1787 tasks      | elapsed:    4.8s\n",
      "[Parallel(n_jobs=-7)]: Done 1845 out of 1960 | elapsed:    4.9s remaining:    0.2s\n",
      "[Parallel(n_jobs=-7)]: Done 1960 out of 1960 | elapsed:    5.8s finished\n",
      "[Parallel(n_jobs=-7)]: Using backend LokyBackend with 58 concurrent workers.\n"
     ]
    },
    {
     "name": "stdout",
     "output_type": "stream",
     "text": [
      "Fitting 10 folds for each of 196 candidates, totalling 1960 fits\n"
     ]
    },
    {
     "name": "stderr",
     "output_type": "stream",
     "text": [
      "[Parallel(n_jobs=-7)]: Done  84 tasks      | elapsed:    0.2s\n",
      "[Parallel(n_jobs=-7)]: Done 762 tasks      | elapsed:    1.7s\n",
      "[Parallel(n_jobs=-7)]: Done 1787 tasks      | elapsed:    4.8s\n",
      "[Parallel(n_jobs=-7)]: Done 1845 out of 1960 | elapsed:    4.9s remaining:    0.2s\n",
      "[Parallel(n_jobs=-7)]: Done 1960 out of 1960 | elapsed:    5.8s finished\n"
     ]
    },
    {
     "name": "stdout",
     "output_type": "stream",
     "text": [
      "Fitting 10 folds for each of 196 candidates, totalling 1960 fits\n"
     ]
    },
    {
     "name": "stderr",
     "output_type": "stream",
     "text": [
      "[Parallel(n_jobs=-7)]: Using backend LokyBackend with 58 concurrent workers.\n",
      "[Parallel(n_jobs=-7)]: Done  84 tasks      | elapsed:    0.2s\n",
      "[Parallel(n_jobs=-7)]: Done 762 tasks      | elapsed:    1.8s\n",
      "[Parallel(n_jobs=-7)]: Done 1781 tasks      | elapsed:    4.9s\n",
      "[Parallel(n_jobs=-7)]: Done 1845 out of 1960 | elapsed:    5.0s remaining:    0.2s\n",
      "[Parallel(n_jobs=-7)]: Done 1960 out of 1960 | elapsed:    5.9s finished\n",
      "[Parallel(n_jobs=-7)]: Using backend LokyBackend with 58 concurrent workers.\n"
     ]
    },
    {
     "name": "stdout",
     "output_type": "stream",
     "text": [
      "Fitting 10 folds for each of 196 candidates, totalling 1960 fits\n"
     ]
    },
    {
     "name": "stderr",
     "output_type": "stream",
     "text": [
      "[Parallel(n_jobs=-7)]: Done  84 tasks      | elapsed:    0.2s\n",
      "[Parallel(n_jobs=-7)]: Done 762 tasks      | elapsed:    1.8s\n",
      "[Parallel(n_jobs=-7)]: Done 1790 tasks      | elapsed:    4.8s\n",
      "[Parallel(n_jobs=-7)]: Done 1960 out of 1960 | elapsed:    5.9s finished\n",
      "[Parallel(n_jobs=-7)]: Using backend LokyBackend with 58 concurrent workers.\n"
     ]
    },
    {
     "name": "stdout",
     "output_type": "stream",
     "text": [
      "Fitting 10 folds for each of 196 candidates, totalling 1960 fits\n"
     ]
    },
    {
     "name": "stderr",
     "output_type": "stream",
     "text": [
      "[Parallel(n_jobs=-7)]: Done  84 tasks      | elapsed:    0.2s\n",
      "[Parallel(n_jobs=-7)]: Done 762 tasks      | elapsed:    1.8s\n",
      "[Parallel(n_jobs=-7)]: Done 1784 tasks      | elapsed:    4.8s\n",
      "[Parallel(n_jobs=-7)]: Done 1960 out of 1960 | elapsed:    5.9s finished\n"
     ]
    },
    {
     "name": "stdout",
     "output_type": "stream",
     "text": [
      "Fitting 10 folds for each of 196 candidates, totalling 1960 fits\n"
     ]
    },
    {
     "name": "stderr",
     "output_type": "stream",
     "text": [
      "[Parallel(n_jobs=-7)]: Using backend LokyBackend with 58 concurrent workers.\n",
      "[Parallel(n_jobs=-7)]: Done  84 tasks      | elapsed:    0.2s\n",
      "[Parallel(n_jobs=-7)]: Done 762 tasks      | elapsed:    1.8s\n",
      "[Parallel(n_jobs=-7)]: Done 1787 tasks      | elapsed:    4.8s\n",
      "[Parallel(n_jobs=-7)]: Done 1845 out of 1960 | elapsed:    4.9s remaining:    0.2s\n",
      "[Parallel(n_jobs=-7)]: Done 1960 out of 1960 | elapsed:    5.8s finished\n",
      "[Parallel(n_jobs=-7)]: Using backend LokyBackend with 58 concurrent workers.\n"
     ]
    },
    {
     "name": "stdout",
     "output_type": "stream",
     "text": [
      "Fitting 10 folds for each of 196 candidates, totalling 1960 fits\n"
     ]
    },
    {
     "name": "stderr",
     "output_type": "stream",
     "text": [
      "[Parallel(n_jobs=-7)]: Done  84 tasks      | elapsed:    0.2s\n",
      "[Parallel(n_jobs=-7)]: Done 764 tasks      | elapsed:    1.8s\n",
      "[Parallel(n_jobs=-7)]: Done 1781 tasks      | elapsed:    4.8s\n",
      "[Parallel(n_jobs=-7)]: Done 1845 out of 1960 | elapsed:    5.0s remaining:    0.2s\n",
      "[Parallel(n_jobs=-7)]: Done 1960 out of 1960 | elapsed:    5.8s finished\n",
      "[Parallel(n_jobs=-7)]: Using backend LokyBackend with 58 concurrent workers.\n"
     ]
    },
    {
     "name": "stdout",
     "output_type": "stream",
     "text": [
      "Fitting 10 folds for each of 196 candidates, totalling 1960 fits\n"
     ]
    },
    {
     "name": "stderr",
     "output_type": "stream",
     "text": [
      "[Parallel(n_jobs=-7)]: Done  84 tasks      | elapsed:    0.3s\n",
      "[Parallel(n_jobs=-7)]: Done 552 tasks      | elapsed:    1.3s\n",
      "[Parallel(n_jobs=-7)]: Done 1252 tasks      | elapsed:    3.3s\n",
      "[Parallel(n_jobs=-7)]: Done 1845 out of 1960 | elapsed:    5.0s remaining:    0.2s\n",
      "[Parallel(n_jobs=-7)]: Done 1960 out of 1960 | elapsed:    5.6s finished\n",
      "[Parallel(n_jobs=-7)]: Using backend LokyBackend with 58 concurrent workers.\n"
     ]
    },
    {
     "name": "stdout",
     "output_type": "stream",
     "text": [
      "Fitting 10 folds for each of 196 candidates, totalling 1960 fits\n"
     ]
    },
    {
     "name": "stderr",
     "output_type": "stream",
     "text": [
      "[Parallel(n_jobs=-7)]: Done  84 tasks      | elapsed:    0.2s\n",
      "[Parallel(n_jobs=-7)]: Done 760 tasks      | elapsed:    1.8s\n",
      "[Parallel(n_jobs=-7)]: Done 1781 tasks      | elapsed:    4.9s\n",
      "[Parallel(n_jobs=-7)]: Done 1845 out of 1960 | elapsed:    5.0s remaining:    0.2s\n",
      "[Parallel(n_jobs=-7)]: Done 1960 out of 1960 | elapsed:    5.9s finished\n",
      "[Parallel(n_jobs=-7)]: Using backend LokyBackend with 58 concurrent workers.\n"
     ]
    },
    {
     "name": "stdout",
     "output_type": "stream",
     "text": [
      "Fitting 10 folds for each of 196 candidates, totalling 1960 fits\n"
     ]
    },
    {
     "name": "stderr",
     "output_type": "stream",
     "text": [
      "[Parallel(n_jobs=-7)]: Done  84 tasks      | elapsed:    0.2s\n",
      "[Parallel(n_jobs=-7)]: Done 764 tasks      | elapsed:    1.8s\n",
      "[Parallel(n_jobs=-7)]: Done 1781 tasks      | elapsed:    4.8s\n",
      "[Parallel(n_jobs=-7)]: Done 1845 out of 1960 | elapsed:    5.0s remaining:    0.2s\n",
      "[Parallel(n_jobs=-7)]: Done 1960 out of 1960 | elapsed:    5.9s finished\n",
      "[Parallel(n_jobs=-7)]: Using backend LokyBackend with 58 concurrent workers.\n"
     ]
    },
    {
     "name": "stdout",
     "output_type": "stream",
     "text": [
      "Fitting 10 folds for each of 196 candidates, totalling 1960 fits\n"
     ]
    },
    {
     "name": "stderr",
     "output_type": "stream",
     "text": [
      "[Parallel(n_jobs=-7)]: Done  84 tasks      | elapsed:    0.2s\n",
      "[Parallel(n_jobs=-7)]: Done 764 tasks      | elapsed:    1.8s\n",
      "[Parallel(n_jobs=-7)]: Done 1784 tasks      | elapsed:    4.9s\n",
      "[Parallel(n_jobs=-7)]: Done 1845 out of 1960 | elapsed:    5.0s remaining:    0.2s\n",
      "[Parallel(n_jobs=-7)]: Done 1960 out of 1960 | elapsed:    5.9s finished\n"
     ]
    },
    {
     "name": "stdout",
     "output_type": "stream",
     "text": [
      "Fitting 10 folds for each of 196 candidates, totalling 1960 fits\n"
     ]
    },
    {
     "name": "stderr",
     "output_type": "stream",
     "text": [
      "[Parallel(n_jobs=-7)]: Using backend LokyBackend with 58 concurrent workers.\n",
      "[Parallel(n_jobs=-7)]: Done  84 tasks      | elapsed:    0.2s\n",
      "[Parallel(n_jobs=-7)]: Done 764 tasks      | elapsed:    1.8s\n",
      "[Parallel(n_jobs=-7)]: Done 1781 tasks      | elapsed:    4.8s\n",
      "[Parallel(n_jobs=-7)]: Done 1845 out of 1960 | elapsed:    5.0s remaining:    0.2s\n",
      "[Parallel(n_jobs=-7)]: Done 1960 out of 1960 | elapsed:    5.9s finished\n",
      "[Parallel(n_jobs=-7)]: Using backend LokyBackend with 58 concurrent workers.\n"
     ]
    },
    {
     "name": "stdout",
     "output_type": "stream",
     "text": [
      "Fitting 10 folds for each of 196 candidates, totalling 1960 fits\n"
     ]
    },
    {
     "name": "stderr",
     "output_type": "stream",
     "text": [
      "[Parallel(n_jobs=-7)]: Done  84 tasks      | elapsed:    0.2s\n",
      "[Parallel(n_jobs=-7)]: Done 764 tasks      | elapsed:    1.9s\n",
      "[Parallel(n_jobs=-7)]: Done 1787 tasks      | elapsed:    5.0s\n",
      "[Parallel(n_jobs=-7)]: Done 1845 out of 1960 | elapsed:    5.1s remaining:    0.2s\n",
      "[Parallel(n_jobs=-7)]: Done 1960 out of 1960 | elapsed:    6.0s finished\n",
      "[Parallel(n_jobs=-7)]: Using backend LokyBackend with 58 concurrent workers.\n"
     ]
    },
    {
     "name": "stdout",
     "output_type": "stream",
     "text": [
      "Fitting 10 folds for each of 196 candidates, totalling 1960 fits\n"
     ]
    },
    {
     "name": "stderr",
     "output_type": "stream",
     "text": [
      "[Parallel(n_jobs=-7)]: Done  84 tasks      | elapsed:    0.2s\n",
      "[Parallel(n_jobs=-7)]: Done 764 tasks      | elapsed:    1.8s\n",
      "[Parallel(n_jobs=-7)]: Done 1790 tasks      | elapsed:    4.9s\n",
      "[Parallel(n_jobs=-7)]: Done 1845 out of 1960 | elapsed:    5.0s remaining:    0.2s\n",
      "[Parallel(n_jobs=-7)]: Done 1960 out of 1960 | elapsed:    6.0s finished\n",
      "[Parallel(n_jobs=-7)]: Using backend LokyBackend with 58 concurrent workers.\n"
     ]
    },
    {
     "name": "stdout",
     "output_type": "stream",
     "text": [
      "Fitting 10 folds for each of 196 candidates, totalling 1960 fits\n"
     ]
    },
    {
     "name": "stderr",
     "output_type": "stream",
     "text": [
      "[Parallel(n_jobs=-7)]: Done  84 tasks      | elapsed:    0.2s\n",
      "[Parallel(n_jobs=-7)]: Done 764 tasks      | elapsed:    1.8s\n",
      "[Parallel(n_jobs=-7)]: Done 1790 tasks      | elapsed:    5.0s\n",
      "[Parallel(n_jobs=-7)]: Done 1845 out of 1960 | elapsed:    5.1s remaining:    0.2s\n",
      "[Parallel(n_jobs=-7)]: Done 1960 out of 1960 | elapsed:    6.1s finished\n",
      "[Parallel(n_jobs=-7)]: Using backend LokyBackend with 58 concurrent workers.\n"
     ]
    },
    {
     "name": "stdout",
     "output_type": "stream",
     "text": [
      "Fitting 10 folds for each of 196 candidates, totalling 1960 fits\n"
     ]
    },
    {
     "name": "stderr",
     "output_type": "stream",
     "text": [
      "[Parallel(n_jobs=-7)]: Done  84 tasks      | elapsed:    0.2s\n",
      "[Parallel(n_jobs=-7)]: Done 762 tasks      | elapsed:    1.8s\n",
      "[Parallel(n_jobs=-7)]: Done 1781 tasks      | elapsed:    5.0s\n",
      "[Parallel(n_jobs=-7)]: Done 1960 out of 1960 | elapsed:    6.1s finished\n",
      "[Parallel(n_jobs=-7)]: Using backend LokyBackend with 58 concurrent workers.\n"
     ]
    },
    {
     "name": "stdout",
     "output_type": "stream",
     "text": [
      "Fitting 10 folds for each of 196 candidates, totalling 1960 fits\n"
     ]
    },
    {
     "name": "stderr",
     "output_type": "stream",
     "text": [
      "[Parallel(n_jobs=-7)]: Done  84 tasks      | elapsed:    0.2s\n",
      "[Parallel(n_jobs=-7)]: Done 762 tasks      | elapsed:    1.8s\n",
      "[Parallel(n_jobs=-7)]: Done 1778 tasks      | elapsed:    4.9s\n",
      "[Parallel(n_jobs=-7)]: Done 1845 out of 1960 | elapsed:    5.0s remaining:    0.2s\n",
      "[Parallel(n_jobs=-7)]: Done 1960 out of 1960 | elapsed:    5.9s finished\n",
      "[Parallel(n_jobs=-7)]: Using backend LokyBackend with 58 concurrent workers.\n"
     ]
    },
    {
     "name": "stdout",
     "output_type": "stream",
     "text": [
      "Fitting 10 folds for each of 196 candidates, totalling 1960 fits\n"
     ]
    },
    {
     "name": "stderr",
     "output_type": "stream",
     "text": [
      "[Parallel(n_jobs=-7)]: Done  84 tasks      | elapsed:    0.2s\n",
      "[Parallel(n_jobs=-7)]: Done 760 tasks      | elapsed:    1.8s\n",
      "[Parallel(n_jobs=-7)]: Done 1793 tasks      | elapsed:    4.9s\n",
      "[Parallel(n_jobs=-7)]: Done 1960 out of 1960 | elapsed:    6.0s finished\n",
      "[Parallel(n_jobs=-7)]: Using backend LokyBackend with 58 concurrent workers.\n"
     ]
    },
    {
     "name": "stdout",
     "output_type": "stream",
     "text": [
      "Fitting 10 folds for each of 196 candidates, totalling 1960 fits\n"
     ]
    },
    {
     "name": "stderr",
     "output_type": "stream",
     "text": [
      "[Parallel(n_jobs=-7)]: Done  84 tasks      | elapsed:    0.2s\n",
      "[Parallel(n_jobs=-7)]: Done 758 tasks      | elapsed:    1.8s\n",
      "[Parallel(n_jobs=-7)]: Done 1787 tasks      | elapsed:    4.9s\n",
      "[Parallel(n_jobs=-7)]: Done 1845 out of 1960 | elapsed:    5.0s remaining:    0.2s\n",
      "[Parallel(n_jobs=-7)]: Done 1960 out of 1960 | elapsed:    5.9s finished\n"
     ]
    },
    {
     "name": "stdout",
     "output_type": "stream",
     "text": [
      "Fitting 10 folds for each of 196 candidates, totalling 1960 fits\n"
     ]
    },
    {
     "name": "stderr",
     "output_type": "stream",
     "text": [
      "[Parallel(n_jobs=-7)]: Using backend LokyBackend with 58 concurrent workers.\n",
      "[Parallel(n_jobs=-7)]: Done  84 tasks      | elapsed:    0.2s\n",
      "[Parallel(n_jobs=-7)]: Done 762 tasks      | elapsed:    1.8s\n",
      "[Parallel(n_jobs=-7)]: Done 1784 tasks      | elapsed:    4.9s\n",
      "[Parallel(n_jobs=-7)]: Done 1845 out of 1960 | elapsed:    5.0s remaining:    0.2s\n",
      "[Parallel(n_jobs=-7)]: Done 1960 out of 1960 | elapsed:    5.9s finished\n",
      "[Parallel(n_jobs=-7)]: Using backend LokyBackend with 58 concurrent workers.\n"
     ]
    },
    {
     "name": "stdout",
     "output_type": "stream",
     "text": [
      "Fitting 10 folds for each of 196 candidates, totalling 1960 fits\n"
     ]
    },
    {
     "name": "stderr",
     "output_type": "stream",
     "text": [
      "[Parallel(n_jobs=-7)]: Done  84 tasks      | elapsed:    0.3s\n",
      "[Parallel(n_jobs=-7)]: Done 762 tasks      | elapsed:    1.8s\n",
      "[Parallel(n_jobs=-7)]: Done 1781 tasks      | elapsed:    4.9s\n",
      "[Parallel(n_jobs=-7)]: Done 1845 out of 1960 | elapsed:    5.0s remaining:    0.2s\n",
      "[Parallel(n_jobs=-7)]: Done 1960 out of 1960 | elapsed:    6.0s finished\n",
      "[Parallel(n_jobs=-7)]: Using backend LokyBackend with 58 concurrent workers.\n"
     ]
    },
    {
     "name": "stdout",
     "output_type": "stream",
     "text": [
      "Fitting 10 folds for each of 196 candidates, totalling 1960 fits\n"
     ]
    },
    {
     "name": "stderr",
     "output_type": "stream",
     "text": [
      "[Parallel(n_jobs=-7)]: Done  84 tasks      | elapsed:    0.2s\n",
      "[Parallel(n_jobs=-7)]: Done 762 tasks      | elapsed:    1.8s\n",
      "[Parallel(n_jobs=-7)]: Done 1787 tasks      | elapsed:    5.0s\n",
      "[Parallel(n_jobs=-7)]: Done 1845 out of 1960 | elapsed:    5.1s remaining:    0.2s\n",
      "[Parallel(n_jobs=-7)]: Done 1960 out of 1960 | elapsed:    6.1s finished\n",
      "[Parallel(n_jobs=-7)]: Using backend LokyBackend with 58 concurrent workers.\n"
     ]
    },
    {
     "name": "stdout",
     "output_type": "stream",
     "text": [
      "Fitting 10 folds for each of 196 candidates, totalling 1960 fits\n"
     ]
    },
    {
     "name": "stderr",
     "output_type": "stream",
     "text": [
      "[Parallel(n_jobs=-7)]: Done  84 tasks      | elapsed:    0.2s\n",
      "[Parallel(n_jobs=-7)]: Done 762 tasks      | elapsed:    1.8s\n",
      "[Parallel(n_jobs=-7)]: Done 1784 tasks      | elapsed:    5.0s\n",
      "[Parallel(n_jobs=-7)]: Done 1960 out of 1960 | elapsed:    6.1s finished\n"
     ]
    },
    {
     "name": "stdout",
     "output_type": "stream",
     "text": [
      "Fitting 10 folds for each of 196 candidates, totalling 1960 fits\n"
     ]
    },
    {
     "name": "stderr",
     "output_type": "stream",
     "text": [
      "[Parallel(n_jobs=-7)]: Using backend LokyBackend with 58 concurrent workers.\n",
      "[Parallel(n_jobs=-7)]: Done  84 tasks      | elapsed:    0.2s\n",
      "[Parallel(n_jobs=-7)]: Done 762 tasks      | elapsed:    1.8s\n",
      "[Parallel(n_jobs=-7)]: Done 1787 tasks      | elapsed:    4.9s\n",
      "[Parallel(n_jobs=-7)]: Done 1845 out of 1960 | elapsed:    5.0s remaining:    0.2s\n",
      "[Parallel(n_jobs=-7)]: Done 1960 out of 1960 | elapsed:    5.9s finished\n",
      "[Parallel(n_jobs=-7)]: Using backend LokyBackend with 58 concurrent workers.\n"
     ]
    },
    {
     "name": "stdout",
     "output_type": "stream",
     "text": [
      "Fitting 10 folds for each of 196 candidates, totalling 1960 fits\n"
     ]
    },
    {
     "name": "stderr",
     "output_type": "stream",
     "text": [
      "[Parallel(n_jobs=-7)]: Done  84 tasks      | elapsed:    0.2s\n",
      "[Parallel(n_jobs=-7)]: Done 762 tasks      | elapsed:    1.8s\n",
      "[Parallel(n_jobs=-7)]: Done 1787 tasks      | elapsed:    4.9s\n",
      "[Parallel(n_jobs=-7)]: Done 1960 out of 1960 | elapsed:    6.0s finished\n",
      "[Parallel(n_jobs=-7)]: Using backend LokyBackend with 58 concurrent workers.\n"
     ]
    },
    {
     "name": "stdout",
     "output_type": "stream",
     "text": [
      "Fitting 10 folds for each of 196 candidates, totalling 1960 fits\n"
     ]
    },
    {
     "name": "stderr",
     "output_type": "stream",
     "text": [
      "[Parallel(n_jobs=-7)]: Done  84 tasks      | elapsed:    0.2s\n",
      "[Parallel(n_jobs=-7)]: Done 762 tasks      | elapsed:    1.8s\n",
      "[Parallel(n_jobs=-7)]: Done 1793 tasks      | elapsed:    4.9s\n",
      "[Parallel(n_jobs=-7)]: Done 1845 out of 1960 | elapsed:    5.0s remaining:    0.2s\n",
      "[Parallel(n_jobs=-7)]: Done 1960 out of 1960 | elapsed:    6.0s finished\n"
     ]
    },
    {
     "name": "stdout",
     "output_type": "stream",
     "text": [
      "Fitting 10 folds for each of 196 candidates, totalling 1960 fits\n"
     ]
    },
    {
     "name": "stderr",
     "output_type": "stream",
     "text": [
      "[Parallel(n_jobs=-7)]: Using backend LokyBackend with 58 concurrent workers.\n",
      "[Parallel(n_jobs=-7)]: Done  84 tasks      | elapsed:    0.2s\n",
      "[Parallel(n_jobs=-7)]: Done 764 tasks      | elapsed:    1.8s\n",
      "[Parallel(n_jobs=-7)]: Done 1784 tasks      | elapsed:    4.9s\n",
      "[Parallel(n_jobs=-7)]: Done 1845 out of 1960 | elapsed:    5.1s remaining:    0.2s\n",
      "[Parallel(n_jobs=-7)]: Done 1960 out of 1960 | elapsed:    6.0s finished\n"
     ]
    },
    {
     "name": "stdout",
     "output_type": "stream",
     "text": [
      "Fitting 10 folds for each of 196 candidates, totalling 1960 fits\n"
     ]
    },
    {
     "name": "stderr",
     "output_type": "stream",
     "text": [
      "[Parallel(n_jobs=-7)]: Using backend LokyBackend with 58 concurrent workers.\n",
      "[Parallel(n_jobs=-7)]: Done  84 tasks      | elapsed:    0.2s\n",
      "[Parallel(n_jobs=-7)]: Done 764 tasks      | elapsed:    1.8s\n",
      "[Parallel(n_jobs=-7)]: Done 1784 tasks      | elapsed:    4.9s\n",
      "[Parallel(n_jobs=-7)]: Done 1845 out of 1960 | elapsed:    5.0s remaining:    0.2s\n",
      "[Parallel(n_jobs=-7)]: Done 1960 out of 1960 | elapsed:    6.0s finished\n",
      "[Parallel(n_jobs=-7)]: Using backend LokyBackend with 58 concurrent workers.\n"
     ]
    },
    {
     "name": "stdout",
     "output_type": "stream",
     "text": [
      "Fitting 10 folds for each of 196 candidates, totalling 1960 fits\n"
     ]
    },
    {
     "name": "stderr",
     "output_type": "stream",
     "text": [
      "[Parallel(n_jobs=-7)]: Done  84 tasks      | elapsed:    0.2s\n",
      "[Parallel(n_jobs=-7)]: Done 762 tasks      | elapsed:    1.8s\n",
      "[Parallel(n_jobs=-7)]: Done 1784 tasks      | elapsed:    4.9s\n",
      "[Parallel(n_jobs=-7)]: Done 1845 out of 1960 | elapsed:    5.1s remaining:    0.2s\n",
      "[Parallel(n_jobs=-7)]: Done 1960 out of 1960 | elapsed:    5.9s finished\n",
      "[Parallel(n_jobs=-7)]: Using backend LokyBackend with 58 concurrent workers.\n"
     ]
    },
    {
     "name": "stdout",
     "output_type": "stream",
     "text": [
      "Fitting 10 folds for each of 196 candidates, totalling 1960 fits\n"
     ]
    },
    {
     "name": "stderr",
     "output_type": "stream",
     "text": [
      "[Parallel(n_jobs=-7)]: Done  84 tasks      | elapsed:    0.2s\n",
      "[Parallel(n_jobs=-7)]: Done 764 tasks      | elapsed:    1.8s\n",
      "[Parallel(n_jobs=-7)]: Done 1784 tasks      | elapsed:    4.9s\n",
      "[Parallel(n_jobs=-7)]: Done 1960 out of 1960 | elapsed:    6.0s finished\n",
      "[Parallel(n_jobs=-7)]: Using backend LokyBackend with 58 concurrent workers.\n"
     ]
    },
    {
     "name": "stdout",
     "output_type": "stream",
     "text": [
      "Fitting 10 folds for each of 196 candidates, totalling 1960 fits\n"
     ]
    },
    {
     "name": "stderr",
     "output_type": "stream",
     "text": [
      "[Parallel(n_jobs=-7)]: Done  84 tasks      | elapsed:    0.2s\n",
      "[Parallel(n_jobs=-7)]: Done 760 tasks      | elapsed:    1.8s\n",
      "[Parallel(n_jobs=-7)]: Done 1784 tasks      | elapsed:    4.9s\n",
      "[Parallel(n_jobs=-7)]: Done 1960 out of 1960 | elapsed:    6.0s finished\n",
      "[Parallel(n_jobs=-7)]: Using backend LokyBackend with 58 concurrent workers.\n"
     ]
    },
    {
     "name": "stdout",
     "output_type": "stream",
     "text": [
      "Fitting 10 folds for each of 196 candidates, totalling 1960 fits\n"
     ]
    },
    {
     "name": "stderr",
     "output_type": "stream",
     "text": [
      "[Parallel(n_jobs=-7)]: Done  84 tasks      | elapsed:    0.2s\n",
      "[Parallel(n_jobs=-7)]: Done 762 tasks      | elapsed:    1.9s\n",
      "[Parallel(n_jobs=-7)]: Done 1790 tasks      | elapsed:    5.1s\n",
      "[Parallel(n_jobs=-7)]: Done 1845 out of 1960 | elapsed:    5.2s remaining:    0.2s\n",
      "[Parallel(n_jobs=-7)]: Done 1960 out of 1960 | elapsed:    6.2s finished\n",
      "[Parallel(n_jobs=-7)]: Using backend LokyBackend with 58 concurrent workers.\n"
     ]
    },
    {
     "name": "stdout",
     "output_type": "stream",
     "text": [
      "Fitting 10 folds for each of 196 candidates, totalling 1960 fits\n"
     ]
    },
    {
     "name": "stderr",
     "output_type": "stream",
     "text": [
      "[Parallel(n_jobs=-7)]: Done  84 tasks      | elapsed:    0.2s\n",
      "[Parallel(n_jobs=-7)]: Done 762 tasks      | elapsed:    1.8s\n",
      "[Parallel(n_jobs=-7)]: Done 1787 tasks      | elapsed:    5.0s\n",
      "[Parallel(n_jobs=-7)]: Done 1845 out of 1960 | elapsed:    5.1s remaining:    0.2s\n",
      "[Parallel(n_jobs=-7)]: Done 1960 out of 1960 | elapsed:    6.1s finished\n",
      "[Parallel(n_jobs=-7)]: Using backend LokyBackend with 58 concurrent workers.\n"
     ]
    },
    {
     "name": "stdout",
     "output_type": "stream",
     "text": [
      "Fitting 10 folds for each of 196 candidates, totalling 1960 fits\n"
     ]
    },
    {
     "name": "stderr",
     "output_type": "stream",
     "text": [
      "[Parallel(n_jobs=-7)]: Done  84 tasks      | elapsed:    0.3s\n",
      "[Parallel(n_jobs=-7)]: Done 760 tasks      | elapsed:    1.9s\n",
      "[Parallel(n_jobs=-7)]: Done 1790 tasks      | elapsed:    5.0s\n",
      "[Parallel(n_jobs=-7)]: Done 1845 out of 1960 | elapsed:    5.2s remaining:    0.2s\n",
      "[Parallel(n_jobs=-7)]: Done 1960 out of 1960 | elapsed:    6.2s finished\n"
     ]
    },
    {
     "name": "stdout",
     "output_type": "stream",
     "text": [
      "Fitting 10 folds for each of 196 candidates, totalling 1960 fits\n"
     ]
    },
    {
     "name": "stderr",
     "output_type": "stream",
     "text": [
      "[Parallel(n_jobs=-7)]: Using backend LokyBackend with 58 concurrent workers.\n",
      "[Parallel(n_jobs=-7)]: Done  84 tasks      | elapsed:    0.2s\n",
      "[Parallel(n_jobs=-7)]: Done 764 tasks      | elapsed:    1.8s\n",
      "[Parallel(n_jobs=-7)]: Done 1784 tasks      | elapsed:    5.0s\n",
      "[Parallel(n_jobs=-7)]: Done 1845 out of 1960 | elapsed:    5.1s remaining:    0.2s\n",
      "[Parallel(n_jobs=-7)]: Done 1960 out of 1960 | elapsed:    6.0s finished\n",
      "[Parallel(n_jobs=-7)]: Using backend LokyBackend with 58 concurrent workers.\n"
     ]
    },
    {
     "name": "stdout",
     "output_type": "stream",
     "text": [
      "Fitting 10 folds for each of 196 candidates, totalling 1960 fits\n"
     ]
    },
    {
     "name": "stderr",
     "output_type": "stream",
     "text": [
      "[Parallel(n_jobs=-7)]: Done  84 tasks      | elapsed:    0.2s\n",
      "[Parallel(n_jobs=-7)]: Done 762 tasks      | elapsed:    1.8s\n",
      "[Parallel(n_jobs=-7)]: Done 1787 tasks      | elapsed:    5.0s\n",
      "[Parallel(n_jobs=-7)]: Done 1845 out of 1960 | elapsed:    5.0s remaining:    0.2s\n",
      "[Parallel(n_jobs=-7)]: Done 1960 out of 1960 | elapsed:    6.0s finished\n",
      "[Parallel(n_jobs=-7)]: Using backend LokyBackend with 58 concurrent workers.\n"
     ]
    },
    {
     "name": "stdout",
     "output_type": "stream",
     "text": [
      "Fitting 10 folds for each of 196 candidates, totalling 1960 fits\n"
     ]
    },
    {
     "name": "stderr",
     "output_type": "stream",
     "text": [
      "[Parallel(n_jobs=-7)]: Done  84 tasks      | elapsed:    0.2s\n",
      "[Parallel(n_jobs=-7)]: Done 760 tasks      | elapsed:    1.8s\n",
      "[Parallel(n_jobs=-7)]: Done 1796 tasks      | elapsed:    5.0s\n",
      "[Parallel(n_jobs=-7)]: Done 1845 out of 1960 | elapsed:    5.1s remaining:    0.2s\n",
      "[Parallel(n_jobs=-7)]: Done 1960 out of 1960 | elapsed:    6.0s finished\n"
     ]
    },
    {
     "name": "stdout",
     "output_type": "stream",
     "text": [
      "Fitting 10 folds for each of 196 candidates, totalling 1960 fits\n"
     ]
    },
    {
     "name": "stderr",
     "output_type": "stream",
     "text": [
      "[Parallel(n_jobs=-7)]: Using backend LokyBackend with 58 concurrent workers.\n",
      "[Parallel(n_jobs=-7)]: Done  84 tasks      | elapsed:    0.2s\n",
      "[Parallel(n_jobs=-7)]: Done 762 tasks      | elapsed:    1.8s\n",
      "[Parallel(n_jobs=-7)]: Done 1781 tasks      | elapsed:    5.0s\n",
      "[Parallel(n_jobs=-7)]: Done 1845 out of 1960 | elapsed:    5.1s remaining:    0.2s\n",
      "[Parallel(n_jobs=-7)]: Done 1960 out of 1960 | elapsed:    6.0s finished\n"
     ]
    },
    {
     "name": "stdout",
     "output_type": "stream",
     "text": [
      "Fitting 10 folds for each of 196 candidates, totalling 1960 fits\n"
     ]
    },
    {
     "name": "stderr",
     "output_type": "stream",
     "text": [
      "[Parallel(n_jobs=-7)]: Using backend LokyBackend with 58 concurrent workers.\n",
      "[Parallel(n_jobs=-7)]: Done  84 tasks      | elapsed:    0.2s\n",
      "[Parallel(n_jobs=-7)]: Done 764 tasks      | elapsed:    1.8s\n",
      "[Parallel(n_jobs=-7)]: Done 1784 tasks      | elapsed:    5.0s\n",
      "[Parallel(n_jobs=-7)]: Done 1845 out of 1960 | elapsed:    5.1s remaining:    0.2s\n",
      "[Parallel(n_jobs=-7)]: Done 1960 out of 1960 | elapsed:    6.1s finished\n"
     ]
    }
   ],
   "source": [
    "alpha = 0\n",
    "t_delay = 5\n",
    "clm = np.arange(0,n_b-n1)\n",
    "\n",
    "\n",
    "#for k in range(n_a):\n",
    "for l in range (t_delay):\n",
    "    k = l + 6\n",
    "    ind = np.arange(0,n_b+k)\n",
    "    Pred_Beta = pd.DataFrame(index=ind, columns=clm)\n",
    "    for tt in range (n_b-n1-1):\n",
    "        x = env[0:n1-k+tt]\n",
    "        x_t = env[n1-k+tt:n1+tt+1]\n",
    "        y = beta.iloc[k:n1+tt,alpha]\n",
    "        X_train,X_test,Y_train,Y_test=train_test_split(x,y,test_size=0.0000001, random_state = 100)\n",
    "        gsr = RF_calc (X_train,Y_train)\n",
    "        y_t = gsr.predict(x_t)\n",
    "        Pred_Beta.iloc[n1+tt:n1+k+tt+1,tt] = y_t\n",
    "    a_file = 'beta_pred_' + str(k) + '.csv'\n",
    "    Pred_Beta.to_csv(a_file)"
   ]
  },
  {
   "cell_type": "code",
   "execution_count": 27,
   "metadata": {},
   "outputs": [
    {
     "data": {
      "text/html": [
       "<div>\n",
       "<style scoped>\n",
       "    .dataframe tbody tr th:only-of-type {\n",
       "        vertical-align: middle;\n",
       "    }\n",
       "\n",
       "    .dataframe tbody tr th {\n",
       "        vertical-align: top;\n",
       "    }\n",
       "\n",
       "    .dataframe thead th {\n",
       "        text-align: right;\n",
       "    }\n",
       "</style>\n",
       "<table border=\"1\" class=\"dataframe\">\n",
       "  <thead>\n",
       "    <tr style=\"text-align: right;\">\n",
       "      <th></th>\n",
       "      <th>retail_and_recreation</th>\n",
       "      <th>grocery_and_pharmacy</th>\n",
       "      <th>parks</th>\n",
       "      <th>transit_stations</th>\n",
       "      <th>workplaces</th>\n",
       "      <th>residential</th>\n",
       "      <th>Temp</th>\n",
       "      <th>Humidity</th>\n",
       "    </tr>\n",
       "  </thead>\n",
       "  <tbody>\n",
       "    <tr>\n",
       "      <th>351</th>\n",
       "      <td>-21.428571</td>\n",
       "      <td>-4.142857</td>\n",
       "      <td>-20.714286</td>\n",
       "      <td>-33.000000</td>\n",
       "      <td>-12.428571</td>\n",
       "      <td>7.285714</td>\n",
       "      <td>7.228571</td>\n",
       "      <td>51.142857</td>\n",
       "    </tr>\n",
       "    <tr>\n",
       "      <th>352</th>\n",
       "      <td>-21.571429</td>\n",
       "      <td>-4.285714</td>\n",
       "      <td>-19.857143</td>\n",
       "      <td>-32.857143</td>\n",
       "      <td>-12.714286</td>\n",
       "      <td>7.285714</td>\n",
       "      <td>7.871429</td>\n",
       "      <td>52.142857</td>\n",
       "    </tr>\n",
       "    <tr>\n",
       "      <th>353</th>\n",
       "      <td>-21.571429</td>\n",
       "      <td>-4.428571</td>\n",
       "      <td>-19.428571</td>\n",
       "      <td>-32.714286</td>\n",
       "      <td>-12.714286</td>\n",
       "      <td>7.285714</td>\n",
       "      <td>7.714286</td>\n",
       "      <td>49.857143</td>\n",
       "    </tr>\n",
       "    <tr>\n",
       "      <th>354</th>\n",
       "      <td>-21.571429</td>\n",
       "      <td>-5.571429</td>\n",
       "      <td>-18.571429</td>\n",
       "      <td>-32.571429</td>\n",
       "      <td>-12.714286</td>\n",
       "      <td>7.142857</td>\n",
       "      <td>7.128571</td>\n",
       "      <td>44.857143</td>\n",
       "    </tr>\n",
       "    <tr>\n",
       "      <th>355</th>\n",
       "      <td>-20.428571</td>\n",
       "      <td>-4.571429</td>\n",
       "      <td>-17.714286</td>\n",
       "      <td>-32.000000</td>\n",
       "      <td>-12.571429</td>\n",
       "      <td>6.857143</td>\n",
       "      <td>7.200000</td>\n",
       "      <td>45.714286</td>\n",
       "    </tr>\n",
       "    <tr>\n",
       "      <th>356</th>\n",
       "      <td>-17.428571</td>\n",
       "      <td>-3.714286</td>\n",
       "      <td>-13.571429</td>\n",
       "      <td>-34.285714</td>\n",
       "      <td>-18.714286</td>\n",
       "      <td>8.428571</td>\n",
       "      <td>7.442857</td>\n",
       "      <td>46.000000</td>\n",
       "    </tr>\n",
       "    <tr>\n",
       "      <th>357</th>\n",
       "      <td>-17.000000</td>\n",
       "      <td>-3.571429</td>\n",
       "      <td>-13.285714</td>\n",
       "      <td>-34.000000</td>\n",
       "      <td>-18.857143</td>\n",
       "      <td>8.428571</td>\n",
       "      <td>7.542857</td>\n",
       "      <td>46.428571</td>\n",
       "    </tr>\n",
       "  </tbody>\n",
       "</table>\n",
       "</div>"
      ],
      "text/plain": [
       "     retail_and_recreation  grocery_and_pharmacy      parks  transit_stations  \\\n",
       "351             -21.428571             -4.142857 -20.714286        -33.000000   \n",
       "352             -21.571429             -4.285714 -19.857143        -32.857143   \n",
       "353             -21.571429             -4.428571 -19.428571        -32.714286   \n",
       "354             -21.571429             -5.571429 -18.571429        -32.571429   \n",
       "355             -20.428571             -4.571429 -17.714286        -32.000000   \n",
       "356             -17.428571             -3.714286 -13.571429        -34.285714   \n",
       "357             -17.000000             -3.571429 -13.285714        -34.000000   \n",
       "\n",
       "     workplaces  residential      Temp   Humidity  \n",
       "351  -12.428571     7.285714  7.228571  51.142857  \n",
       "352  -12.714286     7.285714  7.871429  52.142857  \n",
       "353  -12.714286     7.285714  7.714286  49.857143  \n",
       "354  -12.714286     7.142857  7.128571  44.857143  \n",
       "355  -12.571429     6.857143  7.200000  45.714286  \n",
       "356  -18.714286     8.428571  7.442857  46.000000  \n",
       "357  -18.857143     8.428571  7.542857  46.428571  "
      ]
     },
     "execution_count": 27,
     "metadata": {},
     "output_type": "execute_result"
    }
   ],
   "source": [
    "Pred_Beta\n",
    "#n1+k+tt+1\n",
    "#tt\n",
    "#y_t\n",
    "env[n1-k+tt-1:n1+tt]"
   ]
  },
  {
   "cell_type": "code",
   "execution_count": 31,
   "metadata": {},
   "outputs": [],
   "source": [
    "n_a = 10\n",
    "t_delay = 20\n",
    "clm = np.arange(0,n_a)\n",
    "ind = np.arange(0,t_delay)\n",
    "Score = pd.DataFrame(index=ind, columns=clm)\n",
    "a = 'ahaah' + str(n_a) + '.csv'\n",
    "Score.to_csv(a)"
   ]
  },
  {
   "cell_type": "code",
   "execution_count": 16,
   "metadata": {},
   "outputs": [],
   "source": [
    "Score.to_csv(\"score.csv\")"
   ]
  },
  {
   "cell_type": "markdown",
   "metadata": {},
   "source": [
    "# Model construction"
   ]
  },
  {
   "cell_type": "code",
   "execution_count": 18,
   "metadata": {},
   "outputs": [
    {
     "name": "stdout",
     "output_type": "stream",
     "text": [
      "Fitting 10 folds for each of 1078 candidates, totalling 10780 fits\n"
     ]
    },
    {
     "name": "stderr",
     "output_type": "stream",
     "text": [
      "[Parallel(n_jobs=-7)]: Using backend LokyBackend with 58 concurrent workers.\n",
      "[Parallel(n_jobs=-7)]: Done  84 tasks      | elapsed:    0.2s\n",
      "[Parallel(n_jobs=-7)]: Done 756 tasks      | elapsed:    1.8s\n",
      "[Parallel(n_jobs=-7)]: Done 2156 tasks      | elapsed:    5.8s\n",
      "[Parallel(n_jobs=-7)]: Done 3125 tasks      | elapsed:    8.8s\n",
      "[Parallel(n_jobs=-7)]: Done 3714 tasks      | elapsed:   10.6s\n",
      "[Parallel(n_jobs=-7)]: Done 4364 tasks      | elapsed:   12.6s\n",
      "[Parallel(n_jobs=-7)]: Done 5114 tasks      | elapsed:   15.1s\n",
      "[Parallel(n_jobs=-7)]: Done 5964 tasks      | elapsed:   17.7s\n",
      "[Parallel(n_jobs=-7)]: Done 8026 tasks      | elapsed:   24.1s\n",
      "[Parallel(n_jobs=-7)]: Done 9124 tasks      | elapsed:   27.6s\n",
      "[Parallel(n_jobs=-7)]: Done 10274 tasks      | elapsed:   31.2s\n",
      "[Parallel(n_jobs=-7)]: Done 10780 out of 10780 | elapsed:   33.2s finished\n"
     ]
    },
    {
     "data": {
      "text/plain": [
       "\"\\nfilename1 = 'beta_pred94_10.sav'\\npickle.dump(gsr, open(filename1, 'wb'))\\n\""
      ]
     },
     "execution_count": 18,
     "metadata": {},
     "output_type": "execute_result"
    }
   ],
   "source": [
    "x =env.iloc[0:317,:]\n",
    "l = 5\n",
    "#k = (k_real-0.1)*1000\n",
    "y = beta.iloc[l:317+l,4]\n",
    "#X_train,X_test,Y_train,Y_test=train_test_split(x,y,test_size=0.0000000001, random_state=100)\n",
    "X_train,X_test,Y_train,Y_test=train_test_split(x,y,test_size=0.1) #, shuffle=False)\n",
    "\n",
    "search_params = {\n",
    "    'n_estimators'      : [5, 10, 20, 30, 50, 100, 300],\n",
    "    'max_features'      : [i for i in range(1, x.shape[1])],\n",
    "    'random_state'      : [3], #i for i in range(10)],\n",
    "    'n_jobs'            : [1],\n",
    "    'min_samples_split' : [5, 10],\n",
    "    'max_depth'         : [3, 4, 5, 10, 15, 20, 25, 30, 40, 50, 100]\n",
    "}\n",
    "\n",
    "\n",
    "\n",
    "\n",
    "\n",
    "gsr = GridSearchCV(\n",
    "    RFR(),\n",
    "    search_params,\n",
    "    cv = 10,\n",
    "    n_jobs = -7,\n",
    "    verbose=True\n",
    ")\n",
    "'''\n",
    "\n",
    "gsr = GridSearchCV(\n",
    "    RFR(),\n",
    "    search_params,\n",
    "    cv = LeaveOneOut(),\n",
    "    n_jobs = -7,\n",
    "    verbose=True\n",
    ")'''\n",
    "\n",
    "gsr.fit (X_train,Y_train)\n",
    "beta_tree=gsr.best_estimator_\n",
    "beta_score_train=gsr.best_score_\n",
    "k_score_test=gsr.best_estimator_.score(X_test,Y_test)\n",
    "beta_importances = gsr.best_estimator_.feature_importances_\n",
    "\n",
    "'''\n",
    "filename1 = 'beta_pred94_10.sav'\n",
    "pickle.dump(gsr, open(filename1, 'wb'))\n",
    "'''"
   ]
  },
  {
   "cell_type": "code",
   "execution_count": 19,
   "metadata": {},
   "outputs": [
    {
     "data": {
      "text/plain": [
       "RandomForestRegressor(max_depth=10, max_features=7, min_samples_split=5,\n",
       "                      n_estimators=20, n_jobs=1, random_state=3)"
      ]
     },
     "execution_count": 19,
     "metadata": {},
     "output_type": "execute_result"
    }
   ],
   "source": [
    "beta_score_train\n",
    "#X_test\n",
    "beta_tree"
   ]
  },
  {
   "cell_type": "code",
   "execution_count": 161,
   "metadata": {},
   "outputs": [
    {
     "data": {
      "text/plain": [
       "0.8103963789812547"
      ]
     },
     "execution_count": 161,
     "metadata": {},
     "output_type": "execute_result"
    }
   ],
   "source": [
    "k_score_test"
   ]
  },
  {
   "cell_type": "code",
   "execution_count": 147,
   "metadata": {},
   "outputs": [
    {
     "data": {
      "text/plain": [
       "0    0.182738\n",
       "1    0.138181\n",
       "2    0.055393\n",
       "3    0.242741\n",
       "4    0.119295\n",
       "5    0.060619\n",
       "6    0.127539\n",
       "7    0.073493\n",
       "dtype: float64"
      ]
     },
     "execution_count": 147,
     "metadata": {},
     "output_type": "execute_result"
    }
   ],
   "source": [
    "#beta_tree\n",
    "beta_score_train\n",
    "#beta_importances\n",
    "feature = pd.Series(beta_importances)\n",
    "feature.to_csv(\"feature94_10.csv\")\n",
    "feature"
   ]
  },
  {
   "cell_type": "code",
   "execution_count": 152,
   "metadata": {},
   "outputs": [
    {
     "data": {
      "text/plain": [
       "13     0.139475\n",
       "14     0.141065\n",
       "15     0.156519\n",
       "16     0.183390\n",
       "17     0.193036\n",
       "         ...   \n",
       "325    0.134025\n",
       "326    0.134363\n",
       "327    0.128853\n",
       "328    0.121444\n",
       "329    0.114287\n",
       "Name: 0.94, Length: 317, dtype: float64"
      ]
     },
     "execution_count": 152,
     "metadata": {},
     "output_type": "execute_result"
    }
   ],
   "source": [
    "#X_train,X_test,Y_train,Y_test=train_test_split(x,y,test_size=1,shuffle=False,random_state=100)\n",
    "#X_test\n",
    "#y = beta.iloc[l:317+l,400]\n",
    "#y\n",
    "beta_score_train\n",
    "y"
   ]
  },
  {
   "cell_type": "markdown",
   "metadata": {},
   "source": [
    "## Export feature importance"
   ]
  },
  {
   "cell_type": "code",
   "execution_count": 4,
   "metadata": {},
   "outputs": [],
   "source": [
    "feature1 = gsr1.best_estimator_.feature_importances_\n",
    "feature2 = gsr2.best_estimator_.feature_importances_\n",
    "feature3 = gsr3.best_estimator_.feature_importances_\n",
    "\n",
    "feature1 = pd.Series(feature1)\n",
    "feature2 = pd.Series(feature2)\n",
    "feature3 = pd.Series(feature3)\n",
    "\n",
    "feature1.to_csv(\"feature_dry200k.csv\")\n",
    "feature2.to_csv(\"feature_dry200t.csv\")\n",
    "feature3.to_csv(\"feature_dry200b.csv\")"
   ]
  },
  {
   "cell_type": "markdown",
   "metadata": {},
   "source": [
    "## Model loading"
   ]
  },
  {
   "cell_type": "code",
   "execution_count": 2,
   "metadata": {},
   "outputs": [],
   "source": [
    "filename1 = 'beta_pred.sav'\n",
    "gsr = pickle.load(open(filename1, 'rb'))"
   ]
  },
  {
   "cell_type": "code",
   "execution_count": 151,
   "metadata": {},
   "outputs": [],
   "source": [
    "env_test = pd.read_csv('env_test.csv')\n",
    "beta_calc = gsr.predict(env_test)\n",
    "beta_pred = pd.Series(beta_calc)\n",
    "beta_pred.to_csv(\"beta_pred94_10.csv\")"
   ]
  },
  {
   "cell_type": "code",
   "execution_count": 150,
   "metadata": {},
   "outputs": [],
   "source": [
    "filename1 = 'beta_pred94_10.sav'\n",
    "gsr = pickle.load(open(filename1, 'rb'))\n",
    "env_test = pd.read_csv('env_und.csv')\n",
    "beta_calc = gsr.predict(env_test)\n",
    "beta_pred = pd.Series(beta_calc)\n",
    "beta_pred.to_csv(\"beta_und94_10.csv\")"
   ]
  },
  {
   "cell_type": "code",
   "execution_count": 7,
   "metadata": {},
   "outputs": [
    {
     "data": {
      "text/html": [
       "<div>\n",
       "<style scoped>\n",
       "    .dataframe tbody tr th:only-of-type {\n",
       "        vertical-align: middle;\n",
       "    }\n",
       "\n",
       "    .dataframe tbody tr th {\n",
       "        vertical-align: top;\n",
       "    }\n",
       "\n",
       "    .dataframe thead th {\n",
       "        text-align: right;\n",
       "    }\n",
       "</style>\n",
       "<table border=\"1\" class=\"dataframe\">\n",
       "  <thead>\n",
       "    <tr style=\"text-align: right;\">\n",
       "      <th></th>\n",
       "      <th>Unnamed: 0</th>\n",
       "      <th>k</th>\n",
       "      <th>t</th>\n",
       "      <th>b</th>\n",
       "      <th>P1</th>\n",
       "      <th>P2</th>\n",
       "      <th>P3</th>\n",
       "      <th>P4</th>\n",
       "      <th>P5</th>\n",
       "      <th>P6</th>\n",
       "      <th>...</th>\n",
       "      <th>P14</th>\n",
       "      <th>P15</th>\n",
       "      <th>P16</th>\n",
       "      <th>P17</th>\n",
       "      <th>P18</th>\n",
       "      <th>P19</th>\n",
       "      <th>P20</th>\n",
       "      <th>P21</th>\n",
       "      <th>P22</th>\n",
       "      <th>P23</th>\n",
       "    </tr>\n",
       "  </thead>\n",
       "  <tbody>\n",
       "    <tr>\n",
       "      <th>0</th>\n",
       "      <td>0</td>\n",
       "      <td>0.026185</td>\n",
       "      <td>1.316963</td>\n",
       "      <td>1.339203</td>\n",
       "      <td>14.125</td>\n",
       "      <td>4.74</td>\n",
       "      <td>0.705</td>\n",
       "      <td>10.58</td>\n",
       "      <td>6.07</td>\n",
       "      <td>31.525</td>\n",
       "      <td>...</td>\n",
       "      <td>10</td>\n",
       "      <td>5</td>\n",
       "      <td>20</td>\n",
       "      <td>8</td>\n",
       "      <td>1</td>\n",
       "      <td>10</td>\n",
       "      <td>0.001</td>\n",
       "      <td>0.001</td>\n",
       "      <td>1</td>\n",
       "      <td>1</td>\n",
       "    </tr>\n",
       "    <tr>\n",
       "      <th>1</th>\n",
       "      <td>1</td>\n",
       "      <td>0.036916</td>\n",
       "      <td>1.089345</td>\n",
       "      <td>1.328006</td>\n",
       "      <td>13.825</td>\n",
       "      <td>10.78</td>\n",
       "      <td>1.525</td>\n",
       "      <td>9.14</td>\n",
       "      <td>6.13</td>\n",
       "      <td>24.775</td>\n",
       "      <td>...</td>\n",
       "      <td>10</td>\n",
       "      <td>5</td>\n",
       "      <td>20</td>\n",
       "      <td>8</td>\n",
       "      <td>1</td>\n",
       "      <td>10</td>\n",
       "      <td>0.001</td>\n",
       "      <td>0.001</td>\n",
       "      <td>1</td>\n",
       "      <td>1</td>\n",
       "    </tr>\n",
       "    <tr>\n",
       "      <th>2</th>\n",
       "      <td>2</td>\n",
       "      <td>0.043563</td>\n",
       "      <td>0.954186</td>\n",
       "      <td>1.334503</td>\n",
       "      <td>6.725</td>\n",
       "      <td>8.94</td>\n",
       "      <td>0.815</td>\n",
       "      <td>7.86</td>\n",
       "      <td>4.87</td>\n",
       "      <td>25.825</td>\n",
       "      <td>...</td>\n",
       "      <td>10</td>\n",
       "      <td>5</td>\n",
       "      <td>20</td>\n",
       "      <td>8</td>\n",
       "      <td>1</td>\n",
       "      <td>10</td>\n",
       "      <td>0.001</td>\n",
       "      <td>0.001</td>\n",
       "      <td>1</td>\n",
       "      <td>1</td>\n",
       "    </tr>\n",
       "    <tr>\n",
       "      <th>3</th>\n",
       "      <td>3</td>\n",
       "      <td>0.032852</td>\n",
       "      <td>1.167179</td>\n",
       "      <td>1.331784</td>\n",
       "      <td>14.075</td>\n",
       "      <td>6.94</td>\n",
       "      <td>0.785</td>\n",
       "      <td>4.02</td>\n",
       "      <td>4.11</td>\n",
       "      <td>38.575</td>\n",
       "      <td>...</td>\n",
       "      <td>10</td>\n",
       "      <td>5</td>\n",
       "      <td>20</td>\n",
       "      <td>8</td>\n",
       "      <td>1</td>\n",
       "      <td>10</td>\n",
       "      <td>0.001</td>\n",
       "      <td>0.001</td>\n",
       "      <td>1</td>\n",
       "      <td>1</td>\n",
       "    </tr>\n",
       "    <tr>\n",
       "      <th>4</th>\n",
       "      <td>4</td>\n",
       "      <td>0.036694</td>\n",
       "      <td>1.039365</td>\n",
       "      <td>1.342108</td>\n",
       "      <td>5.325</td>\n",
       "      <td>9.58</td>\n",
       "      <td>0.795</td>\n",
       "      <td>4.74</td>\n",
       "      <td>5.25</td>\n",
       "      <td>10.825</td>\n",
       "      <td>...</td>\n",
       "      <td>10</td>\n",
       "      <td>5</td>\n",
       "      <td>20</td>\n",
       "      <td>8</td>\n",
       "      <td>1</td>\n",
       "      <td>10</td>\n",
       "      <td>0.001</td>\n",
       "      <td>0.001</td>\n",
       "      <td>1</td>\n",
       "      <td>1</td>\n",
       "    </tr>\n",
       "    <tr>\n",
       "      <th>...</th>\n",
       "      <td>...</td>\n",
       "      <td>...</td>\n",
       "      <td>...</td>\n",
       "      <td>...</td>\n",
       "      <td>...</td>\n",
       "      <td>...</td>\n",
       "      <td>...</td>\n",
       "      <td>...</td>\n",
       "      <td>...</td>\n",
       "      <td>...</td>\n",
       "      <td>...</td>\n",
       "      <td>...</td>\n",
       "      <td>...</td>\n",
       "      <td>...</td>\n",
       "      <td>...</td>\n",
       "      <td>...</td>\n",
       "      <td>...</td>\n",
       "      <td>...</td>\n",
       "      <td>...</td>\n",
       "      <td>...</td>\n",
       "      <td>...</td>\n",
       "    </tr>\n",
       "    <tr>\n",
       "      <th>195</th>\n",
       "      <td>195</td>\n",
       "      <td>0.049254</td>\n",
       "      <td>0.977773</td>\n",
       "      <td>1.302841</td>\n",
       "      <td>11.525</td>\n",
       "      <td>9.14</td>\n",
       "      <td>0.295</td>\n",
       "      <td>4.22</td>\n",
       "      <td>4.25</td>\n",
       "      <td>21.175</td>\n",
       "      <td>...</td>\n",
       "      <td>10</td>\n",
       "      <td>5</td>\n",
       "      <td>20</td>\n",
       "      <td>8</td>\n",
       "      <td>1</td>\n",
       "      <td>10</td>\n",
       "      <td>0.001</td>\n",
       "      <td>0.001</td>\n",
       "      <td>1</td>\n",
       "      <td>1</td>\n",
       "    </tr>\n",
       "    <tr>\n",
       "      <th>196</th>\n",
       "      <td>196</td>\n",
       "      <td>0.040084</td>\n",
       "      <td>0.993736</td>\n",
       "      <td>1.340280</td>\n",
       "      <td>13.075</td>\n",
       "      <td>4.58</td>\n",
       "      <td>0.335</td>\n",
       "      <td>10.26</td>\n",
       "      <td>6.53</td>\n",
       "      <td>39.475</td>\n",
       "      <td>...</td>\n",
       "      <td>10</td>\n",
       "      <td>5</td>\n",
       "      <td>20</td>\n",
       "      <td>8</td>\n",
       "      <td>1</td>\n",
       "      <td>10</td>\n",
       "      <td>0.001</td>\n",
       "      <td>0.001</td>\n",
       "      <td>1</td>\n",
       "      <td>1</td>\n",
       "    </tr>\n",
       "    <tr>\n",
       "      <th>197</th>\n",
       "      <td>197</td>\n",
       "      <td>0.036645</td>\n",
       "      <td>1.089073</td>\n",
       "      <td>1.329779</td>\n",
       "      <td>13.325</td>\n",
       "      <td>11.10</td>\n",
       "      <td>0.545</td>\n",
       "      <td>4.34</td>\n",
       "      <td>6.95</td>\n",
       "      <td>25.075</td>\n",
       "      <td>...</td>\n",
       "      <td>10</td>\n",
       "      <td>5</td>\n",
       "      <td>20</td>\n",
       "      <td>8</td>\n",
       "      <td>1</td>\n",
       "      <td>10</td>\n",
       "      <td>0.001</td>\n",
       "      <td>0.001</td>\n",
       "      <td>1</td>\n",
       "      <td>1</td>\n",
       "    </tr>\n",
       "    <tr>\n",
       "      <th>198</th>\n",
       "      <td>198</td>\n",
       "      <td>0.036763</td>\n",
       "      <td>1.037490</td>\n",
       "      <td>1.343099</td>\n",
       "      <td>13.225</td>\n",
       "      <td>8.42</td>\n",
       "      <td>0.135</td>\n",
       "      <td>11.02</td>\n",
       "      <td>6.09</td>\n",
       "      <td>17.125</td>\n",
       "      <td>...</td>\n",
       "      <td>10</td>\n",
       "      <td>5</td>\n",
       "      <td>20</td>\n",
       "      <td>8</td>\n",
       "      <td>1</td>\n",
       "      <td>10</td>\n",
       "      <td>0.001</td>\n",
       "      <td>0.001</td>\n",
       "      <td>1</td>\n",
       "      <td>1</td>\n",
       "    </tr>\n",
       "    <tr>\n",
       "      <th>199</th>\n",
       "      <td>199</td>\n",
       "      <td>0.040667</td>\n",
       "      <td>0.992955</td>\n",
       "      <td>1.337764</td>\n",
       "      <td>7.175</td>\n",
       "      <td>4.10</td>\n",
       "      <td>0.275</td>\n",
       "      <td>4.18</td>\n",
       "      <td>4.37</td>\n",
       "      <td>28.825</td>\n",
       "      <td>...</td>\n",
       "      <td>10</td>\n",
       "      <td>5</td>\n",
       "      <td>20</td>\n",
       "      <td>8</td>\n",
       "      <td>1</td>\n",
       "      <td>10</td>\n",
       "      <td>0.001</td>\n",
       "      <td>0.001</td>\n",
       "      <td>1</td>\n",
       "      <td>1</td>\n",
       "    </tr>\n",
       "  </tbody>\n",
       "</table>\n",
       "<p>200 rows × 27 columns</p>\n",
       "</div>"
      ],
      "text/plain": [
       "     Unnamed: 0         k         t         b      P1     P2     P3     P4  \\\n",
       "0             0  0.026185  1.316963  1.339203  14.125   4.74  0.705  10.58   \n",
       "1             1  0.036916  1.089345  1.328006  13.825  10.78  1.525   9.14   \n",
       "2             2  0.043563  0.954186  1.334503   6.725   8.94  0.815   7.86   \n",
       "3             3  0.032852  1.167179  1.331784  14.075   6.94  0.785   4.02   \n",
       "4             4  0.036694  1.039365  1.342108   5.325   9.58  0.795   4.74   \n",
       "..          ...       ...       ...       ...     ...    ...    ...    ...   \n",
       "195         195  0.049254  0.977773  1.302841  11.525   9.14  0.295   4.22   \n",
       "196         196  0.040084  0.993736  1.340280  13.075   4.58  0.335  10.26   \n",
       "197         197  0.036645  1.089073  1.329779  13.325  11.10  0.545   4.34   \n",
       "198         198  0.036763  1.037490  1.343099  13.225   8.42  0.135  11.02   \n",
       "199         199  0.040667  0.992955  1.337764   7.175   4.10  0.275   4.18   \n",
       "\n",
       "       P5      P6  ...  P14  P15  P16  P17  P18  P19    P20    P21  P22  P23  \n",
       "0    6.07  31.525  ...   10    5   20    8    1   10  0.001  0.001    1    1  \n",
       "1    6.13  24.775  ...   10    5   20    8    1   10  0.001  0.001    1    1  \n",
       "2    4.87  25.825  ...   10    5   20    8    1   10  0.001  0.001    1    1  \n",
       "3    4.11  38.575  ...   10    5   20    8    1   10  0.001  0.001    1    1  \n",
       "4    5.25  10.825  ...   10    5   20    8    1   10  0.001  0.001    1    1  \n",
       "..    ...     ...  ...  ...  ...  ...  ...  ...  ...    ...    ...  ...  ...  \n",
       "195  4.25  21.175  ...   10    5   20    8    1   10  0.001  0.001    1    1  \n",
       "196  6.53  39.475  ...   10    5   20    8    1   10  0.001  0.001    1    1  \n",
       "197  6.95  25.075  ...   10    5   20    8    1   10  0.001  0.001    1    1  \n",
       "198  6.09  17.125  ...   10    5   20    8    1   10  0.001  0.001    1    1  \n",
       "199  4.37  28.825  ...   10    5   20    8    1   10  0.001  0.001    1    1  \n",
       "\n",
       "[200 rows x 27 columns]"
      ]
     },
     "execution_count": 7,
     "metadata": {},
     "output_type": "execute_result"
    }
   ],
   "source": [
    "dry_data=pd.read_csv('IOData_ChangeDry.csv')\n",
    "data = dry_data\n",
    "datarange=pd.read_csv('datarange_dry.csv')\n",
    "datarange\n",
    "data"
   ]
  },
  {
   "cell_type": "code",
   "execution_count": 8,
   "metadata": {},
   "outputs": [],
   "source": [
    "x=data.drop(['k','t','b','Unnamed: 0'],axis=1)\n",
    "y1_est = gsr1.predict(x)\n",
    "y2_est = gsr2.predict(x)\n",
    "y3_est = gsr3.predict(x)\n",
    "#type(y1_est)\n",
    "memo = np.vstack([y1_est, y2_est, y3_est])\n",
    "#memo = pd.Series(memo)\n",
    "#memo.to_csv(\"memo.csv\")\n",
    "np.savetxt('memo.csv', memo, delimiter=',')"
   ]
  },
  {
   "cell_type": "code",
   "execution_count": 7,
   "metadata": {},
   "outputs": [
    {
     "data": {
      "text/plain": [
       "[<matplotlib.lines.Line2D at 0x20a69143348>]"
      ]
     },
     "execution_count": 7,
     "metadata": {},
     "output_type": "execute_result"
    },
    {
     "data": {
      "image/png": "[encoded data removed]",
      "text/plain": [
       "<Figure size 1440x720 with 1 Axes>"
      ]
     },
     "metadata": {
      "needs_background": "light"
     },
     "output_type": "display_data"
    },
    {
     "data": {
      "image/png": "[encoded data removed]",
      "text/plain": [
       "<Figure size 1440x720 with 1 Axes>"
      ]
     },
     "metadata": {
      "needs_background": "light"
     },
     "output_type": "display_data"
    },
    {
     "data": {
      "image/png": "[encoded data removed]",
      "text/plain": [
       "<Figure size 1440x720 with 1 Axes>"
      ]
     },
     "metadata": {
      "needs_background": "light"
     },
     "output_type": "display_data"
    }
   ],
   "source": [
    "#stand=np.arange(1,10000)\n",
    "predicted_YYY = gsr3.predict(X_test)\n",
    "plt.figure(figsize=(20,10))\n",
    "plt.plot(YYY_test,predicted_YYY,\"o\")\n",
    "#plt.plot(stand)\n",
    "plt.figure(figsize=(20,10))\n",
    "plt.plot(YY_test,predicted_YY,\"o\")\n",
    "plt.figure(figsize=(20,10))\n",
    "plt.plot(Y_test,predicted_Y,\"o\")"
   ]
  },
  {
   "cell_type": "code",
   "execution_count": 8,
   "metadata": {},
   "outputs": [
    {
     "name": "stdout",
     "output_type": "stream",
     "text": [
      "RandomForestRegressor(max_depth=10, max_features=5, n_estimators=5, n_jobs=1,\n",
      "                      random_state=2)\n"
     ]
    }
   ],
   "source": [
    "print(k_tree)"
   ]
  },
  {
   "cell_type": "code",
   "execution_count": 9,
   "metadata": {},
   "outputs": [
    {
     "name": "stdout",
     "output_type": "stream",
     "text": [
      "RandomForestRegressor(max_depth=3, max_features=15, n_estimators=10, n_jobs=1,\n",
      "                      random_state=7)\n"
     ]
    }
   ],
   "source": [
    "print(t_tree)"
   ]
  },
  {
   "cell_type": "code",
   "execution_count": 10,
   "metadata": {},
   "outputs": [
    {
     "name": "stdout",
     "output_type": "stream",
     "text": [
      "RandomForestRegressor(max_depth=3, max_features=3, n_estimators=5, n_jobs=1,\n",
      "                      random_state=1)\n"
     ]
    }
   ],
   "source": [
    "print(b_tree)"
   ]
  },
  {
   "cell_type": "code",
   "execution_count": 9,
   "metadata": {},
   "outputs": [
    {
     "name": "stdout",
     "output_type": "stream",
     "text": [
      "RandomForestRegressor(bootstrap=True, criterion='mse', max_depth=5,\n",
      "                      max_features=3, max_leaf_nodes=None,\n",
      "                      min_impurity_decrease=0.0, min_impurity_split=None,\n",
      "                      min_samples_leaf=1, min_samples_split=25,\n",
      "                      min_weight_fraction_leaf=0.0, n_estimators=10, n_jobs=1,\n",
      "                      oob_score=False, random_state=340, verbose=0,\n",
      "                      warm_start=False)\n"
     ]
    }
   ],
   "source": [
    "print(b_tree)"
   ]
  },
  {
   "cell_type": "code",
   "execution_count": 1,
   "metadata": {},
   "outputs": [
    {
     "name": "stdout",
     "output_type": "stream",
     "text": [
      "4\n"
     ]
    }
   ],
   "source": [
    "import numpy as np\n",
    "import numpy.random as random\n",
    "import scipy as sp\n",
    "import pandas as pd\n",
    "from pandas import Series, DataFrame\n",
    "import matplotlib.pyplot as plt\n",
    "import matplotlib as mpl\n",
    "import seaborn as sns\n",
    "%matplotlib inline\n",
    "import math\n",
    "from sklearn.model_selection import train_test_split,GridSearchCV\n",
    "from sklearn.linear_model import LinearRegression\n",
    "from sklearn.model_selection import cross_val_score\n",
    "from sklearn.svm import SVC\n",
    "from sklearn.ensemble import RandomForestRegressor as RFR\n",
    "\n",
    "stand=np.arange(1,10000)\n",
    "\n",
    "data=pd.read_csv('output_1.csv')\n",
    "datarange=pd.read_csv('datarange_dry.csv')\n",
    "x=data.drop(['A','B','No.'],axis=1)\n",
    "y=data['A']\n",
    "z=data['B']\n",
    "X_train,X_test,Y_train,Y_test=train_test_split(x,y,test_size=0.2)\n",
    "XX_train,XX_test,YY_train,YY_test=train_test_split(x,z,test_size=0.2)\n",
    "\n",
    "print(X_train.shape[1])"
   ]
  },
  {
   "cell_type": "code",
   "execution_count": null,
   "metadata": {},
   "outputs": [],
   "source": [
    "import numpy as np\n",
    "import numpy.random as random\n",
    "import scipy as sp\n",
    "import pandas as pd\n",
    "from pandas import Series, DataFrame\n",
    "import matplotlib.pyplot as plt\n",
    "import matplotlib as mpl\n",
    "import seaborn as sns\n",
    "%matplotlib inline\n",
    "import math\n",
    "from sklearn.model_selection import train_test_split,GridSearchCV\n",
    "from sklearn.linear_model import LinearRegression\n",
    "from sklearn.model_selection import cross_val_score\n",
    "from sklearn.svm import SVC\n",
    "from sklearn.ensemble import RandomForestRegressor as RFR\n",
    "from sklearn.model_selection import learning_curve\n",
    "\n",
    "stand=np.arange(1,10000)\n",
    "\n",
    "data=pd.read_csv('output_1.csv')\n",
    "datarange=pd.read_csv('datarange_dry.csv')\n",
    "x=data.drop(['A','B','No.'],axis=1)\n",
    "y=data['A']\n",
    "z=data['B']\n",
    "X_train,X_test,Y_train,Y_test=train_test_split(x,y,test_size=0.2)\n",
    "XX_train,XX_test,YY_train,YY_test=train_test_split(x,z,test_size=0.2)\n",
    "\n",
    "\n",
    "\n",
    "train_sizes, train_scores,test_scores = \\\n",
    "learning_curve(estimator=RFR(), X=X_train, X=Y_train, train_sizes=np.linspace(0.1,1.0,10), cv=5, n_jobs=1)\n",
    "\n",
    "train_mean = np.mean(train_scores,axis=1)\n",
    "train_std = np.std(train_scores,axis=1)\n",
    "test_mean = np.mean(test_scores,axis=1)\n",
    "test_std = np.std(test_scores,axis=1)\n",
    "\n",
    "#学習曲線を描画する\n",
    "plt.plot(train_sizes,train_mean, color='blue', marker='o', markersize=5, label='training accuracy')\n",
    "plt.plot(train_sizes,test_mean, color='green',linestyle='--', marker='s', markersize=5, label='validation accuracy')\n",
    "\n",
    "#fill_between関数で平均±標準偏差の幅を塗りつぶす\n",
    "#トレーニングデータのサイズtrain_sizes,透明度alpha、カラー'blue'を引数に指定\n",
    "plt.fill_between(train_sizes,train_mean+train_std,train_mean-train_std,alpha=0.15,color='green')\n",
    "plt.fill_between(train_sizes, test_mean + test_std, test_mean - test_std, alpha=0.15,color='green')\n",
    "\n",
    "#グラフの見た目を整える\n",
    "plt.title('learning curve', fontsize=17)\n",
    "plt.xlabel('Number of training samples', fontsize=17)\n",
    "plt.ylabel('Accuracy', fontsize=17)\n",
    "plt.legend(loc='lower right', fontsize=17)\n",
    "plt.ylim([0.90,1.0])\n",
    "\n",
    "#グラフを表示\n",
    "plt.show()"
   ]
  },
  {
   "cell_type": "code",
   "execution_count": null,
   "metadata": {},
   "outputs": [],
   "source": []
  }
 ],
 "metadata": {
  "kernelspec": {
   "display_name": "Python 3",
   "language": "python",
   "name": "python3"
  },
  "language_info": {
   "codemirror_mode": {
    "name": "ipython",
    "version": 3
   },
   "file_extension": ".py",
   "mimetype": "text/x-python",
   "name": "python",
   "nbconvert_exporter": "python",
   "pygments_lexer": "ipython3",
   "version": "3.8.8"
  }
 },
 "nbformat": 4,
 "nbformat_minor": 2
}
